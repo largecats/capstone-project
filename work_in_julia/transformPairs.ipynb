{
 "cells": [
  {
   "cell_type": "markdown",
   "metadata": {},
   "source": [
    "# The Fokas transform pairs"
   ]
  },
  {
   "cell_type": "markdown",
   "metadata": {},
   "source": [
    "* Course: YSC4103 MCS Capstone\n",
    "* Date created: 2018/10/07\n",
    "* Name: Linfan XIAO\n",
    "* Description: Implement the transform pair (2.15a), (2.15b) on page 10 of \"Evolution PDEs and augmented eigenfunctions. Finite interval.\""
   ]
  },
  {
   "cell_type": "markdown",
   "metadata": {},
   "source": [
    "## Importing packages and modules"
   ]
  },
  {
   "cell_type": "code",
   "execution_count": 1,
   "metadata": {},
   "outputs": [
    {
     "data": {
      "text/plain": [
       "construct_validAdjoint (generic function with 1 method)"
      ]
     },
     "execution_count": 1,
     "metadata": {},
     "output_type": "execute_result"
    }
   ],
   "source": [
    "using SymPy\n",
    "using QuadGK\n",
    "# using HCubature\n",
    "using ApproxFun\n",
    "using Roots\n",
    "using Gadfly\n",
    "using PyPlot\n",
    "pygui(true)\n",
    "include(\"C:\\\\Users\\\\LinFan Xiao\\\\Academics\\\\College\\\\Capstone\\\\work_in_julia\\\\construct_adjoint.jl\")"
   ]
  },
  {
   "cell_type": "markdown",
   "metadata": {},
   "source": [
    "## Global variables"
   ]
  },
  {
   "cell_type": "code",
   "execution_count": 2,
   "metadata": {},
   "outputs": [
    {
     "data": {
      "text/latex": [
       "$$\\lambda$$"
      ],
      "text/plain": [
       "lambda"
      ]
     },
     "execution_count": 2,
     "metadata": {},
     "output_type": "execute_result"
    }
   ],
   "source": [
    "lambda = symbols(\"lambda\")"
   ]
  },
  {
   "cell_type": "markdown",
   "metadata": {},
   "source": [
    "## Helper functions"
   ]
  },
  {
   "cell_type": "code",
   "execution_count": 3,
   "metadata": {},
   "outputs": [
    {
     "data": {
      "text/plain": [
       "mult_func (generic function with 1 method)"
      ]
     },
     "execution_count": 3,
     "metadata": {},
     "output_type": "execute_result"
    }
   ],
   "source": [
    "# Assign string as variable name\n",
    "function assign(s::AbstractString, v::Any)\n",
    "    s=Symbol(s)\n",
    "    @eval (($s) = ($v))\n",
    "end\n",
    "\n",
    "# Function addition (f + g)(x) := f(x) + g(x)\n",
    "function add_func(f::Union{Number, Function}, g::Union{Number, Function})\n",
    "    function h(x)\n",
    "        if isa(f, Number)\n",
    "            if isa(g, Number)\n",
    "                return f + g\n",
    "            else\n",
    "                return f + g(x)\n",
    "            end\n",
    "        elseif isa(f, Function)\n",
    "            if isa(g, Number)\n",
    "                return f(x) + g\n",
    "            else\n",
    "                return f(x) + g(x)\n",
    "            end\n",
    "        end\n",
    "    end\n",
    "    return h\n",
    "end\n",
    "\n",
    "# Function multiplication (f * g)(x) := f(x) * g(x)\n",
    "function mult_func(f::Union{Number, Function}, g::Union{Number, Function})\n",
    "    function h(x)\n",
    "        if isa(f, Number)\n",
    "            if isa(g, Number)\n",
    "                return f * g\n",
    "            else\n",
    "                return f * g(x)\n",
    "            end\n",
    "        elseif isa(f, Function)\n",
    "            if isa(g, Number)\n",
    "                return f(x) * g\n",
    "            else\n",
    "                return f(x) * g(x)\n",
    "            end\n",
    "        end\n",
    "    end\n",
    "    return h\n",
    "end"
   ]
  },
  {
   "cell_type": "markdown",
   "metadata": {},
   "source": [
    "## Structs"
   ]
  },
  {
   "cell_type": "markdown",
   "metadata": {},
   "source": [
    "## Main functions"
   ]
  },
  {
   "cell_type": "code",
   "execution_count": 4,
   "metadata": {},
   "outputs": [
    {
     "data": {
      "text/plain": [
       "get_MPlusMinus (generic function with 1 method)"
      ]
     },
     "execution_count": 4,
     "metadata": {},
     "output_type": "execute_result"
    }
   ],
   "source": [
    "# Get M+, M- in (2.13a), (2.13b) as functions of lambda (for fixed adjointU) as well as their symbolic expressions\n",
    "function get_MPlusMinus(adjointU::VectorBoundaryForm; symbolic = false)\n",
    "    # these are numeric matrices\n",
    "    bStar, betaStar = adjointU.M, adjointU.N\n",
    "    n = size(bStar)[1]\n",
    "    alpha = e^(2pi*im/n)\n",
    "    if symbolic\n",
    "        # return MPlus and MMinus as symbolic expressions with lambda as free variable\n",
    "        # global variable lambda\n",
    "        MPlusMat = Array{SymPy.Sym}(n,n)\n",
    "        for k = 1:n\n",
    "            for j = 1:n\n",
    "                sumPlus = 0\n",
    "                for r = 0:(n-1)\n",
    "                    summandPlus = (-im*alpha^(k-1)*lambda)^r * bStar[j,r+1]\n",
    "                    summandPlus = expand(summandPlus)\n",
    "                    sumPlus += summandPlus\n",
    "                end\n",
    "                sumPlus = expand(sumPlus) # for convenience when simplifying later\n",
    "                MPlusMat[k,j] = sumPlus\n",
    "            end\n",
    "        end\n",
    "        MPlusSym = MPlusMat\n",
    "        MMinusMat = Array{SymPy.Sym}(n,n)\n",
    "        for k = 1:n\n",
    "            for j = 1:n\n",
    "                sumMinus = 0\n",
    "                for r = 0:(n-1)\n",
    "                    summandMinus = (-im*alpha^(k-1)*lambda)^r * betaStar[j,r+1]\n",
    "                    summandMinus = expand(summandMinus)\n",
    "                    sumMinus += summandMinus\n",
    "                end\n",
    "                sumMinus = expand(sumMinus)\n",
    "                MMinusMat[k,j] = sumMinus\n",
    "            end\n",
    "        end\n",
    "        MMinusSym = MMinusMat\n",
    "        return (MPlusSym, MMinusSym)\n",
    "    else\n",
    "        # if not symbolic, return MPlus and MMinus as functions of lambda\n",
    "        function MPlus(lambda::Number)\n",
    "            MPlusMat = Array{Number}(n,n)\n",
    "            for k = 1:n\n",
    "                for j = 1:n\n",
    "                    sumPlus = 0\n",
    "                    for r = 0:(n-1)\n",
    "                        summandPlus = (-im*alpha^(k-1)*lambda)^r * bStar[j,r+1]\n",
    "                        sumPlus += summandPlus\n",
    "                    end\n",
    "                    MPlusMat[k,j] = sumPlus\n",
    "                end\n",
    "            end\n",
    "            return MPlusMat\n",
    "        end\n",
    "        function MMinus(lambda::Number)\n",
    "            MMinusMat = Array{Number}(n,n)\n",
    "            for k = 1:n\n",
    "                for j = 1:n\n",
    "                    sumMinus = 0\n",
    "                    for r = 0:(n-1)\n",
    "                        summandMinus = (-im*alpha^(k-1)*lambda)^r * betaStar[j,r+1]\n",
    "                        sumMinus += summandMinus\n",
    "                    end\n",
    "                    MMinusMat[k,j] = sumMinus\n",
    "                end\n",
    "            end\n",
    "            return MMinusMat\n",
    "        end\n",
    "    end\n",
    "    return (MPlus, MMinus)\n",
    "end"
   ]
  },
  {
   "cell_type": "markdown",
   "metadata": {},
   "source": [
    "## Testing"
   ]
  },
  {
   "cell_type": "code",
   "execution_count": 5,
   "metadata": {},
   "outputs": [
    {
     "data": {
      "text/plain": [
       "VectorBoundaryForm(Complex[0.0-0.0im -5.5045e-17-1.0im; 0.0+1.0im -2.79979e-16+3.67206e-17im], Complex[-0.718651-0.379292im -0.371364-0.285078im; -1.6631+0.880004im -0.546284+0.567562im])"
      ]
     },
     "execution_count": 5,
     "metadata": {},
     "output_type": "execute_result"
    }
   ],
   "source": [
    "t = symbols(\"t\")\n",
    "(a,b) = (0,1)\n",
    "symPFunctions = [t+im t*im t]\n",
    "pFunctions = [t->t+im t->t*im t->t]\n",
    "symL = SymLinearDifferentialOperator(symPFunctions, (a,b), t)\n",
    "L = LinearDifferentialOperator(pFunctions, (a,b), symL)\n",
    "n = 2\n",
    "MCandRe = rand(Uniform(1.0,10.0), n, n)\n",
    "MCandIm = rand(Uniform(1.0,10.0), n, n)\n",
    "MCand = MCandRe + MCandIm*im\n",
    "NCandRe = rand(Uniform(1.0,10.0), n, n)\n",
    "NCandIm = rand(Uniform(1.0,10.0), n, n)\n",
    "NCand = NCandRe + NCandIm*im\n",
    "U = VectorBoundaryForm(MCand, NCand)\n",
    "pDerivMatrix = [t->t+im t->t; t->t*im t->im]\n",
    "adjointU = construct_validAdjoint(L, U, pDerivMatrix)"
   ]
  },
  {
   "cell_type": "code",
   "execution_count": 6,
   "metadata": {},
   "outputs": [
    {
     "data": {
      "text/plain": [
       "MPlus (generic function with 1 method)"
      ]
     },
     "execution_count": 6,
     "metadata": {},
     "output_type": "execute_result"
    }
   ],
   "source": [
    "(MPlus, MMinus) = get_MPlusMinus(adjointU; symbolic = false)\n",
    "MPlus"
   ]
  },
  {
   "cell_type": "code",
   "execution_count": 7,
   "metadata": {},
   "outputs": [
    {
     "data": {
      "text/latex": [
       "\\begin{bmatrix}- 1.0 \\lambda + 5.50450227910145 \\cdot 10^{-17} i \\lambda&3.6720621110913 \\cdot 10^{-17} \\lambda + 2.79978897989928 \\cdot 10^{-16} i \\lambda + 1.0 i\\\\1.0 \\lambda - 1.7750970270575 \\cdot 10^{-16} i \\lambda&- 3.67206211109131 \\cdot 10^{-17} \\lambda - 2.79978897989928 \\cdot 10^{-16} i \\lambda + 1.0 i\\end{bmatrix}"
      ],
      "text/plain": [
       "2×2 Array{SymPy.Sym,2}:\n",
       " -1.0*lambda + 5.50450227910145e-17*I*lambda  …    3.6720621110913e-17*lambda + 2.79978897989928e-16*I*lambda + 1.0*I\n",
       "   1.0*lambda - 1.7750970270575e-16*I*lambda     -3.67206211109131e-17*lambda - 2.79978897989928e-16*I*lambda + 1.0*I"
      ]
     },
     "execution_count": 7,
     "metadata": {},
     "output_type": "execute_result"
    }
   ],
   "source": [
    "(MPlus, MMinus) = get_MPlusMinus(adjointU; symbolic = true)\n",
    "MPlus"
   ]
  },
  {
   "cell_type": "code",
   "execution_count": 8,
   "metadata": {},
   "outputs": [
    {
     "data": {
      "text/latex": [
       "$$\\lambda \\left(6.16297582203915 \\cdot 10^{-33} \\lambda - 2.32554725496764 \\cdot 10^{-16} - 2.0 i\\right)$$"
      ],
      "text/plain": [
       "lambda*(6.16297582203915e-33*lambda - 2.32554725496764e-16 - 2.0*I)"
      ]
     },
     "execution_count": 8,
     "metadata": {},
     "output_type": "execute_result"
    }
   ],
   "source": [
    "simplify(SymPy.det(MPlus))"
   ]
  }
 ],
 "metadata": {
  "kernelspec": {
   "display_name": "Julia 0.6.4",
   "language": "julia",
   "name": "julia-0.6"
  },
  "language_info": {
   "file_extension": ".jl",
   "mimetype": "application/julia",
   "name": "julia",
   "version": "0.6.4"
  }
 },
 "nbformat": 4,
 "nbformat_minor": 2
}
