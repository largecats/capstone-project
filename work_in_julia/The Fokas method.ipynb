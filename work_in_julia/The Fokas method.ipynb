{
 "cells": [
  {
   "cell_type": "markdown",
   "metadata": {},
   "source": [
    "* Course: YSC4103 MCS Capstone\n",
    "* Date created: 2019/02/25\n",
    "* Name: Linfan XIAO\n",
    "* Description: Implement the Fokas method as described in \"Evolution PDEs and augmented eigenfunctions. Finite interval.\"\n",
    "\n",
    "Let $C=C^{\\infty}[0,1]$ be the set of functions with derivatives of all orders on $[0,1]$. \n",
    "\n",
    "Define $n$ linearly independent boundary forms $\\{B_j: C\\to\\mathbb{C}\\mid j\\in\\{1,2,\\ldots,n\\}\\}$ as follows:\n",
    "\\begin{align*}\n",
    "B_j\\phi &= \\sum_{k=0}^{n-1} \\left(b_{jk}\\phi^{(k)}(0) + \\beta_{jk}\\phi^{(k)}(1)\\right),\\quad j\\in \\{1,2,\\ldots, n\\},\n",
    "\\end{align*}\n",
    "where $b_{jk}, \\beta_{jk}\\in\\mathbb{R}$ are boundary coefficients. Define \n",
    "\\begin{align*}\n",
    "\\Phi &= \\{\\phi\\in C: B_j\\phi = 0\\,\\forall j \\in \\{1,2,\\ldots, n\\}\\}\n",
    "\\end{align*}\n",
    "to be the set of $n$ homogeneous boundary conditions\n",
    "\\begin{align*}\n",
    "\\left(b_{11}\\phi^{(0)}(0) + \\beta_{11}\\phi^{(0)}(1)\\right) + \\cdots +\\left(b_{1n}\\phi^{(n-1)}(0) + \\beta_{1n}\\phi^{(n-1)}(1)\\right) &= 0\\\\\n",
    "&\\vdots\\\\\n",
    "\\left(b_{n1}\\phi^{(0)}(0) + \\beta_{n1}\\phi^{(0)}(1)\\right) + \\cdots +\\left(b_{nn}\\phi^{(n-1)}(0) + \\beta_{nn}\\phi^{(n-1)}(1)\\right) &= 0.\n",
    "\\end{align*}\n",
    "Let $S:\\Phi\\to C$ be the linear differential operator \n",
    "$$S\\phi(x) = (-i)^n \\phi^{(n)}(x).$$\n",
    "\n",
    "Let $a\\in\\mathbb{C}$ be a constant. Consider the homogeneous initial-boundary value problem (IBVP):\n",
    "\\begin{alignat*}{2}\n",
    "(\\partial_t + aS)q(x,t) &= 0,\\quad&(x,t)\\in (0,1)\\times (0,T)\\\\\n",
    "q(x,0)&\\in\\Phi,\\quad &x\\in [0,1]\\\\\n",
    "q(\\cdot, t) &\\in\\Phi,\\quad &t\\in [0,T]\n",
    "\\end{alignat*}\n",
    "Let $f(x):=q(x,0)$. We reqire that if $n$ is odd then $a=\\pm i$ and if $n$ is even then $\\Re(a)\\geq 0$. We solve the IBVP for $q(x,t)$."
   ]
  },
  {
   "cell_type": "markdown",
   "metadata": {},
   "source": [
    "# Importing packages"
   ]
  },
  {
   "cell_type": "code",
   "execution_count": 1,
   "metadata": {},
   "outputs": [],
   "source": [
    "using SymPy\n",
    "using PyCall\n",
    "sympy = pyimport(\"sympy\")\n",
    "# using Roots\n",
    "using Distributions\n",
    "# using IntervalArithmetic\n",
    "# using IntervalRootFinding\n",
    "using ApproxFun\n",
    "\n",
    "using Plots\n",
    "\n",
    "using NBInclude\n",
    "using QuadGK\n",
    "import QuadGK.quadgk\n",
    "# using HCubature\n",
    "using ApproxFun\n",
    "using Roots\n",
    "using Gadfly\n",
    "using PyPlot\n",
    "# pygui(true)"
   ]
  },
  {
   "cell_type": "markdown",
   "metadata": {},
   "source": [
    "# Global variables"
   ]
  },
  {
   "cell_type": "markdown",
   "metadata": {},
   "source": [
    "## `TOL`\n",
    "\n",
    "Error tolerance level."
   ]
  },
  {
   "cell_type": "code",
   "execution_count": 2,
   "metadata": {},
   "outputs": [
    {
     "data": {
      "text/plain": [
       "1.0e-5"
      ]
     },
     "execution_count": 2,
     "metadata": {},
     "output_type": "execute_result"
    }
   ],
   "source": [
    "TOL = 1e-05"
   ]
  },
  {
   "cell_type": "markdown",
   "metadata": {},
   "source": [
    "## `DIGITS`\n",
    "\n",
    "The number of digits to display in symbolic expressions."
   ]
  },
  {
   "cell_type": "code",
   "execution_count": 3,
   "metadata": {},
   "outputs": [
    {
     "data": {
      "text/plain": [
       "3"
      ]
     },
     "execution_count": 3,
     "metadata": {},
     "output_type": "execute_result"
    }
   ],
   "source": [
    "DIGITS = 3"
   ]
  },
  {
   "cell_type": "markdown",
   "metadata": {},
   "source": [
    "## `INFTY`\n",
    "\n",
    "A number representing infinity in numerical approximations."
   ]
  },
  {
   "cell_type": "code",
   "execution_count": 4,
   "metadata": {},
   "outputs": [
    {
     "data": {
      "text/plain": [
       "10"
      ]
     },
     "execution_count": 4,
     "metadata": {},
     "output_type": "execute_result"
    }
   ],
   "source": [
    "INFTY = 10"
   ]
  },
  {
   "cell_type": "markdown",
   "metadata": {},
   "source": [
    "## `t`\n",
    "\n",
    "Free symbol in the unknown function $x(t)$ in the differential equation $Lx=0$."
   ]
  },
  {
   "cell_type": "code",
   "execution_count": 5,
   "metadata": {},
   "outputs": [],
   "source": [
    "# t = symbols(\"t\")"
   ]
  },
  {
   "cell_type": "markdown",
   "metadata": {},
   "source": [
    "## `sympy_Expr`s\n",
    "\n",
    "Sample expressions of type addition, multiplication, power, and exponential in `SymPy`."
   ]
  },
  {
   "cell_type": "code",
   "execution_count": 6,
   "metadata": {},
   "outputs": [
    {
     "data": {
      "text/latex": [
       "$$x + 1$$"
      ],
      "text/plain": [
       "x + 1"
      ]
     },
     "execution_count": 6,
     "metadata": {},
     "output_type": "execute_result"
    }
   ],
   "source": [
    "x = symbols(\"x\")\n",
    "sympyAddExpr = 1 + x"
   ]
  },
  {
   "cell_type": "code",
   "execution_count": 7,
   "metadata": {},
   "outputs": [
    {
     "data": {
      "text/latex": [
       "$$2 x$$"
      ],
      "text/plain": [
       "2*x"
      ]
     },
     "execution_count": 7,
     "metadata": {},
     "output_type": "execute_result"
    }
   ],
   "source": [
    "sympyMultExpr = 2*x"
   ]
  },
  {
   "cell_type": "code",
   "execution_count": 8,
   "metadata": {},
   "outputs": [
    {
     "data": {
      "text/latex": [
       "$$x^{2}$$"
      ],
      "text/plain": [
       " 2\n",
       "x "
      ]
     },
     "execution_count": 8,
     "metadata": {},
     "output_type": "execute_result"
    }
   ],
   "source": [
    "sympyPowerExpr = x^2"
   ]
  },
  {
   "cell_type": "code",
   "execution_count": 9,
   "metadata": {},
   "outputs": [
    {
     "data": {
      "text/latex": [
       "$$e^{x}$$"
      ],
      "text/plain": [
       " x\n",
       "e "
      ]
     },
     "execution_count": 9,
     "metadata": {},
     "output_type": "execute_result"
    }
   ],
   "source": [
    "sympyExpExpr = e^x"
   ]
  },
  {
   "cell_type": "markdown",
   "metadata": {},
   "source": [
    "# Helper functions"
   ]
  },
  {
   "cell_type": "markdown",
   "metadata": {},
   "source": [
    "## `check_all(array, condition)`\n",
    "\n",
    "Checks whether all elements in an array satisfy a given condition."
   ]
  },
  {
   "cell_type": "code",
   "execution_count": 10,
   "metadata": {},
   "outputs": [
    {
     "data": {
      "text/plain": [
       "check_all (generic function with 1 method)"
      ]
     },
     "execution_count": 10,
     "metadata": {},
     "output_type": "execute_result"
    }
   ],
   "source": [
    "function check_all(array, condition)\n",
    "    for x in array\n",
    "        if !condition(x)\n",
    "            return false\n",
    "        end\n",
    "    end\n",
    "    return true\n",
    "end"
   ]
  },
  {
   "cell_type": "markdown",
   "metadata": {},
   "source": [
    "**Parameters**\n",
    "* `array`: `Array`\n",
    "    * Input array to be checked. Generic, not necessarily homogeneous.\n",
    "* `condition`: `Function: Bool`\n",
    "    * Boolean function to be applied to each element in the array.\n",
    "\n",
    "**Returns**\n",
    "* `check_all`: `Bool`\n",
    "    * Returns `true` if all elements in `array` satisfy `condition` and `false` if any element does not satisfy the condition.\n",
    "    \n",
    "**Example**"
   ]
  },
  {
   "cell_type": "code",
   "execution_count": 11,
   "metadata": {},
   "outputs": [
    {
     "data": {
      "text/plain": [
       "false"
      ]
     },
     "execution_count": 11,
     "metadata": {},
     "output_type": "execute_result"
    }
   ],
   "source": [
    "array = [0,1,2,3]\n",
    "condition = x -> x>2\n",
    "check_all(array, condition)"
   ]
  },
  {
   "cell_type": "markdown",
   "metadata": {},
   "source": [
    "## `check_any(array, condition)`\n",
    "\n",
    "Checks whether any element in an array satisfy a given condition."
   ]
  },
  {
   "cell_type": "code",
   "execution_count": 12,
   "metadata": {},
   "outputs": [
    {
     "data": {
      "text/plain": [
       "check_any (generic function with 1 method)"
      ]
     },
     "execution_count": 12,
     "metadata": {},
     "output_type": "execute_result"
    }
   ],
   "source": [
    "function check_any(array, condition)\n",
    "    for x in array\n",
    "        if condition(x)\n",
    "            return true\n",
    "        end\n",
    "    end\n",
    "    return false\n",
    "end"
   ]
  },
  {
   "cell_type": "markdown",
   "metadata": {},
   "source": [
    "**Parameters**\n",
    "* `array`: `Array`\n",
    "    * Input array to be checked. Generic, not necessarily homogeneous.\n",
    "* `condition`: `Function: Bool`\n",
    "    * Boolean function to be applied to each element in the array.\n",
    "\n",
    "**Returns**\n",
    "* `check_all`: `Bool`\n",
    "    * Returns `true` if there exists an element in the array that satisfies a given condition and `false` if no element satisfies the condition.\n",
    "    \n",
    "**Example**"
   ]
  },
  {
   "cell_type": "code",
   "execution_count": 13,
   "metadata": {},
   "outputs": [
    {
     "data": {
      "text/plain": [
       "true"
      ]
     },
     "execution_count": 13,
     "metadata": {},
     "output_type": "execute_result"
    }
   ],
   "source": [
    "array = [0,1,2,3]\n",
    "condition = x -> x>2\n",
    "check_any(array, condition)"
   ]
  },
  {
   "cell_type": "markdown",
   "metadata": {},
   "source": [
    "## `set_tol(x, y)`\n",
    "\n",
    "Sets an appropriate tolerance for checking whether two numbers or two arrays of numbers are approximately equal."
   ]
  },
  {
   "cell_type": "code",
   "execution_count": 14,
   "metadata": {},
   "outputs": [
    {
     "data": {
      "text/plain": [
       "set_tol (generic function with 1 method)"
      ]
     },
     "execution_count": 14,
     "metadata": {},
     "output_type": "execute_result"
    }
   ],
   "source": [
    "function set_tol(x::Union{Number, Array}, y::Union{Number, Array}; atol = TOL)\n",
    "    if isa(x, Number) && isa(y, Number)\n",
    "       return atol * mean([x y])\n",
    "    elseif isa(x, Array) && isa(y, Array)\n",
    "        if size(x) != size(y)\n",
    "            throw(error(\"Array dimensions do not match\"))\n",
    "        end\n",
    "        # Avoid InexactError() when taking norm()\n",
    "        x = convert(Array{Complex}, x)\n",
    "        y = convert(Array{Complex}, y)\n",
    "        return atol * (norm(x,2) + norm(y,2))\n",
    "    else\n",
    "        throw(error(\"Invalid input\"))\n",
    "    end\n",
    "end"
   ]
  },
  {
   "cell_type": "markdown",
   "metadata": {},
   "source": [
    "**Parameters**\n",
    "* `x`, `y`: `Number` or `Array` of `Number`\n",
    "    * Objects to compare.\n",
    "\n",
    "**Returns**\n",
    "* `set_tol`: `Number`\n",
    "    * Returns a tolerance within which `x` and `y` are considered approximately equal (entry-wise if `x`, `y` are arrays).\n",
    "\n",
    "**Example**"
   ]
  },
  {
   "cell_type": "code",
   "execution_count": 15,
   "metadata": {},
   "outputs": [
    {
     "data": {
      "text/plain": [
       "0.00017500000000000003"
      ]
     },
     "execution_count": 15,
     "metadata": {},
     "output_type": "execute_result"
    }
   ],
   "source": [
    "x = 14\n",
    "y = 21\n",
    "set_tol(x,y)"
   ]
  },
  {
   "cell_type": "code",
   "execution_count": 16,
   "metadata": {},
   "outputs": [
    {
     "data": {
      "text/plain": [
       "0.00016901192145623727"
      ]
     },
     "execution_count": 16,
     "metadata": {},
     "output_type": "execute_result"
    }
   ],
   "source": [
    "A = [4 0.6; 3 2]\n",
    "B = [5 1; 10 3]\n",
    "set_tol(A, B)"
   ]
  },
  {
   "cell_type": "markdown",
   "metadata": {},
   "source": [
    "## `evaluate(func, a)`\n",
    "\n",
    "Evaluate a univariate function or an array of them at a given value."
   ]
  },
  {
   "cell_type": "code",
   "execution_count": 17,
   "metadata": {},
   "outputs": [],
   "source": [
    "# function evaluate(func::Union{Function,Number}, a::Number)\n",
    "#     if !isa(func, Array)\n",
    "#         if isa(func, Function)\n",
    "#             funcA = func(a)\n",
    "#         elseif isa(func, SymPy.Sym) # SymPy.Sym must come before Number because SymPy.Sym will be recognized as Number\n",
    "#             freeSymbols = free_symbols(func)\n",
    "#             if length(freeSymbols) > 1\n",
    "#                 throw(error(\"func should be univariate\"))\n",
    "#             elseif length(freeSymbols) == 1\n",
    "#                 t = free_symbols(func)[1,1]\n",
    "#                 if isa(a, SymPy.Sym) # if x is SymPy.Sym, do not convert result to Number to preserve pretty printing\n",
    "#                     funcA = subs(func, t, a)\n",
    "#                 else\n",
    "#                     funcA = SymPy.N(subs(func, t, a))\n",
    "#                 end\n",
    "#             else\n",
    "#                 funcA = func\n",
    "#             end\n",
    "#         else # func is Number\n",
    "#             funcA = func\n",
    "#         end\n",
    "#         return funcA\n",
    "#     else\n",
    "#         (m, n) = size(func)\n",
    "#         if check_any(func, x->isa(x, SymPy.Sym))\n",
    "#             funcA = Array{SymPy.Sym}(m,n)\n",
    "#         else\n",
    "#             funcA = Array{Number}(m,n) \n",
    "#         end\n",
    "#         for i = 1:m\n",
    "#             for j = 1:n\n",
    "#                 funcA[i,j] = evaluate(func[i,j], a)\n",
    "#             end\n",
    "#         end\n",
    "#         return funcA\n",
    "#     end\n",
    "# end"
   ]
  },
  {
   "cell_type": "code",
   "execution_count": 18,
   "metadata": {},
   "outputs": [
    {
     "data": {
      "text/plain": [
       "evaluate (generic function with 1 method)"
      ]
     },
     "execution_count": 18,
     "metadata": {},
     "output_type": "execute_result"
    }
   ],
   "source": [
    "function evaluate(func::Union{Function,Number}, a::Number)\n",
    "    if isa(func, Function)\n",
    "        funcA = func(a)\n",
    "    elseif isa(func, SymPy.Sym) # SymPy.Sym must come before Number because SymPy.Sym will be recognized as Number\n",
    "        freeSymbols = free_symbols(func)\n",
    "        if length(freeSymbols) > 1\n",
    "            throw(error(\"func should be univariate\"))\n",
    "        elseif length(freeSymbols) == 1\n",
    "            t = free_symbols(func)[1,1]\n",
    "            if isa(a, SymPy.Sym) # if x is SymPy.Sym, do not convert result to Number to preserve pretty printing\n",
    "                funcA = subs(func, t, a)\n",
    "            else\n",
    "                funcA = SymPy.N(subs(func, t, a))\n",
    "            end\n",
    "        else\n",
    "            funcA = func\n",
    "        end\n",
    "    else # func is Number\n",
    "        funcA = func\n",
    "    end\n",
    "    return funcA\n",
    "end"
   ]
  },
  {
   "cell_type": "markdown",
   "metadata": {},
   "source": [
    "**Parameters**\n",
    "* `func`: `Function`, `SymPy.Sym`, `Number`, or `Array`\n",
    "    * Object to be evaluated. Note that `SymPy.Sym` is absorbed into `Number`.\n",
    "* `x`: `Number`\n",
    "    * Value on which `func` is to be evaluated at.\n",
    "* `t`: `SymPy.Sym` \n",
    "    * Free symbol in `func` if `func` is a `SymPy.Sym` object or an array of them.\n",
    "\n",
    "**Returns**\n",
    "* `evaluate`: `Number`\n",
    "    * Returns the value of `func` at `x`.\n",
    "\n",
    "**Example**"
   ]
  },
  {
   "cell_type": "code",
   "execution_count": 19,
   "metadata": {},
   "outputs": [
    {
     "data": {
      "text/plain": [
       "3"
      ]
     },
     "execution_count": 19,
     "metadata": {},
     "output_type": "execute_result"
    }
   ],
   "source": [
    "func = x -> x+1\n",
    "evaluate(func, 2)"
   ]
  },
  {
   "cell_type": "code",
   "execution_count": 20,
   "metadata": {},
   "outputs": [
    {
     "data": {
      "text/plain": [
       "3"
      ]
     },
     "execution_count": 20,
     "metadata": {},
     "output_type": "execute_result"
    }
   ],
   "source": [
    "x = symbols(\"x\")\n",
    "func = x+1\n",
    "evaluate(func, 2)"
   ]
  },
  {
   "cell_type": "code",
   "execution_count": 21,
   "metadata": {},
   "outputs": [
    {
     "data": {
      "text/latex": [
       "$$a + 1$$"
      ],
      "text/plain": [
       "a + 1"
      ]
     },
     "execution_count": 21,
     "metadata": {},
     "output_type": "execute_result"
    }
   ],
   "source": [
    "a = symbols(\"a\")\n",
    "evaluate(func, a)"
   ]
  },
  {
   "cell_type": "code",
   "execution_count": 22,
   "metadata": {},
   "outputs": [
    {
     "data": {
      "text/latex": [
       "\\begin{bmatrix}2 a&1\\\\a^{3}&a\\end{bmatrix}"
      ],
      "text/plain": [
       "2×2 Array{SymPy.Sym,2}:\n",
       " 2*a  1\n",
       " a^3  a"
      ]
     },
     "execution_count": 22,
     "metadata": {},
     "output_type": "execute_result"
    }
   ],
   "source": [
    "x = symbols(\"x\")\n",
    "array = [2x 1; x^3 x]\n",
    "a = symbols(\"a\")\n",
    "evaluate.(array, a)"
   ]
  },
  {
   "cell_type": "markdown",
   "metadata": {},
   "source": [
    "## `partition(n)`\n",
    "\n",
    "Generate ordered two-integer partitions ($0$ included) of a given non-negative integer."
   ]
  },
  {
   "cell_type": "code",
   "execution_count": 23,
   "metadata": {},
   "outputs": [
    {
     "data": {
      "text/plain": [
       "partition (generic function with 1 method)"
      ]
     },
     "execution_count": 23,
     "metadata": {},
     "output_type": "execute_result"
    }
   ],
   "source": [
    "function partition(n::Int)\n",
    "    if n < 0\n",
    "        throw(error(\"Non-negative n required\"))\n",
    "    end\n",
    "    output = []\n",
    "    for i = 0:n\n",
    "        j = n - i\n",
    "        push!(output, (i,j))\n",
    "    end\n",
    "    return output\n",
    "end"
   ]
  },
  {
   "cell_type": "markdown",
   "metadata": {},
   "source": [
    "**Parameters**\n",
    "* `n`: `Int`\n",
    "    * Non-negative integer to be partitioned.\n",
    "\n",
    "**Returns**\n",
    "* `partition`: `Array` of `Tuple{Int, Int}`\n",
    "    * Returns an array of tuples, where each tuple corresponds to a two-integer parition of `n`. Note that a tuple is ordered, and `(i, j)` and `(j, i)` are considered distinct partitions.\n",
    "\n",
    "**Example**"
   ]
  },
  {
   "cell_type": "code",
   "execution_count": 24,
   "metadata": {},
   "outputs": [
    {
     "data": {
      "text/plain": [
       "6-element Array{Any,1}:\n",
       " (0, 5)\n",
       " (1, 4)\n",
       " (2, 3)\n",
       " (3, 2)\n",
       " (4, 1)\n",
       " (5, 0)"
      ]
     },
     "execution_count": 24,
     "metadata": {},
     "output_type": "execute_result"
    }
   ],
   "source": [
    "n = 5\n",
    "partition(5)"
   ]
  },
  {
   "cell_type": "markdown",
   "metadata": {},
   "source": [
    "## `get_deriv(u, k)`\n",
    "\n",
    "Constructs the symbolic expression for the $k$th derivative of a univariate function `u`."
   ]
  },
  {
   "cell_type": "code",
   "execution_count": 25,
   "metadata": {},
   "outputs": [
    {
     "data": {
      "text/plain": [
       "get_deriv (generic function with 1 method)"
      ]
     },
     "execution_count": 25,
     "metadata": {},
     "output_type": "execute_result"
    }
   ],
   "source": [
    "function get_deriv(u::Union{SymPy.Sym, Number}, k::Int)\n",
    "    if k < 0\n",
    "        throw(error(\"Non-negative k required\"))\n",
    "    end\n",
    "    if isa(u, SymPy.Sym)\n",
    "        freeSymbols = free_symbols(u)\n",
    "        if length(freeSymbols) > 1\n",
    "            throw(error(\"u should be univariate\"))\n",
    "        elseif length(freeSymbols) == 1\n",
    "            t = freeSymbols[1]\n",
    "            y = u\n",
    "            for i = 1:k\n",
    "                newY = diff(y, t)\n",
    "                y = newY\n",
    "            end\n",
    "            return y\n",
    "        else\n",
    "            if k > 0\n",
    "                return 0\n",
    "            else\n",
    "                return u\n",
    "            end\n",
    "        end\n",
    "    else\n",
    "        if k > 0\n",
    "            return 0\n",
    "        else\n",
    "            return u\n",
    "        end\n",
    "    end\n",
    "end"
   ]
  },
  {
   "cell_type": "markdown",
   "metadata": {},
   "source": [
    "**Parameters**\n",
    "* `u`: `SymPy.Sym` or `Number`\n",
    "    * Function to be differentiated.\n",
    "* `k`: `Int`\n",
    "    * Degree of the desired derivative.\n",
    "\n",
    "**Returns**\n",
    "* `get_deriv`: `SymPy.Sym`\n",
    "    * Returns the $k$th derivative of `u`.\n",
    "    \n",
    "**Example**"
   ]
  },
  {
   "cell_type": "code",
   "execution_count": 26,
   "metadata": {},
   "outputs": [
    {
     "data": {
      "text/latex": [
       "$$2 t + 2$$"
      ],
      "text/plain": [
       "2*t + 2"
      ]
     },
     "execution_count": 26,
     "metadata": {},
     "output_type": "execute_result"
    }
   ],
   "source": [
    "t = symbols(\"t\")\n",
    "u = t^2+2t+3\n",
    "get_deriv(u, 1)"
   ]
  },
  {
   "cell_type": "code",
   "execution_count": 27,
   "metadata": {},
   "outputs": [
    {
     "data": {
      "text/plain": [
       "3"
      ]
     },
     "execution_count": 27,
     "metadata": {},
     "output_type": "execute_result"
    }
   ],
   "source": [
    "get_deriv(3, 0)"
   ]
  },
  {
   "cell_type": "markdown",
   "metadata": {},
   "source": [
    "## `add_func(f, g)`\n",
    "\n",
    "Computes the sum of two functions using the function addition given by $(f + g)(x) := f(x) + g(x)$."
   ]
  },
  {
   "cell_type": "code",
   "execution_count": 28,
   "metadata": {},
   "outputs": [
    {
     "data": {
      "text/plain": [
       "add_func (generic function with 1 method)"
      ]
     },
     "execution_count": 28,
     "metadata": {},
     "output_type": "execute_result"
    }
   ],
   "source": [
    "function add_func(f::Union{Number, Function}, g::Union{Number, Function})\n",
    "    function h(x)\n",
    "        if isa(f, Number)\n",
    "            if isa(g, Number)\n",
    "                return f + g\n",
    "            else\n",
    "                return f + g(x)\n",
    "            end\n",
    "        elseif isa(f, Function)\n",
    "            if isa(g, Number)\n",
    "                return f(x) + g\n",
    "            else\n",
    "                return f(x) + g(x)\n",
    "            end\n",
    "        end\n",
    "    end\n",
    "    return h\n",
    "end"
   ]
  },
  {
   "cell_type": "markdown",
   "metadata": {},
   "source": [
    "**Parameters**\n",
    "* `f`, `g`: `Function` or `Number`\n",
    "    * Functions to be added.\n",
    "\n",
    "**Returns**\n",
    "* `add_func`: `Function` or `Number`\n",
    "    * Returns the sum of `f` and `g`.\n",
    "\n",
    "**Example**"
   ]
  },
  {
   "cell_type": "code",
   "execution_count": 29,
   "metadata": {},
   "outputs": [
    {
     "data": {
      "text/plain": [
       "true"
      ]
     },
     "execution_count": 29,
     "metadata": {},
     "output_type": "execute_result"
    }
   ],
   "source": [
    "f(x) = x^3+1\n",
    "g(x) = 4x\n",
    "x = 2\n",
    "add_func(f, g)(x) == f(x) + g(x)"
   ]
  },
  {
   "cell_type": "markdown",
   "metadata": {},
   "source": [
    "## `mult_func(f, g)`\n",
    "\n",
    "Computes the product of two functions using the function multiplication given by $(f \\cdot g)(x) := f(x) \\cdot g(x)$."
   ]
  },
  {
   "cell_type": "code",
   "execution_count": 30,
   "metadata": {},
   "outputs": [
    {
     "data": {
      "text/plain": [
       "mult_func (generic function with 1 method)"
      ]
     },
     "execution_count": 30,
     "metadata": {},
     "output_type": "execute_result"
    }
   ],
   "source": [
    "function mult_func(f::Union{Number, Function}, g::Union{Number, Function})\n",
    "    function h(x)\n",
    "        if isa(f, Number)\n",
    "            if isa(g, Number)\n",
    "                return f * g\n",
    "            else\n",
    "                return f * g(x)\n",
    "            end\n",
    "        elseif isa(f, Function)\n",
    "            if isa(g, Number)\n",
    "                return f(x) * g\n",
    "            else\n",
    "                return f(x) * g(x)\n",
    "            end\n",
    "        end\n",
    "    end\n",
    "    return h\n",
    "end"
   ]
  },
  {
   "cell_type": "markdown",
   "metadata": {},
   "source": [
    "**Parameters**\n",
    "* `f`, `g`: `Function` or `Number`\n",
    "    * Functions to be multiplied.\n",
    "\n",
    "**Returns**\n",
    "* `add_func`: `Function` or `Number`\n",
    "    * Returns the product of `f` and `g`.\n",
    "\n",
    "**Example**"
   ]
  },
  {
   "cell_type": "code",
   "execution_count": 31,
   "metadata": {},
   "outputs": [
    {
     "data": {
      "text/plain": [
       "true"
      ]
     },
     "execution_count": 31,
     "metadata": {},
     "output_type": "execute_result"
    }
   ],
   "source": [
    "f(x) = x^3+1\n",
    "g(x) = 4x\n",
    "x = 2\n",
    "mult_func(f, g)(x) == f(x) * g(x)"
   ]
  },
  {
   "cell_type": "markdown",
   "metadata": {},
   "source": [
    "## `get_polynomial(coeffList)`\n",
    "\n",
    "Given the array $[a_n, a_{n-1}, \\ldots, a_1, a_0]$, constructs the polynomial \n",
    "$$a_nx^n + a_{n-1}x^{n-1} + \\cdots + a_1 x + a_0.$$"
   ]
  },
  {
   "cell_type": "code",
   "execution_count": null,
   "metadata": {},
   "outputs": [],
   "source": [
    "function get_polynomial(coeffList::Array)\n",
    "    polynomial = 0\n",
    "    n = length(coeffList)-1\n",
    "    for i in 0:n\n",
    "        newTerm = t -> coeffList[i+1] * t^(n-i)\n",
    "        polynomial = add_func(polynomial, newTerm)\n",
    "    end\n",
    "    return polynomial\n",
    "end"
   ]
  },
  {
   "cell_type": "markdown",
   "metadata": {},
   "source": [
    "**Parameters**\n",
    "* `coeffList`: `Array` of `Number`\n",
    "    * Array of coefficients of $x^n, x^{n-1}, \\ldots, x, 1$ in the polynomial.\n",
    "\n",
    "**Returns**\n",
    "* `get_polynomial: Function`\n",
    "    * Returns a polynomial whose coefficients are given by `coeffList`.\n",
    " \n",
    "**Example**"
   ]
  },
  {
   "cell_type": "code",
   "execution_count": null,
   "metadata": {},
   "outputs": [],
   "source": [
    "coeffList = [0,1,2,3]\n",
    "x = 5\n",
    "get_polynomial(coeffList)(x) == 0*x^3 + 1*x^2 + 2*x^1 + 3*x^0"
   ]
  },
  {
   "cell_type": "markdown",
   "metadata": {},
   "source": [
    "## `get_polynomialDeriv(coeffList, k)`\n",
    "\n",
    "Computes the $k$th derivative of a polynomial with known coefficients."
   ]
  },
  {
   "cell_type": "code",
   "execution_count": null,
   "metadata": {},
   "outputs": [],
   "source": [
    "function get_polynomialDeriv(coeffList::Array, k::Int)\n",
    "    if k < 0\n",
    "        throw(error(\"Non-negative degree required\"))\n",
    "    elseif k == 0\n",
    "        newCoeffList = coeffList\n",
    "    else\n",
    "        for counter = 1:k\n",
    "            n = length(coeffList)\n",
    "            newCoeffList = hcat([0],[(n-i)*coeffList[i] for i in 1:(n-1)]')\n",
    "            coeffList = newCoeffList\n",
    "        end\n",
    "    end\n",
    "    return get_polynomial(newCoeffList)\n",
    "end"
   ]
  },
  {
   "cell_type": "markdown",
   "metadata": {},
   "source": [
    "**Parameters**\n",
    "* `coeffList`: `Array` of `Number` \n",
    "    * Array of coefficients of $x^n, x^{n-1}, \\ldots, x, 1$ in the polynomial.\n",
    "* `k`: `Int` \n",
    "    * Degree of the desired derivative.\n",
    "\n",
    "**Returns**\n",
    "* `get_polynomialDeriv`: `Function`\n",
    "    * Returns the $k$th derivative of the polynomial whose coefficients are given by `coeffList`.\n",
    "\n",
    "**Example**"
   ]
  },
  {
   "cell_type": "code",
   "execution_count": null,
   "metadata": {},
   "outputs": [],
   "source": [
    "coeffList = [0,1,2,3]\n",
    "k = 1\n",
    "x = 5\n",
    "get_polynomialDeriv(coeffList, k)(x) == 2*x^1 + 2*x^0"
   ]
  },
  {
   "cell_type": "markdown",
   "metadata": {},
   "source": [
    "## `sym_to_func(sym)`\n",
    "\n",
    "Converts a univariate symbolic expression or an array of them to their function counterparts."
   ]
  },
  {
   "cell_type": "code",
   "execution_count": null,
   "metadata": {},
   "outputs": [],
   "source": [
    "function sym_to_func(sym::Union{SymPy.Sym, Number})\n",
    "    if isa(sym, SymPy.Sym)\n",
    "        freeSymbols = free_symbols(sym)\n",
    "        if length(freeSymbols) > 1\n",
    "            throw(error(\"sym should be univariate\"))\n",
    "        else\n",
    "            function func(x)\n",
    "                if length(freeSymbols) == 0\n",
    "                    result = SymPy.N(sym)\n",
    "                else\n",
    "                    result = SymPy.N(subs(sym, freeSymbols[1], x))\n",
    "                end\n",
    "                return result\n",
    "            end\n",
    "            return func\n",
    "        end\n",
    "    else\n",
    "        println(\"sym = $sym\")\n",
    "        # func(x) = sym\n",
    "#         function func(x)\n",
    "#             return sym\n",
    "#         end\n",
    "#         return func\n",
    "        return sym\n",
    "    end\n",
    "end"
   ]
  },
  {
   "cell_type": "code",
   "execution_count": null,
   "metadata": {},
   "outputs": [],
   "source": [
    "function sym_to_func(sym::Union{SymPy.Sym, Number})\n",
    "    try\n",
    "        freeSymbols = free_symbols(sym)\n",
    "        if length(freeSymbols) > 1\n",
    "            throw(error(\"sym should be univariate\"))\n",
    "        else\n",
    "            function func(x)\n",
    "                if length(freeSymbols) == 0\n",
    "                    result = SymPy.N(sym)\n",
    "                else\n",
    "                    result = SymPy.N(subs(sym, freeSymbols[1], x))\n",
    "                end\n",
    "                return result\n",
    "            end\n",
    "            return func\n",
    "        end\n",
    "    catch\n",
    "        function func(x)\n",
    "            return sym\n",
    "        end\n",
    "        return func\n",
    "    end\n",
    "end"
   ]
  },
  {
   "cell_type": "markdown",
   "metadata": {},
   "source": [
    "**Parameters**\n",
    "* `sym`: `SymPy.Sym` or `Array` of `SymPy.Sym`\n",
    "    * Symbolic expression or an array of them to be converted.\n",
    "\n",
    "**Returns**\n",
    "* `sym_to_func`: `Function`\n",
    "    * Function or an array of them converted from `sym`.\n",
    "\n",
    "**Example**"
   ]
  },
  {
   "cell_type": "code",
   "execution_count": null,
   "metadata": {},
   "outputs": [],
   "source": [
    "t = symbols(\"t\")\n",
    "sym = t^2+t\n",
    "sym_to_func(sym)(2)"
   ]
  },
  {
   "cell_type": "code",
   "execution_count": null,
   "metadata": {},
   "outputs": [],
   "source": [
    "sym = [1 t; t^2 t^3]\n",
    "sym_to_func.(sym)[2,1](2)"
   ]
  },
  {
   "cell_type": "code",
   "execution_count": null,
   "metadata": {},
   "outputs": [],
   "source": [
    "sym_to_func(2)(1)"
   ]
  },
  {
   "cell_type": "markdown",
   "metadata": {},
   "source": [
    "## `prettyRound(x, digits)`\n",
    "\n",
    "Round a number at a given number of digits."
   ]
  },
  {
   "cell_type": "code",
   "execution_count": null,
   "metadata": {},
   "outputs": [],
   "source": [
    "function prettyRound(x::Number; digits::Int = DIGITS)\n",
    "    if isa(x, Int)\n",
    "        return x\n",
    "    elseif isa(x, Real)\n",
    "        if isa(x, Rational) || isa(x, Irrational) # If x is rational or irrational numbers like e, pi\n",
    "            return x\n",
    "        elseif round(abs(x), digits) == floor(abs(x))\n",
    "            return Int(round(x))\n",
    "        else\n",
    "            return round(x, digits)\n",
    "            # return rationalize(x)\n",
    "        end\n",
    "    elseif isa(x, Complex)\n",
    "        roundedReal = prettyRound(real(x), digits = digits)\n",
    "        roundedComplex = prettyRound(imag(x), digits = digits)\n",
    "        return roundedReal + im*roundedComplex\n",
    "    else\n",
    "        return round(x, digits)\n",
    "    end\n",
    "end"
   ]
  },
  {
   "cell_type": "markdown",
   "metadata": {},
   "source": [
    "**Parameters**\n",
    "* `x`: `Number`\n",
    "    * Number to be rounded.\n",
    "* `digits*`: `Int`\n",
    "    * Number of decimal places to keep. Default to the global variable `DIGITS`.\n",
    "\n",
    "**Returns**\n",
    "* `prettyRound`: `Number`\n",
    "    * Returns `x` rounded to the `digits` decimal places.\n",
    "\n",
    "**Example**"
   ]
  },
  {
   "cell_type": "code",
   "execution_count": null,
   "metadata": {},
   "outputs": [],
   "source": [
    "x = 0.0000001*im\n",
    "prettyRound(x)"
   ]
  },
  {
   "cell_type": "code",
   "execution_count": null,
   "metadata": {},
   "outputs": [],
   "source": [
    "x = [1/3 1/4 0]\n",
    "prettyRound.(x)"
   ]
  },
  {
   "cell_type": "code",
   "execution_count": null,
   "metadata": {},
   "outputs": [],
   "source": [
    "x = [1//3 1//4 0//1]\n",
    "prettyRound.(x)"
   ]
  },
  {
   "cell_type": "markdown",
   "metadata": {},
   "source": [
    "## `prettyPrint(x)`\n",
    "\n",
    "Prints a symbolic scalar pretty-rounded floating numbers."
   ]
  },
  {
   "cell_type": "code",
   "execution_count": null,
   "metadata": {},
   "outputs": [],
   "source": [
    "function prettyPrint(x::Union{Number, SymPy.Sym})\n",
    "    expr = x\n",
    "    if isa(expr, SymPy.Sym)\n",
    "        prettyExpr = expr\n",
    "        for a in sympy[:preorder_traversal](expr)\n",
    "            if length(free_symbols(a)) == 0 && length(args(a)) == 0\n",
    "                if !(a in [e, PI]) && length(intersect(args(a), [e, PI])) == 0 # keep the transcendental numbers as symbols\n",
    "                    prettyA = prettyRound.(SymPy.N(a))\n",
    "                    prettyExpr = subs(prettyExpr, (a, prettyA))\n",
    "                end\n",
    "            end\n",
    "        end\n",
    "    else\n",
    "        prettyExpr = prettyRound.(expr)\n",
    "        prettyExpr = convert(SymPy.Sym, prettyExpr)\n",
    "    end\n",
    "    return prettyExpr\n",
    "end"
   ]
  },
  {
   "cell_type": "markdown",
   "metadata": {},
   "source": [
    "**Parameters**\n",
    "* `x`: `Number` or `SymPy.Sym`\n",
    "    * Object to be printed.\n",
    "\n",
    "**Returns**\n",
    "* `prettyPrint`: `SymPy.Sym`\n",
    "    * Returns symbolic expression of `x` with pretty-rounded floating numbers.\n",
    "\n",
    "**Example**"
   ]
  },
  {
   "cell_type": "code",
   "execution_count": null,
   "metadata": {},
   "outputs": [],
   "source": [
    "t = symbols(\"t\")\n",
    "x = 1//3*t + e^(2t) + PI/2 + 1.00001*im + sympy[:sqrt](2) + 1//6\n",
    "prettyPrint(x)"
   ]
  },
  {
   "cell_type": "code",
   "execution_count": null,
   "metadata": {},
   "outputs": [],
   "source": [
    "t = symbols(\"t\")\n",
    "x = [1//3*t PI; 1//6*t^2+t 1]\n",
    "prettyPrint.(x)"
   ]
  },
  {
   "cell_type": "code",
   "execution_count": null,
   "metadata": {},
   "outputs": [],
   "source": [
    "x = [0.0+1.0*im 1.0+0.0*im -1.0+0.0*im 0.0-1.0*im]\n",
    "prettyPrint.(x)"
   ]
  },
  {
   "cell_type": "markdown",
   "metadata": {},
   "source": [
    "## `is_approxLess(x, y; atol)`\n",
    "\n",
    "Checks whether $x$ is approximately less than $y$ within a tolerance. That is, whether $x\\not\\approx y$ and $x<y$."
   ]
  },
  {
   "cell_type": "code",
   "execution_count": null,
   "metadata": {},
   "outputs": [],
   "source": [
    "function is_approxLess(x::Number, y::Number; atol = TOL)\n",
    "    return !isapprox(x,y; atol = atol) && x < y\n",
    "end"
   ]
  },
  {
   "cell_type": "markdown",
   "metadata": {},
   "source": [
    "**Parameters**\n",
    "* `x`, `y`: `Number`\n",
    "    * Numbers to compare.\n",
    "* `atol*`: `Number`\n",
    "    * Tolerance within which $x$ would be considered approximately equal to $y$. Default to the global variable `TOL`.\n",
    "\n",
    "**Returns**\n",
    "* `is_approxLess`: `Bool`\n",
    "    * Returns `true` if $x\\not\\approx y$ within `atol` and $x<y$, and `false` otherwise.\n",
    "\n",
    "**Example**"
   ]
  },
  {
   "cell_type": "code",
   "execution_count": null,
   "metadata": {},
   "outputs": [],
   "source": [
    "x = 1\n",
    "y = x + TOL/2\n",
    "is_approxLess(x,y)"
   ]
  },
  {
   "cell_type": "code",
   "execution_count": null,
   "metadata": {},
   "outputs": [],
   "source": [
    "y = x + TOL*2\n",
    "is_approxLess(x,y)"
   ]
  },
  {
   "cell_type": "markdown",
   "metadata": {},
   "source": [
    "## `is_approx(x, y; atol)`\n",
    "\n",
    "Checks whether $x$ is approximately equal to $y$ within a tolerance."
   ]
  },
  {
   "cell_type": "code",
   "execution_count": null,
   "metadata": {},
   "outputs": [],
   "source": [
    "function is_approx(x::Number, y::Number; atol = TOL)\n",
    "    return isapprox(x, y; atol = atol)\n",
    "end"
   ]
  },
  {
   "cell_type": "markdown",
   "metadata": {},
   "source": [
    "**Parameters**\n",
    "* `x`, `y`: `Number`\n",
    "    * Numbers to compare.\n",
    "* `atol*`: `Number`\n",
    "    * Tolerance within which $x$ would be considered approximately equal to $y$. Default to the global variable `TOL`.\n",
    "\n",
    "**Returns**\n",
    "* `is_approx`: `Bool`\n",
    "    * Returns `true` if $x\\approx y$ within `atol` and `false` otherwise.\n",
    "\n",
    "**Example**"
   ]
  },
  {
   "cell_type": "code",
   "execution_count": null,
   "metadata": {},
   "outputs": [],
   "source": [
    "x = 1\n",
    "y = x + TOL/2\n",
    "is_approx(x,y)"
   ]
  },
  {
   "cell_type": "code",
   "execution_count": null,
   "metadata": {},
   "outputs": [],
   "source": [
    "x = 1\n",
    "y = x + TOL*2\n",
    "is_approx(x,y)"
   ]
  },
  {
   "cell_type": "markdown",
   "metadata": {},
   "source": [
    "## `argument(z)`\n",
    "\n",
    "Finds the argument of a complex number in $[0,2\\pi)$."
   ]
  },
  {
   "cell_type": "code",
   "execution_count": null,
   "metadata": {},
   "outputs": [],
   "source": [
    "function argument(z::Number)\n",
    "    if angle(z) >= 0 # in [0,pi]\n",
    "        return angle(z)\n",
    "    else \n",
    "        # angle(z) is in (-pi, 0]\n",
    "        # Shift it up to (pi,2pi]\n",
    "        argument = 2pi + angle(z) # This is in (pi,2pi]\n",
    "        if is_approx(argument, 2pi) # Map 2pi to 0\n",
    "            return 0\n",
    "        else\n",
    "            return argument # This is now in [0,2pi)\n",
    "        end\n",
    "    end\n",
    "end"
   ]
  },
  {
   "cell_type": "markdown",
   "metadata": {},
   "source": [
    "**Parameters**\n",
    "* `z`: `Number`\n",
    "    * Complex number whose argument is to be found.\n",
    "\n",
    "**Returns**\n",
    "* `argument`: `Number`\n",
    "    * Returns $\\arg(z)$ in $[0,2\\pi)$.\n",
    "    \n",
    "**Example**"
   ]
  },
  {
   "cell_type": "code",
   "execution_count": null,
   "metadata": {},
   "outputs": [],
   "source": [
    "z = 1\n",
    "argument(z)"
   ]
  },
  {
   "cell_type": "code",
   "execution_count": null,
   "metadata": {},
   "outputs": [],
   "source": [
    "z = -1-im\n",
    "argument(z)"
   ]
  },
  {
   "cell_type": "markdown",
   "metadata": {},
   "source": [
    "## `trace_contour(a, n, infty, sampleSize)`\n",
    "\n",
    "Plots the contour sectors encircled by $\\Gamma_a^+$, $\\Gamma_a^-$, $\\Gamma_0^+$, and $\\Gamma_0^-$ defined as\n",
    "\\begin{align*}\n",
    "    \\Gamma_a^{\\pm} &:= \\partial(\\{\\lambda\\in\\mathbb{C}^{\\pm}:\\, \\Re(a\\lambda^n)>0\\}\\setminus \\bigcup_{\\substack{\\sigma\\in\\mathbb{C};\\\\\\Delta(\\sigma)=0}} D(\\sigma, 2\\epsilon))\\quad\\mbox{($D$ for disk)},\\\\\n",
    "    \\Gamma_0^+ &:= \\bigcup_{\\substack{\\sigma\\in\\overline{\\mathbb{C}^+};\\\\ \\Delta(\\sigma)=0}} C(\\sigma, \\epsilon)\\quad\\mbox{($C$ for circle)},\\\\\n",
    "    \\Gamma_0^- &:= \\bigcup_{\\substack{\\sigma\\in\\mathbb{C}^-;\\\\ \\Delta(\\sigma)=0}} C(\\sigma, \\epsilon)\n",
    "\\end{align*}\n",
    "by sampling points."
   ]
  },
  {
   "cell_type": "code",
   "execution_count": null,
   "metadata": {},
   "outputs": [],
   "source": [
    "function trace_contour(a::Number, n::Int, sampleSize::Int; infty = INFTY)\n",
    "    lambdaVec = []\n",
    "    for counter = 1:sampleSize\n",
    "        x = rand(Uniform(-infty,infty), 1, 1)[1]\n",
    "        y = rand(Uniform(-infty,infty), 1, 1)[1]\n",
    "        lambda = x + y*im\n",
    "        if real(a*lambda^n)>0\n",
    "            append!(lambdaVec, lambda)\n",
    "        end\n",
    "    end\n",
    "    Gadfly.plot(x=real(lambdaVec), y=imag(lambdaVec), Guide.xlabel(\"Re\"), Guide.ylabel(\"Im\"), Coord.Cartesian(ymin=-infty,ymax=infty, xmin=-infty, xmax=infty, fixed = true))\n",
    "end"
   ]
  },
  {
   "cell_type": "markdown",
   "metadata": {},
   "source": [
    "**Parameters**\n",
    "* `a`: `Number`\n",
    "    * Complex number.\n",
    "* `n`: `Int`\n",
    "    * Integer $n$ in $\\Gamma_a^{\\pm}$.\n",
    "* `infty`: `Number`\n",
    "    * Range of plot. Default to the global variable `INFTY`.\n",
    "* `sampleSize`: `Int`\n",
    "    * Number of points to sample.\n",
    "\n",
    "**Returns**\n",
    "* `trace_contour`: `None`\n",
    "    * Plots the sampled points.\n",
    "\n",
    "**Example**"
   ]
  },
  {
   "cell_type": "code",
   "execution_count": null,
   "metadata": {},
   "outputs": [],
   "source": [
    "n = 2\n",
    "a = 1\n",
    "sampleSize = 1000\n",
    "trace_contour(a, n, sampleSize)"
   ]
  },
  {
   "cell_type": "code",
   "execution_count": null,
   "metadata": {},
   "outputs": [],
   "source": [
    "n = 3\n",
    "a = im\n",
    "sampleSize = 1000\n",
    "trace_contour(a, n, sampleSize)"
   ]
  },
  {
   "cell_type": "code",
   "execution_count": null,
   "metadata": {},
   "outputs": [],
   "source": [
    "n = 3\n",
    "a = -im\n",
    "sampleSize = 1000\n",
    "trace_contour(a, n, sampleSize)"
   ]
  },
  {
   "cell_type": "markdown",
   "metadata": {},
   "source": [
    "## `get_distancePointLine(z, theta)`\n",
    "\n",
    "Finds the distance between a complex number and a line through the origin given by an angle in $[0,2pi)$."
   ]
  },
  {
   "cell_type": "code",
   "execution_count": null,
   "metadata": {},
   "outputs": [],
   "source": [
    "function get_distancePointLine(z::Number, theta::Number)\n",
    "    if theta >= 2pi && theta < 0\n",
    "        throw(error(\"Theta must be in [0,2pi)\"))\n",
    "    else\n",
    "        if is_approx(argument(z), theta)\n",
    "            return 0\n",
    "        else\n",
    "            x0, y0 = real(z), imag(z)\n",
    "            if is_approx(theta, pi/2) || is_approx(theta, 3pi/2)\n",
    "                return abs(x0)\n",
    "            elseif is_approx(theta, 0) || is_approx(theta, 2pi)\n",
    "                return abs(y0)\n",
    "            else\n",
    "                k = tan(theta)\n",
    "                x = (y0+1/k*x0)/(k+1/k)\n",
    "                y = k*x\n",
    "                distance = norm(z-(x+im*y))\n",
    "                return distance\n",
    "            end\n",
    "        end\n",
    "    end\n",
    "end"
   ]
  },
  {
   "cell_type": "markdown",
   "metadata": {},
   "source": [
    "**Parameters**\n",
    "* `z`:  `Number`\n",
    "    * Point in the complex plane.\n",
    "* `theta`: `Number`\n",
    "    * Line passing the origin given by the argument of any point (besides the origin) on it.\n",
    "\n",
    "**Returns**\n",
    "* `get_distancePointLine`: `Number`\n",
    "    * Returns the distance between `z` and the line characterized by `theta`.\n",
    "\n",
    "**Example**"
   ]
  },
  {
   "cell_type": "code",
   "execution_count": null,
   "metadata": {},
   "outputs": [],
   "source": [
    "z = 1\n",
    "theta = pi/3\n",
    "get_distancePointLine(z, theta) # sqrt(3)/2"
   ]
  },
  {
   "cell_type": "markdown",
   "metadata": {},
   "source": [
    "## `get_ChebyshevApproximation(f, interval; symbolic)`\n",
    "\n",
    "Computes the Chebyshev approximation of a function $f$ on interval $[a,b]$ or its symbolic expression.\n",
    "\n",
    "Note that the coefficients are obtained by shifting the interval $[a,b]$ to $[-1,1]$ and then back. That is, define $g:[a,b]\\to [-1,1]$ by $g(x) = \\frac{2(x-a)}{b-a}-1$. For $t\\in [-1,1]$, define $q(t)=f\\circ g^{-1}(t) = f(g^{-1}(t)) =: f(x)$ for $x\\in [a,b]$. Then the Chebyshev coefficients are $\\{b_0,\\ldots, b_N\\}$ in\n",
    "$$f(x) = f\\circ g^{-1}(g(x)) = q(g(x)) = q(t) = \\sum_{n=0}^N b_n T_n(t) = \\sum_{n=0}^N b_n T_n(g(x))$$\n",
    "instead of $\\{a_0,\\ldots, a_N\\}$ in\n",
    "$$f(x) = \\sum_{n=0}^N a_n T_n(x).$$"
   ]
  },
  {
   "cell_type": "markdown",
   "metadata": {},
   "source": [
    "### `shift_interval(originalInterval; symbolic)`\n",
    "\n",
    "Shifts a point in the interval $[a,b]$ to a corresponding point in $[-1,1]$."
   ]
  },
  {
   "cell_type": "code",
   "execution_count": null,
   "metadata": {},
   "outputs": [],
   "source": [
    "function shift_interval(originalInterval::Tuple{Number,Number}; symbolic = true)\n",
    "    (a,b) = originalInterval\n",
    "    (c,d) = (-1,1)\n",
    "    if symbolic\n",
    "        x = symbols(\"x\")\n",
    "        return (d-c)*(x-a)/(b-a)+c\n",
    "    else\n",
    "        return x -> (d-c)*(x-a)/(b-a)+c\n",
    "    end\n",
    "end"
   ]
  },
  {
   "cell_type": "markdown",
   "metadata": {},
   "source": [
    "**Parameters**\n",
    "* `originalInterval`: `Tuple{Number,Number}`\n",
    "    * Original interval $[a,b]$ to be shifted to $[-1,1]$.\n",
    "* `symbolic*`: `Bool`\n",
    "    * Boolean indicating whether the output is symbolic.\n",
    "\n",
    "**Returns**\n",
    "* `shift_interval`: `Function` or `SymPy.Sym`\n",
    "    * Returns a function that shifts its argument $x$ in $[a,b]$ to a point in $[-1,1]$ if `symbolic = false` or a symbolic expression in $x$ if `symbolic = true`.\n",
    "\n",
    "**Example**"
   ]
  },
  {
   "cell_type": "code",
   "execution_count": null,
   "metadata": {},
   "outputs": [],
   "source": [
    "(a,b) = (0,1)\n",
    "shift_interval((a,b); symbolic = true)"
   ]
  },
  {
   "cell_type": "code",
   "execution_count": null,
   "metadata": {},
   "outputs": [],
   "source": [
    "shift_interval((a,b); symbolic = false)(1/2)"
   ]
  },
  {
   "cell_type": "markdown",
   "metadata": {},
   "source": [
    "### `get_ChebyshevSeriesTerm(n; symbolic)`\n",
    "\n",
    "The Chebyshev polynomials are given by\n",
    "\\begin{align*}\n",
    "    T_n(x) =\n",
    "\\begin{cases}\n",
    "    \\cos(n\\cdot \\arccos(x))&\\quad\\mbox{$|x|\\leq 1$}\\\\\n",
    "    \\frac{1}{2}\\left((x-\\sqrt{x^2-1})^n + (x+\\sqrt{x^2-1})^n\\right)&\\quad\\mbox{$|x|>1$}.\n",
    "\\end{cases}   \n",
    "\\end{align*}\n",
    "Obtains the $n$th term in the Chebyshev series expansion on $[-1,1]$ as a function or its symbolic expression."
   ]
  },
  {
   "cell_type": "code",
   "execution_count": null,
   "metadata": {},
   "outputs": [],
   "source": [
    "function get_ChebyshevTerm(n::Int64; symbolic = true)\n",
    "    if symbolic\n",
    "        x = symbols(\"x\")\n",
    "        return cos(n*acos(x))\n",
    "    else\n",
    "        return x -> cos(n*acos(x))\n",
    "    end\n",
    "end"
   ]
  },
  {
   "cell_type": "markdown",
   "metadata": {},
   "source": [
    "**Parameters**\n",
    "* `n`: `Int`\n",
    "    * $n$ in $T_n(x)$ on $[-1,1]$.\n",
    "* `symbolic*`: `Bool`\n",
    "    * Boolean indicating whether the output is symbolic.\n",
    "\n",
    "**Returns**\n",
    "* `get_ChebyshevTerm`: `Function` or `SymPy.Sym`\n",
    "    * Returns$T_n(x)$ as a function if `symbolic = false` and `SymPy.Sym` if `symbolic = true`.\n",
    "    \n",
    "**Example**"
   ]
  },
  {
   "cell_type": "code",
   "execution_count": null,
   "metadata": {},
   "outputs": [],
   "source": [
    "get_ChebyshevTerm(2; symbolic = true)"
   ]
  },
  {
   "cell_type": "code",
   "execution_count": null,
   "metadata": {},
   "outputs": [],
   "source": [
    "get_ChebyshevTerm(2; symbolic = false)"
   ]
  },
  {
   "cell_type": "markdown",
   "metadata": {},
   "source": [
    "### `get_ChebyshevApproximation(f, interval; symbolic)`\n",
    "\n",
    "Computes the Chebyshev approximation of a function $f$ on an interval $[a,b]$."
   ]
  },
  {
   "cell_type": "code",
   "execution_count": null,
   "metadata": {},
   "outputs": [],
   "source": [
    "function get_ChebyshevApproximation(f::Function, interval::Tuple{Number,Number}; symbolic = true)\n",
    "    (a,b) = interval\n",
    "    fCheb = ApproxFun.Fun(f, a..b) # Approximate f on [a,b] using chebyshev polynomials\n",
    "    chebCoefficients = ApproxFun.coefficients(fCheb) # get coefficients of the Chebyshev polynomial\n",
    "    n = length(chebCoefficients)\n",
    "    if symbolic\n",
    "        fChebApproxSym = 0\n",
    "        for i = 1:n\n",
    "            chebCoefficient = chebCoefficients[i]\n",
    "            chebTermSym = get_ChebyshevTerm(i-1; symbolic = true)\n",
    "            x = free_symbols(chebTermSym)\n",
    "            if !isempty(x)\n",
    "                x = x[1,1] # Assume there is only one free symbol\n",
    "            end\n",
    "            # Chebyshev approximation is best on [-1,1]. Thus, we compute the Chebyshev approximation on [a,b] by shifting [a,b] to [-1,1] and evaluating the Chebyshev approximation there.\n",
    "            # Here, we do that by replacing x in the symbolic expression with the symbolic expression after the interval shift.\n",
    "            fChebApproxSym += chebCoefficient * subs(chebTermSym, x, shift_interval((a,b); symbolic = symbolic))\n",
    "        end\n",
    "        return fChebApproxSym\n",
    "    else\n",
    "        function fChebApprox(x)\n",
    "            sum = 0\n",
    "            for i = 1:n\n",
    "                chebCoefficient = chebCoefficients[i]\n",
    "                # Here, we compose the interval shift function with the Chebyshev term.\n",
    "                chebTerm = get_ChebyshevTerm(i-1; symbolic = false)\n",
    "                summand = mult_func(chebCoefficient, x -> chebTerm(shift_interval((a,b); symbolic = symbolic)(x)))\n",
    "                # summand = mult_func(chebCoefficient, chebTerm) # this is wrong\n",
    "                sum = add_func(sum, summand)\n",
    "            end\n",
    "            return sum(x)\n",
    "        end\n",
    "        function finalChebApprox(x)\n",
    "            if x >= a && x <= b # x in [a,b]\n",
    "                return fChebApprox(x)\n",
    "            else # if x is outside [a,b], make the approximation 0\n",
    "                return 0.0\n",
    "            end\n",
    "        end\n",
    "        return finalChebApprox\n",
    "    end\n",
    "end"
   ]
  },
  {
   "cell_type": "markdown",
   "metadata": {},
   "source": [
    "**Parameters**\n",
    "* `f`: `Function`\n",
    "    * Function to be approximated using Chebyshev polynomials.\n",
    "* `interval`: `Tuple{Number, Number}`\n",
    "    * Interval on which the Chebyshev approximation is defined. Outside the interval, the Chebyshev approximation is set as $0$.\n",
    "* `symbolic*`: `Bool`\n",
    "    * Boolean indicating whether the output is symbolic.\n",
    "\n",
    "**Returns**\n",
    "* `get_ChebyshevApproximation`: `Function` or `SymPy.Sym`\n",
    "    * Returns the Chebyshev approximation of `f` as a function if `symbolic = false` or symbolic expression if `symbolic = true`.\n",
    "\n",
    "**Example**"
   ]
  },
  {
   "cell_type": "code",
   "execution_count": null,
   "metadata": {},
   "outputs": [],
   "source": [
    "f(x) = x^2+1\n",
    "interval = (0,1)\n",
    "fChebApprox = get_ChebyshevApproximation(f, interval; symbolic = false)"
   ]
  },
  {
   "cell_type": "code",
   "execution_count": null,
   "metadata": {},
   "outputs": [],
   "source": [
    "Gadfly.plot([f, fChebApprox], -2, 2)"
   ]
  },
  {
   "cell_type": "markdown",
   "metadata": {},
   "source": [
    "# Structs"
   ]
  },
  {
   "cell_type": "markdown",
   "metadata": {},
   "source": [
    "## `StructDefinitionError`\n",
    "\n",
    "A struct definition error type is the class of all errors in struct definitions."
   ]
  },
  {
   "cell_type": "code",
   "execution_count": null,
   "metadata": {},
   "outputs": [],
   "source": [
    "struct StructDefinitionError <: Exception\n",
    "    msg::String\n",
    "end"
   ]
  },
  {
   "cell_type": "markdown",
   "metadata": {},
   "source": [
    "## `SymLinearDifferentialOperator(symPFunctions, interval, t)`\n",
    "\n",
    "A symbolic linear differential operator of order $n$ is encoded by an $1 \\times (n+1)$ array of symbolic expressions with at most one free symbol, an interval $[a,b]$, and that free symbol."
   ]
  },
  {
   "cell_type": "code",
   "execution_count": null,
   "metadata": {},
   "outputs": [],
   "source": [
    "struct SymLinearDifferentialOperator\n",
    "    # Entries in the array should be SymPy.Sym or Number. SymPy.Sym seems to be a subtype of Number, i.e., Array{Union{Number,SymPy.Sym}} returns Array{Number}. But specifying symPFunctions as Array{Number,2} gives a MethodError when the entries are Sympy.Sym objects.\n",
    "    symPFunctions::Array\n",
    "    interval::Tuple{Number,Number}\n",
    "    t::SymPy.Sym\n",
    "    SymLinearDifferentialOperator(symPFunctions::Array, interval::Tuple{Number,Number}, t::SymPy.Sym) =\n",
    "    try\n",
    "        symL = new(symPFunctions, interval, t)\n",
    "        check_symLinearDifferentialOperator_input(symL)\n",
    "        return symL\n",
    "    catch err\n",
    "        throw(err)\n",
    "    end\n",
    "end\n",
    "\n",
    "function check_symLinearDifferentialOperator_input(symL::SymLinearDifferentialOperator)\n",
    "    symPFunctions, (a,b), t = symL.symPFunctions, symL.interval, symL.t\n",
    "    for symPFunc in symPFunctions\n",
    "        if isa(symPFunc, SymPy.Sym)\n",
    "            if size(free_symbols(symPFunc)) != (1,) && size(free_symbols(symPFunc)) != (0,)\n",
    "                throw(StructDefinitionError(:\"Only one free symbol is allowed in symP_k\"))\n",
    "            end\n",
    "        elseif !isa(symPFunc, Number)\n",
    "            throw(StructDefinitionError(:\"symP_k should be SymPy.Sym or Number\"))\n",
    "        end\n",
    "    end\n",
    "    return true\n",
    "end"
   ]
  },
  {
   "cell_type": "markdown",
   "metadata": {},
   "source": [
    "**Parameters**\n",
    "* `symPFunctions`: `Array` of `SymPy.Sym` or `Number`\n",
    "    * Array $[symP_0, symP_1, \\ldots, symP_n]$ of length $n+1$, corresponding to the symbolic linear differential operator $symL$ of order $n$ given by \n",
    "    $$symLx = symP_0x^{(n)} + symP_1x^{(n-1)} + \\cdots + symP_{n-1}x^{(1)} + symP_n x.$$\n",
    "* `interval`: `Tuple{Number, Number}` \n",
    "    * Tuple of two numbers $(a,b)$ corresponding to the real interval $[a,b]$ on which the symbolic differential operator $symL$ is defined.\n",
    "* `t`: `SymPy.Sym` \n",
    "    * Free symbol in each entry of `symPFunctions`.\n",
    "\n",
    "**Returns**\n",
    "* `SymLinearDifferentialOperator`\n",
    "    * Returns a `SymLinearDifferentialOperator` of order $n$ with attributes `symPFunctions`, `interval`, and `t`.\n",
    "\n",
    "**Example**"
   ]
  },
  {
   "cell_type": "code",
   "execution_count": null,
   "metadata": {},
   "outputs": [],
   "source": [
    "t = symbols(\"t\")\n",
    "symPFunctions = [1 t+1 t^2+t+1]\n",
    "interval = (0, 1)\n",
    "symL = SymLinearDifferentialOperator(symPFunctions, interval, t)"
   ]
  },
  {
   "cell_type": "markdown",
   "metadata": {},
   "source": [
    "## `LinearDifferentialOperator(pFunctions, interval, symL)`\n",
    "\n",
    "A linear differential operator $L$ of order $n$ given by \n",
    "$$Lx = p_0x^{(n)} + p_1x^{(n-1)} + \\cdots + p_{n-1}x^{(1)} + p_n x$$\n",
    "is encoded by an $1 \\times (n+1)$ array of univariate functions, an interval $[a,b]$, and its symbolic expression."
   ]
  },
  {
   "cell_type": "code",
   "execution_count": null,
   "metadata": {},
   "outputs": [],
   "source": [
    "# symL is an attribute of L that needs to be input by the user. There are checks to make sure symL is indeed the symbolic version of L.\n",
    "# Principle: Functionalities of Julia Functions >= Functionalities of SymPy. If p_k has no SymPy representation, the only consequence should be that outputs by functions that take L as arugment has no symbolic expression. E.g., we allow L.pFunctions and L.symL.pFunctions to differ.\n",
    "struct LinearDifferentialOperator\n",
    "    pFunctions::Array # Array of julia functions or numbers representing constant functions\n",
    "    interval::Tuple{Number,Number}\n",
    "    symL::SymLinearDifferentialOperator\n",
    "    LinearDifferentialOperator(pFunctions::Array, interval::Tuple{Number,Number}, symL::SymLinearDifferentialOperator) =\n",
    "    try\n",
    "        L = new(pFunctions, interval, symL)\n",
    "        check_linearDifferentialOperator_input(L)\n",
    "        return L\n",
    "    catch err\n",
    "        throw(err)\n",
    "    end\n",
    "end\n",
    "\n",
    "# Assume symFunc has only one free symbol, as required by the definition of SymLinearDifferentialOperator. \n",
    "# That is, assume the input symFunc comes from SymLinearDifferentialOperator.\n",
    "function check_func_sym_equal(func::Union{Function,Number}, symFunc, interval::Tuple{Number,Number}, t::SymPy.Sym) # symFunc should be Union{SymPy.Sym, Number}, but somehow SymPy.Sym gets ignored\n",
    "    (a,b) = interval\n",
    "    # Randomly sample 1000 points from (a,b) and check if func and symFunc agree on them\n",
    "    for i = 1:1000\n",
    "        # Check endpoints\n",
    "        if i == 1\n",
    "            x = a\n",
    "        elseif i == 2\n",
    "            x = b\n",
    "        else\n",
    "            x = rand(Uniform(a,b), 1)[1,1]\n",
    "        end\n",
    "        funcEvalX = evaluate.(func, x)\n",
    "        if isa(symFunc, SymPy.Sym)\n",
    "            symFuncEvalX = SymPy.N(subs(symFunc,t,x))\n",
    "            # N() converts SymPy.Sym to Number\n",
    "            # https://docs.sympy.org/latest/modules/evalf.html\n",
    "            # subs() works no matter symFunc is Number or SymPy.Sym\n",
    "        else\n",
    "            symFuncEvalX = symFunc\n",
    "        end\n",
    "        tol = set_tol(funcEvalX, symFuncEvalX)\n",
    "        if !isapprox(real(funcEvalX), real(symFuncEvalX); atol = real(tol)) ||\n",
    "            !isapprox(imag(funcEvalX), imag(symFuncEvalX); atol = imag(tol))\n",
    "            println(\"x = $x\")\n",
    "            println(\"symFunc = $symFunc\")\n",
    "            println(\"funcEvalX = $funcEvalX\")\n",
    "            println(\"symFuncEvalX = $symFuncEvalX\")\n",
    "            return false\n",
    "        end\n",
    "    end\n",
    "    return true\n",
    "end\n",
    "\n",
    "# Check whether the inputs of L are valid.\n",
    "function check_linearDifferentialOperator_input(L::LinearDifferentialOperator)\n",
    "    pFunctions, (a,b), symL = L.pFunctions, L.interval, L.symL\n",
    "    symPFunctions, t = symL.symPFunctions, symL.t\n",
    "    # domainC = Complex(a..b, 0..0) # Domain [a,b] represented in the complex plane\n",
    "    p0 = pFunctions[1]\n",
    "    # p0Chebyshev = Fun(p0, a..b) # Chebysev polynomial approximation of p0 on [a,b]\n",
    "    if !check_all(pFunctions, pFunc -> (isa(pFunc, Function) || isa(pFunc, Number)))\n",
    "        throw(StructDefinitionError(:\"p_k should be Function or Number\"))\n",
    "    elseif length(pFunctions) != length(symPFunctions)\n",
    "        throw(StructDefinitionError(:\"Number of p_k and symP_k do not match\"))\n",
    "    elseif (a,b) != symL.interval\n",
    "        throw(StructDefinitionError(:\"Intervals of L and symL do not match\"))\n",
    "    # # Assume p_k are in C^{n-k}. Check whether p0 vanishes on [a,b]. \n",
    "    # # roots() in IntervalRootFinding doesn't work if p0 is sth like t*im - 2*im. Neither does find_zero() in Roots.\n",
    "    # # ApproxFun.roots() \n",
    "    # elseif (isa(p0, Function) && (!isempty(roots(p0Chebyshev)) || all(x->x>b, roots(p0Chebyshev)) || all(x->x<b, roots(p0Chebyshev)) || p0(a) == 0 || p0(b) == 0)) || p0 == 0 \n",
    "    #     throw(StructDefinitionError(:\"p0 vanishes on [a,b]\"))\n",
    "    elseif !all(i -> check_func_sym_equal(pFunctions[i], symPFunctions[i], (a,b), t), 1:length(pFunctions))\n",
    "        # throw(StructDefinitionError(:\"symP_k does not agree with p_k on [a,b]\"))\n",
    "        warn(\"symP_k does not agree with p_k on [a,b]\") # Make this a warning instead of an error because the functionalities of Julia Functions may be more than those of SymPy objects; we do not want to compromise the functionalities of LinearDifferentialOperator because of the restrictions on SymPy.\n",
    "    else\n",
    "        return true\n",
    "    end\n",
    "end"
   ]
  },
  {
   "cell_type": "markdown",
   "metadata": {},
   "source": [
    "**Parameters**\n",
    "* `pFunctions`: `Array` of `Function` or `Number` \n",
    "    * Array $[p_0, p_1, \\ldots, p_n]$ of length $n+1$, corresponding to the linear differential operator $L$ of order $n$ given by\n",
    "    $$Lx = p_0x^{(n)} + p_1x^{(n-1)} + \\cdots + p_{n-1}x^{(1)} + p_n x.$$\n",
    "* `interval`: `Tuple{Number, Number}`\n",
    "    * Tuple of two numbers `(a, b)` corresponding to the real interval $[a,b]$ on which the differential operator $L$ is defined.\n",
    "* `symL`: `SymLinearDifferentialOperator`\n",
    "    * Symbolic linear differential operator corresponding to $L$.\n",
    "    \n",
    "**Returns**\n",
    "* `LinearDifferentialOperator`\n",
    "    * Returns a `LinearDifferentialOperator` of order $n$ with attributes `pFunctions`, `interval`, and `symL`.\n",
    "    \n",
    "**Example**"
   ]
  },
  {
   "cell_type": "code",
   "execution_count": null,
   "metadata": {},
   "outputs": [],
   "source": [
    "t = symbols(\"t\")\n",
    "symPFunctions = [1 t+1 t^2+t+1]\n",
    "interval = (0, 1)\n",
    "symL = SymLinearDifferentialOperator(symPFunctions, interval, t)\n",
    "# Direct construction\n",
    "pFunctions = [t->1 t->t+1 t->t^2+t+1]\n",
    "L = LinearDifferentialOperator(pFunctions, interval, symL)"
   ]
  },
  {
   "cell_type": "markdown",
   "metadata": {},
   "source": [
    "## `VectorBoundaryForm(M, N)`\n",
    "\n",
    "A set of homogeneous boundary conditions in vector form\n",
    "$$Ux = \\begin{bmatrix}U_1\\\\\\vdots\\\\ U_m\\end{bmatrix}x = \\begin{bmatrix}\\sum_{j=1}^n M_{1j}x^{(j-1)}(a) + N_{1j}x^{(j-1)}(b)\\\\\\vdots\\\\ \\sum_{j=1}^n M_{mj}x^{(j-1)}(a) + N_{mj}x^{(j-1)}(b)\\end{bmatrix} = \\begin{bmatrix}0\\\\\\vdots\\\\ 0\\end{bmatrix}$$\n",
    "is encoded by an ordered pair of two linearly independent $m\\times n$ matrices $(M, N)$ where\n",
    "$$M = \\begin{bmatrix}M_{11} & \\cdots & M_{1n}\\\\ \\vdots & \\ddots & \\vdots\\\\ M_{m1} & \\cdots & M_{mn}\\end{bmatrix},\\quad N = \\begin{bmatrix}N_{11} & \\cdots & N_{1n}\\\\ \\vdots & \\ddots & \\vdots\\\\ N_{m1} & \\cdots & N_{mn}\\end{bmatrix}.$$"
   ]
  },
  {
   "cell_type": "code",
   "execution_count": null,
   "metadata": {},
   "outputs": [],
   "source": [
    "struct VectorBoundaryForm\n",
    "    M::Array # Why can't I specify Array{Number,2} without having a MethodError?\n",
    "    N::Array\n",
    "    VectorBoundaryForm(M::Array, N::Array) =\n",
    "    try\n",
    "        U = new(M, N)\n",
    "        check_vectorBoundaryForm_input(U)\n",
    "        return U\n",
    "    catch err\n",
    "        throw(err)\n",
    "    end\n",
    "end\n",
    "\n",
    "# Check whether the input matrices that characterize U are valid\n",
    "function check_vectorBoundaryForm_input(U::VectorBoundaryForm)\n",
    "    # M, N = U.M, U.N\n",
    "    # Avoid Inexact() error when taking rank()\n",
    "    M = convert(Array{Complex}, U.M)\n",
    "    N = convert(Array{Complex}, U.N)\n",
    "    if !(check_all(U.M, x -> isa(x, Number)) && check_all(U.N, x -> isa(x, Number)))\n",
    "        throw(StructDefinitionError(:\"Entries of M, N should be Number\"))\n",
    "    elseif size(U.M) != size(U.N)\n",
    "        throw(StructDefinitionError(:\"M, N dimensions do not match\"))\n",
    "    elseif size(U.M)[1] != size(U.M)[2]\n",
    "        throw(StructDefinitionError(:\"M, N should be square matrices\"))\n",
    "    elseif rank(hcat(M, N)) != size(M)[1] # rank() throws weird \"InexactError()\" when taking some complex matrices\n",
    "        throw(StructDefinitionError(:\"Boundary operators not linearly independent\"))\n",
    "    else\n",
    "        return true\n",
    "    end\n",
    "end"
   ]
  },
  {
   "cell_type": "markdown",
   "metadata": {},
   "source": [
    "**Parameters**\n",
    "* `M`, `N`: `Array` of `Number`\n",
    "    * Two linearly independent numeric matrices of the same dimension.\n",
    "\n",
    "**Returns**\n",
    "* `VectorBoundaryForm`\n",
    "    * Returns a `VectorBoundaryForm` with attributes `M` and `N`.\n",
    "\n",
    "**Example**"
   ]
  },
  {
   "cell_type": "code",
   "execution_count": null,
   "metadata": {},
   "outputs": [],
   "source": [
    "M = [1 0; 2 0]\n",
    "N = [0 2; 0 1]\n",
    "U = VectorBoundaryForm(M, N)"
   ]
  },
  {
   "cell_type": "markdown",
   "metadata": {},
   "source": [
    "# Construct adjoint boundary conditions\n",
    "\n",
    "Algorithm to construct a valid adjoint boundary condition from a given (homogeneous) boundary condition based on Chapter 11 in Theory of Ordinary Differential Equations (Coddington & Levinson). The implementation uses Julia functions as main objects but supports symbolic expressions."
   ]
  },
  {
   "cell_type": "markdown",
   "metadata": {},
   "source": [
    "## `get_L(symL)`\n",
    "\n",
    "Constructs a `LinearDifferentialOperator` from a given `SymLinearDifferentialOperator`."
   ]
  },
  {
   "cell_type": "code",
   "execution_count": null,
   "metadata": {},
   "outputs": [],
   "source": [
    "function get_L(symL::SymLinearDifferentialOperator)\n",
    "    symPFunctions, (a,b), t = symL.symPFunctions, symL.interval, symL.t\n",
    "    if check_all(symPFunctions, x->isa(x, Number))\n",
    "        pFunctions = symPFunctions\n",
    "    else\n",
    "        pFunctions = sym_to_func.(symPFunctions)\n",
    "    end\n",
    "    L = LinearDifferentialOperator(pFunctions, (a,b), symL)\n",
    "    return L\n",
    "end"
   ]
  },
  {
   "cell_type": "markdown",
   "metadata": {},
   "source": [
    "**Parameters**\n",
    "* `symL`: `SymLinearDifferentialOperator`\n",
    "    * Symbolic linear differential operator to be converted.\n",
    "\n",
    "**Returns**\n",
    "* `get_L`: `LinearDifferentialOperator`\n",
    "    * Returns the linear differential operator converted from `symL`.\n",
    "\n",
    "**Example**"
   ]
  },
  {
   "cell_type": "code",
   "execution_count": null,
   "metadata": {},
   "outputs": [],
   "source": [
    "t = symbols(\"t\")\n",
    "symPFunctions = [1 t+1 t^2+t+1]\n",
    "interval = (0, 1)\n",
    "symL = SymLinearDifferentialOperator(symPFunctions, interval, t)\n",
    "L = get_L(symL)"
   ]
  },
  {
   "cell_type": "markdown",
   "metadata": {},
   "source": [
    "## `get_URank(U)`\n",
    "\n",
    "Computes the rank of a vector boundary form $U$ by computing the equivalent $\\text{rank}(M:N)$, where $M, N$ are the matrices associated with $U$ and\n",
    "$$(M:N) = \\begin{bmatrix}M_{11} & \\cdots & M_{1n} & N_{11} & \\cdots & N_{1n}\\\\ \\vdots & \\ddots & \\vdots & \\vdots & \\ddots & \\vdots\\\\ M_{m1} & \\cdots & M_{mn} & N_{m1} & \\cdots & N_{mn}\\end{bmatrix}.$$"
   ]
  },
  {
   "cell_type": "code",
   "execution_count": null,
   "metadata": {},
   "outputs": [],
   "source": [
    "function get_URank(U::VectorBoundaryForm)\n",
    "    # Avoid InexactError() when taking hcat() and rank()\n",
    "    M = convert(Array{Complex}, U.M)\n",
    "    N = convert(Array{Complex}, U.N)\n",
    "    MHcatN = hcat(M, N)\n",
    "    return rank(MHcatN)\n",
    "end"
   ]
  },
  {
   "cell_type": "markdown",
   "metadata": {},
   "source": [
    "**Parameters**\n",
    "* `U`: `VectoBoundaryForm`\n",
    "    * Vector boundary form whose rank is to be computed.\n",
    "\n",
    "**Returns**\n",
    "* `get_URank`: `Number`\n",
    "    * Returns the rank of `U`.\n",
    "\n",
    "**Example**"
   ]
  },
  {
   "cell_type": "code",
   "execution_count": null,
   "metadata": {},
   "outputs": [],
   "source": [
    "M = [1 0; 2 0]\n",
    "N = [0 2; 0 1]\n",
    "U = VectorBoundaryForm(M, N)\n",
    "get_URank(U)"
   ]
  },
  {
   "cell_type": "markdown",
   "metadata": {},
   "source": [
    "## `get_Uc(U)`\n",
    "\n",
    "Given vector boundary form $U = \\begin{bmatrix}U_1\\\\ \\vdots\\\\ U_m\\end{bmatrix}$ of rank $m$, finds a complementary form $U_c = \\begin{bmatrix}U_{m+1}\\\\ \\vdots\\\\ U_{2n}\\end{bmatrix}$ of rank $2n-m$ such that $\\begin{bmatrix}U_1\\\\ \\vdots\\\\ U_{2n}\\end{bmatrix}$ has rank $2n$."
   ]
  },
  {
   "cell_type": "code",
   "execution_count": null,
   "metadata": {},
   "outputs": [],
   "source": [
    "function get_Uc(U::VectorBoundaryForm)\n",
    "    try\n",
    "        check_vectorBoundaryForm_input(U)\n",
    "        n = get_URank(U)\n",
    "        I = complex(eye(2*n))\n",
    "        M, N = U.M, U.N\n",
    "        MHcatN = hcat(M, N)\n",
    "        # Avoid InexactError() when taking rank()\n",
    "        mat = convert(Array{Complex}, MHcatN)\n",
    "        for i = 1:(2*n)\n",
    "            newMat = vcat(mat, I[i:i,:])\n",
    "            newMat = convert(Array{Complex}, newMat)\n",
    "            if rank(newMat) == rank(mat) + 1\n",
    "                mat = newMat\n",
    "            end\n",
    "        end\n",
    "        UcHcat = mat[(n+1):(2n),:]\n",
    "        Uc = VectorBoundaryForm(UcHcat[:,1:n], UcHcat[:,(n+1):(2n)])\n",
    "        return Uc\n",
    "    catch err\n",
    "        return err\n",
    "    end\n",
    "end"
   ]
  },
  {
   "cell_type": "markdown",
   "metadata": {},
   "source": [
    "**Parameters**\n",
    "* `U`: `VectoBoundaryForm`\n",
    "    * Vector boundary form whose complementary boundary form is to be found.\n",
    "\n",
    "**Returns**\n",
    "* `get_Uc`: `VectorBoundaryForm`\n",
    "    * Returns a vectory boundary form complementary to `U`.\n",
    "\n",
    "**Example**"
   ]
  },
  {
   "cell_type": "code",
   "execution_count": null,
   "metadata": {},
   "outputs": [],
   "source": [
    "M = [1 0; 2 0]\n",
    "N = [0 2; 0 1]\n",
    "U = VectorBoundaryForm(M, N)\n",
    "Uc = get_Uc(U)"
   ]
  },
  {
   "cell_type": "markdown",
   "metadata": {},
   "source": [
    "## `get_H(U, Uc)`\n",
    "\n",
    "Given a vector boundary form $U$ and a complementary vector boundary form $U_c$, constructs \n",
    "$$H = \\begin{bmatrix}M&N\\\\ M_c & N_c\\end{bmatrix},$$\n",
    "where $M, N$ are the matrices associated with $U$ and $M_c, N_c$ are associated with $U_c$."
   ]
  },
  {
   "cell_type": "code",
   "execution_count": null,
   "metadata": {},
   "outputs": [],
   "source": [
    "function get_H(U::VectorBoundaryForm, Uc::VectorBoundaryForm)\n",
    "    MHcatN = hcat(convert(Array{Complex}, U.M), convert(Array{Complex}, U.N))\n",
    "    McHcatNc = hcat(convert(Array{Complex}, Uc.M), convert(Array{Complex}, Uc.N))\n",
    "    H = vcat(MHcatN, McHcatNc)\n",
    "    return H\n",
    "end"
   ]
  },
  {
   "cell_type": "markdown",
   "metadata": {},
   "source": [
    "**Parameters**\n",
    "* `U`: `VectorBoundaryForm`\n",
    "    * Vector boundary form.\n",
    "* `Uc`: `VectorBoundaryForm`\n",
    "    * Vector boundary form complementary to `U`.\n",
    "\n",
    "**Returns**\n",
    "* `get_H`: `Array`\n",
    "    * Returns the matrix $H$ defined above.\n",
    "\n",
    "**Example**"
   ]
  },
  {
   "cell_type": "code",
   "execution_count": null,
   "metadata": {},
   "outputs": [],
   "source": [
    "M = [1 0; 2 0]\n",
    "N = [0 2; 0 1]\n",
    "U = VectorBoundaryForm(M, N)\n",
    "Uc = get_Uc(U)\n",
    "get_H(U, Uc)"
   ]
  },
  {
   "cell_type": "markdown",
   "metadata": {},
   "source": [
    "## `get_pDerivMatrix(L; symbolic=false, substitute=true)`\n",
    "\n",
    "Given a `LinearDifferentialOperator` `L` where `L.pFunctions` is the array\n",
    "$$[p_0, p_1, \\ldots, p_n],$$\n",
    "constructs an $n\\times n$ matrix whose $(i+1)(j+1)$-entry is a function corresponding to the $j$th derivative of $p_i$:\n",
    "$$\\begin{bmatrix}p_0 & \\cdots & p_0^{(n-1)}\\\\ \\vdots & \\ddots & \\vdots\\\\ p_{n-1} & \\cdots & p_{n-1}^{(n-1)}\\end{bmatrix}.$$"
   ]
  },
  {
   "cell_type": "code",
   "execution_count": null,
   "metadata": {},
   "outputs": [],
   "source": [
    "function get_pDerivMatrix(L::LinearDifferentialOperator; symbolic = false, substitute = true)\n",
    "    if symbolic\n",
    "        symL = L.symL\n",
    "        symPFunctions, t = symL.symPFunctions, symL.t\n",
    "        n = length(symPFunctions)-1\n",
    "        symPDerivMatrix = Array{SymPy.Sym}(n,n)\n",
    "        if substitute\n",
    "            pFunctionSymbols = symPFunctions\n",
    "        else\n",
    "            pFunctionSymbols = [SymFunction(string(\"p\", i-1))(t) for i in 1:n]\n",
    "        end\n",
    "        for i in 0:(n-1)\n",
    "            for j in 0:(n-1)\n",
    "                index, degree = i, j\n",
    "                symP = pFunctionSymbols[index+1]\n",
    "                # If symP is not a Sympy.Sym object (e.g., is a Number instead), then cannot use get_deriv()\n",
    "                if !isa(symP, SymPy.Sym)\n",
    "                    if degree > 0\n",
    "                        symPDeriv = 0\n",
    "                    else\n",
    "                        symPDeriv = symP\n",
    "                    end\n",
    "                else\n",
    "                    symPDeriv = get_deriv(symP, degree)\n",
    "                end\n",
    "                symPDerivMatrix[i+1,j+1] = symPDeriv\n",
    "            end\n",
    "        end\n",
    "        return symPDerivMatrix\n",
    "    else\n",
    "        symPDerivMatrix = get_pDerivMatrix(L; symbolic = true)\n",
    "        n = length(L.pFunctions)-1\n",
    "        pDerivMatrix = sym_to_func.(symPDerivMatrix)\n",
    "    end\n",
    "    return pDerivMatrix\n",
    "end"
   ]
  },
  {
   "cell_type": "markdown",
   "metadata": {},
   "source": [
    "**Parameters**\n",
    "* `L`: `LinearDifferentialOperator`\n",
    "    * Linear differential operator whose `pDerivMatrix` is to be constructed.\n",
    "* `symbolic`: `Bool`\n",
    "    * Boolean indicating whether the output is symbolic.\n",
    "* `substutite*`: `Bool` \n",
    "    * If `symbolic = true`, boolean indicating whether to substitute the symbolic epxression of $p_i$ (`L.symL.symPFunctions[i]`) for the $p_i$ in the generic expression $\\displaystyle\\frac{d^j}{dt^j} p_i(t)$.\n",
    "\n",
    "**Returns**\n",
    "* `get_pDerivMatrix`: `Array` of `Function`, `Number` or `SymPy.Sym`\n",
    "    * Returns an $n\\times n$ matrix whose $(i+1)(j+1)$-entry is\n",
    "        * the $j$th derivative of $p_i$ (`L.pFunctions[i]`) if `symbolic = false`, or\n",
    "        * a corresponding symbolic expression if `symbolic = true`, which could be\n",
    "            * the generic expression $\\displaystyle\\frac{d^j}{dt^j}p_i$ if `substitute = false`.\n",
    "            * the symbolic expression of the $j$th derivative of $p_i$ (`L.symL.symPFunctions[i]`) if `substitute =  true`.\n",
    "\n",
    "**Example**"
   ]
  },
  {
   "cell_type": "code",
   "execution_count": null,
   "metadata": {},
   "outputs": [],
   "source": [
    "t = symbols(\"t\")\n",
    "symPFunctions = [1 t+1 t^2+t+1]\n",
    "interval = (0, 1)\n",
    "symL = SymLinearDifferentialOperator(symPFunctions, interval, t)\n",
    "\n",
    "# pFunctions = [t->1 t->t+1 t->t^2+t+1]\n",
    "# L = LinearDifferentialOperator(pFunctions, interval, symL)\n",
    "L = get_L(symL)\n",
    "\n",
    "get_pDerivMatrix(L; symbolic = false)"
   ]
  },
  {
   "cell_type": "code",
   "execution_count": null,
   "metadata": {},
   "outputs": [],
   "source": [
    "get_pDerivMatrix(L; symbolic = true, substitute = false)"
   ]
  },
  {
   "cell_type": "code",
   "execution_count": null,
   "metadata": {},
   "outputs": [],
   "source": [
    "get_pDerivMatrix(L; symbolic = true, substitute = true)"
   ]
  },
  {
   "cell_type": "markdown",
   "metadata": {},
   "source": [
    "## `get_Bjk(L, j, k; symbolic=false, substitute=true, pDerivMatrix=get_pDerivMatrix(L))`\n",
    "\n",
    "Given a `LinearDifferentialOperator` `L` of order $n$, for $j, k \\in \\{1,\\ldots,n\\}$, computes $B_{jk}$ defined as\n",
    "$$B_{jk}(t) := \\sum_{\\ell=j-1}^{n-k}\\binom{\\ell}{j-1}p^{(\\ell-j+1)}_{n-k-\\ell}(t)(-1)^\\ell.$$"
   ]
  },
  {
   "cell_type": "code",
   "execution_count": null,
   "metadata": {},
   "outputs": [],
   "source": [
    "function get_Bjk(L::LinearDifferentialOperator, j::Int, k::Int; symbolic = false, substitute = true, pDerivMatrix = get_pDerivMatrix(L; symbolic = symbolic, substitute = substitute))\n",
    "    n = length(L.pFunctions)-1\n",
    "    if j <= 0 || j > n || k <= 0 || k > n\n",
    "        throw(\"j, k should be in {1, ..., n}\")\n",
    "    end\n",
    "    sum = 0\n",
    "    if symbolic\n",
    "        symPDerivMatrix = get_pDerivMatrix(L; symbolic = true, substitute = substitute)\n",
    "        for l = (j-1):(n-k)\n",
    "            summand = binomial(l, j-1) * symPDerivMatrix[n-k-l+1, l-j+1+1] * (-1)^l\n",
    "            sum += summand\n",
    "        end\n",
    "    else\n",
    "        for l = (j-1):(n-k)\n",
    "            summand = mult_func(binomial(l, j-1) * (-1)^l, pDerivMatrix[n-k-l+1, l-j+1+1])\n",
    "            sum = add_func(sum, summand)\n",
    "        end\n",
    "    end\n",
    "    return sum\n",
    "end"
   ]
  },
  {
   "cell_type": "markdown",
   "metadata": {},
   "source": [
    "**Parameters**\n",
    "* `L`: `LinearDifferentialOperator`\n",
    "    * Linear differential operator whose `L.pFunctions` are to become the $p_{n-k-l}^{l-j+1}$ in $B_{jk}(t)$.\n",
    "* `j`, `k`: `Int`\n",
    "    * Integers corresponding to the $j$ and $k$ in $B_{jk}$.\n",
    "* `symbolic*`: `Bool`\n",
    "    * Boolean indicating whether the output is symbolic.\n",
    "* `substitute*`: `Bool`\n",
    "    * If `symbolic = true`, boolean indicating whether to substitute the symbolic expression of $p_i$ in `L.pFunctions` for the generic expression $p_i(t)$ created using `SymFunction(\"pi\")(t)`. If `symbolic = false`, the value of `substitute` does not matter.\n",
    "* `pDerivMatrix*`: `Array`\n",
    "    * If `symbolic = false`, an $n\\times n$ matrix whose $(i+1)(j+1)$-entry is the $j$th derivative of $p_i$ (`L.pFunctions[i]`) implemented as a `Function`, `Number`, or `SymPy.Sym`. Default to the output of `get_pDerivMatrix(L)`.\n",
    "\n",
    "**Returns**\n",
    "* `get_Bjk`: `SymPy.Sym`, `Function`, or `Number`\n",
    "    * Returns $B_{jk}(t)$ defined above, \n",
    "        * as `Function` if `symbolic = false`, or\n",
    "        * as `SymPy.Sym` object if `symbolic = true`, where each $p_i$ is\n",
    "            * the generic expression $p_i(t)$ if `substitute = false`, or\n",
    "            * the symbolic expression of $p_i(t)$ (`L.symL.symPFunctions[i]`) if `substitute = true`.\n",
    "\n",
    "**Example**"
   ]
  },
  {
   "cell_type": "code",
   "execution_count": null,
   "metadata": {},
   "outputs": [],
   "source": [
    "t = symbols(\"t\")\n",
    "symPFunctions = [1 t+1 t^2+t+1]\n",
    "interval = (0, 1)\n",
    "symL = SymLinearDifferentialOperator(symPFunctions, interval, t)\n",
    "\n",
    "# pFunctions = [t->1 t->t+1 t->t^2+t+1]\n",
    "# L = LinearDifferentialOperator(pFunctions, interval, symL)\n",
    "L = get_L(symL)\n",
    "\n",
    "pDerivMatrix = [1 0; t->1+t t->1]\n",
    "j, k = 1, 1\n",
    "get_Bjk(L, j, k; symbolic = true, substitute = false, pDerivMatrix = pDerivMatrix)"
   ]
  },
  {
   "cell_type": "code",
   "execution_count": null,
   "metadata": {},
   "outputs": [],
   "source": [
    "get_Bjk(L, j, k; symbolic = true, substitute = true, pDerivMatrix = pDerivMatrix)"
   ]
  },
  {
   "cell_type": "code",
   "execution_count": null,
   "metadata": {},
   "outputs": [],
   "source": [
    "get_Bjk(L, j, k; symbolic = false, substitute = true, pDerivMatrix = pDerivMatrix)"
   ]
  },
  {
   "cell_type": "markdown",
   "metadata": {},
   "source": [
    "## `get_B(L; symbolic=false, substitute=true, pDerivMatrix=get_pDerivMatrix(L; symbolic = symbolic, substitute = substitute))`\n",
    "\n",
    "Given a `LinearDifferentialOperator` `L` where `L.pFunctions` is the array\n",
    "$$[p_0, p_1, \\ldots, p_n],$$ \n",
    "constructs the matrix $B(t)$ whose $ij$-entry is given by\n",
    "$$B_{jk}(t) := \\sum_{\\ell=j-1}^{n-k}\\binom{\\ell}{j-1}p^{(\\ell-j+1)}_{n-k-\\ell}(t)(-1)^\\ell.$$"
   ]
  },
  {
   "cell_type": "code",
   "execution_count": null,
   "metadata": {},
   "outputs": [],
   "source": [
    "function get_B(L::LinearDifferentialOperator; symbolic = false, substitute = true, pDerivMatrix = get_pDerivMatrix(L; symbolic = symbolic, substitute = substitute))\n",
    "    n = length(L.pFunctions)-1\n",
    "    B = Array{Union{Function, Number, SymPy.Sym}}(n,n)\n",
    "    for j = 1:n\n",
    "        for k = 1:n\n",
    "            B[j,k] = get_Bjk(L, j, k; symbolic = symbolic, substitute = substitute, pDerivMatrix = pDerivMatrix)\n",
    "        end\n",
    "    end\n",
    "    return B\n",
    "end"
   ]
  },
  {
   "cell_type": "markdown",
   "metadata": {},
   "source": [
    "**Parameters**\n",
    "* `L`: `LinearDifferentialOperator`\n",
    "    * Linear differential operator whose `L.pFunctions` are to become the $p_{n-k-l}^{l-j+1}$ in $B_{jk}(t)$.\n",
    "* `symbolic*`: `Bool`\n",
    "    * Boolean indicating whether the output is symbolic.\n",
    "* `substitute*`: `Bool`\n",
    "    * If `symbolic = true`, boolean indicating whether to substitute the symbolic expression of $p_i$ in `L.pFunctions` for the generic expression $p_i(t)$ created using `SymFunction(\"pi\")(t)`. If `symbolic = false`, the value of `substitute` does not matter.\n",
    "* `pDerivMatrix*`: `Array`\n",
    "    * If `symbolic = false`, the non-symbolic version of `symPDerivMatrix`, i.e., an $n\\times n$ matrix whose $(i+1)(j+1)$-entry is the $j$th derivative of $p_i$ (`L.pFunctions[i]`) implemented as a `Function` or `Number`.\n",
    "\n",
    "**Returns**\n",
    "* `get_B`: `Array` of `Function`, `SymPy.Sym`, or `Number`\n",
    "    * Returns $B(t)$ defined above, where $B_{jk}(t)$ is\n",
    "        * `Function` if `symbolic = false`, or\n",
    "        * `SymPy.Sym` object if `symbolic = true`, where each $p_i$ is\n",
    "            * the generic expression $p_i(t)$ if `substitute = false`, or\n",
    "            * the symbolic expression of $p_i(t)$ (`L.symL.symPFunctions[i]`) if `substitute = true`.\n",
    "\n",
    "**Example**"
   ]
  },
  {
   "cell_type": "code",
   "execution_count": null,
   "metadata": {},
   "outputs": [],
   "source": [
    "t = symbols(\"t\")\n",
    "symPFunctions = [1 t+1 t^2+t+1]\n",
    "interval = (0, 1)\n",
    "symL = SymLinearDifferentialOperator(symPFunctions, interval, t)\n",
    "\n",
    "L = get_L(symL)\n",
    "\n",
    "B = get_B(L; symbolic = true, substitute = false)\n",
    "# Only Array{SymPy.Sym} would be automatically pretty-printed"
   ]
  },
  {
   "cell_type": "code",
   "execution_count": null,
   "metadata": {},
   "outputs": [],
   "source": [
    "# Enfore pretty-printing\n",
    "prettyPrint.(B)"
   ]
  },
  {
   "cell_type": "code",
   "execution_count": null,
   "metadata": {},
   "outputs": [],
   "source": [
    "B = get_B(L; symbolic = true, substitute = true)\n",
    "# Only Array{SymPy.Sym} would be automatically pretty-printed"
   ]
  },
  {
   "cell_type": "code",
   "execution_count": null,
   "metadata": {},
   "outputs": [],
   "source": [
    "# Enfore pretty-printing\n",
    "prettyPrint.(B)"
   ]
  },
  {
   "cell_type": "code",
   "execution_count": null,
   "metadata": {},
   "outputs": [],
   "source": [
    "get_B(L; symbolic = false, substitute = false)"
   ]
  },
  {
   "cell_type": "markdown",
   "metadata": {},
   "source": [
    "## `get_BHat(L, B)`\n",
    "\n",
    "Given a `LinearDifferentialOperator` `L` where `L.pFunctions` is the array\n",
    "$$[p_0, p_1, \\ldots, p_n]$$\n",
    "and `L.interval` is $[a,b]$, constructs $\\hat{B}$ defined as the block matrix\n",
    "$$\\hat{B}:=\\begin{bmatrix}-B(a) & 0_n\\\\0_n & B(b)\\end{bmatrix}.$$"
   ]
  },
  {
   "cell_type": "code",
   "execution_count": null,
   "metadata": {},
   "outputs": [],
   "source": [
    "function get_BHat(L::LinearDifferentialOperator, B::Array)\n",
    "#     if check_any(B, x->isa(x, SymPy.Sym))\n",
    "#         throw(\"Entries of B should be Function or Number\")\n",
    "#     end\n",
    "    pFunctions, (a,b) = L.pFunctions, L.interval\n",
    "    n = length(pFunctions)-1\n",
    "    BHat = Array{Complex}(2n,2n)\n",
    "    BEvalA = evaluate.(B, a)\n",
    "    BEvalB = evaluate.(B, b)\n",
    "    BHat[1:n,1:n] = -BEvalA\n",
    "    BHat[(n+1):(2n),(n+1):(2n)] = BEvalB\n",
    "    BHat[1:n, (n+1):(2n)] = 0\n",
    "    BHat[(n+1):(2n), 1:n] = 0\n",
    "    return BHat\n",
    "end"
   ]
  },
  {
   "cell_type": "markdown",
   "metadata": {},
   "source": [
    "**Parameters**\n",
    "* `L`: `LinearDifferentialOperator`\n",
    "    * Linear differential operator whose `L.pFunctions` are to become the $p_{n-k-l}^{l-j+1}$ in $B_{jk}(t)$.\n",
    "* `B`: `Array` of `Number`\n",
    "    * Output of `get_B(L; symbolic = false)`.\n",
    "    \n",
    "**Returns**\n",
    "* `get_BHat`: `Array` of `Number`\n",
    "    * Returns $\\hat{B}$ defined above.\n",
    "\n",
    "**Example**"
   ]
  },
  {
   "cell_type": "code",
   "execution_count": null,
   "metadata": {},
   "outputs": [],
   "source": [
    "t = symbols(\"t\")\n",
    "symPFunctions = [1 t+1 t^2+t+1]\n",
    "interval = (0, 1)\n",
    "symL = SymLinearDifferentialOperator(symPFunctions, interval, t)\n",
    "pFunctions = [t->1 t->t+1 t->t^2+t+1]\n",
    "L = LinearDifferentialOperator(pFunctions, interval, symL)\n",
    "\n",
    "pDerivMatrix = get_pDerivMatrix(L)\n",
    "# pDerivMatrix = [1 0; t->1+t t->1]\n",
    "\n",
    "B = get_B(L; symbolic = false, substitute = false, pDerivMatrix = pDerivMatrix)\n",
    "get_BHat(L, B)"
   ]
  },
  {
   "cell_type": "markdown",
   "metadata": {},
   "source": [
    "## `get_J(BHat, H)`\n",
    "\n",
    "Given $\\hat{B}$ and $H$, constructs $J$ defined as \n",
    "$$J:=(\\hat{B}H^{-1})^\\star$$\n",
    "where $^*$ denotes conjugate transpose."
   ]
  },
  {
   "cell_type": "code",
   "execution_count": null,
   "metadata": {},
   "outputs": [],
   "source": [
    "function get_J(BHat, H)\n",
    "    n = size(H)[1]\n",
    "    H = convert(Array{Complex}, H)\n",
    "    J = (BHat * inv(H))'\n",
    "    # J = convert(Array{Complex}, J)\n",
    "    return J\n",
    "end"
   ]
  },
  {
   "cell_type": "markdown",
   "metadata": {},
   "source": [
    "**Parameters**\n",
    "* `BHat`: `Array`\n",
    "    * Output of `get_BHat()`.\n",
    "* `H`: `Array`\n",
    "    * Output of `get_H()`.\n",
    "\n",
    "**Returns**\n",
    "* `get_J`: `Array`\n",
    "    * Returns $J$ defined above.\n",
    "\n",
    "**Example**"
   ]
  },
  {
   "cell_type": "code",
   "execution_count": null,
   "metadata": {},
   "outputs": [],
   "source": [
    "t = symbols(\"t\")\n",
    "symPFunctions = [1 t+1 t^2+t+1]\n",
    "interval = (0, 1)\n",
    "symL = SymLinearDifferentialOperator(symPFunctions, interval, t)\n",
    "pFunctions = [t->1 t->t+1 t->t^2+t+1]\n",
    "L = LinearDifferentialOperator(pFunctions, interval, symL)\n",
    "\n",
    "pDerivMatrix = get_pDerivMatrix(L)\n",
    "# pDerivMatrix = [1 0; t->1+t t->1]\n",
    "\n",
    "B = get_B(L; symbolic = false, substitute = false, pDerivMatrix = pDerivMatrix)\n",
    "BHat = get_BHat(L, B)\n",
    "\n",
    "M = [1 0; 2 0]\n",
    "N = [0 2; 0 1]\n",
    "U = VectorBoundaryForm(M, N)\n",
    "Uc = get_Uc(U)\n",
    "H = get_H(U, Uc)\n",
    "\n",
    "get_J(BHat, H)"
   ]
  },
  {
   "cell_type": "markdown",
   "metadata": {},
   "source": [
    "## `get_adjointCand(J)`\n",
    "\n",
    "Given $J$, constructs a candidate adjoint vector boundary form $U^+$ from two matrices $P^\\star$, $Q^\\star$, which are the lower-left $n\\times n$ submatrix of $J$, and the lower-right $n\\times n$ submatrix of $J$, respectively."
   ]
  },
  {
   "cell_type": "code",
   "execution_count": null,
   "metadata": {},
   "outputs": [],
   "source": [
    "function get_adjointCand(J)\n",
    "    n = convert(Int, size(J)[1]/2)\n",
    "    J = convert(Array{Complex}, J)\n",
    "    PStar = J[(n+1):2n,1:n]\n",
    "    QStar = J[(n+1):2n, (n+1):2n]\n",
    "    adjointU = VectorBoundaryForm(PStar, QStar)\n",
    "    return adjointU\n",
    "end"
   ]
  },
  {
   "cell_type": "markdown",
   "metadata": {},
   "source": [
    "**Parameters**\n",
    "* `J`: `Array`\n",
    "    * Output of `get_J`.\n",
    "\n",
    "**Returns**\n",
    "* `get_adjoint`: `VectorBoundaryForm`\n",
    "    * Returns $U^+$ defined above.\n",
    "\n",
    "**Example**"
   ]
  },
  {
   "cell_type": "code",
   "execution_count": null,
   "metadata": {},
   "outputs": [],
   "source": [
    "t = symbols(\"t\")\n",
    "symPFunctions = [1 t+1 t^2+t+1]\n",
    "interval = (0, 1)\n",
    "symL = SymLinearDifferentialOperator(symPFunctions, interval, t)\n",
    "pFunctions = [t->1 t->t+1 t->t^2+t+1]\n",
    "L = LinearDifferentialOperator(pFunctions, interval, symL)\n",
    "\n",
    "pDerivMatrix = get_pDerivMatrix(L)\n",
    "# pDerivMatrix = [1 0; t->1+t t->1]\n",
    "j, k = 1, 1\n",
    "\n",
    "B = get_B(L; symbolic = false, substitute = false, pDerivMatrix = pDerivMatrix)\n",
    "BHat = get_BHat(L, B)\n",
    "\n",
    "M = [1 0; 2 0]\n",
    "N = [0 2; 0 1]\n",
    "U = VectorBoundaryForm(M, N)\n",
    "Uc = get_Uc(U)\n",
    "H = get_H(U, Uc)\n",
    "\n",
    "J = get_J(BHat, H)\n",
    "adjoint = get_adjointCand(J)"
   ]
  },
  {
   "cell_type": "markdown",
   "metadata": {},
   "source": [
    "## `get_xi(L; symbolic=true, substitute=false, xSym=nothing)`\n",
    "\n",
    "Given a `LinearDifferentialOperator` `L` of order $n$ in the differential equation $Lx=0$, constructs $\\xi(t)$, which is defined as the vector of derivatives of $x(t)$\n",
    "$$\\xi(t) := \\begin{bmatrix}x(t)\\\\ x^{(1)}(t)\\\\ x^{(2)}(t)\\\\ \\vdots\\\\ x^{(n-1)}(t)\\end{bmatrix}.$$"
   ]
  },
  {
   "cell_type": "code",
   "execution_count": null,
   "metadata": {},
   "outputs": [],
   "source": [
    "function get_xi(L::LinearDifferentialOperator; symbolic=true, substitute = false, xSym = nothing)\n",
    "    if symbolic\n",
    "        n = length(L.pFunctions)-1\n",
    "        symXi = Array{SymPy.Sym}(n,1)\n",
    "        if substitute\n",
    "            if isa(xSym, Void)\n",
    "                throw(error(\"xSym required\"))\n",
    "            else\n",
    "                for i = 1:n\n",
    "                    symXi[i] = get_deriv(xSym, i-1)\n",
    "                end\n",
    "                return symXi\n",
    "            end\n",
    "        else\n",
    "            xSym = SymFunction(\"x\")(t)\n",
    "            for i = 1:n\n",
    "                symXi[i] = get_deriv(xSym, i-1)\n",
    "            end\n",
    "            return symXi\n",
    "        end\n",
    "    else\n",
    "        if isa(xSym, Void)\n",
    "            throw(error(\"xSym required\"))\n",
    "        elseif !isa(xSym, SymPy.Sym) && !isa(xSym, Number)\n",
    "            throw(error(\"xSym should be SymPy.Sym or Number\"))\n",
    "        else\n",
    "            symXi = get_xi(L; symbolic = true, substitute = true, xSym = xSym)\n",
    "            xi = sym_to_func.(symXi)\n",
    "            return xi\n",
    "        end\n",
    "    end\n",
    "end"
   ]
  },
  {
   "cell_type": "markdown",
   "metadata": {},
   "source": [
    "**Parameters**\n",
    "* `L`: `LinearDifferentialOperator`\n",
    "    * Linear differential operator in the differential equation $Lx=0$; derivatives of $x(t)$ will be entries of $\\xi(t)$.\n",
    "* `symbolic`: `Bool`\n",
    "    * Boolean indicating whether the output is symbolic.\n",
    "* `substitute*`: `Bool`\n",
    "    * If `symbolic = true`, boolean indicating whether to substitute the symbolic expression of $x(t)$ for the generic expression created using `SymFunction`.\n",
    "* `xSym*`: `SymPy.Sym`\n",
    "    * If `substitute = true`, symbolic expression of $x(t)$ to replace the generic expression with.\n",
    "\n",
    "**Returns**\n",
    "* `get_symXi`: `Array` of `SymPy.Sym`\n",
    "    * Returns an array whose $i$th entry is\n",
    "        * the generic expression $\\displaystyle\\frac{d^{i-1}}{dt^{i-1}}x(t)$ if `substitute = false`, or\n",
    "        * the symbolic expression of the ($i-1$)th derivative of $x(t)$ if `substitute = true`.\n",
    "\n",
    "**Example**"
   ]
  },
  {
   "cell_type": "code",
   "execution_count": null,
   "metadata": {},
   "outputs": [],
   "source": [
    "t = symbols(\"t\")\n",
    "symPFunctions = [1 t+1 t^2+t+1]\n",
    "interval = (0, 1)\n",
    "symL = SymLinearDifferentialOperator(symPFunctions, interval, t)\n",
    "\n",
    "L = get_L(symL)\n",
    "\n",
    "get_xi(L; symbolic=true, substitute = false, xSym = nothing)"
   ]
  },
  {
   "cell_type": "code",
   "execution_count": null,
   "metadata": {},
   "outputs": [],
   "source": [
    "xSym = t^2+2t\n",
    "get_xi(L; symbolic=true, substitute = true, xSym = xSym)"
   ]
  },
  {
   "cell_type": "code",
   "execution_count": null,
   "metadata": {},
   "outputs": [],
   "source": [
    "get_xi(L; symbolic=false, substitute = true, xSym = xSym)"
   ]
  },
  {
   "cell_type": "code",
   "execution_count": null,
   "metadata": {},
   "outputs": [],
   "source": [
    "get_xi(L; symbolic = true, substitute = true, xSym = 3)"
   ]
  },
  {
   "cell_type": "markdown",
   "metadata": {},
   "source": [
    "## `get_Ux(L, U; symbolic=true, substitute=false, xSym=nothing)`\n",
    "\n",
    "Given a `LinearDifferentialOperator` `L` and a `VectorBoundaryForm` `U`, constructs the left hand side\n",
    "$$Ux = M\\xi(a) + N\\xi(b)$$\n",
    "of the homogeneous boundary condition $Ux=0$, where\n",
    "\\begin{align*}\n",
    "    Ux &= \\begin{bmatrix}\n",
    "        \\sum_{j=1}^n (M_{1j}x^{(j-1)}(a) + N_{1j}x^{(j-1)}(b))\\\\\n",
    "        \\vdots\\\\\n",
    "        \\sum_{j=1}^n (M_{mj}x^{(j-1)}(a) + N_{mj}x^{(j-1)}(b))\n",
    "    \\end{bmatrix}\\\\\n",
    "    &= \\begin{bmatrix}\n",
    "        M_{11} & \\cdots & M_{1n} & N_{11} & \\cdots & N_{1n}\\\\\n",
    "        \\vdots &  & \\vdots & \\vdots & & \\vdots\\\\\n",
    "        M_{m1} & \\cdots & M_{mn} & N_{m1} & \\cdots & N_{mn}\n",
    "    \\end{bmatrix} \\begin{bmatrix}x(a)\\\\\\vdots\\\\x^{(n-1)}(a)\\\\ x(b)\\\\\\vdots\\\\x^{(n-1)}(b)\\end{bmatrix}\\\\\n",
    "    &= (M:N)\\begin{bmatrix}\n",
    "        \\xi(a)\\\\\n",
    "        \\xi(b)\n",
    "    \\end{bmatrix}.\n",
    "\\end{align*}"
   ]
  },
  {
   "cell_type": "code",
   "execution_count": null,
   "metadata": {},
   "outputs": [],
   "source": [
    "function get_Ux(L::LinearDifferentialOperator, U::VectorBoundaryForm; symbolic = true, substitute = false, xSym = nothing)\n",
    "    if symbolic\n",
    "        if substitute\n",
    "            (a, b) = L.interval\n",
    "        else\n",
    "            a, b = symbols(\"a\"), symbols(\"b\")\n",
    "        end\n",
    "        xi = get_xi(L; symbolic = true, substitute = substitute, xSym = xSym)\n",
    "        xiEvalA = evaluate.(xi, a)\n",
    "        xiEvalB = evaluate.(xi, b)\n",
    "        M, N = U.M, U.N\n",
    "        Ux = M*xiEvalA + N*xiEvalB\n",
    "        return Ux\n",
    "    else\n",
    "        (a, b) = L.interval\n",
    "        # a, b are Numbers, so in get_xi(), substitute must be true and xSym must be given\n",
    "        xi = get_xi(L; symbolic = false, substitute = true, xSym = xSym)\n",
    "        xiEvalA = evaluate.(xi, a)\n",
    "        xiEvalB = evaluate.(xi, b)\n",
    "        M, N = U.M, U.N\n",
    "        Ux = M*xiEvalA + N*xiEvalB\n",
    "        return Ux\n",
    "    end\n",
    "end"
   ]
  },
  {
   "cell_type": "markdown",
   "metadata": {},
   "source": [
    "**Parameters**\n",
    "* `L`: `LinearDifferentialOperator`\n",
    "    * Linear differential operator in the differential equation $Lx=0$; derivatives of $x(t)$ will be entries of $\\xi(t)$.\n",
    "* `U`: `VectorBoundaryForm`\n",
    "    * Vector boundary form in the boundary condition $Ux$.\n",
    "* `xSym`: `SymPy.Sym`\n",
    "    * Symbolic expression of $x(t)$ whose derivatives will be entries of $\\xi(t)$.\n",
    "* `symbolic*`: `Bool`\n",
    "    * Boolean indicating whether the ouput is symbolic.\n",
    "\n",
    "**Returns**\n",
    "* `get_boundaryCondition`: `Array` of `Number`\n",
    "    * Returns the $Ux$ in the homogeneous boundary condition $Ux=0$ defined above.\n",
    "\n",
    "**Example**"
   ]
  },
  {
   "cell_type": "code",
   "execution_count": null,
   "metadata": {},
   "outputs": [],
   "source": [
    "t = symbols(\"t\")\n",
    "symPFunctions = [1 t+1 t^2+t+1]\n",
    "interval = (0, 1)\n",
    "symL = SymLinearDifferentialOperator(symPFunctions, interval, t)\n",
    "\n",
    "L = get_L(symL)\n",
    "\n",
    "M = [1 0; 2 0]\n",
    "N = [0 2; 0 1]\n",
    "U = VectorBoundaryForm(M, N)"
   ]
  },
  {
   "cell_type": "code",
   "execution_count": null,
   "metadata": {},
   "outputs": [],
   "source": [
    "get_Ux(L, U; symbolic = true, substitute = false, xSym = nothing)"
   ]
  },
  {
   "cell_type": "code",
   "execution_count": null,
   "metadata": {},
   "outputs": [],
   "source": [
    "xSym = t^2+2t\n",
    "get_Ux(L, U; symbolic = true, substitute = true, xSym = xSym)"
   ]
  },
  {
   "cell_type": "code",
   "execution_count": null,
   "metadata": {
    "scrolled": true
   },
   "outputs": [],
   "source": [
    "get_Ux(L, U; symbolic = false, xSym = xSym)"
   ]
  },
  {
   "cell_type": "markdown",
   "metadata": {},
   "source": [
    "## `check_adjoint(L, U, adjointU, B)`\n",
    "\n",
    "Given a boundary value problem\n",
    "$$Lx = 0,\\quad Ux=0$$\n",
    "with linear differential operator $L$ and vector boundary form $U$, a candidate adjoint vector boundary form $U^+$, and the matrix $B$ associated with $L$, checks whether the boundary condition\n",
    "$$U^+x = 0$$\n",
    "is indeed adjoint to the boundary condition\n",
    "$$Ux=0.$$"
   ]
  },
  {
   "cell_type": "code",
   "execution_count": null,
   "metadata": {},
   "outputs": [],
   "source": [
    "function check_adjoint(L::LinearDifferentialOperator, U::VectorBoundaryForm, adjointU::VectorBoundaryForm, B::Array)\n",
    "    (a, b) = L.interval\n",
    "    M, N = U.M, U.N\n",
    "    P, Q = (adjointU.M)', (adjointU.N)'\n",
    "    # Avoid InexactError() when taking inv()\n",
    "    BEvalA = convert(Array{Complex}, evaluate.(B, a))\n",
    "    BEvalB = convert(Array{Complex}, evaluate.(B, b))\n",
    "    left = M * inv(BEvalA) * P\n",
    "    right = N * inv(BEvalB) * Q\n",
    "#     println(\"left = $left\")\n",
    "#     println(\"right = $right\")\n",
    "    tol = set_tol(left, right)\n",
    "    return all(i -> isapprox(left[i], right[i]; atol = tol), 1:length(left)) # Can't use == to deterimine equality because left and right are arrays of floats\n",
    "end"
   ]
  },
  {
   "cell_type": "markdown",
   "metadata": {},
   "source": [
    "**Parameters**\n",
    "* `L`: `LinearDifferentialOperator`\n",
    "    * Linear differential operator in the differential equation $Lx=0$.\n",
    "* `U`: `VectorBoundaryForm`\n",
    "    * Vector boundary form in the boundary condition $Ux=0$.\n",
    "* `adjointU`: `VectorBoundaryForm`\n",
    "    * Vector boundary form in the candidate adjoint boundary condition $U^+x=0$.\n",
    "* `B`: `Array` of `Number`\n",
    "    * Output of `get_B(L)`.\n",
    "\n",
    "**Returns**\n",
    "* `check_adjoint`: `Bool`\n",
    "    * Returns \n",
    "        * `true` if `adjointU` is indeed adjoint to `U`, or\n",
    "        * `false` otherwise.\n",
    "\n",
    "**Example**"
   ]
  },
  {
   "cell_type": "code",
   "execution_count": null,
   "metadata": {},
   "outputs": [],
   "source": [
    "t = symbols(\"t\")\n",
    "symPFunctions = [1 t+1 t^2+t+1]\n",
    "interval = (0, 1)\n",
    "symL = SymLinearDifferentialOperator(symPFunctions, interval, t)\n",
    "pFunctions = [t->1 t->t+1 t->t^2+t+1]\n",
    "L = LinearDifferentialOperator(pFunctions, interval, symL)\n",
    "\n",
    "M = [1 0; 2 0]\n",
    "N = [0 2; 0 1]\n",
    "# M = [3.9 5.4; 1+2*im 2]\n",
    "# N = [4.7 8.1 + im; 0.5*im 10]\n",
    "U = VectorBoundaryForm(M, N)\n",
    "Uc = get_Uc(U)\n",
    "\n",
    "# Non-symbolic\n",
    "B = get_B(L)\n",
    "BHat = get_BHat(L, B)\n",
    "H = get_H(U, Uc)\n",
    "J = get_J(BHat, H)\n",
    "adjointU = get_adjointCand(J)\n",
    "\n",
    "check_adjoint(L, U, adjointU, B)"
   ]
  },
  {
   "cell_type": "markdown",
   "metadata": {},
   "source": [
    "## `get_adjointU(L, U, pDerivMatrix=get_pDerivMatrix(L))`\n",
    "\n",
    "Given a boundary value problem\n",
    "$$Lx = p_0x^{(n)} + p_1x^{(n-1)} + \\cdots + p_{n-1}x^{(1)} + p_n x = 0,\\quad Ux=0$$\n",
    "with linear differential operator $L$ and vector boundary form $U$, an $n\\times n$ matrix of derivatives\n",
    "$$\\begin{bmatrix}p_0 & \\cdots & p_0^{(n-1)}\\\\ \\vdots & \\ddots & \\vdots\\\\ p_{n-1} & \\cdots & p_{n-1}^{(n-1)}\\end{bmatrix},$$\n",
    "construct $U^+$ such that the boundary condition $U^+=0$ is adjoint to the original boundary condition $Ux=0$."
   ]
  },
  {
   "cell_type": "code",
   "execution_count": null,
   "metadata": {},
   "outputs": [],
   "source": [
    "function get_adjointU(L::LinearDifferentialOperator, U::VectorBoundaryForm, pDerivMatrix=get_pDerivMatrix(L))\n",
    "    B = get_B(L; pDerivMatrix = pDerivMatrix)\n",
    "    BHat = get_BHat(L, B)\n",
    "    Uc = get_Uc(U)\n",
    "    H = get_H(U, Uc)\n",
    "    J = get_J(BHat, H)\n",
    "    adjointU = get_adjointCand(J)\n",
    "    if check_adjoint(L, U, adjointU, B)\n",
    "        return adjointU\n",
    "    else\n",
    "        throw(error(\"Adjoint found not valid\"))\n",
    "    end\n",
    "end"
   ]
  },
  {
   "cell_type": "markdown",
   "metadata": {},
   "source": [
    "**Parameters**\n",
    "* `L`: `LinearDifferentialOperator`\n",
    "    * Linear differential operator in the differential equation $Lx=0$.\n",
    "* `U`: `VectorBoundaryForm`\n",
    "    * Vectory boundary form in the boundary condition $Ux=0$.\n",
    "* `pDerivMatrix`: `Array` of `Function`, `Number`, or `SymPy.#`\n",
    "    * An $n\\times n$ matrix defined above, which can be\n",
    "        * output of `get_pDerivMatrix` (`SymPy.#`), or\n",
    "        * user input.\n",
    "\n",
    "**Returns**\n",
    "* `get_adjointU`: `VectorBoundaryForm`\n",
    "    * Returns a valid vector boundary form $U^+$ such that the boundary condition $U^+x=0$ is adjoint to $Ux=0$.\n",
    "\n",
    "**Example**"
   ]
  },
  {
   "cell_type": "code",
   "execution_count": null,
   "metadata": {},
   "outputs": [],
   "source": [
    "t = symbols(\"t\")\n",
    "symPFunctions = [1 t+1 t^2+t+1]\n",
    "interval = (0, 1)\n",
    "symL = SymLinearDifferentialOperator(symPFunctions, interval, t)\n",
    "# pFunctions = [t->1 t->t+1 t->t^2+t+1]\n",
    "# L = LinearDifferentialOperator(pFunctions, interval, symL)\n",
    "L = get_L(symL)\n",
    "\n",
    "M = [1 0; 2 0]\n",
    "N = [0 2; 0 1]\n",
    "U = VectorBoundaryForm(M, N)\n",
    "\n",
    "adjointU = get_adjointU(L, U)"
   ]
  },
  {
   "cell_type": "code",
   "execution_count": null,
   "metadata": {},
   "outputs": [],
   "source": [
    "prettyPrint.(adjointU.M)"
   ]
  },
  {
   "cell_type": "markdown",
   "metadata": {},
   "source": [
    "# Approximate roots of exponential polynomial"
   ]
  },
  {
   "cell_type": "markdown",
   "metadata": {},
   "source": [
    "Helps user to find the roots of an exponential polynomial $\\Delta(\\lambda)$ where $\\lambda\\in\\mathbb{C}$ by visualizing the roots as the intersections of the level curves $\\Re(\\Delta) = 0$ and $\\Im(\\Delta) = 0$."
   ]
  },
  {
   "cell_type": "markdown",
   "metadata": {},
   "source": [
    "## `separate_real_imaginary(delta)`\n",
    "\n",
    "Separates real and imaginary parts of the symbolic expression of $\\Delta(\\lambda)$, an exponential polynomial in one variable."
   ]
  },
  {
   "cell_type": "markdown",
   "metadata": {},
   "source": [
    "### `separate_real_imaginary_exp(expr)`"
   ]
  },
  {
   "cell_type": "markdown",
   "metadata": {},
   "source": [
    "Helper function that deals with the case where the toplevel operation is exponentiation."
   ]
  },
  {
   "cell_type": "code",
   "execution_count": null,
   "metadata": {},
   "outputs": [],
   "source": [
    "# although the function body is the same as \"power\" and \"others\", this case is isolated because negative exponents, e.g., factor_list(e^(-im*x)), give PolynomialError('a polynomial expected, got exp(-I*x)',), while factor_list(cos(x)) runs normally\n",
    "function separate_real_imaginary_exp(expr::SymPy.Sym)\n",
    "    result = real(expr) + im*imag(expr)\n",
    "    return result\n",
    "end"
   ]
  },
  {
   "cell_type": "markdown",
   "metadata": {},
   "source": [
    "**Parameters**\n",
    "* `expr`: `SymPy.Sym`\n",
    "    * Symbolic expression in $x+iy$ whose toplevel operation is exponentiation, i.e., `SymPy.func(expr) = SymPy.func(sympyExpExpr)`.\n",
    "\n",
    "**Returns**\n",
    "* `separate_real_imaginary_exp`: `SymPy.Sym`\n",
    "    * Returns a symbolic expression whose real and imaginary parts are separated.\n",
    "\n",
    "**Example**"
   ]
  },
  {
   "cell_type": "code",
   "execution_count": null,
   "metadata": {},
   "outputs": [],
   "source": [
    "x = symbols(\"x\", real = true)\n",
    "y = symbols(\"y\", real = true)\n",
    "\n",
    "expr = e^(x+im*y)\n",
    "SymPy.func(expr)"
   ]
  },
  {
   "cell_type": "code",
   "execution_count": null,
   "metadata": {},
   "outputs": [],
   "source": [
    "separate_real_imaginary_exp(expr)"
   ]
  },
  {
   "cell_type": "markdown",
   "metadata": {},
   "source": [
    "### `separate_real_imaginary_power(expr)`\n",
    "\n",
    "Helper function that deals with the case where the toplevel operation is power."
   ]
  },
  {
   "cell_type": "code",
   "execution_count": null,
   "metadata": {},
   "outputs": [],
   "source": [
    "# we won't be dealing with cases like x^(x^x)\n",
    "function separate_real_imaginary_power(expr::SymPy.Sym)\n",
    "    result = real(expr) + im*imag(expr)\n",
    "    return result\n",
    "end"
   ]
  },
  {
   "cell_type": "markdown",
   "metadata": {},
   "source": [
    "**Parameters**\n",
    "* `expr`: `SymPy.Sym`\n",
    "    * Symbolic expression in $x+iy$ whose toplevel operation is power, i.e., `SymPy.func(expr) = SymPy.func(sympyPowerExpr)`.\n",
    "\n",
    "**Returns**\n",
    "* `separate_real_imaginary_power`: `SymPy.Sym`\n",
    "    * Returns a symbolic expression whose real and imaginary parts are separated.\n",
    "\n",
    "**Example**"
   ]
  },
  {
   "cell_type": "code",
   "execution_count": null,
   "metadata": {},
   "outputs": [],
   "source": [
    "x = symbols(\"x\", real = true)\n",
    "y = symbols(\"y\", real = true)\n",
    "\n",
    "expr = (x+im*y)^2\n",
    "SymPy.func(expr)"
   ]
  },
  {
   "cell_type": "code",
   "execution_count": null,
   "metadata": {},
   "outputs": [],
   "source": [
    "separate_real_imaginary_power(expr)"
   ]
  },
  {
   "cell_type": "markdown",
   "metadata": {},
   "source": [
    "### `separate_real_imaginary_mult(expr)`\n",
    "\n",
    "Helper function that deals with the case where the toplevel operation is multiplication."
   ]
  },
  {
   "cell_type": "code",
   "execution_count": null,
   "metadata": {},
   "outputs": [],
   "source": [
    "function separate_real_imaginary_mult(expr::SymPy.Sym)\n",
    "    terms = args(expr)\n",
    "    result = 1\n",
    "    # if the expanded expression contains toplevel multiplication, the individual terms must all be exponentials or powers\n",
    "    for term in terms\n",
    "        # println(\"term = $term\")\n",
    "        # if term is exponential\n",
    "        if SymPy.func(term) == SymPy.func(sympyExpExpr)\n",
    "            termSeparated = separate_real_imaginary_exp(term)\n",
    "        # if term is power (not sure if this case and the case below overlaps)\n",
    "        elseif SymPy.func(term) == SymPy.func(sympyPowerExpr)\n",
    "            termSeparated = separate_real_imaginary_power(term)\n",
    "            # else, further split each product term into indivdual factors (this case also includes the case where term is a number, which would go into the \"constant\" below)\n",
    "        else\n",
    "            termSeparated = term # term is a number\n",
    "#             (constant, factors) = factor_list(term)\n",
    "#             termSeparated = constant\n",
    "#             # separate each factor into real and imaginary parts and collect the product of separated factors\n",
    "#             for (factor, power) in factors\n",
    "#                 factor = factor^power\n",
    "#                 termSeparated = termSeparated * (real(factor) + im*imag(factor))\n",
    "#             end\n",
    "        end\n",
    "        # println(\"termSeparated = $termSeparated\") \n",
    "        # collect the product of separated term, i.e., product of separated factors\n",
    "        result = result * termSeparated\n",
    "    end\n",
    "    result = real(result) + im*imag(result)\n",
    "    return result\n",
    "end"
   ]
  },
  {
   "cell_type": "markdown",
   "metadata": {},
   "source": [
    "**Parameters**\n",
    "* `expr`: `SymPy.Sym`\n",
    "    * Symbolic expression in $x+iy$ whose toplevel operation is multiplication, i.e., `SymPy.func(expr) = SymPy.func(sympyMultExpr)`.\n",
    "\n",
    "**Returns**\n",
    "* `separate_real_imaginary_mult`: `SymPy.Sym`\n",
    "    * Returns a symbolic expression whose real and imaginary parts are separated.\n",
    "\n",
    "**Example**"
   ]
  },
  {
   "cell_type": "code",
   "execution_count": null,
   "metadata": {},
   "outputs": [],
   "source": [
    "x = symbols(\"x\", real = true)\n",
    "y = symbols(\"y\", real = true)\n",
    "\n",
    "expr = (x+im*y)*2x\n",
    "SymPy.func(expr)"
   ]
  },
  {
   "cell_type": "code",
   "execution_count": null,
   "metadata": {},
   "outputs": [],
   "source": [
    "separate_real_imaginary_mult(expr)"
   ]
  },
  {
   "cell_type": "markdown",
   "metadata": {},
   "source": [
    "### `separate_real_imaginary_add(expr)`\n",
    "\n",
    "Helper function that deals with the case where the toplevel operation is addition."
   ]
  },
  {
   "cell_type": "code",
   "execution_count": null,
   "metadata": {},
   "outputs": [],
   "source": [
    "function separate_real_imaginary_add(expr::SymPy.Sym)\n",
    "    x = symbols(\"x\")\n",
    "    # if the expanded expression contains toplevel addition, the individual terms must all be products or symbols\n",
    "    terms = args(expr)\n",
    "    result = 0\n",
    "    # termSeparated = 0 # to avoid undefined error if there is no else (case incomplete)\n",
    "    for term in terms\n",
    "        # println(\"term = $term\")\n",
    "        # if term is a symbol\n",
    "        if SymPy.func(term) == SymPy.func(x)\n",
    "            termSeparated = term\n",
    "        # if term is exponential\n",
    "        elseif SymPy.func(term) == SymPy.func(sympyExpExpr)\n",
    "            termSeparated = separate_real_imaginary_exp(term)\n",
    "        # if term is a power\n",
    "        elseif SymPy.func(term) == SymPy.func(sympyPowerExpr)\n",
    "            termSeparated = separate_real_imaginary_power(term)\n",
    "        # if term is a product\n",
    "        elseif SymPy.func(term) == SymPy.func(sympyMultExpr)\n",
    "            termSeparated = separate_real_imaginary_mult(term)\n",
    "        # if term is a number\n",
    "        else\n",
    "            termSeparated = term\n",
    "        end\n",
    "        # println(\"termSeparated = $termSeparated\")\n",
    "        result = result + termSeparated\n",
    "    end\n",
    "    result = real(result) + im*imag(result)\n",
    "    return result\n",
    "end"
   ]
  },
  {
   "cell_type": "markdown",
   "metadata": {},
   "source": [
    "**Parameters**\n",
    "* `expr`: `SymPy.Sym`\n",
    "    * Symbolic expression in $x+iy$ whose toplevel operation is addition, i.e., `SymPy.func(expr) = SymPy.func(sympAddExpr)`.\n",
    "\n",
    "**Returns**\n",
    "* `separate_real_imaginary_add`: `SymPy.Sym`\n",
    "    * Returns a symbolic expression whose real and imaginary parts are separated.\n",
    "\n",
    "**Example**"
   ]
  },
  {
   "cell_type": "code",
   "execution_count": null,
   "metadata": {},
   "outputs": [],
   "source": [
    "x = symbols(\"x\", real = true)\n",
    "y = symbols(\"y\", real = true)\n",
    "\n",
    "expr = (x+im*y) + 2x\n",
    "SymPy.func(expr)"
   ]
  },
  {
   "cell_type": "code",
   "execution_count": null,
   "metadata": {},
   "outputs": [],
   "source": [
    "separate_real_imaginary_add(expr)"
   ]
  },
  {
   "cell_type": "markdown",
   "metadata": {},
   "source": [
    "### `separate_real_imaginary_power_mult_add(expr)`\n",
    "\n",
    "Helper function that deals with the cases where the toplevel operation is power, addition, or multiplication."
   ]
  },
  {
   "cell_type": "code",
   "execution_count": null,
   "metadata": {},
   "outputs": [],
   "source": [
    "function separate_real_imaginary_power_mult_add(expr::SymPy.Sym)\n",
    "    if SymPy.func(expr) == SymPy.func(sympyPowerExpr)\n",
    "        result = separate_real_imaginary_power(expr)\n",
    "    elseif SymPy.func(expr) == SymPy.func(sympyMultExpr)\n",
    "        result = separate_real_imaginary_mult(expr)\n",
    "        else #if SymPy.func(expr) == SymPy.func(sympyAddExpr)\n",
    "        result = separate_real_imaginary_add(expr)\n",
    "#     else\n",
    "#         result = expr\n",
    "    end\n",
    "    return result\n",
    "end"
   ]
  },
  {
   "cell_type": "markdown",
   "metadata": {},
   "source": [
    "**Parameters**\n",
    "* `expr`: `SymPy.Sym`\n",
    "    * Symbolic expression in $x+iy$ whose toplevel operation is power, multiplication, or addition, i.e., `SymPy.func(expr) = SymPy.func(sympPowerExpr)`, `SymPy.func(sympMultExpr)`, or `SymPy.func(sympAddExpr)`.\n",
    "\n",
    "**Returns**\n",
    "* `separate_real_imaginary_power_mult_add`: `SymPy.Sym`\n",
    "    * Returns a symbolic expression whose real and imaginary parts are separated.\n",
    "\n",
    "**Example**"
   ]
  },
  {
   "cell_type": "code",
   "execution_count": null,
   "metadata": {},
   "outputs": [],
   "source": [
    "x = symbols(\"x\", real = true)\n",
    "y = symbols(\"y\", real = true)\n",
    "\n",
    "expr = (x+im*y) + 2x\n",
    "SymPy.func(expr)"
   ]
  },
  {
   "cell_type": "code",
   "execution_count": null,
   "metadata": {},
   "outputs": [],
   "source": [
    "separate_real_imaginary_power_mult_add(expr)"
   ]
  },
  {
   "cell_type": "markdown",
   "metadata": {},
   "source": [
    "### `separate_real_imaginary_others(expr)`\n",
    "\n",
    "Helper function that deals with the case where the toplevel operation is not exponentiation, power, multiplication or addition. In this case, `expr` must be a single term, e.g., `x` or `cos(2x+1)`, which is a function wrapping around an expression. So we use the other helper functions to separate the expression wrapped in the function and feed it back to the function."
   ]
  },
  {
   "cell_type": "code",
   "execution_count": null,
   "metadata": {},
   "outputs": [],
   "source": [
    "function separate_real_imaginary_others(expr::SymPy.Sym)\n",
    "    # if the expanded expression is neither of the above, it must be a single term, e.g., x or cos(2x+1), which is a function wrapping around an expression; in this case, use the helper function to clean up the expression and feed it back to the function\n",
    "    term = args(expr)[1]\n",
    "    termCleaned = separate_real_imaginary_power_mult_add(term)\n",
    "    result = subs(expr,args(expr)[1],termCleaned)\n",
    "    result = real(result) + im*imag(result)\n",
    "    return result\n",
    "end"
   ]
  },
  {
   "cell_type": "markdown",
   "metadata": {},
   "source": [
    "**Parameters**\n",
    "* `expr`: `SymPy.Sym`\n",
    "    * Symbolic expression in $x+iy$ whose toplevel operation is not power, multiplication, or addition, i.e., `SymPy.func(expr) != SymPy.func(sympPowerExpr)`, `SymPy.func(sympMultExpr)`, or `SymPy.func(sympAddExpr)`.\n",
    "\n",
    "**Returns**\n",
    "* `separate_real_imaginary_others`: `SymPy.Sym`\n",
    "    * Returns a symbolic expression whose real and imaginary parts are separated.\n",
    "\n",
    "**Example**"
   ]
  },
  {
   "cell_type": "code",
   "execution_count": null,
   "metadata": {},
   "outputs": [],
   "source": [
    "x = symbols(\"x\", real = true)\n",
    "y = symbols(\"y\", real = true)\n",
    "\n",
    "expr = cos(x+im*y)\n",
    "SymPy.func(expr)"
   ]
  },
  {
   "cell_type": "code",
   "execution_count": null,
   "metadata": {},
   "outputs": [],
   "source": [
    "separate_real_imaginary_others(expr)"
   ]
  },
  {
   "cell_type": "markdown",
   "metadata": {},
   "source": [
    "### `separate_real_imaginary(delta)`\n",
    "\n",
    "The main function that separates the real and imaginary parts of $\\Delta$, an exponential polynomial in one variable."
   ]
  },
  {
   "cell_type": "code",
   "execution_count": null,
   "metadata": {},
   "outputs": [],
   "source": [
    "function separate_real_imaginary(delta::SymPy.Sym)\n",
    "    x = symbols(\"x\", real = true)\n",
    "    y = symbols(\"y\", real = true)\n",
    "    \n",
    "    freeSymbols = free_symbols(delta)\n",
    "    # check if delta has one and only one free symbol (e.g., global variable lambda)\n",
    "    if length(freeSymbols) == 1\n",
    "        lambda = freeSymbols[1]\n",
    "        # substitute lambda with x+iy\n",
    "        expr = subs(delta, lambda, x+im*y)\n",
    "        # expand the new expression\n",
    "        expr = expand(expr)\n",
    "        \n",
    "        if SymPy.func(expr) == SymPy.func(sympyPowerExpr)\n",
    "#             println(expr)\n",
    "#             println(\"power!\")\n",
    "            result = separate_real_imaginary_power(expr)\n",
    "#             println(\"result = $result\")\n",
    "        elseif SymPy.func(expr) == SymPy.func(sympyAddExpr)\n",
    "#             println(expr)\n",
    "#             println(\"addition!\")\n",
    "            result = separate_real_imaginary_add(expr)\n",
    "#             println(\"result = $result\")\n",
    "        elseif SymPy.func(expr) == SymPy.func(sympyMultExpr)\n",
    "#             println(expr)\n",
    "#             println(\"multiplication!\")\n",
    "            result = separate_real_imaginary_mult(expr)\n",
    "#             println(\"result = $result\")\n",
    "        else\n",
    "#             println(expr)\n",
    "#             println(\"single term!\")\n",
    "            result = separate_real_imaginary_others(expr)\n",
    "#             println(\"result = $result\")\n",
    "        end\n",
    "        result = expand(result)\n",
    "        return real(result) + im*imag(result)\n",
    "        \n",
    "    else\n",
    "        throw(\"Delta has more than one variable\")\n",
    "    end\n",
    "end"
   ]
  },
  {
   "cell_type": "markdown",
   "metadata": {},
   "source": [
    "\\begin{align*}\n",
    "\\Delta(\\lambda)=\\lambda + 1 = x + iy + 1.\n",
    "\\end{align*}"
   ]
  },
  {
   "cell_type": "code",
   "execution_count": null,
   "metadata": {},
   "outputs": [],
   "source": [
    "lambda = symbols(\"lambda\")\n",
    "delta = lambda + 1\n",
    "separatedDelta = separate_real_imaginary(delta)"
   ]
  },
  {
   "cell_type": "markdown",
   "metadata": {},
   "source": [
    "\\begin{align*}\n",
    "\\Delta(\\lambda)=e^\\lambda = e^{x+iy}=e^x e^{iy} = e^x\\cos(y) + ie^x\\sin(y)).\n",
    "\\end{align*}"
   ]
  },
  {
   "cell_type": "code",
   "execution_count": null,
   "metadata": {},
   "outputs": [],
   "source": [
    "delta = e^(lambda)\n",
    "separatedDelta = separate_real_imaginary(delta)"
   ]
  },
  {
   "cell_type": "markdown",
   "metadata": {},
   "source": [
    "\\begin{align*}\n",
    "\\Delta(\\lambda) &= \\lambda^2 = (x+iy)^2 = x^2-y^2 + i2xy.\n",
    "\\end{align*}"
   ]
  },
  {
   "cell_type": "code",
   "execution_count": null,
   "metadata": {},
   "outputs": [],
   "source": [
    "delta = lambda^2\n",
    "separatedDelta = separate_real_imaginary(delta)"
   ]
  },
  {
   "cell_type": "markdown",
   "metadata": {},
   "source": [
    "\\begin{align*}\n",
    "    \\Delta(\\lambda) &= \\cos(\\lambda)\\\\\n",
    "    &= \\frac{1}{2}e^{i\\lambda} + \\frac{1}{2}e^{-i\\lambda}\\\\\n",
    "    &= \\frac{1}{2}e^{i(x+iy)} + \\frac{1}{2}e^{-i(x+iy)} \\\\\n",
    "    &= \\frac{1}{2}(e^{-y}e^{ix} + e^ye^{-ix})\\\\\n",
    "    &= \\frac{1}{2}e^{-y}(\\cos(x) + i\\sin(x)) + \\frac{1}{2}e^y(\\cos(x) - i\\sin(x))\\\\ \n",
    "    &= \\cos(x)\\cosh(y) - i\\sin(x)\\sinh(y)\n",
    "\\end{align*}"
   ]
  },
  {
   "cell_type": "code",
   "execution_count": null,
   "metadata": {},
   "outputs": [],
   "source": [
    "delta = cos(lambda)\n",
    "separatedDelta = separate_real_imaginary(delta)"
   ]
  },
  {
   "cell_type": "markdown",
   "metadata": {},
   "source": [
    "\\begin{align*}\n",
    "\\Delta(\\lambda) &= \\cos(\\lambda)e^\\lambda\\\\\n",
    "&= \\cos(x+iy)e^{x+iy}\\\\\n",
    "&= \\cos(x+iy)e^x e^{iy}\\\\\n",
    "&= \\left[\\cos(x)\\cosh(y) - i\\sin(x)\\sinh(y)\\right]e^x(\\cos(y) + i\\sin(y))\\\\\n",
    "&= e^x\\cos(x)\\cosh(y)\\cos(y) + e^x\\sin(x)\\sinh(y)\\sin(y) + i(e^x\\cos(x)\\cosh(y)\\sin(y)-e^x\\sin(x)\\sinh(y)\\cos(y)).\n",
    "\\end{align*}"
   ]
  },
  {
   "cell_type": "code",
   "execution_count": null,
   "metadata": {},
   "outputs": [],
   "source": [
    "delta = cos(lambda)*e^(lambda)\n",
    "separatedDelta = separate_real_imaginary(delta)"
   ]
  },
  {
   "cell_type": "markdown",
   "metadata": {},
   "source": [
    "\\begin{align*}\n",
    "\\Delta(\\lambda) &= (\\lambda^3 + \\lambda+2)e^\\lambda\n",
    "\\end{align*}"
   ]
  },
  {
   "cell_type": "code",
   "execution_count": null,
   "metadata": {},
   "outputs": [],
   "source": [
    "delta = (lambda^3+lambda+2)*e^(lambda)\n",
    "separatedDelta = separate_real_imaginary(delta)\n",
    "prettyPrint(separatedDelta)\n",
    "# Verified with WolframAlpha"
   ]
  },
  {
   "cell_type": "markdown",
   "metadata": {},
   "source": [
    "## `plot_levelCurves(separatedDelta; realFunc, imagFunc, xRange, yRange, step, width, height)`\n",
    "\n",
    "Plots the level curves $\\Re(\\Delta(\\lambda)) = 0$ and $\\Im(\\Delta(\\lambda)) = 0$ in the $\\Re-\\Im$ plane."
   ]
  },
  {
   "cell_type": "code",
   "execution_count": null,
   "metadata": {},
   "outputs": [],
   "source": [
    "function plot_levelCurves(separatedDelta::SymPy.Sym; realFunc = real(separatedDelta), imagFunc = imag(separatedDelta), xRange = (-INFTY, INFTY), yRange = (-INFTY, INFTY), step = INFTY/1000, width = 1500, height = 1000)\n",
    "    x = symbols(\"x\", real = true)\n",
    "    y = symbols(\"y\", real = true)\n",
    "    \n",
    "    xGridStep = (xRange[2] - xRange[1])/50\n",
    "    yGridStep = (yRange[2] - yRange[1])/50\n",
    "    if free_symbols(separatedDelta) == [x, y]\n",
    "        Plots.contour(xRange[1]:step:xRange[2], yRange[1]:step:yRange[2], realFunc, levels=[0], size = (width, height), tickfontsize = 20, seriescolor=:reds, transpose = false, linewidth = 4, linealpha = 1, xticks = xRange[1]:xGridStep:xRange[2], yticks = yRange[1]:yGridStep:yRange[2], grid = true, gridalpha = 0.5)\n",
    "        Plots.contour!(xRange[1]:step:xRange[2], yRange[1]:step:yRange[2], imagFunc, levels=[0], size = (width, height), tickfontsize = 20, seriescolor=:blues, transpose = false, linewidth = 4, linealpha = 1, xticks = xRange[1]:xGridStep:xRange[2], yticks = yRange[1]:yGridStep:yRange[2], grid = true, gridalpha = 0.5)\n",
    "    else\n",
    "        Plots.contour(xRange[1]:step:xRange[2], yRange[1]:step:yRange[2], realFunc, levels=[0], size = (width, height), tickfontsize = 20, seriescolor=:reds, transpose = true, linewidth = 4, linealpha = 1, xticks = xRange[1]:xGridStep:xRange[2], yticks = yRange[1]:yGridStep:yRange[2], grid = true, gridalpha = 0.5)\n",
    "        Plots.contour!(xRange[1]:step:xRange[2], yRange[1]:step:yRange[2], imagFunc, levels=[0], size = (width, height), tickfontsize = 20, seriescolor=:blues, transpose = true, linewidth = 4, linealpha = 1, xticks = xRange[1]:xGridStep:xRange[2], yticks = yRange[1]:yGridStep:yRange[2], grid = true, gridalpha = 0.5)\n",
    "    end\n",
    "end"
   ]
  },
  {
   "cell_type": "markdown",
   "metadata": {},
   "source": [
    "**Parameters**\n",
    "* `separatedDelta`: `SymPy.Sym`\n",
    "    * Symbolic expression of $\\Delta(\\lambda)$ with real and imaginary parts separated. Output of `separate_real_imaginary(delta)`.\n",
    "* `realFunc*`, `imagFunc*`: `SymPy.Sym` or `Function`\n",
    "    * Real and imaginary parts of $\\Delta(\\lambda)$. Default to `real(separatedDelta)` and `imag(separatedDelta)`. If input manually, they need to be functions in two variables $x$, $y$ where $\\lambda = x+iy$.\n",
    "* `xRange*`, `yRange*`: `Tuple{Number, Number}`\n",
    "    * Ranges of $\\Re(\\Delta(\\lambda))$ and $\\Im(\\Delta(\\lambda))$ in the plot. Default to `(-INFTY, INFTY)`.\n",
    "* `step*`: `Number`\n",
    "    * The distance between two points that are plotted as projected onto the `x` and `y` axes, i.e., the step in the sequence of points in `x` and `y` to be plotted.\n",
    "* `width*`, `height*`: `Number`\n",
    "    * Width and height of the plot.\n",
    "\n",
    "**Returns**\n",
    "* `plot_levelCurves`: `None`\n",
    "    * Plots the contour plots without returning them.\n",
    "\n",
    "**Example**"
   ]
  },
  {
   "cell_type": "code",
   "execution_count": null,
   "metadata": {},
   "outputs": [],
   "source": [
    "lambda = symbols(\"lambda\")\n",
    "delta = lambda + 1\n",
    "separatedDelta = separate_real_imaginary(delta)"
   ]
  },
  {
   "cell_type": "code",
   "execution_count": null,
   "metadata": {},
   "outputs": [],
   "source": [
    "# plot_levelCurves(separatedDelta) # somehow causes method error, probably because real(separatedDelta) is a function of x only and imag(separatedDelta) is a function of y only. In this case, we need to input the realFunc and imagFunc manually\n",
    "# plot_levelCurves(separatedDelta; realFunc = (x, y) -> x + 1, imagFunc = (x, y) -> y)"
   ]
  },
  {
   "cell_type": "code",
   "execution_count": null,
   "metadata": {},
   "outputs": [],
   "source": [
    "delta = e^(lambda)\n",
    "separatedDelta = separate_real_imaginary(delta)"
   ]
  },
  {
   "cell_type": "code",
   "execution_count": null,
   "metadata": {},
   "outputs": [],
   "source": [
    "# plot_levelCurves(separatedDelta)"
   ]
  },
  {
   "cell_type": "code",
   "execution_count": null,
   "metadata": {},
   "outputs": [],
   "source": [
    "delta = (lambda^3+lambda+2)*e^(lambda)\n",
    "separatedDelta = separate_real_imaginary(delta)\n",
    "prettyPrint(separatedDelta)"
   ]
  },
  {
   "cell_type": "code",
   "execution_count": null,
   "metadata": {},
   "outputs": [],
   "source": [
    "# plot_levelCurves(separatedDelta)"
   ]
  },
  {
   "cell_type": "markdown",
   "metadata": {},
   "source": [
    "## `approximate_root(separatedDelta; xRange, yRange, step)`\n",
    "\n",
    "Approximates a zero of $\\Delta(\\lambda)$ given a small range (upon inspecting the level curves)."
   ]
  },
  {
   "cell_type": "code",
   "execution_count": null,
   "metadata": {},
   "outputs": [],
   "source": [
    "function approximate_root(separatedDelta::SymPy.Sym; xRange::Tuple{Number,Number} = (-INFTY, INFTY), yRange::Tuple{Number,Number} = (-INFTY, INFTY), step::Number = TOL)\n",
    "    zeroCandidates = [(0.0,0.0)]\n",
    "    xList = xRange[1]:step:xRange[2]\n",
    "    yList = yRange[1]:step:yRange[2]\n",
    "    freeSymbols = free_symbols(separatedDelta)\n",
    "    x = freeSymbols[1]\n",
    "    y = freeSymbols[2]\n",
    "    for xVal in xList\n",
    "        for yVal in yList\n",
    "            realVal = subs(real(separatedDelta), (x, xVal), (y, yVal))\n",
    "            imagVal = subs(imag(separatedDelta), (x, xVal), (y, yVal))\n",
    "            println(\"realVal = $realVal; imagVal = $imagVal\")\n",
    "            if isapprox(realVal, 0; atol = step*2) && isapprox(imagVal, 0; atol = step*2)\n",
    "                println((xVal, yVal))\n",
    "                push!(zeroCandidates, (xVal, yVal))\n",
    "            end\n",
    "        end\n",
    "    end\n",
    "    deleteat!(zeroCandidates, 1)\n",
    "    # zeroCandidates = [(round(z1, DIGITS), round(z2, DIGITS)) for (z1,z2) in zeroCandidates]\n",
    "    zeroCandidates\n",
    "end"
   ]
  },
  {
   "cell_type": "markdown",
   "metadata": {},
   "source": [
    "**Parameters**\n",
    "* `separatedDelta`: `SymPy.Sym`\n",
    "    * Symbolic expression of $\\Delta(\\lambda)$ with real and imaginary parts separated. Output of `separate_real_imaginary(delta)`.\n",
    "* `xRange*`, `yRange*`: `Tuple{Number, Number}`\n",
    "    * Ranges of `x` and `y` to search for in the approximation. Default to `(-INFTY, INFTY)`.\n",
    "* `step*`: `Number`\n",
    "    * The interval of sampling in the approximation.\n",
    "\n",
    "**Returns**\n",
    "* `approximate_root`: `Array` of `Number`\n",
    "    * Returns an array of candidate zeroes of `separatedDelta`.\n",
    "\n",
    "**Example**"
   ]
  },
  {
   "cell_type": "code",
   "execution_count": null,
   "metadata": {},
   "outputs": [],
   "source": [
    "delta = (lambda^3+lambda+2)*e^(lambda)\n",
    "separatedDelta = separate_real_imaginary(delta)\n",
    "# plot_levelCurves(separatedDelta; width = 3000, height = 2000)"
   ]
  },
  {
   "cell_type": "code",
   "execution_count": null,
   "metadata": {},
   "outputs": [],
   "source": [
    "# approximate_root(separatedDelta; xRange = (0.4, 0.8), yRange = (1.2, 1.6))"
   ]
  },
  {
   "cell_type": "markdown",
   "metadata": {},
   "source": [
    "# The Fokas Transform pair\n",
    "\n",
    "Implement the transform pair (2.15a), (2.15b) on page 10 of \"Evolution PDEs and augmented eigenfunctions. Finite interval,\" given by\n",
    "\n",
    "\\begin{alignat*}{2}\n",
    "F_\\lambda: f(x)&\\mapsto F(\\lambda):\\quad F_\\lambda(f) &= \n",
    "\\begin{cases}\n",
    "F_\\lambda^+(f),&\\quad\\mbox{if $\\lambda\\in \\Gamma_0^+\\cup \\Gamma_a^+$}\\\\\n",
    "F_\\lambda^-(f),&\\quad\\mbox{if $\\lambda\\in \\Gamma_0^-\\cup \\Gamma_a^-$}\\\\\n",
    "\\end{cases}\\\\\n",
    "f_x: F(\\lambda)&\\mapsto f(x):\\quad f_x(F) &= \\int_\\Gamma e^{i\\lambda x}F(\\lambda)\\,d\\lambda,\\quad x\\in [0,1].\n",
    "\\end{alignat*}"
   ]
  },
  {
   "cell_type": "markdown",
   "metadata": {},
   "source": [
    "## `check_boundaryConditions(Ux)`\n",
    "\n",
    "Checks whether $Ux\\approx 0$."
   ]
  },
  {
   "cell_type": "code",
   "execution_count": null,
   "metadata": {},
   "outputs": [],
   "source": [
    "function check_boundaryConditions(Ux::Array)\n",
    "    return check_all(Ux, x->is_approx(x, 0))\n",
    "end"
   ]
  },
  {
   "cell_type": "markdown",
   "metadata": {},
   "source": [
    "**Parameters**\n",
    "* `Ux`: `Array`\n",
    "    * Output of `get_Ux()`.\n",
    "\n",
    "**Returns**\n",
    "* `check_boundaryCondition`: `Array`\n",
    "    * Returns `true` if all entries of `Ux` are approximately `0` within a tolerance (`TOL`) and `false` otherwise.\n",
    "\n",
    "**Example**"
   ]
  },
  {
   "cell_type": "code",
   "execution_count": null,
   "metadata": {},
   "outputs": [],
   "source": [
    "Ux = [1; 0; 0]\n",
    "check_boundaryConditions(Ux)"
   ]
  },
  {
   "cell_type": "markdown",
   "metadata": {},
   "source": [
    "## `get_input(a, S, f, B)`\n",
    "\n",
    "Define $n$ linearly independent boundary forms $\\{B_j: C\\to\\mathbb{C}\\mid j\\in\\{1,2,\\ldots,n\\}\\}$\n",
    "\\begin{align*}\n",
    "B_j\\phi &= \\sum_{k=0}^{n-1} \\left(b_{jk}\\phi^{(k)}(0) + \\beta_{jk}\\phi^{(k)}(1)\\right),\\quad j\\in \\{1,2,\\ldots, n\\}.\n",
    "\\end{align*}\n",
    "Define \n",
    "\\begin{align*}\n",
    "\\Phi &= \\{\\phi\\in C: B_j\\phi = 0\\,\\forall j \\in \\{1,2,\\ldots, n\\}\\}.\n",
    "\\end{align*}\n",
    "Let $S:\\Phi\\to C$ be the linear differential operator \n",
    "$$S\\phi(x) = (-i)^n \\phi^{(n)}(x).$$\n",
    "\n",
    "Let $a\\in\\mathbb{C}$ be a constant.\n",
    "\n",
    "Given the IBVP\n",
    "\\begin{alignat*}{2}\n",
    "(\\partial_t + aS)q(x,t) &= 0,\\quad&(x,t)\\in (0,1)\\times (0,T)\\\\\n",
    "q(x,0) = f(x)&\\in\\Phi,\\quad &x\\in [0,1]\\\\\n",
    "q(\\cdot, t) &\\in\\Phi,\\quad &t\\in [0,T],\n",
    "\\end{alignat*}\n",
    "constructs the algorithm inputs `LinearDifferentialOperator` $L$, `VectorBoundaryForm` $U$, and function $f(x)$."
   ]
  },
  {
   "cell_type": "code",
   "execution_count": null,
   "metadata": {},
   "outputs": [],
   "source": [
    "function get_input(a::Number, S::LinearDifferentialOperator, fSym::Union{SymPy.Sym, Number}, B::VectorBoundaryForm)\n",
    "#     pFunctions = [mult_func(a, func) for func in S.pFunctions]\n",
    "#     (a,b) = (a*S.a, a*S.b)\n",
    "#     symPFunctions = [a*symFunc for symFunc in (S.symL).symPFunctions]\n",
    "#     t = (S.symL).t\n",
    "#     symL = SymLinearDifferentialOperator(symPFunctions, (a,b), t)\n",
    "#     L = LinearDifferentialOperator(pFunctions, (a,b), symL)\n",
    "    L = S\n",
    "    U = B\n",
    "    # Checks whether f satisfies the homogeneous boundary conditions\n",
    "    Ux = get_Ux(L, U; symbolic = false, xSym = fSym)\n",
    "    if !check_boundaryConditions(Ux)\n",
    "        throw(error(\"f does not satisfy the homogeneous boundary conditions\"))\n",
    "    else\n",
    "        f = sym_to_func(fSym)\n",
    "    end\n",
    "    return (L, U, f)\n",
    "end"
   ]
  },
  {
   "cell_type": "markdown",
   "metadata": {},
   "source": [
    "**Parameters**\n",
    "* `a`: `Number`\n",
    "    * Complex number such that if $n$ is odd then $a=\\pm i$ and if $n$ is even then $\\Re(a)\\geq 0$.\n",
    "* `S`: `LinearDifferentialOperator`\n",
    "    * Linear differential operator in the spatial variable $x$.\n",
    "* `f`: `Function` or `Number`\n",
    "    * Initial data $q(x,0)$ that satisfies the boundary conditions $\\Phi$.\n",
    "* `B`: `VectorBoundaryForm`\n",
    "    * Vector boundary form associated with two matrices $b$ and $\\beta$ whose $jk$-entries are $b_{jk}$ and $\\beta_{jk}$, respectively.\n",
    "\n",
    "**Returns**\n",
    "* `get_input`: `Tuple{LinearDifferentialOperator, VectorBoundaryForm, Union{Function, Number}}`\n",
    "    * Returns the objects `LinearDifferentialOperator` $L$, `VectorBoundaryForm` $U$, and function $f(x)$ used in the algorithm to construct the Fokas transform pairs.\n",
    "\n",
    "**Example**"
   ]
  },
  {
   "cell_type": "markdown",
   "metadata": {},
   "source": [
    "Suppose $n=2$. Then\n",
    "$$S\\phi(x)= (-i)^2 \\phi^{(2)}(x) = -\\phi^{(2)}.$$\n",
    "Suppose $a=e^{i\\theta}$ for $\\theta\\in [-\\frac{\\pi}{2}, \\frac{\\pi}{2}]$. \n",
    "\n",
    "For $\\beta_0, \\beta_1\\in\\hat{\\mathbb{C}}$ ($\\mathbb{C}$ including $0$ and $\\infty$), consider the following boundary conditions $\\Phi$:\n",
    "\\begin{align*}\n",
    "\\varphi(0) + \\beta_0\\varphi(1) &= 0\\\\\n",
    "\\varphi'(0) + \\beta_1\\varphi'(1) &= 0.\n",
    "\\end{align*}\n",
    "\n",
    "We note that in complete form,\n",
    "* $S$ is given by\n",
    "$$S\\phi = p_0 \\phi^{(2)} + p_1 \\phi^{(1)} + p_2 \\phi^{(0)}$$\n",
    "where $p_0=-1$, $p_1=p_2=0$.\n",
    "* $\\Phi$ is given by \n",
    "\\begin{align*}\n",
    "1\\cdot \\varphi(0) + \\beta_0\\cdot \\varphi(1) + 0\\cdot \\varphi^{(1)}(0) + 0\\cdot \\varphi^{(1)}(1) &= 0\\\\\n",
    "0\\cdot \\varphi(0) + 0\\cdot \\varphi(1) + 1\\cdot \\varphi^{(1)}(0) + \\beta_1\\cdot \\varphi^{(1)}(1) &= 0.\n",
    "\\end{align*}\n",
    "Thus,\n",
    "$$b = \\begin{bmatrix}1&0\\\\0&1\\end{bmatrix},\\quad \\beta = \\begin{bmatrix}\\beta_0&0\\\\0&\\beta_1\\end{bmatrix}.$$"
   ]
  },
  {
   "cell_type": "code",
   "execution_count": null,
   "metadata": {},
   "outputs": [],
   "source": [
    "beta0 = 1\n",
    "beta1 = 1+im\n",
    "theta = 0\n",
    "a = e^(im*theta)\n",
    "x = symbols(\"x\")\n",
    "# fSym = x\n",
    "fSym = 0"
   ]
  },
  {
   "cell_type": "code",
   "execution_count": null,
   "metadata": {},
   "outputs": [],
   "source": [
    "t = symbols(\"t\")\n",
    "symPFunctions = [-1 0 0]\n",
    "interval = (0,1)\n",
    "symL = SymLinearDifferentialOperator(symPFunctions, interval, t)\n",
    "S = get_L(symL)\n",
    "b = [1 0; 0 1]\n",
    "beta = [beta0 0; 0 beta1]\n",
    "B = VectorBoundaryForm(b, beta)\n",
    "get_input(a, S, fSym, B)"
   ]
  },
  {
   "cell_type": "markdown",
   "metadata": {},
   "source": [
    "Now, for $b_0, b_1\\in\\hat{\\mathbb{C}}$, consider the following boundary conditions $\\Phi$:\n",
    "\\begin{align*}\n",
    "\\varphi(0) + b_0\\varphi'(0) &= 0\\\\\n",
    "\\varphi(1) + b_1\\varphi'(1) &= 0.\n",
    "\\end{align*}\n",
    "We note that in complete form,\n",
    "* $\\Phi$ is given by \n",
    "\\begin{align*}\n",
    "1\\cdot \\varphi(0) + 0\\cdot \\varphi(1) + b_0\\cdot \\varphi^{(1)}(0) + 0\\cdot \\varphi^{(1)}(1) &= 0\\\\\n",
    "0\\cdot \\varphi(0) + 1\\cdot \\varphi(1) + 0\\cdot \\varphi^{(1)}(0) + b_1\\cdot \\varphi^{(1)}(1) &= 0.\n",
    "\\end{align*}\n",
    "Thus,\n",
    "$$b = \\begin{bmatrix}1&b_0\\\\ 0&0\\end{bmatrix},\\quad \\beta = \\begin{bmatrix}0&0\\\\ 1&b_1\\end{bmatrix}.$$"
   ]
  },
  {
   "cell_type": "code",
   "execution_count": null,
   "metadata": {},
   "outputs": [],
   "source": [
    "b0 = 1\n",
    "b1 = 1+im\n",
    "theta = 0\n",
    "a = e^(im*theta)\n",
    "x = symbols(\"x\")\n",
    "fSym = 0"
   ]
  },
  {
   "cell_type": "code",
   "execution_count": null,
   "metadata": {},
   "outputs": [],
   "source": [
    "b = [1 b0; 0 0]\n",
    "beta = [0 0; 1 b1]\n",
    "B = VectorBoundaryForm(b, beta)\n",
    "get_input(a, S, fSym, B)"
   ]
  },
  {
   "cell_type": "markdown",
   "metadata": {},
   "source": [
    "Now suppose $n=3$. Then \n",
    "$$S\\phi(x) = (-i)^3 \\phi^{(3)}(x) = i\\phi^{(3)}.$$\n",
    "Suppose $a=\\pm i$.\n",
    "\n",
    "For $\\beta_0, \\beta_1, \\beta_2\\in\\hat{\\mathbb{C}}$ ($\\mathbb{C}$ including $0$ and $\\infty$), consider the following boundary conditions $\\Phi$:\n",
    "\\begin{align*}\n",
    "\\phi(0) + \\beta_0\\phi(1) &= 0\\\\\n",
    "\\phi^{(1)}(0) + \\beta_1\\phi^{(1)}(1) &= 0\\\\\n",
    "\\phi^{(2)}(0) + \\beta_2\\phi^{(2)}(1) &= 0.\n",
    "\\end{align*}\n",
    "\n",
    "We note that in complete form,\n",
    "* $S$ is given by\n",
    "$$S\\phi = p_0 \\phi^{(3)} + p_1 \\phi^{(2)} + p_2 \\phi^{(1)} + p_3\\phi$$\n",
    "where $p_0=i$, $p_1=p_2=p_3=0$.\n",
    "* $\\Phi$ is given by \n",
    "\\begin{align*}\n",
    "1\\cdot \\phi(0) + \\beta_0\\cdot \\phi(1) + 0\\cdot \\phi^{(1)}(0) + 0\\cdot\\phi^{(1)}(1) + 0\\cdot \\phi^{(2)}(0) + 0\\cdot\\phi^{(2)}(1) &= 0\\\\\n",
    "0\\cdot \\phi(0) + 0\\cdot \\phi(1) + 1\\cdot \\phi^{(1)}(0) + \\beta_1\\cdot \\phi^{(1)}(1) + 0\\cdot \\phi^{(2)}(0) + 0\\cdot\\phi^{(2)}(1) &= 0\\\\\n",
    "0\\cdot \\phi(0) + 0\\cdot \\phi(1) + 0\\cdot \\phi^{(1)}(0) + 0\\cdot \\phi^{(1)}(1) + 1\\cdot \\phi^{(2)}(0) + \\beta_2\\cdot \\phi^{(2)}(1) &= 0.\n",
    "\\end{align*}\n",
    "Thus,\n",
    "$$b = \\begin{bmatrix}1&0&0\\\\0&1&0\\\\ 0&0&1\\end{bmatrix},\\quad \\beta = \\begin{bmatrix}\\beta_0&0&0\\\\0&\\beta_1&0\\\\ 0&0&\\beta_2\\end{bmatrix}.$$"
   ]
  },
  {
   "cell_type": "code",
   "execution_count": null,
   "metadata": {},
   "outputs": [],
   "source": [
    "beta0 = 1\n",
    "beta1 = 1+im\n",
    "beta2 = 2\n",
    "theta = 0\n",
    "a = im\n",
    "x = symbols(\"x\")\n",
    "fSym = 0"
   ]
  },
  {
   "cell_type": "code",
   "execution_count": null,
   "metadata": {},
   "outputs": [],
   "source": [
    "t = symbols(\"t\")\n",
    "symPFunctions = [im 0 0 0]\n",
    "interval = (0,1)\n",
    "symL = SymLinearDifferentialOperator(symPFunctions, interval, t)\n",
    "S = get_L(symL)\n",
    "b = [1 0 0; 0 1 0; 0 0 1]\n",
    "beta = [beta0 0 0; 0 beta1 0; 0 0 beta2]\n",
    "B = VectorBoundaryForm(b, beta)\n",
    "get_input(a, S, fSym, B)"
   ]
  },
  {
   "cell_type": "markdown",
   "metadata": {},
   "source": [
    "Now, for $b_0\\in\\hat{\\mathbb{C}}$, consider the following boundary conditions $\\Phi$:\n",
    "\\begin{align*}\n",
    "\\varphi(0) &= 0\\\\\n",
    "\\varphi(1) &= 1\\\\\n",
    "\\varphi^{(1)}(0) + b_0\\varphi^{(1)}(1) &= 0.\n",
    "\\end{align*}\n",
    "We note that in complete form,\n",
    "* $\\Phi$ is given by \n",
    "\\begin{align*}\n",
    "1\\cdot \\varphi(0) + 0\\cdot \\varphi(1) + 0\\cdot \\varphi^{(1)}(0) + 0\\cdot \\varphi^{(1)}(1) +  0\\cdot \\varphi^{(2)}(0) + 0\\cdot \\varphi^{(2)}(1)&= 0\\\\\n",
    "0\\cdot \\varphi(0) + 1\\cdot \\varphi(1) + 0\\cdot \\varphi^{(1)}(0) + 0\\cdot \\varphi^{(1)}(1) +  0\\cdot \\varphi^{(2)}(0) + 0\\cdot \\varphi^{(2)}(1)&= 0\\\\\n",
    "0\\cdot \\varphi(0) + 0\\cdot \\varphi(1) + 1\\cdot \\varphi^{(1)}(0) + b_0\\cdot \\varphi^{(1)}(1) +  0\\cdot \\varphi^{(2)}(0) + 0\\cdot \\varphi^{(2)}(1)&= 0\n",
    "\\end{align*}\n",
    "Thus,\n",
    "$$b = \\begin{bmatrix}1&0&0\\\\ 0&0&0\\\\ 0&1&0\\end{bmatrix},\\quad \\beta = \\begin{bmatrix}0&0&0\\\\ 1&0&0\\\\ 0&b_0&0\\end{bmatrix}.$$"
   ]
  },
  {
   "cell_type": "code",
   "execution_count": null,
   "metadata": {},
   "outputs": [],
   "source": [
    "b0 = im\n",
    "b = [1 0 0; 0 0 0; 0 1 0]\n",
    "beta = [0 0 0; 1 0 0; 0 b0 0]\n",
    "B = VectorBoundaryForm(b, beta)\n",
    "get_input(a, S, fSym, B)"
   ]
  },
  {
   "cell_type": "markdown",
   "metadata": {},
   "source": [
    "## `get_MPlusMinus(adjointU; symbolic)`\n",
    "\n",
    "Let $\\alpha=e^{2\\pi i/n}$; given adjoint vector boundary form associated with two matrices $b^\\star$, $\\beta^\\star$, computes matrices $M^+(\\lambda)$, $M^-(\\lambda)$ given by\n",
    "\\begin{align*}\n",
    "M^+_{kj}(\\lambda) &= \\sum_{r=0}^{n-1}(-i\\alpha^{k-1}\\lambda)^rb^\\star_{jr}\\\\\n",
    "M^-_{kj}(\\lambda) &= \\sum_{r=0}^{n-1}(-i\\alpha^{k-1}\\lambda)^r\\beta^\\star_{jr}\n",
    "\\end{align*}\n",
    "as functions of $\\lambda$ (for fixed $b^\\star$, $\\beta^\\star$) or their symbolic expressions."
   ]
  },
  {
   "cell_type": "code",
   "execution_count": null,
   "metadata": {},
   "outputs": [],
   "source": [
    "function get_MPlusMinus(adjointU::VectorBoundaryForm; symbolic = false)\n",
    "    # these are numeric matrices\n",
    "    bStar, betaStar = adjointU.M, adjointU.N\n",
    "    n = size(bStar)[1]\n",
    "    if symbolic\n",
    "        # return MPlus and MMinus as symbolic expressions with (the global variable) lambda as free variable\n",
    "        lambda = symbols(\"lambda\")\n",
    "        alpha = e^(2*PI*im/n)\n",
    "        MPlusMat = Array{SymPy.Sym}(n,n)\n",
    "        for k = 1:n\n",
    "            for j = 1:n\n",
    "                sumPlus = 0\n",
    "                for r = 0:(n-1)\n",
    "                    summandPlus = (-im*alpha^(k-1)*lambda)^r * bStar[j,r+1]\n",
    "                    summandPlus = expand(summandPlus)\n",
    "                    sumPlus += summandPlus\n",
    "                end\n",
    "                # sumPlus = simplify(prettyPrint(sumPlus))\n",
    "                MPlusMat[k,j] = sumPlus\n",
    "            end\n",
    "        end\n",
    "        MPlusSym = MPlusMat\n",
    "        MMinusMat = Array{SymPy.Sym}(n,n)\n",
    "        for k = 1:n\n",
    "            for j = 1:n\n",
    "                sumMinus = 0\n",
    "                for r = 0:(n-1)\n",
    "                    summandMinus = (-im*alpha^(k-1)*lambda)^r * betaStar[j,r+1]\n",
    "                    summandMinus = expand(summandMinus)\n",
    "                    sumMinus += summandMinus\n",
    "                end\n",
    "                # sumMinus = simplify(prettyPrint(sumMinus))\n",
    "                MMinusMat[k,j] = sumMinus\n",
    "            end\n",
    "        end\n",
    "        MMinusSym = MMinusMat\n",
    "        return (MPlusSym, MMinusSym)\n",
    "    else\n",
    "        alpha = e^(2pi*im/n)\n",
    "        # if not symbolic, return MPlus and MMinus as functions of lambda\n",
    "        function MPlus(lambda::Number)\n",
    "            MPlusMat = Array{Number}(n,n)\n",
    "            for k = 1:n\n",
    "                for j = 1:n\n",
    "                    sumPlus = 0\n",
    "                    for r = 0:(n-1)\n",
    "                        summandPlus = (-im*alpha^(k-1)*lambda)^r * bStar[j,r+1]\n",
    "                        sumPlus += summandPlus\n",
    "                    end\n",
    "                    MPlusMat[k,j] = sumPlus\n",
    "                end\n",
    "            end\n",
    "            return MPlusMat\n",
    "        end\n",
    "        function MMinus(lambda::Number)\n",
    "            MMinusMat = Array{Number}(n,n)\n",
    "            for k = 1:n\n",
    "                for j = 1:n\n",
    "                    sumMinus = 0\n",
    "                    for r = 0:(n-1)\n",
    "                        summandMinus = (-im*alpha^(k-1)*lambda)^r * betaStar[j,r+1]\n",
    "                        sumMinus += summandMinus\n",
    "                    end\n",
    "                    MMinusMat[k,j] = sumMinus\n",
    "                end\n",
    "            end\n",
    "            return MMinusMat\n",
    "        end\n",
    "    end\n",
    "    return (MPlus, MMinus)\n",
    "end"
   ]
  },
  {
   "cell_type": "markdown",
   "metadata": {},
   "source": [
    "**Parameters**\n",
    "* `adjointU`: `VectorBoundaryForm`\n",
    "    * Output of `get_adjointU()`.\n",
    "* `symbolic`: `Bool`\n",
    "    * Boolean indicating whether the output is symbolic.\n",
    "\n",
    "**Returns**\n",
    "* `get_MPlusMinus`: `Function` or `SymPy.Sym`\n",
    "    * Returns $M^+(\\lambda)$, $M^-(\\lambda)$ as functions if `symbolic = false` and as symbolic expressions if `symbolic = true`.\n",
    "\n",
    "**Example**\n",
    "<!-- * $$b^\\star = \\begin{bmatrix}-1&0\\\\0&0\\end{bmatrix},\\quad \\beta^\\star = \\begin{bmatrix}0&0\\\\2&-1\\end{bmatrix}.$$\n",
    "Then\n",
    "\\begin{align*}\n",
    "M^+_{11} &= \\sum_{r=0}^{2-1}(-i\\left(e^{2\\pi i/2}\\right)^{1-1}\\lambda)^rb^\\star_{1(r+1)} = (-i\\lambda)^0\\cdot b^\\star_{11} +(-i\\lambda)\\cdot b^\\star_{12} = -1 + 0 = -1\\\\\n",
    "M^+_{12} &= \\sum_{r=0}^{2-1}(-i\\left(e^{2\\pi i/2}\\right)^{1-1}\\lambda)^rb^\\star_{2(r+1)} = (-i\\lambda)^0\\cdot b^\\star_{21} + (-i\\lambda)\\cdot b^\\star_{22} = 0 + 0 = 0\\\\\n",
    "M^+_{21} &= \\sum_{r=0}^{2-1}(-i\\left(e^{2\\pi i/2}\\right)^{2-1}\\lambda)^rb^\\star_{1(r+1)} = (-ie^{\\pi i}\\lambda)^0\\cdot b^\\star_{11} + (-ie^{\\pi i}\\lambda)\\cdot b^\\star_{12} = -1 + 0 = -1\\\\\n",
    "M^+_{22} &= \\sum_{r=0}^{2-1}(-i\\left(e^{2\\pi i/2}\\right)^{2-1}\\lambda)^rb^\\star_{2(r+1)} = (-ie^{\\pi i}\\lambda)^0 b^\\star_{21} + (-ie^{\\pi i}\\lambda)\\cdot b^\\star_{22} = 0 + 0 = 0,\n",
    "\\end{align*}\n",
    "and\n",
    "\\begin{align*}\n",
    "M^-_{11} &= \\sum_{r=0}^{2-1}(-i\\left(e^{2\\pi i/2}\\right)^{1-1}\\lambda)^r\\beta^\\star_{1(r+1)} = (-i\\lambda)^0\\cdot \\beta^\\star_{11} + (-i\\lambda)\\cdot \\beta^\\star_{12} = 0 + 0 = 0\\\\\n",
    "M^-_{12} &= \\sum_{r=0}^{2-1}(-i\\left(e^{2\\pi i/2}\\right)^{1-1}\\lambda)^r\\beta^\\star_{2(r+1)} = (-i\\lambda)^0\\cdot \\beta^\\star_{21} + (-i\\lambda)\\cdot \\beta^\\star_{22} = 2 + (-i\\lambda)\\cdot (-1) = 2+i\\lambda\\\\\n",
    "M^-_{21} &= \\sum_{r=0}^{2-1}(-i\\left(e^{2\\pi i/2}\\right)^{2-1}\\lambda)^r\\beta^\\star_{1(r+1)} = (-ie^{\\pi i}\\lambda)^0\\cdot\\beta^\\star_{11} + (-ie^{\\pi i}\\lambda)\\cdot \\beta^\\star_{12} = 0 + 0 = 0\\\\\n",
    "M^-_{22} &= \\sum_{r=0}^{2-1}(-i\\left(e^{2\\pi i/2}\\right)^{2-1}\\lambda)^r\\beta^\\star_{2(r+1)} = (-ie^{\\pi i}\\lambda)^0\\cdot \\beta^\\star_{21} + (-ie^{\\pi i}\\lambda)\\cdot \\beta^\\star_{22} = 2 - i\\lambda.\n",
    "\\end{align*} -->"
   ]
  },
  {
   "cell_type": "code",
   "execution_count": null,
   "metadata": {},
   "outputs": [],
   "source": [
    "t = symbols(\"t\")\n",
    "symPFunctions = [1 t+1 t^2+t+1]\n",
    "interval = (0, 1)\n",
    "symL = SymLinearDifferentialOperator(symPFunctions, interval, t)\n",
    "L = get_L(symL)\n",
    "\n",
    "M = [1 0; 2 0]\n",
    "N = [0 2; 0 1]\n",
    "U = VectorBoundaryForm(M, N)\n",
    "\n",
    "adjointU = get_adjointU(L, U)"
   ]
  },
  {
   "cell_type": "code",
   "execution_count": null,
   "metadata": {},
   "outputs": [],
   "source": [
    "get_MPlusMinus(adjointU; symbolic = true)"
   ]
  },
  {
   "cell_type": "code",
   "execution_count": null,
   "metadata": {},
   "outputs": [],
   "source": [
    "get_MPlusMinus(adjointU; symbolic = false)"
   ]
  },
  {
   "cell_type": "markdown",
   "metadata": {},
   "source": [
    "## `get_M(adjointU; symbolic)`\n",
    "\n",
    "Computes $M$ given by\n",
    "$$M_{kj}(\\lambda) = M^+_{kj}(\\lambda) + M^-_{kj}(\\lambda)e^{-i\\alpha^{k-1}\\lambda}$$\n",
    "as a function of $\\lambda$ or its symbolic expression."
   ]
  },
  {
   "cell_type": "code",
   "execution_count": null,
   "metadata": {},
   "outputs": [],
   "source": [
    "function get_M(adjointU::VectorBoundaryForm; symbolic = false)\n",
    "    bStar, betaStar = adjointU.M, adjointU.N\n",
    "    n = size(bStar)[1]\n",
    "    if symbolic\n",
    "        # return M as a symbolic expression with lambda as free variable\n",
    "        lambda = symbols(\"lambda\")\n",
    "        alpha = e^(2*PI*im/n)\n",
    "        (MPlusSym, MMinusSym) = get_MPlusMinus(adjointU; symbolic = true)\n",
    "        MLambdaSym = Array{SymPy.Sym}(n,n)\n",
    "        for k = 1:n\n",
    "            for j = 1:n\n",
    "                MLambdaSym[k,j] = simplify(MPlusSym[k,j] + MMinusSym[k,j] * e^(-im*alpha^(k-1)*lambda))\n",
    "            end\n",
    "        end\n",
    "        MSym = MLambdaSym\n",
    "        return MSym\n",
    "    else\n",
    "        alpha = e^(2pi*im/n)\n",
    "        function M(lambda::Number)\n",
    "            (MPlus, MMinus) = get_MPlusMinus(adjointU)\n",
    "            MPlusLambda, MMinusLambda = MPlus(lambda), MMinus(lambda)\n",
    "            MLambda = Array{Number}(n,n)\n",
    "            for k = 1:n\n",
    "                for j = 1:n\n",
    "                    MLambda[k,j] = MPlusLambda[k,j] + MMinusLambda[k,j] * e^(-im*alpha^(k-1)*lambda)\n",
    "                end\n",
    "            end\n",
    "            return MLambda\n",
    "        end\n",
    "        return M \n",
    "    end\n",
    "end"
   ]
  },
  {
   "cell_type": "markdown",
   "metadata": {},
   "source": [
    "**Parameters**\n",
    "* `adjointU`: `VectorBoundaryForm`\n",
    "    * Output of `get_adjointU()`.\n",
    "* `symbolic`: `Bool`\n",
    "    * Boolean indicating whether the output is symbolic.\n",
    "\n",
    "**Returns**\n",
    "* `get_M`: `Function` or `SymPy.Sym`\n",
    "    * Returns $M(\\lambda)$ as function if `symbolic = false` and as symbolic expression if `symbolic = true`.\n",
    "\n",
    "**Example**"
   ]
  },
  {
   "cell_type": "code",
   "execution_count": null,
   "metadata": {},
   "outputs": [],
   "source": [
    "t = symbols(\"t\")\n",
    "symPFunctions = [1 t+1 t^2+t+1]\n",
    "interval = (0, 1)\n",
    "symL = SymLinearDifferentialOperator(symPFunctions, interval, t)\n",
    "L = get_L(symL)\n",
    "\n",
    "M = [1 0; 2 0]\n",
    "N = [0 2; 0 1]\n",
    "U = VectorBoundaryForm(M, N)\n",
    "\n",
    "adjointU = get_adjointU(L, U)"
   ]
  },
  {
   "cell_type": "code",
   "execution_count": null,
   "metadata": {},
   "outputs": [],
   "source": [
    "prettyPrint.(get_M(adjointU; symbolic = true))"
   ]
  },
  {
   "cell_type": "code",
   "execution_count": null,
   "metadata": {},
   "outputs": [],
   "source": [
    "get_M(adjointU; symbolic = false)(1)"
   ]
  },
  {
   "cell_type": "markdown",
   "metadata": {},
   "source": [
    "## `get_delta(adjointU; symbolic)`\n",
    "\n",
    "Computes $\\Delta := \\det(M)$ as a function of $\\lambda$ (for fixed `adjointU`) or its symbolic expression."
   ]
  },
  {
   "cell_type": "code",
   "execution_count": null,
   "metadata": {},
   "outputs": [],
   "source": [
    "function get_delta(adjointU::VectorBoundaryForm; symbolic = false)\n",
    "    if symbolic\n",
    "        MSym = get_M(adjointU; symbolic = true)\n",
    "        deltaSym = simplify(SymPy.det(MSym))\n",
    "        return deltaSym\n",
    "    else\n",
    "       function delta(lambda::Number)\n",
    "            M = get_M(adjointU)\n",
    "            MLambda = convert(Array{Complex}, M(lambda))\n",
    "            return det(MLambda)\n",
    "        end\n",
    "        return delta \n",
    "    end\n",
    "end"
   ]
  },
  {
   "cell_type": "markdown",
   "metadata": {},
   "source": [
    "**Parameters**\n",
    "* `adjointU`: `VectorBoundaryForm`\n",
    "    * Output of `get_adjointU()`.\n",
    "* `symbolic`: `Bool`\n",
    "    * Boolean indicating whether the output is symbolic.\n",
    "\n",
    "**Returns**\n",
    "* `get_delta`: `Function` or `SymPy.Sym`\n",
    "    * Returns $\\Delta(\\lambda)$ as function if `symbolic = false` and as symbolic expression if `symbolic = true`.\n",
    "\n",
    "**Example**"
   ]
  },
  {
   "cell_type": "code",
   "execution_count": null,
   "metadata": {},
   "outputs": [],
   "source": [
    "t = symbols(\"t\")\n",
    "symPFunctions = [1 t+1 t^2+t+1]\n",
    "interval = (0, 1)\n",
    "symL = SymLinearDifferentialOperator(symPFunctions, interval, t)\n",
    "L = get_L(symL)\n",
    "\n",
    "M = [1 0; 2 0]\n",
    "N = [0 2; 0 1]\n",
    "U = VectorBoundaryForm(M, N)\n",
    "\n",
    "adjointU = get_adjointU(L, U)"
   ]
  },
  {
   "cell_type": "code",
   "execution_count": null,
   "metadata": {},
   "outputs": [],
   "source": [
    "prettyPrint(get_delta(adjointU; symbolic = true))"
   ]
  },
  {
   "cell_type": "code",
   "execution_count": null,
   "metadata": {},
   "outputs": [],
   "source": [
    "get_delta(adjointU; symbolic = false)"
   ]
  },
  {
   "cell_type": "markdown",
   "metadata": {},
   "source": [
    "## `get_Xlj(adjointU, l, j; symbolic)`\n",
    "\n",
    "Gets $X_{lj}$, which is the $(n-1)\\times (n-1)$ submatrix of $M(\\lambda)$ whose $11$-entry is the $(l+1)(j+1)$-entry of $M(\\lambda)$, as a function of $\\lambda$ (for fixed `adjointU`, $M$, $l$, $j$), or its symbolic expression."
   ]
  },
  {
   "cell_type": "code",
   "execution_count": null,
   "metadata": {},
   "outputs": [],
   "source": [
    "function get_Xlj(adjointU::VectorBoundaryForm, l::Number, j::Number; symbolic = false)\n",
    "    bStar, betaStar = adjointU.M, adjointU.N\n",
    "    n = size(bStar)[1]\n",
    "    if symbolic\n",
    "        MSym = get_M(adjointU; symbolic = true)\n",
    "        MBlockSym = [MSym MSym; MSym MSym]\n",
    "        XljSym = MBlockSym[(l+1):(l+1+n-2), (j+1):(j+1+n-2)]\n",
    "        return XljSym\n",
    "    else\n",
    "        M = get_M(adjointU; symbolic = false)\n",
    "        function Xlj(lambda::Number)\n",
    "            MLambda = M(lambda)\n",
    "            MLambdaBlock = [MLambda MLambda; MLambda MLambda]\n",
    "            XljLambda = MLambdaBlock[(l+1):(l+1+n-2), (j+1):(j+1+n-2)]\n",
    "            return XljLambda\n",
    "        end\n",
    "        return Xlj \n",
    "    end\n",
    "end"
   ]
  },
  {
   "cell_type": "markdown",
   "metadata": {},
   "source": [
    "**Parameters**\n",
    "* `adjointU`: `VectorBoundaryForm`\n",
    "    * Output of `get_adjointU()`.\n",
    "* `l`, `j`: `Int`\n",
    "    * Indices specifying the submatrix of $M$ that is $X_{lj}$.\n",
    "* `symbolic*`: `Bool`\n",
    "    * Boolean indicating whether the output is symbolic.\n",
    "\n",
    "**Returns**\n",
    "* `get_Xlj`: `Array` of `Function` or `SymPy.Sym`\n",
    "    * Returns $X_{lj}(\\delta)$ as a matrix of functions if `symbolic = false` and as symbolic expressions if `symbolic = true`.\n",
    "\n",
    "**Example**"
   ]
  },
  {
   "cell_type": "code",
   "execution_count": null,
   "metadata": {},
   "outputs": [],
   "source": [
    "t = symbols(\"t\")\n",
    "symPFunctions = [1 t+1 t^2+t+1]\n",
    "interval = (0, 1)\n",
    "symL = SymLinearDifferentialOperator(symPFunctions, interval, t)\n",
    "L = get_L(symL)\n",
    "\n",
    "M = [1 0; 2 0]\n",
    "N = [0 2; 0 1]\n",
    "U = VectorBoundaryForm(M, N)\n",
    "\n",
    "adjointU = get_adjointU(L, U)\n",
    "\n",
    "l, j = 1, 1\n",
    "prettyPrint.(get_Xlj(adjointU, l, j; symbolic = true))"
   ]
  },
  {
   "cell_type": "code",
   "execution_count": null,
   "metadata": {},
   "outputs": [],
   "source": [
    "get_Xlj(adjointU, l, j; symbolic = false)"
   ]
  },
  {
   "cell_type": "markdown",
   "metadata": {},
   "source": [
    "## `get_ChebyshevIntegral(l, f; symbolic, lambda, alpha)`\n",
    "\n",
    "Computes\n",
    "$$\\int_0^1 e^{-i\\alpha^{l-1}\\lambda x}f(x)\\,dx$$\n",
    "by approximating $f(x)$ using Chebyshev polynomials and obtaining an explicit expression for the integral.\n",
    "\n",
    "<!--\n",
    "Since the Chebyshev coefficients are given on $[-1,1]$, we need to shift the interval via some function $g(x)$ such that\n",
    "$$f(x) = \\sum_{n=0}^N b_n T_n(g(x)).$$\n",
    "Define $g(x):[0,1]\\to [-1,1]$ by $g(x)=2x-1$. We want to compute\n",
    "$$\\int_0^1 e^{-i\\alpha^{l-1}\\lambda x}f(x)\\,dx.$$\n",
    "With the change of variable $t=g(x)=2x-1$, we have $x=g^{-1}(t)=\\frac{t+1}{2}$. Writing $c=\\frac{\\alpha^{l-1}\\lambda}{2}$, we have\n",
    "\\begin{align*}\n",
    "    \\int_0^1 e^{-i\\alpha^{l-1}\\lambda x}f(x)\\,dx &= \\int_0^1 e^{-i2c\\frac{t+1}{2}}f(\\frac{t+1}{2})\\,d(\\frac{t+1}{2})\\\\\n",
    "    &= \\int_{-1}^1 e^{-ict}e^{-ic}f(\\frac{t+1}{2})\\frac{1}{2}\\,dt\\\\\n",
    "    &= \\frac{1}{2e^{ic}}\\int_{-1}^1 e^{-ict} f(\\frac{t+1}{2})\\,dt\\\\\n",
    "    &= \\frac{1}{2e^{ic}}\\int_{-1}^1 e^{-ict} q(t)\\,dt,\n",
    "\\end{align*}\n",
    "where $q(t) := f\\circ g^{-1}(t)$.\n",
    "\n",
    "In summary,\n",
    "$$f(x) = f\\circ g^{-1}(g(x)) = q(g(x)) = q(t) = \\sum_{n=0}^N b_n T_n(t) = \\sum_{n=0}^N b_n T_n(g(x)),$$\n",
    "and\n",
    "\\begin{align*}\n",
    "    \\int_{-1}^1 e^{-ic t}q(t)\\,dt &= \\sum_{n=0}^N b_n \\int_{-1}^1 e^{-ic t} \\cos(n\\cdot\\cos^{-1}(t))\\,dt\\\\\n",
    "    &= \\sum_{n=0}^N b_n \\tilde{T}_n(\\frac{\\alpha^{l-1}\\lambda}{2}),\n",
    "\\end{align*}\n",
    "where \n",
    "\\begin{alignat*}{2}\n",
    "    \\tilde{T}_n(c) = \\int_0^\\pi e^{-ic\\cos\\theta}\\cos(n\\theta)\\sin\\theta\\,d\\theta &= \n",
    "    \\begin{cases}\n",
    "        2 &\\quad\\mbox{if $n=0$}\\\\\n",
    "        0 &\\quad\\mbox{if $n=1$}\\\\\n",
    "        \\frac{(-1)^{n+1}-1}{n^2-1} &\\quad\\mbox{if $n\\geq 2$}\n",
    "    \\end{cases},\n",
    "    &\\quad\\mbox{if $c=0$}\\\\\n",
    "    &= \\frac{1}{ic}\\left(nK_n(-ic) + (-1)^n e^{ic} - e^{-ic}\\right)&\\quad\\mbox{if $c\\neq 0$},\n",
    "\\end{alignat*}\n",
    "where \n",
    "\\begin{align*}\n",
    "    K_0(z) &= 0\\\\\n",
    "    K_1(z) &= \\frac{e^z-e^{-z}}{z}\\\\\n",
    "    K_{n}(z) &= K_{n-2}(z) + 2\\left(\\frac{e^z}{z} + (-1)^{n}\\frac{e^{-z}}{z} - \\frac{n-1}{z}K_{n-1}(z)\\right),\\quad n\\geq 2.\n",
    "\\end{align*} -->"
   ]
  },
  {
   "cell_type": "markdown",
   "metadata": {},
   "source": [
    "### `get_Kn(n; symbolic, z)`\n",
    "\n",
    "Computes $K_n(z)$ given by \n",
    "\\begin{align*}\n",
    "    K_0(z) &= 0\\\\\n",
    "    K_1(z) &= \\frac{e^z-e^{-z}}{z}\\\\\n",
    "    K_{n}(z) &= K_{n-2}(z) + 2\\left(\\frac{e^z}{z} + (-1)^{n}\\frac{e^{-z}}{z} - \\frac{n-1}{z}K_{n-1}(z)\\right),\\quad n\\geq 2\n",
    "\\end{align*}\n",
    "or its symbolic expression."
   ]
  },
  {
   "cell_type": "code",
   "execution_count": null,
   "metadata": {},
   "outputs": [],
   "source": [
    "function get_Kn(n; symbolic = true, z = symbols(\"z\"))\n",
    "    if symbolic\n",
    "        if n == 0\n",
    "            expr = 0\n",
    "        elseif n == 1\n",
    "            expr = 1/z*(e^z-e^(-z))\n",
    "        else\n",
    "            expr = get_Kn(n-2; symbolic = true) + 2(e^z/z + (-1)^n*e^(-z)/z - (n-1)/z*get_Kn(n-1; symbolic = true, z = z))\n",
    "        end\n",
    "        expr = prettyPrint(expr)\n",
    "        return expr\n",
    "    else\n",
    "        function Kn(z)\n",
    "            if z == 0\n",
    "                throw(\"z cannot be 0\")\n",
    "            end\n",
    "            if n == 0\n",
    "                result = 0\n",
    "            elseif n == 1\n",
    "                result = 1/z*(e^z-e^(-z))\n",
    "            else\n",
    "                result = get_Kn(n-2; symbolic = false)(z) + 2*(e^z/z + (-1)^n*e^(-z)/z - (n-1)/z*get_Kn(n-1; symbolic = false)(z))\n",
    "            end\n",
    "            return result\n",
    "        end\n",
    "        return Kn\n",
    "    end\n",
    "end"
   ]
  },
  {
   "cell_type": "markdown",
   "metadata": {},
   "source": [
    "**Parameters**\n",
    "* `n`: `Int`\n",
    "    * $n$ in $K_n(z)$.\n",
    "* `symbolic*`: `Bool`\n",
    "    * Boolean indicating whether the output is symbolic.\n",
    "* `z*`: `SymPy.Sym`\n",
    "    * If `symbolic = true`, argument of $K_n(z)$. Default to `symbols(\"z\")`.\n",
    "    \n",
    "\n",
    "**Returns**\n",
    "* `get_Kn`: `SymPy.Sym` or `Function`\n",
    "    * Returns $K_n(z)$ as a function if `symbolic = false` and as a symbolic expression if `symbolic = true`.\n",
    "\n",
    "**Example**"
   ]
  },
  {
   "cell_type": "code",
   "execution_count": null,
   "metadata": {},
   "outputs": [],
   "source": [
    "get_Kn(2; symbolic = true)"
   ]
  },
  {
   "cell_type": "code",
   "execution_count": null,
   "metadata": {},
   "outputs": [],
   "source": [
    "get_Kn(2; symbolic = false)"
   ]
  },
  {
   "cell_type": "markdown",
   "metadata": {},
   "source": [
    "### `get_ChebyshevTermIntegral(n; symbolic, c)`\n",
    "\n",
    "Computes $\\tilde{T}_n(c)$ given by \n",
    "\\begin{alignat*}{2}\n",
    "    \\tilde{T}_n(c) = \\int_0^\\pi e^{-ic\\cos\\theta}\\cos(n\\theta)\\sin\\theta\\,d\\theta &= \n",
    "    \\begin{cases}\n",
    "        2 &\\quad\\mbox{if $n=0$}\\\\\n",
    "        0 &\\quad\\mbox{if $n=1$}\\\\\n",
    "        \\frac{(-1)^{n+1}-1}{n^2-1} &\\quad\\mbox{if $n\\geq 2$}\n",
    "    \\end{cases},\n",
    "    &\\quad\\mbox{if $c=0$}\\\\\n",
    "    &= \\frac{1}{ic}\\left(nK_n(-ic) + (-1)^n e^{ic} - e^{-ic}\\right)&\\quad\\mbox{if $c\\neq 0$}\n",
    "\\end{alignat*}\n",
    "or its symbolic expression."
   ]
  },
  {
   "cell_type": "code",
   "execution_count": null,
   "metadata": {},
   "outputs": [],
   "source": [
    "function get_ChebyshevTermIntegral(n::Int; symbolic = true, c = symbols(\"c\"))\n",
    "    if symbolic\n",
    "        if c == 0\n",
    "            if n == 0\n",
    "                expr = 2\n",
    "            elseif n == 1\n",
    "                expr = 0\n",
    "            else\n",
    "                expr = ((-1)^(n+1)-1)/(n^2-1)\n",
    "            end\n",
    "        else\n",
    "            expr = 1/(im*c)*(n*get_Kn(n; symbolic = true, z = (-im*c)) + (-1)^n*e^(im*c) - e^(-im*c))\n",
    "        end\n",
    "        expr = prettyPrint(expr)\n",
    "        return expr\n",
    "    else\n",
    "        function TTilde(c)\n",
    "            if c == 0\n",
    "                if n == 0\n",
    "                    result = 1\n",
    "                elseif n == 1\n",
    "                    result = 1/2\n",
    "                else\n",
    "                    result = ((-1)^(n+1)-1)/(n^2-1)\n",
    "                end\n",
    "            else\n",
    "                result = 1/(im*c)*(n*get_Kn(n; symbolic = false)(-im*c) + (-1)^n*e^(im*c) - e^(-im*c))\n",
    "            end\n",
    "            return result\n",
    "        end\n",
    "        return TTilde\n",
    "    end\n",
    "end"
   ]
  },
  {
   "cell_type": "markdown",
   "metadata": {},
   "source": [
    "**Parameters**\n",
    "* `n`: `Int`\n",
    "    * $n$ in $\\tilde{T}_n$.\n",
    "* `symbolic*`: `Bool`\n",
    "    * Boolean indicating whether the output is symbolic.\n",
    "* `c*`: `SymPy.Sym`\n",
    "    * If `symbolic = true`, argument of $\\tilde{T}_n$. Default to `symbols(\"c\")`.\n",
    "\n",
    "**Returns**\n",
    "* `get_ChebyshevTermintegral`: `Function` or `SymPy.Sym`\n",
    "    * Returns $\\tilde{T}_n(c)$ as function of $c$ if `symbolic = false` and as symbolic expression if `symbolic = true`.\n",
    "\n",
    "**Example**"
   ]
  },
  {
   "cell_type": "code",
   "execution_count": null,
   "metadata": {},
   "outputs": [],
   "source": [
    "get_ChebyshevTermIntegral(2; symbolic = true)"
   ]
  },
  {
   "cell_type": "code",
   "execution_count": null,
   "metadata": {},
   "outputs": [],
   "source": [
    "get_ChebyshevTermIntegral(2; symbolic = false)"
   ]
  },
  {
   "cell_type": "markdown",
   "metadata": {},
   "source": [
    "### `get_ChebyshevCoefficients(f)`\n",
    "\n",
    "Obtains the coefficients in the Chebyshev approximation of $f$ on $[0,1]$. \n",
    "\n",
    "Note that the coefficients are obtained by shifting the interval $[0,1]$ to $[-1,1]$ and then back. That is, define $g:[0,1]\\to [-1,1]$ by $g(x) = 2x-1$. For $t\\in [-1,1]$, define $q(t)=f\\circ g^{-1}(t) = f(\\frac{t+1}{2}) =: f(x)$ for $x\\in [0,1]$. Then the returned coefficients are $\\{b_0,\\ldots, b_N\\}$ in\n",
    "$$f(x) = f\\circ g^{-1}(g(x)) = q(g(x)) = q(t) = \\sum_{n=0}^N b_n T_n(t) = \\sum_{n=0}^N b_n T_n(g(x)) = \\sum_{n=0}^N b_n T_n(2x-1)$$\n",
    "instead of $\\{a_0,\\ldots, a_N\\}$ in\n",
    "$$f(x) = \\sum_{n=0}^N a_n T_n(x).$$"
   ]
  },
  {
   "cell_type": "code",
   "execution_count": null,
   "metadata": {},
   "outputs": [],
   "source": [
    "function get_ChebyshevCoefficients(f::Union{Function,Number})\n",
    "    fCheb = ApproxFun.Fun(f, 0..1) # Approximate f on [0,1] using chebyshev polynomials\n",
    "    chebCoefficients = ApproxFun.coefficients(fCheb) # get coefficients of the Chebyshev polynomial\n",
    "    return chebCoefficients\n",
    "end"
   ]
  },
  {
   "cell_type": "markdown",
   "metadata": {},
   "source": [
    "**Parameters**\n",
    "* `f`: `Function` or `Number`\n",
    "    * Function whose Chebyshev coefficients are to be returned.\n",
    "\n",
    "**Returns**\n",
    "* `get_ChebyshevCoefficients`: `Array` of `Number`\n",
    "    * Returns $\\{b_0,\\ldots, b_N\\}$.\n",
    "\n",
    "**Example**"
   ]
  },
  {
   "cell_type": "code",
   "execution_count": null,
   "metadata": {},
   "outputs": [],
   "source": [
    "f(x) = x^2+1\n",
    "get_ChebyshevCoefficients(f)"
   ]
  },
  {
   "cell_type": "markdown",
   "metadata": {},
   "source": [
    "### `get_ChebyshevIntegral(l, f; symbolic, lambda, alpha)`\n",
    "\n",
    "Computes\n",
    "$$\\int_0^1 e^{-i\\alpha^{l-1}\\lambda x}f(x)\\,dx$$\n",
    "by computing\n",
    "\\begin{align*}\n",
    "    \\frac{1}{2e^{ic}}\\int_{-1}^1 e^{-ict} q(t)\\,dt = \\int_0^1 e^{-i\\alpha^{l-1}\\lambda x}f(x)\\,dx\n",
    "\\end{align*}\n",
    "where $c=\\frac{\\alpha^{l-1}\\lambda}{2}$, $q(t) := f\\circ g^{-1}(t)$,\n",
    "and\n",
    "\\begin{align*}\n",
    "    \\int_{-1}^1 e^{-ic t}q(t)\\,dt &= \\int_{-1}^1 e^{-ic t} \\sum_{n=0}^N b_n T_n(t)\\,dt\\\\\n",
    "    &= \\sum_{n=0}^N b_n \\int_{-1}^1 e^{-ic t} T_n(t)\\,dt\\\\\n",
    "    &= \\sum_{n=0}^N b_n \\int_{-1}^1 e^{-ic t} \\cos(n\\cdot\\cos^{-1}(t))\\,dt\\\\\n",
    "    &= \\sum_{n=0}^N b_n \\tilde{T}_n(c).\n",
    "\\end{align*}"
   ]
  },
  {
   "cell_type": "code",
   "execution_count": null,
   "metadata": {},
   "outputs": [],
   "source": [
    "function get_ChebyshevIntegral(l::Number, f::Union{Function, Number}; symbolic = false, lambda = nothing, alpha = nothing)\n",
    "    fChebCoeffs = get_ChebyshevCoefficients(f)\n",
    "    if symbolic\n",
    "        c = alpha^(l-1)*lambda/2\n",
    "        integralSym = 0\n",
    "        for m = 1:length(fChebCoeffs)\n",
    "            integralSym += fChebCoeffs[m] * get_ChebyshevTermIntegral(m-1; symbolic = true, c = c)\n",
    "        end\n",
    "        integralSym = integralSym/(2*e^(im*c))\n",
    "        integralSym = prettyPrint(integralSym)\n",
    "        integralSym = simplify(integralSym)\n",
    "        return integralSym\n",
    "    else\n",
    "        if isa(lambda, Void) || isa(alpha, Void)\n",
    "            throw(\"lambda, alpha required\")\n",
    "        else\n",
    "            c = alpha^(l-1)*lambda/2\n",
    "            integral = 0\n",
    "            for m = 1:length(fChebCoeffs)\n",
    "                integral += fChebCoeffs[m] * get_ChebyshevTermIntegral(m-1; symbolic = false)(c)\n",
    "            end\n",
    "            integral = integral/(2*e^(im*c))\n",
    "            return integral\n",
    "        end\n",
    "    end\n",
    "end"
   ]
  },
  {
   "cell_type": "markdown",
   "metadata": {},
   "source": [
    "**Parameters**\n",
    "* `l`: `Int`\n",
    "    * $l$ in the integral.\n",
    "* `f`: `Function` or `Number`\n",
    "    * $f(x)$ in the integral.\n",
    "* `symbolic*` : `Bool`\n",
    "    * Boolean indicating whether the output is symbolic.\n",
    "* `lambda*`: `SymPy.Sym` or `Number`\n",
    "    * $\\lambda$ in the integral. Symbolic if `symbolic = true` and numeric if `symbolic = false`. Default to `symbols(\"lambda\")`.\n",
    "* `alpha*`: `SymPy.Sym` or `Number`\n",
    "    * $\\alpha$ in the integral. Default to `symbols(\"alpha\")`.\n",
    "\n",
    "**Returns**\n",
    "* `get_ChebyshevIntegral` : `Function` or `SymPy.Sym`\n",
    "    * Returns the integral as a symbolic expression if `symbolic = true` and as a function of $\\lambda$ if `symbolic = false`.\n",
    "\n",
    "**Example**"
   ]
  },
  {
   "cell_type": "code",
   "execution_count": null,
   "metadata": {},
   "outputs": [],
   "source": [
    "alpha = e^(2pi*im/1)\n",
    "l = 2\n",
    "f(x)=x^2+1\n",
    "# Keep lambda as free variable\n",
    "lambda = symbols(\"lambda\")\n",
    "prettyPrint(get_ChebyshevIntegral(l, f; symbolic = true, lambda = lambda, alpha = alpha))"
   ]
  },
  {
   "cell_type": "code",
   "execution_count": null,
   "metadata": {},
   "outputs": [],
   "source": [
    "lambda = 1+im\n",
    "get_ChebyshevIntegral(l, f; symbolic = false, lambda = lambda, alpha = alpha)"
   ]
  },
  {
   "cell_type": "code",
   "execution_count": null,
   "metadata": {},
   "outputs": [],
   "source": [
    "# Directly compute the integral\n",
    "g(x) = e^(-im*alpha^(l-1)*lambda*x)\n",
    "quadgk(mult_func(g,f), 0, 1)[1]"
   ]
  },
  {
   "cell_type": "markdown",
   "metadata": {},
   "source": [
    "## `get_FPlusMinusLambda(adjointU; symbolic, lambda)`\n",
    "\n",
    "Gets $F^+_\\lambda$, $F^-_\\lambda$ given by \n",
    "\\begin{align*}\n",
    "    F^+_\\lambda(f) &= \\frac{1}{2\\pi \\Delta(\\lambda)} \\sum_{\\ell=1}^n\\sum_{j=1}(-1)^{(n-1)(\\ell+j)}\\det X^{lj}(\\lambda)M^+_{1j}(\\lambda)\\int_0^1 e^{-i\\alpha^{\\ell-1}\\lambda x}f(x)\\,dx,\\\\\n",
    "    F^-_\\lambda(f) &= \\frac{-e^{-i\\lambda}}{2\\pi \\Delta(\\lambda)} \\sum_{\\ell=1}^n\\sum_{j=1}(-1)^{(n-1)(\\ell+j)}\\det X^{lj}(\\lambda)M^-_{1j}(\\lambda)\\int_0^1 e^{-i\\alpha^{\\ell-1}\\lambda x}f(x)\\,dx.\n",
    "\\end{align*}\n",
    "as functions of $f$ or their symbolic expressions."
   ]
  },
  {
   "cell_type": "code",
   "execution_count": null,
   "metadata": {},
   "outputs": [],
   "source": [
    "function get_FPlusMinusLambda(adjointU::VectorBoundaryForm; symbolic = false, lambda = nothing)\n",
    "    bStar, betaStar = adjointU.M, adjointU.N\n",
    "    n = size(bStar)[1]\n",
    "    if symbolic\n",
    "        alpha = e^(2*PI*im/n)\n",
    "        lambda = symbols(\"lambda\")\n",
    "        (MPlusSym, MMinusSym) = get_MPlusMinus(adjointU; symbolic = true)\n",
    "        deltaSym = get_delta(adjointU; symbolic = true)\n",
    "        function FPlusSym(f::Union{Function, Number})\n",
    "            sumPlusSym = 0\n",
    "            for l = 1:n\n",
    "                summandPlusSym = 0\n",
    "                for j = 1:n\n",
    "                    XljSym = get_Xlj(adjointU, l, j; symbolic = true)\n",
    "                    integralSym = get_ChebyshevIntegral(l, f; symbolic = true, lambda = lambda, alpha = alpha)\n",
    "                    summandPlusSym = summandPlusSym += (-1)^((n-1)*(l+j)) * SymPy.det(XljSym) * MPlusSym[1,j] * integralSym\n",
    "                end\n",
    "                sumPlusSym += summandPlusSym\n",
    "            end\n",
    "            return 1/(2*PI*deltaSym)*sumPlusSym\n",
    "        end\n",
    "        function FMinusSym(f::Union{Function, Number})\n",
    "            sumMinusSym = 0\n",
    "            for l = 1:n\n",
    "                summandMinusSym = 0\n",
    "                for j = 1:n\n",
    "                    XljSym = get_Xlj(adjointU, l, j; symbolic = true)\n",
    "                    c = alpha^(l-1)*lambda/2\n",
    "                    integralSym = get_ChebyshevIntegral(l, f; symbolic = true, lambda = lambda, alpha = alpha)\n",
    "                    summandMinusSym = summandMinusSym += (-1)^((n-1)*(l+j)) * SymPy.det(XljSym) * MMinusSym[1,j] * integralSym\n",
    "                end\n",
    "                sumMinusSym += summandMinusSym\n",
    "            end\n",
    "            return 1/(2*PI*deltaSym)*sumMinusSym\n",
    "        end\n",
    "        return (FPlusSym, FMinusSym)\n",
    "    else\n",
    "        alpha = e^(2pi*im/n)\n",
    "        if isa(lambda, Void)\n",
    "            throw(\"lambda required\")\n",
    "        end\n",
    "        (MPlus, MMinus) = get_MPlusMinus(adjointU; symbolic = false)\n",
    "        MPlusLambda, MMinusLambda = MPlus(lambda), MMinus(lambda)\n",
    "        M = get_M(adjointU; symbolic = false)\n",
    "        MLambda = convert(Array{Complex}, M(lambda))\n",
    "        deltaLambda = det(MLambda) # or deltaLambda = (get_delta(adjointU))(lambda)\n",
    "        function FPlusLambda(f::Union{Function, Number})\n",
    "            sumPlus = 0\n",
    "            for l = 1:n\n",
    "                summandPlus = 0\n",
    "                for j = 1:n\n",
    "                    Xlj = get_Xlj(adjointU, l, j; symbolic = false)\n",
    "                    XljLambda = convert(Array{Complex}, Xlj(lambda))\n",
    "                    integral = get_ChebyshevIntegral(l, f; symbolic = false, lambda = lambda, alpha = alpha)\n",
    "                    summandPlus = summandPlus += (-1)^((n-1)*(l+j)) * det(XljLambda) * MPlusLambda[1,j] * integral\n",
    "                end\n",
    "                sumPlus += summandPlus\n",
    "            end\n",
    "            return 1/(2pi*deltaLambda)*sumPlus\n",
    "        end\n",
    "        function FMinusLambda(f::Union{Function, Number})\n",
    "            sumMinus = 0\n",
    "            for l = 1:n\n",
    "                summandMinus = 0\n",
    "                for j = 1:n\n",
    "                    Xlj = get_Xlj(adjointU, l, j)\n",
    "                    XljLambda = convert(Array{Complex}, Xlj(lambda))\n",
    "                    integral = get_ChebyshevIntegral(l, f; symbolic = false, lambda = lambda, alpha = alpha)\n",
    "                    summandMinus = summandMinus += (-1)^((n-1)*(l+j)) * det(XljLambda) * MMinusLambda[1,j] * integral\n",
    "                end\n",
    "                sumMinus += summandMinus\n",
    "            end\n",
    "            return (-e^(-im*lambda))/(2pi*deltaLambda)*sumMinus\n",
    "        end\n",
    "        return (FPlusLambda, FMinusLambda)\n",
    "    end\n",
    "end"
   ]
  },
  {
   "cell_type": "markdown",
   "metadata": {},
   "source": [
    "**Parameters**\n",
    "* `adjointU`: `VectorBoundaryForm`\n",
    "    * Adjoint vector boundary form associated with the matrices $b^\\star$ and $\\beta^\\star$ in the definition of $M(\\lambda)$.\n",
    "* `symbolic*`: `Bool`\n",
    "    * Boolean indicating whether the output is symbolic.\n",
    "* `lambda*`: `Number`\n",
    "    * If `symbolic = false`, $\\lambda$ in $F_\\lambda^+$, $F_\\lambda^-$.\n",
    "\n",
    "**Returns**\n",
    "* `get_FPlusMinusLambda`: `Tuple` of `Function` or `SymPy.Sym`\n",
    "    * Returns $F_\\lambda^+$, $F_\\lambda^-$ as symbolic expressions of $\\lambda$ if `symbolic = true` and as functions in $\\lambda$ if `symbolic = false`.\n",
    " \n",
    "**Example**"
   ]
  },
  {
   "cell_type": "code",
   "execution_count": null,
   "metadata": {},
   "outputs": [],
   "source": [
    "t = symbols(\"t\")\n",
    "symPFunctions = [1 t+1 t^2+t+1]\n",
    "interval = (0, 1)\n",
    "symL = SymLinearDifferentialOperator(symPFunctions, interval, t)\n",
    "L = get_L(symL)\n",
    "\n",
    "M = [1 0; 2 0]\n",
    "N = [0 2; 0 1]\n",
    "U = VectorBoundaryForm(M, N)\n",
    "\n",
    "adjointU = get_adjointU(L, U)"
   ]
  },
  {
   "cell_type": "code",
   "execution_count": null,
   "metadata": {},
   "outputs": [],
   "source": [
    "f(x) = x^2+1\n",
    "# Keep lambda as a free symbol\n",
    "FPlusSym = get_FPlusMinusLambda(adjointU; symbolic = true)[1]\n",
    "prettyPrint(FPlusSym(f))"
   ]
  },
  {
   "cell_type": "code",
   "execution_count": null,
   "metadata": {},
   "outputs": [],
   "source": [
    "lambda = 1+im\n",
    "FPlusLambda = get_FPlusMinusLambda(adjointU; symbolic = false, lambda = lambda)[1]\n",
    "FPlusLambda(f)"
   ]
  },
  {
   "cell_type": "markdown",
   "metadata": {},
   "source": [
    "## `get_gamma(a, n, zeroList; infty, nGon)`\n",
    "\n",
    "Computes the contour $\\Gamma$ given by\n",
    "\\begin{align*}\n",
    "    \\Gamma &:= \\Gamma_0\\cup \\Gamma_a,\n",
    "\\end{align*}\n",
    "where\n",
    "\\begin{align*}\n",
    "\\Gamma_a^{\\pm} &:= \\partial(\\{\\lambda\\in\\mathbb{C}^{\\pm}:\\, \\Re(a\\lambda^n)>0\\}\\setminus \\bigcup_{\\substack{\\sigma\\in\\mathbb{C};\\\\\\Delta(\\sigma)=0}} D(\\sigma, 2\\epsilon))\\quad\\mbox{($D$ for disk)},\\\\\n",
    "    \\Gamma_a &:= \\Gamma_a^+\\cup \\Gamma_a^-,\\\\\n",
    "    \\Gamma_0^+ &:= \\bigcup_{\\substack{\\sigma\\in\\overline{\\mathbb{C}^+};\\\\ \\Delta(\\sigma)=0}} C(\\sigma, \\epsilon)\\quad\\mbox{($C$ for circle)},\\\\\n",
    "    \\Gamma_0^- &:= \\bigcup_{\\substack{\\sigma\\in\\mathbb{C}^-;\\\\ \\Delta(\\sigma)=0}} C(\\sigma, \\epsilon),\\\\\n",
    "    \\Gamma_0 &:= \\Gamma_0^+\\cup \\Gamma_0^-.\n",
    "\\end{align*}"
   ]
  },
  {
   "cell_type": "markdown",
   "metadata": {},
   "source": [
    "### `get_gammaAAngles(a, n; symbolic)`\n",
    "\n",
    "Finds the angles (in $[-2\\pi, 2\\pi)$) representing the lines through the origin that mark the beginning and end of the sectors encircled by $\\Gamma_a$, boundary of the domain $\\{\\lambda\\in \\mathbb{C}: \\Re(a\\lambda^n)>0\\}$. \n",
    "\n",
    "Note that we choose the interval $[-2\\pi, 2\\pi)$ to ensure that \"`z` is in a sector\" if and only if \"`angle(z)` is greater than or equal to the start of the sector and smaller than or equal to the end of the sector."
   ]
  },
  {
   "cell_type": "code",
   "execution_count": null,
   "metadata": {},
   "outputs": [],
   "source": [
    "function get_gammaAAngles(a::Number, n::Int; symbolic = false)\n",
    "    # thetaA = argument(a)\n",
    "    thetaA = angle(a)\n",
    "    if symbolic\n",
    "        thetaStartList = Array{SymPy.Sym}(n) # List of angles that characterize where domain sectors start\n",
    "        thetaEndList = Array{SymPy.Sym}(n) # List of angles that characterize where domain sectors end\n",
    "        k = symbols(\"k\")\n",
    "        counter = 0\n",
    "        while (2pi*counter + pi/2 - thetaA)/n < 2pi\n",
    "        # Substituting counter for k\n",
    "        # while SymPy.N(subs((2PI*k + PI/2 - thetaA)/n, k, counter)) < 2pi\n",
    "            thetaStart = (2*PI*counter - PI/2 - rationalize(thetaA/pi)*PI)/n\n",
    "            thetaEnd = (2*PI*counter + PI/2 - rationalize(thetaA/pi)*PI)/n\n",
    "            counter += 1\n",
    "            thetaStartList[counter] = thetaStart\n",
    "            thetaEndList[counter] = thetaEnd\n",
    "        end\n",
    "    else\n",
    "        thetaStartList = Array{Number}(n)\n",
    "        thetaEndList = Array{Number}(n)\n",
    "        k = 0\n",
    "        while (2pi*k + pi/2 - thetaA)/n < 2pi\n",
    "            thetaStart = (2pi*k - pi/2 - thetaA)/n\n",
    "            thetaEnd = (2pi*k + pi/2 - thetaA)/n\n",
    "            k += 1\n",
    "            thetaStartList[k] = thetaStart\n",
    "            thetaEndList[k] = thetaEnd\n",
    "        end\n",
    "    end\n",
    "    return (thetaStartList, thetaEndList)\n",
    "end"
   ]
  },
  {
   "cell_type": "markdown",
   "metadata": {},
   "source": [
    "**Parameters**\n",
    "* `a`: `Number`\n",
    "    * $a$ in $\\Gamma_a$, given along with $S$, $f$, and $B$ as parameters of `get_input()`.\n",
    "* `n`: `Int`\n",
    "    * $n$ in the definition of $\\Gamma_a^{\\pm}$.\n",
    "* `symbolic*`: `Bool`\n",
    "    * Boolean indicating whether the output is symbolic.\n",
    "\n",
    "**Returns**\n",
    "* `get_gammaAAngles`: `Tuple{Array, Array}`\n",
    "    * Returns a tuple containing an array of angles in $[-2\\pi, 2\\pi)$ that characterize the starts of the sectors and an array of angles that characterize the ends of the sectors.\n",
    "\n",
    "**Example**"
   ]
  },
  {
   "cell_type": "code",
   "execution_count": null,
   "metadata": {},
   "outputs": [],
   "source": [
    "n = 2\n",
    "a = 1\n",
    "get_gammaAAngles(a, n; symbolic = true)"
   ]
  },
  {
   "cell_type": "code",
   "execution_count": null,
   "metadata": {},
   "outputs": [],
   "source": [
    "get_gammaAAngles(a, n; symbolic = false)"
   ]
  },
  {
   "cell_type": "code",
   "execution_count": null,
   "metadata": {},
   "outputs": [],
   "source": [
    "n = 3\n",
    "a = im\n",
    "get_gammaAAngles(a, n; symbolic = true)"
   ]
  },
  {
   "cell_type": "code",
   "execution_count": null,
   "metadata": {},
   "outputs": [],
   "source": [
    "n = 3\n",
    "a = -im\n",
    "get_gammaAAngles(a, n; symbolic = true)"
   ]
  },
  {
   "cell_type": "markdown",
   "metadata": {},
   "source": [
    "### `get_gammaAAnglesSplit(a, n; symbolic)`\n",
    "\n",
    "On top of the sectors characterized by the array of start angles and the array of end angles obtained via `get_gammaAAngles()`, splits the sectors that contain the real line."
   ]
  },
  {
   "cell_type": "code",
   "execution_count": null,
   "metadata": {},
   "outputs": [],
   "source": [
    "function get_gammaAAnglesSplit(a::Number, n::Int; symbolic = false)\n",
    "    (thetaStartList, thetaEndList) = get_gammaAAngles(a, n; symbolic = symbolic)\n",
    "    # Split sectors that contain the positive half of the real line (angle = 0)\n",
    "    zeroIndex = find(i -> ((is_approxLess(thetaStartList[i], 0) && is_approxLess(0, thetaEndList[i]))), 1:length(thetaStartList))\n",
    "    if !isempty(zeroIndex)\n",
    "        index = zeroIndex[1]\n",
    "        # Insert 0 after thetaStart\n",
    "        splice!(thetaStartList, (index+1):index, 0)\n",
    "        # Insert 0 before thetaEnd\n",
    "        splice!(thetaEndList, index:(index-1), 0)\n",
    "    end\n",
    "    # Split sectors that contain the negative half of the real line (angle = pi)\n",
    "    piIndex = find(i -> ((is_approxLess(thetaStartList[i], pi) && is_approxLess(pi, thetaEndList[i]))), 1:length(thetaStartList))\n",
    "    if !isempty(piIndex)\n",
    "        index = piIndex[1]\n",
    "        if symbolic\n",
    "            # Insert pi after thetaStart\n",
    "            splice!(thetaStartList, (index+1):index, pi)\n",
    "            # Insert pi before thetaEnd\n",
    "            splice!(thetaEndList, index:(index-1), pi)\n",
    "        else\n",
    "            # Use pi*1 instead of pi to avoid \"<= not defined for Irrational{:pi}\" error in get_gamma()\n",
    "            splice!(thetaStartList, (index+1):index, pi*1)\n",
    "            splice!(thetaEndList, index:(index-1), pi*1)\n",
    "        end\n",
    "    end\n",
    "    return (thetaStartList, thetaEndList)\n",
    "end"
   ]
  },
  {
   "cell_type": "markdown",
   "metadata": {},
   "source": [
    "**Parameters**\n",
    "* `a`: `Number`\n",
    "    * $a$ in $\\Gamma_a$, given along with $S$, $f$, and $B$ as parameters of `get_input()`.\n",
    "* `n`: `Int`\n",
    "    * $n$ in the definition of $\\Gamma_a^{\\pm}$.\n",
    "* `symbolic*`: `Bool`\n",
    "    * Boolean indicating whether the output is symbolic.\n",
    "\n",
    "**Returns**\n",
    "* `get_gammaAAnglesSplit`: `Tuple{Array, Array}`\n",
    "    * Returns a tuple containing an array of angles in $[-2\\pi, 2\\pi)$ that characterize the starts of the sectors and an array of angles that characterize the ends of the sectors. Compared to the output of `get_gammaAAngles()`, the arrays of angles reflect the fact that sectors containing the real line are splitted into upper half and lower half.\n",
    "\n",
    "**Example**"
   ]
  },
  {
   "cell_type": "code",
   "execution_count": null,
   "metadata": {},
   "outputs": [],
   "source": [
    "n = 2\n",
    "a = 1\n",
    "get_gammaAAnglesSplit(a, n; symbolic = true)"
   ]
  },
  {
   "cell_type": "code",
   "execution_count": null,
   "metadata": {},
   "outputs": [],
   "source": [
    "n = 3\n",
    "a = im\n",
    "get_gammaAAnglesSplit(a, n; symbolic = false)"
   ]
  },
  {
   "cell_type": "markdown",
   "metadata": {},
   "source": [
    "### `pointOnSector(z, sectorAngles)`\n",
    "\n",
    "Determines whether a point $z$ is on the boundary of a sector characterized by a start angle and an end angle."
   ]
  },
  {
   "cell_type": "code",
   "execution_count": null,
   "metadata": {},
   "outputs": [],
   "source": [
    "function pointOnSector(z::Number, sectorAngles::Tuple{Number, Number})\n",
    "    (startAngle, endAngle) = sectorAngles\n",
    "    return is_approx(argument(z), startAngle) || is_approx(argument(z), endAngle) || is_approx(angle(z), startAngle) || is_approx(angle(z), endAngle)\n",
    "end"
   ]
  },
  {
   "cell_type": "markdown",
   "metadata": {},
   "source": [
    "**Parameters**\n",
    "* `z`: `Number`\n",
    "    * Point in the complex plane.\n",
    "* `sectorAngles`: `Tuple{Number, Number}`\n",
    "    * Pair of start and end angles characterizing a sector.\n",
    "\n",
    "**Returns**\n",
    "* `pointOnSector`: `Bool`\n",
    "    * Returns `true` if `z` is on the boundary of the sector given by `sectorAngles` and `false` otherwise.\n",
    "\n",
    "**Example**"
   ]
  },
  {
   "cell_type": "code",
   "execution_count": null,
   "metadata": {},
   "outputs": [],
   "source": [
    "z = 1+im\n",
    "sectorAngles = (-pi/4, pi/4)\n",
    "pointOnSector(z, sectorAngles)"
   ]
  },
  {
   "cell_type": "markdown",
   "metadata": {},
   "source": [
    "### `pointInSector(z, sectorAngles)`\n",
    "\n",
    "Determines whether a point $z$ is in the interior of a sector characterized by a start angle and an end angle."
   ]
  },
  {
   "cell_type": "code",
   "execution_count": null,
   "metadata": {},
   "outputs": [],
   "source": [
    "function pointInSector(z::Number, sectorAngles::Tuple{Number, Number})\n",
    "    (startAngle, endAngle) = sectorAngles\n",
    "    # First check if z is on the sector boundary\n",
    "    if pointOnSector(z, sectorAngles)\n",
    "        return false\n",
    "    else\n",
    "        # angle(z) would work if it's in the sector with positive real parts and both positive and negative imaginary parts; argument(z) would work if it's in the sector with negative real parts and both positive and negative imaginary parts\n",
    "        return (angle(z) > startAngle && angle(z) < endAngle) || (argument(z) > startAngle && argument(z) < endAngle) # no need to use is_approxLess because the case of approximatedly equal is already checked in pointOnSector\n",
    "    end\n",
    "end"
   ]
  },
  {
   "cell_type": "markdown",
   "metadata": {},
   "source": [
    "**Parameters**\n",
    "* `z`: `Number`\n",
    "    * Point in the complex plane.\n",
    "* `sectorAngles`: `Tuple{Number, Number}`\n",
    "    * Pair of start and end angles characterizing a sector.\n",
    "\n",
    "**Returns**\n",
    "* `pointInSector`: `Bool`\n",
    "    * Returns `true` if `z` is interior to the sector given by `sectorAngles` and `false` otherwise.\n",
    "\n",
    "**Example**"
   ]
  },
  {
   "cell_type": "code",
   "execution_count": null,
   "metadata": {},
   "outputs": [],
   "source": [
    "z = 1+im\n",
    "sectorAngles = (-pi/4, pi/4)\n",
    "pointInSector(z, sectorAngles)"
   ]
  },
  {
   "cell_type": "code",
   "execution_count": null,
   "metadata": {},
   "outputs": [],
   "source": [
    "z = 1\n",
    "pointInSector(z, sectorAngles)"
   ]
  },
  {
   "cell_type": "code",
   "execution_count": null,
   "metadata": {},
   "outputs": [],
   "source": [
    "z = -1\n",
    "pointInSector(z, sectorAngles)"
   ]
  },
  {
   "cell_type": "markdown",
   "metadata": {},
   "source": [
    "### `pointExSector(z, sectorAngles)`\n",
    "\n",
    "Determines whether a point $z$ is in the exterior of a sector characterized by a start angle and an end angle."
   ]
  },
  {
   "cell_type": "code",
   "execution_count": null,
   "metadata": {},
   "outputs": [],
   "source": [
    "function pointExSector(z::Number, sectorAngles::Tuple{Number, Number})\n",
    "    return !pointOnSector(z, sectorAngles) && !pointInSector(z, sectorAngles)\n",
    "end"
   ]
  },
  {
   "cell_type": "markdown",
   "metadata": {},
   "source": [
    "**Parameters**\n",
    "* `z`: `Number`\n",
    "    * Point in the complex plane.\n",
    "* `sectorAngles`: `Tuple{Number, Number}`\n",
    "    * Pair of start and end angles characterizing a sector.\n",
    "\n",
    "**Returns**\n",
    "* `pointExSector`: `Bool`\n",
    "    * Returns `true` if `z` is exterior to the sector given by `sectorAngles` and `false` otherwise.\n",
    "\n",
    "**Example**"
   ]
  },
  {
   "cell_type": "code",
   "execution_count": null,
   "metadata": {},
   "outputs": [],
   "source": [
    "z = 1+im\n",
    "sectorAngles = (-pi/4, pi/4)\n",
    "pointExSector(z, sectorAngles)"
   ]
  },
  {
   "cell_type": "code",
   "execution_count": null,
   "metadata": {},
   "outputs": [],
   "source": [
    "z = 1\n",
    "pointExSector(z, sectorAngles)"
   ]
  },
  {
   "cell_type": "code",
   "execution_count": null,
   "metadata": {},
   "outputs": [],
   "source": [
    "z = -1\n",
    "pointExSector(z, sectorAngles)"
   ]
  },
  {
   "cell_type": "markdown",
   "metadata": {},
   "source": [
    "### `get_epsilon(zeroList, a, n)`\n",
    "\n",
    "Given a list of zeroes of $\\Delta(\\lambda)$, using the arrays of angles that characterize the starts and ends of sectors, computes an appropriate value for the radius $\\epsilon$ of the circle to be drawn around each zero of $\\Delta(\\lambda)$ in the contours $\\Gamma_0^{\\pm}$. This is the minimum of pairwise distances between zeroes that are not interior to any sector (since interior zeroes would not matter in any way) and the distances from any of these zeroes to any line that mark the boundary of some sector."
   ]
  },
  {
   "cell_type": "code",
   "execution_count": null,
   "metadata": {},
   "outputs": [],
   "source": [
    "function get_epsilon(zeroList::Array, a::Number, n::Int)\n",
    "    (thetaStartList, thetaEndList) = get_gammaAAnglesSplit(a, n; symbolic = false)\n",
    "    thetaStartEndList = collect(Iterators.flatten([thetaStartList, thetaEndList]))\n",
    "    truncZeroList = []\n",
    "    for zero in zeroList\n",
    "        # If zero is interior to any sector, discard it\n",
    "        if any(i -> pointInSector(zero, (thetaStartList[i], thetaEndList[i])), 1:n)\n",
    "        else # If not, append it to truncZeroList\n",
    "            append!(truncZeroList, zero)\n",
    "        end\n",
    "    end\n",
    "    # List of distance between each zero and each line marking the boundary of some sector\n",
    "    pointLineDistances = [get_distancePointLine(z, theta) for z in zeroList for theta in thetaStartEndList]\n",
    "    if length(truncZeroList)>1\n",
    "        # List of distance between every two zeroes\n",
    "        pairwiseDistances = [norm(z1-z2) for z1 in zeroList for z2 in truncZeroList]\n",
    "    else\n",
    "        pairwiseDistances = []\n",
    "    end\n",
    "    distances = collect(Iterators.flatten([pairwiseDistances, pointLineDistances]))\n",
    "    # Distances of nearly 0 could be instances where the zero is actually on some sector boundary\n",
    "    distances = filter(x -> !is_approx(x, 0), distances)\n",
    "    epsilon = minimum(distances)/3\n",
    "    return epsilon\n",
    "end"
   ]
  },
  {
   "cell_type": "markdown",
   "metadata": {},
   "source": [
    "**Parameters**\n",
    "* `zeroList`: `Array` of `Number`\n",
    "    * List of zeroes of $\\Delta(\\lambda)$. Found by human input with the aid of `plot_levelCurves()`.\n",
    "* `a`: `Number`\n",
    "    * $a$ in $\\Gamma_a$, given along with $S$, $f$, and $B$ as parameters of `get_input()`.\n",
    "* `n`: `Int`\n",
    "    * $n$ in the definition of $\\Gamma_a^{\\pm}$.\n",
    "\n",
    "**Returns**\n",
    "* `get_epsilon`: `Number`\n",
    "    * Returns one-third the minimum of the distances between any two exterior zeroes of $\\Delta(\\lambda)$ and the distances between any exterior zero to any line marking the boundary of some sector.\n",
    "\n",
    "**Example**"
   ]
  },
  {
   "cell_type": "code",
   "execution_count": null,
   "metadata": {},
   "outputs": [],
   "source": [
    "n = 2\n",
    "a = 1\n",
    "zeroList = [1+sqrt(3)*im, 2+2*sqrt(3)*im, 0+0*im, 0+5*im, 0-5*im]\n",
    "get_epsilon(zeroList, a, n)"
   ]
  },
  {
   "cell_type": "markdown",
   "metadata": {},
   "source": [
    "### `get_nGonAroundZero(zero, epsilon, n)`\n",
    "\n",
    "Given a zero of $\\Delta(\\lambda)$, returns an array of $n$ complex numbers representing the vertices of an $n$-gon around the zero in the complex plane; each vertex is of distance $\\epsilon$ from the zero."
   ]
  },
  {
   "cell_type": "code",
   "execution_count": null,
   "metadata": {},
   "outputs": [],
   "source": [
    "function get_nGonAroundZero(zero::Number, epsilon::Number, n::Int)\n",
    "    z = zero\n",
    "    theta = argument(zero)\n",
    "    deltaAngle = 2pi/n\n",
    "    vertices = []\n",
    "    for i = 1:n\n",
    "        newAngle = pi-deltaAngle*(i-1)\n",
    "        vertex = z + epsilon*e^(im*(theta+newAngle))\n",
    "        append!(vertices, vertex)\n",
    "    end\n",
    "    # vertices = vcat(vertices, vertices[1])\n",
    "    return vertices\n",
    "end"
   ]
  },
  {
   "cell_type": "code",
   "execution_count": null,
   "metadata": {},
   "outputs": [],
   "source": [
    "zero = im\n",
    "epsilon = 1\n",
    "n = 4\n",
    "prettyPrint.(get_nGonAroundZero(zero, epsilon, n))"
   ]
  },
  {
   "cell_type": "markdown",
   "metadata": {},
   "source": [
    "### `get_gamma(a, n, zeroList; infty, nGon)`\n",
    "\n",
    "Finds the contours $\\Gamma_a^+$, $\\Gamma_a^-$, $\\Gamma_0^+$, $\\Gamma_0^-$ as arrays of points ordered in the order they will be integrated over."
   ]
  },
  {
   "cell_type": "code",
   "execution_count": null,
   "metadata": {},
   "outputs": [],
   "source": [
    "function get_gamma(a::Number, n::Int, zeroList::Array; infty = INFTY, nGon = 8)\n",
    "    (thetaStartList, thetaEndList) = get_gammaAAnglesSplit(a, n; symbolic = false)\n",
    "    nSplit = length(thetaStartList)\n",
    "    gammaAPlus, gammaAMinus, gamma0Plus, gamma0Minus = [], [], [], []\n",
    "    epsilon = get_epsilon(zeroList, a, n)\n",
    "    for i in 1:nSplit\n",
    "        thetaStart = thetaStartList[i]\n",
    "        thetaEnd = thetaEndList[i]\n",
    "        # Initialize the boundary of each sector with the ending boundary, the origin, and the starting boundary (start and end boundaries refer to the order in which the boundaries are passed if tracked counterclockwise)\n",
    "        initialPath = [infty*e^(im*thetaEnd), 0+0*im, infty*e^(im*thetaStart)]\n",
    "        if thetaStart >= 0 && thetaStart <= pi && thetaEnd >= 0 && thetaEnd <= pi # if in the upper half plane, push the boundary path to gamma_a+\n",
    "            push!(gammaAPlus, initialPath) # list of lists\n",
    "        else # if in the lower half plane, push the boundary path to gamma_a-\n",
    "            push!(gammaAMinus, initialPath)\n",
    "        end\n",
    "    end\n",
    "    # Sort the zeroList by norm, so that possible zero at the origin comes last. We need to leave the origin in the initial path unchanged until we have finished dealing with all non-origin zeros because we use the origin in the initial path as a reference point to decide where to insert the deformed path\n",
    "    zeroList = sort(zeroList, lt=(x,y)->!isless(norm(x), norm(y)))\n",
    "    for zero in zeroList\n",
    "        # println(zero)\n",
    "        # If zero is not at the origin\n",
    "        if !is_approx(zero, 0+0*im)\n",
    "            # Draw an n-gon around it\n",
    "            vertices = get_nGonAroundZero(zero, epsilon, nGon)\n",
    "            # If zero is on the boundary of some sector\n",
    "            if any(i -> pointOnSector(zero, (thetaStartList[i], thetaEndList[i])), 1:nSplit)\n",
    "                # Find which sector(s) zero is on\n",
    "                indices = find(i -> pointOnSector(zero, (thetaStartList[i], thetaEndList[i])), 1:nSplit)\n",
    "                # If zero is on the boundary of one sector\n",
    "                if length(indices) == 1\n",
    "                    # if vertices[2] is interior to any sector, include vertices on the other half of the n-gon in the contour approximation\n",
    "                    z0 = vertices[2]\n",
    "                    if any(i -> pointInSector(z0, (thetaStartList[i], thetaEndList[i])), 1:nSplit)\n",
    "                        # Find which sector vertices[2] is in\n",
    "                        index = find(i -> pointInSector(z0, (thetaStartList[i], thetaEndList[i])), 1:nSplit)[1]\n",
    "                    else # if vertices[2] is exterior, include vertices on this half of the n-gon in the contour approximation\n",
    "                        # Find which sector vertices[length(vertices)] is in\n",
    "                        z1 = vertices[length(vertices)]\n",
    "                        index = find(i -> pointInSector(z1, (thetaStartList[i], thetaEndList[i])), 1:nSplit)[1]\n",
    "                    end\n",
    "                    thetaStart = thetaStartList[index]\n",
    "                    thetaEnd = thetaEndList[index]\n",
    "                    # Find all vertices exterior to or on the boundary of this sector, which would form the nGonPath around the zero\n",
    "                    nGonPath = vertices[find(vertex -> !pointInSector(vertex, (thetaStart, thetaEnd)), vertices)]\n",
    "                    # If this sector is in the upper half plane, deform gamma_a+\n",
    "                    if thetaStart >= 0 && thetaStart <= pi && thetaEnd >= 0 && thetaEnd <= pi\n",
    "                        gammaAPlusIndex = find(path -> (is_approx(argument(zero), argument(path[1])) || is_approx(argument(zero), argument(path[length(path)]))), gammaAPlus)[1]\n",
    "                        deformedPath = copy(gammaAPlus[gammaAPlusIndex])\n",
    "                        if any(i -> is_approx(argument(zero), thetaStartList[i]) || is_approx(angle(zero), thetaStartList[i]), 1:nSplit) # if zero is on the starting boundary, insert the n-gon path after 0+0*im\n",
    "                            splice!(deformedPath, length(deformedPath):(length(deformedPath)-1), nGonPath)\n",
    "                        else # if zero is on the ending boundary, insert the n-gon path before 0+0*im\n",
    "                            splice!(deformedPath, 2:1, nGonPath)\n",
    "                        end\n",
    "                        gammaAPlus[gammaAPlusIndex] = deformedPath\n",
    "                    else # if sector is in the lower half plane, deform gamma_a-\n",
    "                        # # Find all vertices interior to or on the boundary of this sector, which would form the nGonPath around the zero\n",
    "                        # nGonPath = vertices[find(vertex -> !pointExSector(vertex, (thetaStart, thetaEnd)), vertices)]\n",
    "                        gammaAMinusIndex = find(path -> (is_approx(argument(zero), argument(path[1])) || is_approx(argument(zero), argument(path[length(path)]))), gammaAMinus)[1]\n",
    "                        deformedPath = copy(gammaAMinus[gammaAMinusIndex])\n",
    "                        if any(i -> is_approx(argument(zero), thetaStartList[i]) || is_approx(angle(zero), thetaStartList[i]), 1:nSplit) # if zero is on the starting boundary, insert the n-gon path after 0+0*im\n",
    "                            splice!(deformedPath, length(deformedPath):(length(deformedPath)-1), nGonPath)\n",
    "                        else # if zero is on the ending boundary, insert the n-gon path before 0+0*im\n",
    "                            splice!(deformedPath, 2:1, nGonPath) \n",
    "                        end\n",
    "                        gammaAMinus[gammaAMinusIndex] = deformedPath\n",
    "                    end\n",
    "                else # If zero is on the boundary of two sectors, then it must be on the real line, and we need to deform two sectors\n",
    "                    # Find out which vertices are in the lower half plane\n",
    "                    nGonPath = vertices[find(vertex -> !pointInSector(vertex, (0, pi)), vertices)]\n",
    "                    for index in indices\n",
    "                        thetaStart = thetaStartList[index]\n",
    "                        thetaEnd = thetaEndList[index]\n",
    "                        # If this is the sector in the upper half plane, deform gamma_a+\n",
    "                        if thetaStart >= 0 && thetaStart <= pi && thetaEnd >= 0 && thetaEnd <= pi\n",
    "                            gammaAPlusIndex = find(path -> (is_approx(argument(zero), argument(path[1])) || is_approx(argument(zero), argument(path[length(path)]))), gammaAPlus)[1]\n",
    "                            deformedPath = copy(gammaAPlus[gammaAPlusIndex])\n",
    "                            if is_approx(argument(zero), argument(deformedPath[length(deformedPath)])) # if zero is on the starting boundary, insert the n-gon path after 0+0*im\n",
    "                                splice!(deformedPath, length(deformedPath):(length(deformedPath)-1), nGonPath)\n",
    "                            else # if zero is on the ending boundary, insert the n-gon path before 0+0*im\n",
    "                                splice!(deformedPath, 2:1, nGonPath)\n",
    "                            end\n",
    "                            gammaAPlus[gammaAPlusIndex] = deformedPath\n",
    "                        else # If this is the sector in the lower half plane, deform gamma_a-\n",
    "                            gammaAMinusIndex = find(path -> (is_approx(argument(zero), argument(path[1])) || is_approx(argument(zero), argument(path[length(path)]))), gammaAMinus)[1]\n",
    "                            deformedPath = copy(gammaAMinus[gammaAMinusIndex])\n",
    "                            if is_approx(argument(zero), argument(deformedPath[length(deformedPath)])) # if zero is on the starting boundary, insert the n-gon path after 0+0*im\n",
    "                                splice!(deformedPath, length(deformedPath):(length(deformedPath)-1), nGonPath)\n",
    "                            else # if zero is on the ending boundary, insert the n-gon path before 0+0*im\n",
    "                                splice!(deformedPath, 2:1, nGonPath)\n",
    "                            end\n",
    "                            gammaAMinus[gammaAMinusIndex] = deformedPath\n",
    "                        end\n",
    "                    end\n",
    "                end\n",
    "                # Sort each sector's path in the order in which they are integrated over\n",
    "                gammaAs = [gammaAPlus, gammaAMinus]\n",
    "                for j = 1:length(gammaAs)\n",
    "                    gammaA = gammaAs[j]\n",
    "                    for k = 1:length(gammaA)\n",
    "                        inOutPath = gammaA[k]\n",
    "                        originIndex = find(x->x==0+0*im, inOutPath)[1]\n",
    "                        inwardPath = inOutPath[1:(originIndex-1)]\n",
    "                        outwardPath = inOutPath[(originIndex+1):length(inOutPath)]\n",
    "                        # Sort the inward path and outward path\n",
    "                        if length(inwardPath) > 0\n",
    "                            inwardPath = sort(inwardPath, lt=(x,y)->!isless(norm(x), norm(y)))\n",
    "                        end\n",
    "                        if length(outwardPath) > 0\n",
    "                            outwardPath = sort(outwardPath, lt=(x,y)->isless(norm(x), norm(y)))\n",
    "                        end\n",
    "                        inOutPath = vcat(inwardPath, 0+0*im, outwardPath)\n",
    "                        gammaA[k] = inOutPath\n",
    "                    end\n",
    "                    gammaAs[j] = gammaA \n",
    "                end\n",
    "                gammaAPlus, gammaAMinus = gammaAs[1], gammaAs[2]\n",
    "            # If zero is interior to any sector (after splitting by real line), ignore it\n",
    "            # If zero is exterior to the sectors, avoid it\n",
    "            elseif all(i -> pointExSector(zero, (thetaStartList[i], thetaEndList[i])), 1:nSplit)\n",
    "                nGonPath = vcat(vertices, vertices[1]) # counterclockwise\n",
    "                # If zero is in the upper half plane, add the n-gon path to gamma_0+\n",
    "                if argument(zero) >= 0 && argument(zero) <= pi\n",
    "                    push!(gamma0Plus, nGonPath)\n",
    "                else # If zero is in the lower half plane, add the n-gon path to gamma_0-\n",
    "                    push!(gamma0Minus, nGonPath)\n",
    "                end\n",
    "            end\n",
    "        else # If zero is at the origin, we deform all sectors and draw an n-gon around the origin\n",
    "            # deform each sector in gamma_a+\n",
    "            for i = 1:length(gammaAPlus)\n",
    "                deformedPath = gammaAPlus[i]\n",
    "                # find the index of the zero at origin in the sector boundary path\n",
    "                index = find(j -> is_approx(deformedPath[j], 0+0*im), 1:length(deformedPath))\n",
    "                # If the origin is not in the path, then it has already been bypassed\n",
    "                if isempty(index)\n",
    "                else # If not, find its index\n",
    "                    index = index[1]\n",
    "                end\n",
    "                # create a path around zero (origin); the origin will not be the first or the last point in any sector boundary because it was initialized to be in the middle, and only insertions are performed. Moreover, the boundary path has already been sorted into the order in which they will be integrated over, so squarePath defined below has deformedPath[index-1], deformedPath[index+1] in the correct order.\n",
    "                squarePath = [epsilon*e^(im*argument(deformedPath[index-1])), epsilon*e^(im*argument(deformedPath[index+1]))]\n",
    "                # replace the zero with the deformed path\n",
    "                deleteat!(deformedPath, index) # delete the origin\n",
    "                splice!(deformedPath, index:(index-1), squarePath) # insert squarePath into where the origin was at\n",
    "                gammaAPlus[i] = deformedPath\n",
    "            end\n",
    "            # deform each sector in gamma_a-\n",
    "            for i = 1:length(gammaAMinus)\n",
    "                deformedPath = gammaAMinus[i]\n",
    "                index = find(j -> is_approx(deformedPath[j], 0+0*im), 1:length(deformedPath))\n",
    "                if isempty(index)\n",
    "                else\n",
    "                    index = index[1]\n",
    "                end\n",
    "                squarePath = [epsilon*e^(im*argument(deformedPath[index-1])), epsilon*e^(im*argument(deformedPath[index+1]))]\n",
    "                deleteat!(deformedPath, index)\n",
    "                splice!(deformedPath, index:(index-1), squarePath)\n",
    "                gammaAMinus[i] = deformedPath\n",
    "            end\n",
    "            # Draw an n-gon around the origin and add to gamma_0+\n",
    "            vertices = get_nGonAroundZero(zero, epsilon/2, nGon)\n",
    "            nGonPath = vcat(vertices, vertices[1])\n",
    "            push!(gamma0Plus, nGonPath)\n",
    "        end\n",
    "    end\n",
    "    return (gammaAPlus, gammaAMinus, gamma0Plus, gamma0Minus)\n",
    "end"
   ]
  },
  {
   "cell_type": "markdown",
   "metadata": {},
   "source": [
    "**Parameters**\n",
    "* `a`: `Number`\n",
    "    * $a$ in $\\Gamma_a$, given along with $S$, $f$, and $B$ as parameters of `get_input()`.\n",
    "* `n`: `Int`\n",
    "    * $n$ in the definition of $\\Gamma_a^{\\pm}$.\n",
    "* `zeroList`: `Array` of `Number`\n",
    "    * List of zeroes of $\\Delta(\\lambda)$. Found by human input with the aid of `plot_levelCurves()`.\n",
    "* `infty*`: `Number`\n",
    "    * Range of search when finding points in $\\Gamma$. Default to the global variables `INFTY`.\n",
    "* `nGon*`: `Int`\n",
    "    * $n$ in $n$-gon.\n",
    "\n",
    "**Returns**\n",
    "* `get_gamma`: `Tuple{Array, Array, Array, Array}`\n",
    "    * Returns the contours $\\Gamma_a^+$, $\\Gamma_a^-$, $\\Gamma_0^+$, and $\\Gamma_0^-$ as arrays of numbers in the complex plane. Note that each of these contour is an array of arrays, reflecting the fact that it is a union of individual paths.\n",
    "\n",
    "**Example**"
   ]
  },
  {
   "cell_type": "code",
   "execution_count": null,
   "metadata": {},
   "outputs": [],
   "source": [
    "n = 2\n",
    "a = 1\n",
    "zeroList = [3+3*sqrt(3)*im, 2+2*sqrt(3)*im, 0+0*im, 0+5*im, 0-5*im]\n",
    "(gammaAPlus, gammaAMinus, gamma0Plus, gamma0Minus) = get_gamma(a, n, zeroList)"
   ]
  },
  {
   "cell_type": "code",
   "execution_count": null,
   "metadata": {},
   "outputs": [],
   "source": [
    "gammaAPlus"
   ]
  },
  {
   "cell_type": "code",
   "execution_count": null,
   "metadata": {},
   "outputs": [],
   "source": [
    "gammaAMinus"
   ]
  },
  {
   "cell_type": "code",
   "execution_count": null,
   "metadata": {},
   "outputs": [],
   "source": [
    "gamma0Plus"
   ]
  },
  {
   "cell_type": "code",
   "execution_count": null,
   "metadata": {},
   "outputs": [],
   "source": [
    "gamma0Minus"
   ]
  },
  {
   "cell_type": "markdown",
   "metadata": {},
   "source": [
    "### `plot_contour(gamma; infty)`\n",
    "\n",
    "Visualize the contours $\\Gamma_a^+$, $\\Gamma_a^-$, $\\Gamma_0^+$, $\\Gamma_0^-$."
   ]
  },
  {
   "cell_type": "code",
   "execution_count": null,
   "metadata": {},
   "outputs": [],
   "source": [
    "function plot_contour(gamma::Array; infty = INFTY)\n",
    "    sectorPathList = Array{Any}(length(gamma),1)\n",
    "    for i = 1:length(gamma)\n",
    "        # For each sector path in the gamma contour, plot the points in the path and connect them in the order in which they appear in the path\n",
    "        sectorPath = gamma[i]\n",
    "        # labels = map(string, collect(1:1:length(sectorPath)))\n",
    "        sectorPathList[i] = layer(x = real(sectorPath), y = imag(sectorPath), Geom.line(preserve_order=true))\n",
    "    end\n",
    "    coord = Coord.cartesian(xmin=-infty, xmax=infty, ymin=-infty, ymax=infty, fixed=true)\n",
    "    Gadfly.plot(Guide.xlabel(\"Re\"), Guide.ylabel(\"Im\"), coord, sectorPathList...)\n",
    "end"
   ]
  },
  {
   "cell_type": "markdown",
   "metadata": {},
   "source": [
    "**Parameters**\n",
    "* `gamma`: `Array`\n",
    "    * Contour obtained from `get_gamma()`.\n",
    "* `infty*`: `Number`\n",
    "    * Range of search when finding points in $\\Gamma$. Default to the global variable `INFTY`.\n",
    "\n",
    "**Returns**\n",
    "* `plot_contour`: `None`\n",
    "    * Plots the contour $\\Gamma$ in the complex plane.\n",
    "\n",
    "**Example**"
   ]
  },
  {
   "cell_type": "code",
   "execution_count": null,
   "metadata": {},
   "outputs": [],
   "source": [
    "n = 3\n",
    "a = im\n",
    "zeroList = [3+3*sqrt(3)*im, 2+2*sqrt(3)*im, 0+0*im, 0+5*im, 0-5*im, 4]\n",
    "(gammaAPlus, gammaAMinus, gamma0Plus, gamma0Minus) = get_gamma(a, n, zeroList)\n",
    "gamma = collect(Iterators.flatten([gammaAPlus, gammaAMinus, gamma0Plus, gamma0Minus]))"
   ]
  },
  {
   "cell_type": "code",
   "execution_count": null,
   "metadata": {},
   "outputs": [],
   "source": [
    "plot_contour(gamma)"
   ]
  },
  {
   "cell_type": "code",
   "execution_count": null,
   "metadata": {},
   "outputs": [],
   "source": [
    "n = 2\n",
    "a = 1\n",
    "(gammaAPlus, gammaAMinus, gamma0Plus, gamma0Minus) = get_gamma(a, n, zeroList)\n",
    "gamma = collect(Iterators.flatten([gammaAPlus, gammaAMinus, gamma0Plus, gamma0Minus]))"
   ]
  },
  {
   "cell_type": "code",
   "execution_count": null,
   "metadata": {},
   "outputs": [],
   "source": [
    "plot_contour(gamma)"
   ]
  },
  {
   "cell_type": "code",
   "execution_count": null,
   "metadata": {},
   "outputs": [],
   "source": [
    "n = 4\n",
    "a = 1\n",
    "(gammaAPlus, gammaAMinus, gamma0Plus, gamma0Minus) = get_gamma(a, n, zeroList)\n",
    "gamma = collect(Iterators.flatten([gammaAPlus, gammaAMinus, gamma0Plus, gamma0Minus]))"
   ]
  },
  {
   "cell_type": "code",
   "execution_count": null,
   "metadata": {},
   "outputs": [],
   "source": [
    "plot_contour(gamma)"
   ]
  },
  {
   "cell_type": "markdown",
   "metadata": {},
   "source": [
    "## `solve_IBVP(L, U, a, zeroList, f; pDerivMatrix, infty)`\n",
    "\n",
    "Computes the solution\n",
    "\\begin{align*}\n",
    "q(x,t) &= f_x\\left(e^{-a\\lambda^n t}F_\\lambda(f)\\right)\\\\\n",
    "&= \\int_{\\Gamma_0^+}e^{i\\lambda x}e^{-a\\lambda^n t}F_\\lambda^+(f)\\,d\\lambda + \\int_{\\Gamma_a^+}e^{i\\lambda x}e^{-a\\lambda^n t}F_\\lambda^+(f)\\,d\\lambda + \\int_{\\Gamma_0^-}e^{i\\lambda x}e^{-a\\lambda^n t}F_\\lambda^-(f)\\,d\\lambda + \\int_{\\Gamma_a^-}e^{i\\lambda x}e^{-a\\lambda^n t}F_\\lambda^-(f)\\,d\\lambda.\n",
    "\\end{align*}"
   ]
  },
  {
   "cell_type": "code",
   "execution_count": null,
   "metadata": {},
   "outputs": [],
   "source": [
    "# Function to solve a given IBVP with given L, U, and f (p15 (3.2)), where f is as in 2.12b (initial condition q(x,0))\n",
    "# pDerivMatrix in this case would be user input but it's all zeroes\n",
    "function solve_IBVP(L::LinearDifferentialOperator, U::VectorBoundaryForm, a::Number, zeroList::Array, f::Function; pDerivMatrix = get_pDerivMatrix(L), infty = INFTY)\n",
    "    n = length(L.pFunctions)-1\n",
    "    adjointU = get_adjointU(L, U, pDerivMatrix)\n",
    "    (gammaAPlus, gammaAMinus, gamma0Plus, gamma0Minus) = get_gamma(a, n, zeroList)\n",
    "    function q(x,t)\n",
    "        integrandPlus(lambda) = e^(im*lambda*x)*e^(-a*lambda^n*t) * get_FPlusMinusLambda(adjointU; symbolic = false, lambda = lambda)[1](f)\n",
    "        println(\"integrandPlus = $(integrandPlus(1+im))\")\n",
    "        integrandMinus(lambda) = e^(im*lambda*x)*e^(-a*lambda^n*t) * get_FPlusMinusLambda(adjointU; symbolic = false, lambda = lambda)[2](f)\n",
    "        println(\"integrandMinus = $(integrandMinus(1+im))\")\n",
    "        # Integrate over individual paths in the Gamma contours\n",
    "        integralGamma0Plus = 0\n",
    "        for path in gamma0Plus\n",
    "            if length(path) == 0\n",
    "                path = [im,im]\n",
    "            end\n",
    "            integralGamma0Plus += quadgk(integrandPlus, path...)[1]\n",
    "        end\n",
    "        println(\"int_0_+ = $integralGamma0Plus\")\n",
    "        integralGammaAPlus = 0\n",
    "        for path in gammaAPlus\n",
    "            if length(path) == 0\n",
    "                path = [im,im]\n",
    "            end\n",
    "            integralGammaAPlus += quadgk(integrandPlus, path...)[1]\n",
    "        end\n",
    "        println(\"int_a_+ = $integralGammaAPlus\")\n",
    "        integralGamma0Minus = 0\n",
    "        for path in gamma0Minus\n",
    "            if length(path) == 0\n",
    "                path = [-im,-im]\n",
    "            end\n",
    "            integralGamma0Minus += quadgk(integrandMinus, path...)[1]\n",
    "        end\n",
    "        println(\"int_0_- = $integralGamma0Minus\")\n",
    "        integralGammaAMinus = 0\n",
    "        for path in gammaAMinus\n",
    "            if length(path) == 0\n",
    "                path = [-im,-im]\n",
    "            end\n",
    "            integralGammaAMinus += quadgk(integrandMinus, path...)[1]\n",
    "        end\n",
    "        println(\"int_a_- = $integralGammaAMinus\")\n",
    "        return (integralGamma0Plus + integralGammaAPlus + integralGamma0Minus + integralGammaAMinus)\n",
    "    end\n",
    "    return q\n",
    "end"
   ]
  },
  {
   "cell_type": "markdown",
   "metadata": {},
   "source": [
    "**Parameters**\n",
    "* `L`: `LinearDifferentialOperator`\n",
    "    * Linear differential operator in the differential equation of the IBVP.\n",
    "* `U`: `VectorBoundaryForm`\n",
    "    * Vector boundary form encoding the boundary conditions of the IBVP.\n",
    "* `a`: `Number`\n",
    "    * Coefficient of `L` in the differential equation.\n",
    "* `zeroList`: `Array`\n",
    "    * List of (approximate) zeroes of $\\Delta(\\lambda)$.\n",
    "* `f`: `Function`\n",
    "    * Initial condition of the IBVP. It also satisfies the boundary conditions.\n",
    "* `pDerivMatrix*`: `Array`\n",
    "    * Matrix whose $(i+1)(j+1)$-entry is the $j$th derivative of $p_i$ (`L.pFunctions[i]`) implemented as a `Function`, `Number`, or `SymPy.Sym`. Default to the output of `get_pDerivMatrix(L)`.\n",
    "* `infty*`: `Number`\n",
    "    * Range of search when finding points in $\\Gamma$. Default to the global variable `INFTY`.\n",
    "    \n",
    "**Returns**\n",
    "* `solve_IBVP`: `Function`\n",
    "    * Returns a function `q(x,t)` that solves the IBVP.\n",
    "\n",
    "**Example**\n",
    "\n",
    "Recall that the IBVP is posed as follows.\n",
    "\n",
    "Define $n$ linearly independent boundary forms $\\{B_j: C\\to\\mathbb{C}\\mid j\\in\\{1,2,\\ldots,n\\}\\}$\n",
    "\\begin{align*}\n",
    "B_j\\phi &= \\sum_{k=0}^{n-1} \\left(b_{jk}\\phi^{(k)}(0) + \\beta_{jk}\\phi^{(k)}(1)\\right),\\quad j\\in \\{1,2,\\ldots, n\\}.\n",
    "\\end{align*}\n",
    "Define \n",
    "\\begin{align*}\n",
    "\\Phi &= \\{\\phi\\in C: B_j\\phi = 0\\,\\forall j \\in \\{1,2,\\ldots, n\\}\\}.\n",
    "\\end{align*}\n",
    "Let $S:\\Phi\\to C$ be the linear differential operator \n",
    "$$S\\phi(x) = (-i)^n \\phi^{(n)}(x).$$\n",
    "\n",
    "Let $a\\in\\mathbb{C}$ be a constant.\n",
    "\n",
    "Consider the IBVP\n",
    "\\begin{alignat*}{2}\n",
    "(\\partial_t + aS)q(x,t) &= 0,\\quad&(x,t)\\in (0,1)\\times (0,T)\\\\\n",
    "q(x,0) = f(x)&\\in\\Phi,\\quad &x\\in [0,1]\\\\\n",
    "q(\\cdot, t) &\\in\\Phi,\\quad &t\\in [0,T],\n",
    "\\end{alignat*}\n",
    "\n",
    "**Case 1.1**\n",
    "\n",
    "Suppose $n=2$. Then\n",
    "$$S\\phi(x)= (-i)^2 \\phi^{(2)}(x) = -\\phi^{(2)}.$$\n",
    "Suppose $a=e^{i\\theta}$ for $\\theta\\in [-\\frac{\\pi}{2}, \\frac{\\pi}{2}]$. \n",
    "\n",
    "For $\\beta_0, \\beta_1\\in\\hat{\\mathbb{C}}$ ($\\mathbb{C}$ including $0$ and $\\infty$), consider the following boundary conditions $\\Phi$:\n",
    "\\begin{align*}\n",
    "\\varphi(0) + \\beta_0\\varphi(1) &= 0\\\\\n",
    "\\varphi'(0) + \\beta_1\\varphi'(1) &= 0.\n",
    "\\end{align*}\n",
    "\n",
    "We note that in complete form,\n",
    "* $S$ is given by\n",
    "$$S\\phi = p_0 \\phi^{(2)} + p_1 \\phi^{(1)} + p_2 \\phi^{(0)}$$\n",
    "where $p_0=-1$, $p_1=p_2=0$.\n",
    "* $\\Phi$ is given by \n",
    "\\begin{align*}\n",
    "1\\cdot \\varphi(0) + \\beta_0\\cdot \\varphi(1) + 0\\cdot \\varphi^{(1)}(0) + 0\\cdot \\varphi^{(1)}(1) &= 0\\\\\n",
    "0\\cdot \\varphi(0) + 0\\cdot \\varphi(1) + 1\\cdot \\varphi^{(1)}(0) + \\beta_1\\cdot \\varphi^{(1)}(1) &= 0.\n",
    "\\end{align*}\n",
    "Thus,\n",
    "$$b = \\begin{bmatrix}1&0\\\\0&1\\end{bmatrix},\\quad \\beta = \\begin{bmatrix}\\beta_0&0\\\\0&\\beta_1\\end{bmatrix}.$$\n",
    "\n",
    "Thus, $f(x)\\in\\Phi$ needs to satisfy \n",
    "\\begin{align*}\n",
    "Uf = \\begin{bmatrix}\n",
    "1&0&\\beta_0&0\\\\\n",
    "0&1&0&\\beta_1\n",
    "\\end{bmatrix} \\begin{bmatrix}f(0)\\\\f'(0)\\\\f(1)\\\\f'(1)\\end{bmatrix} = 0.\n",
    "\\end{align*}"
   ]
  },
  {
   "cell_type": "code",
   "execution_count": null,
   "metadata": {},
   "outputs": [],
   "source": [
    "n = 2\n",
    "beta0 = -1\n",
    "beta1 = -1\n",
    "theta = 0\n",
    "a = e^(im*theta)\n",
    "x = symbols(\"x\")\n",
    "fSym = sin(x*2*PI)\n",
    "f(x) = sin(x*2*pi)"
   ]
  },
  {
   "cell_type": "code",
   "execution_count": null,
   "metadata": {},
   "outputs": [],
   "source": [
    "t = symbols(\"t\")\n",
    "symPFunctions = [-1 0 0]\n",
    "interval = (0,1)\n",
    "symL = SymLinearDifferentialOperator(symPFunctions, interval, t)\n",
    "S = get_L(symL)\n",
    "b = [1 0; 0 1]\n",
    "beta = [beta0 0; 0 beta1]\n",
    "B = VectorBoundaryForm(b, beta)\n",
    "(L, U, ) = get_input(a, S, fSym, B)"
   ]
  },
  {
   "cell_type": "code",
   "execution_count": null,
   "metadata": {},
   "outputs": [],
   "source": [
    "adjointU = get_adjointU(L, U)\n",
    "delta = get_delta(adjointU; symbolic = true)\n",
    "prettyPrint(delta)"
   ]
  },
  {
   "cell_type": "code",
   "execution_count": null,
   "metadata": {},
   "outputs": [],
   "source": [
    "separatedDelta = separate_real_imaginary(delta)\n",
    "prettyPrint(simplify(separatedDelta))"
   ]
  },
  {
   "cell_type": "code",
   "execution_count": null,
   "metadata": {},
   "outputs": [],
   "source": [
    "plot_levelCurves(separatedDelta; width = 2500, height = 2000)"
   ]
  },
  {
   "cell_type": "code",
   "execution_count": null,
   "metadata": {},
   "outputs": [],
   "source": [
    "zeroList = [0, 2*pi, -2*pi]\n",
    "(gammaAPlus, gammaAMinus, gamma0Plus, gamma0Minus) = get_gamma(a, n, zeroList)\n",
    "gamma = collect(Iterators.flatten([gammaAPlus, gammaAMinus, gamma0Plus, gamma0Minus]))\n",
    "plot_contour(gamma)"
   ]
  },
  {
   "cell_type": "code",
   "execution_count": null,
   "metadata": {},
   "outputs": [],
   "source": [
    "q = solve_IBVP(L, U, a, zeroList, f)"
   ]
  },
  {
   "cell_type": "code",
   "execution_count": null,
   "metadata": {},
   "outputs": [],
   "source": [
    "# e^(im*lambda*x)*e^(-a*lambda^n*t) * get_FPlusMinusLambda(adjointU; symbolic = true, lambda = lambda)[2](f)\n",
    "test(lambda) = get_FPlusMinusLambda(adjointU; symbolic = true, lambda = lambda)\n",
    "# test(1+im)"
   ]
  },
  {
   "cell_type": "code",
   "execution_count": null,
   "metadata": {},
   "outputs": [
    {
     "name": "stdout",
     "output_type": "stream",
     "text": [
      "integrandPlus = 0.013322881364856017 - 0.006751819530341708im\n"
     ]
    }
   ],
   "source": [
    "q(1/2,1/2)"
   ]
  },
  {
   "cell_type": "markdown",
   "metadata": {},
   "source": [
    "**Case 1.2**\n",
    "\n",
    "Now, for $b_0, b_1\\in\\hat{\\mathbb{C}}$, consider the following boundary conditions $\\Phi$:\n",
    "\\begin{align*}\n",
    "\\varphi(0) + b_0\\varphi'(0) &= 0\\\\\n",
    "\\varphi(1) + b_1\\varphi'(1) &= 0.\n",
    "\\end{align*}\n",
    "We note that in complete form,\n",
    "* $\\Phi$ is given by \n",
    "\\begin{align*}\n",
    "1\\cdot \\varphi(0) + 0\\cdot \\varphi(1) + b_0\\cdot \\varphi^{(1)}(0) + 0\\cdot \\varphi^{(1)}(1) &= 0\\\\\n",
    "0\\cdot \\varphi(0) + 1\\cdot \\varphi(1) + 0\\cdot \\varphi^{(1)}(0) + b_1\\cdot \\varphi^{(1)}(1) &= 0.\n",
    "\\end{align*}\n",
    "Thus,\n",
    "$$b = \\begin{bmatrix}1&b_0\\\\ 0&0\\end{bmatrix},\\quad \\beta = \\begin{bmatrix}0&0\\\\ 1&b_1\\end{bmatrix}.$$\n",
    "Thus, $f(x)\\in\\Phi$ needs to satisfy \n",
    "\\begin{align*}\n",
    "Uf = \\begin{bmatrix}\n",
    "1&b_0&0&1\\\\\n",
    "0&0&1&b_1\n",
    "\\end{bmatrix} \\begin{bmatrix}f(0)\\\\f'(0)\\\\f(1)\\\\f'(1)\\end{bmatrix} = 0.\n",
    "\\end{align*}"
   ]
  },
  {
   "cell_type": "code",
   "execution_count": null,
   "metadata": {},
   "outputs": [],
   "source": [
    "# TBD"
   ]
  },
  {
   "cell_type": "markdown",
   "metadata": {},
   "source": [
    "**Case 2.1**\n",
    "\n",
    "Suppose $n=3$. Then \n",
    "$$S\\phi(x) = (-i)^3 \\phi^{(3)}(x) = i\\phi^{(3)}.$$\n",
    "Suppose $a=\\pm i$.\n",
    "\n",
    "For $\\beta_0, \\beta_1, \\beta_2\\in\\hat{\\mathbb{C}}$ ($\\mathbb{C}$ including $0$ and $\\infty$), consider the following boundary conditions $\\Phi$:\n",
    "\\begin{align*}\n",
    "\\phi(0) + \\beta_0\\phi(1) &= 0\\\\\n",
    "\\phi^{(1)}(0) + \\beta_1\\phi^{(1)}(1) &= 0\\\\\n",
    "\\phi^{(2)}(0) + \\beta_2\\phi^{(2)}(1) &= 0.\n",
    "\\end{align*}\n",
    "\n",
    "We note that in complete form,\n",
    "* $S$ is given by\n",
    "$$S\\phi = p_0 \\phi^{(3)} + p_1 \\phi^{(2)} + p_2 \\phi^{(1)} + p_3\\phi$$\n",
    "where $p_0=i$, $p_1=p_2=p_3=0$.\n",
    "* $\\Phi$ is given by \n",
    "\\begin{align*}\n",
    "1\\cdot \\phi(0) + \\beta_0\\cdot \\phi(1) + 0\\cdot \\phi^{(1)}(0) + 0\\cdot\\phi^{(1)}(1) + 0\\cdot \\phi^{(2)}(0) + 0\\cdot\\phi^{(2)}(1) &= 0\\\\\n",
    "0\\cdot \\phi(0) + 0\\cdot \\phi(1) + 1\\cdot \\phi^{(1)}(0) + \\beta_1\\cdot \\phi^{(1)}(1) + 0\\cdot \\phi^{(2)}(0) + 0\\cdot\\phi^{(2)}(1) &= 0\\\\\n",
    "0\\cdot \\phi(0) + 0\\cdot \\phi(1) + 0\\cdot \\phi^{(1)}(0) + 0\\cdot \\phi^{(1)}(1) + 1\\cdot \\phi^{(2)}(0) + \\beta_2\\cdot \\phi^{(2)}(1) &= 0.\n",
    "\\end{align*}\n",
    "Thus,\n",
    "$$b = \\begin{bmatrix}1&0&0\\\\0&1&0\\\\ 0&0&1\\end{bmatrix},\\quad \\beta = \\begin{bmatrix}\\beta_0&0&0\\\\0&\\beta_1&0\\\\ 0&0&\\beta_2\\end{bmatrix}.$$\n",
    "Thus, $f(x)\\in\\Phi$ needs to satisfy \n",
    "\\begin{align*}\n",
    "Uf = \\begin{bmatrix}\n",
    "1&0&0&\\beta_0&0&0\\\\\n",
    "0&1&0&0&\\beta_1&0\\\\\n",
    "0&0&1&0&0&\\beta_2\n",
    "\\end{bmatrix} \\begin{bmatrix}f(0)\\\\f'(0)\\\\f''(0)\\\\f(1)\\\\f'(1)\\\\f''(1)\\end{bmatrix} = 0.\n",
    "\\end{align*}"
   ]
  },
  {
   "cell_type": "code",
   "execution_count": null,
   "metadata": {},
   "outputs": [],
   "source": [
    "# TBD"
   ]
  },
  {
   "cell_type": "markdown",
   "metadata": {},
   "source": [
    "**Case 2.2**\n",
    "\n",
    "Now, for $b_0\\in\\hat{\\mathbb{C}}$, consider the following boundary conditions $\\Phi$:\n",
    "\\begin{align*}\n",
    "\\varphi(0) &= 0\\\\\n",
    "\\varphi(1) &= 1\\\\\n",
    "\\varphi^{(1)}(0) + b_0\\varphi^{(1)}(1) &= 0.\n",
    "\\end{align*}\n",
    "We note that in complete form,\n",
    "* $\\Phi$ is given by \n",
    "\\begin{align*}\n",
    "1\\cdot \\varphi(0) + 0\\cdot \\varphi(1) + 0\\cdot \\varphi^{(1)}(0) + 0\\cdot \\varphi^{(1)}(1) +  0\\cdot \\varphi^{(2)}(0) + 0\\cdot \\varphi^{(2)}(1)&= 0\\\\\n",
    "0\\cdot \\varphi(0) + 1\\cdot \\varphi(1) + 0\\cdot \\varphi^{(1)}(0) + 0\\cdot \\varphi^{(1)}(1) +  0\\cdot \\varphi^{(2)}(0) + 0\\cdot \\varphi^{(2)}(1)&= 0\\\\\n",
    "0\\cdot \\varphi(0) + 0\\cdot \\varphi(1) + 1\\cdot \\varphi^{(1)}(0) + b_0\\cdot \\varphi^{(1)}(1) +  0\\cdot \\varphi^{(2)}(0) + 0\\cdot \\varphi^{(2)}(1)&= 0\n",
    "\\end{align*}\n",
    "Thus,\n",
    "$$b = \\begin{bmatrix}1&0&0\\\\ 0&0&0\\\\ 0&1&0\\end{bmatrix},\\quad \\beta = \\begin{bmatrix}0&0&0\\\\ 1&0&0\\\\ 0&b_0&0\\end{bmatrix}.$$\n",
    "Thus, $f(x)\\in\\Phi$ needs to satisfy \n",
    "\\begin{align*}\n",
    "Uf = \\begin{bmatrix}\n",
    "1&0&0& 0&0&0\\\\\n",
    "0&0&0& 1&0&0\\\\\n",
    "0&1&0& 0&b_0&0\n",
    "\\end{bmatrix} \\begin{bmatrix}f(0)\\\\f'(0)\\\\f''(0)\\\\f(1)\\\\f'(1)\\\\f''(1)\\end{bmatrix} = 0.\n",
    "\\end{align*}"
   ]
  },
  {
   "cell_type": "code",
   "execution_count": null,
   "metadata": {},
   "outputs": [],
   "source": [
    "# TBD"
   ]
  }
 ],
 "metadata": {
  "kernelspec": {
   "display_name": "Julia 0.6.4",
   "language": "julia",
   "name": "julia-0.6"
  },
  "language_info": {
   "file_extension": ".jl",
   "mimetype": "application/julia",
   "name": "julia",
   "version": "0.6.4"
  },
  "toc": {
   "base_numbering": 1,
   "nav_menu": {},
   "number_sections": true,
   "sideBar": true,
   "skip_h1_title": false,
   "title_cell": "Table of Contents",
   "title_sidebar": "Contents",
   "toc_cell": false,
   "toc_position": {
    "height": "calc(100% - 180px)",
    "left": "10px",
    "top": "150px",
    "width": "464px"
   },
   "toc_section_display": true,
   "toc_window_display": true
  }
 },
 "nbformat": 4,
 "nbformat_minor": 2
}
