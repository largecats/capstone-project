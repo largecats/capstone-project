{
 "cells": [
  {
   "cell_type": "markdown",
   "metadata": {},
   "source": [
    "* Course: YSC4103 MCS Capstone\n",
    "* Date created: 2019/02/25\n",
    "* Name: Linfan XIAO\n",
    "* Description: Implement the Fokas method as described in \"Evolution PDEs and augmented eigenfunctions. Finite interval.\"\n",
    "\n"
   ]
  },
  {
   "cell_type": "markdown",
   "metadata": {},
   "source": [
    "# Importing packages"
   ]
  },
  {
   "cell_type": "code",
   "execution_count": 100,
   "metadata": {},
   "outputs": [],
   "source": [
    "using SymPy\n",
    "using PyCall\n",
    "sympy = pyimport(\"sympy\")\n",
    "# using Roots\n",
    "using Distributions\n",
    "# using IntervalArithmetic\n",
    "# using IntervalRootFinding\n",
    "using ApproxFun\n",
    "\n",
    "using Plots"
   ]
  },
  {
   "cell_type": "markdown",
   "metadata": {},
   "source": [
    "# Global variables"
   ]
  },
  {
   "cell_type": "markdown",
   "metadata": {},
   "source": [
    "## `tol`\n",
    "\n",
    "Error tolerance level."
   ]
  },
  {
   "cell_type": "code",
   "execution_count": 101,
   "metadata": {},
   "outputs": [
    {
     "data": {
      "text/plain": [
       "1.0e-5"
      ]
     },
     "execution_count": 101,
     "metadata": {},
     "output_type": "execute_result"
    }
   ],
   "source": [
    "tol = 1e-05"
   ]
  },
  {
   "cell_type": "markdown",
   "metadata": {},
   "source": [
    "## `digits`\n",
    "\n",
    "The number of digits to display in symbolic expressions."
   ]
  },
  {
   "cell_type": "code",
   "execution_count": 102,
   "metadata": {},
   "outputs": [
    {
     "data": {
      "text/plain": [
       "3"
      ]
     },
     "execution_count": 102,
     "metadata": {},
     "output_type": "execute_result"
    }
   ],
   "source": [
    "digits = 3"
   ]
  },
  {
   "cell_type": "markdown",
   "metadata": {},
   "source": [
    "## `infty`\n",
    "\n",
    "A number representing infinity in numerical approximations."
   ]
  },
  {
   "cell_type": "code",
   "execution_count": 103,
   "metadata": {},
   "outputs": [
    {
     "data": {
      "text/plain": [
       "10"
      ]
     },
     "execution_count": 103,
     "metadata": {},
     "output_type": "execute_result"
    }
   ],
   "source": [
    "infty = 10"
   ]
  },
  {
   "cell_type": "markdown",
   "metadata": {},
   "source": [
    "## `t`\n",
    "\n",
    "Free symbol in the unknown function $x(t)$ in the differential equation $Lx=0$."
   ]
  },
  {
   "cell_type": "code",
   "execution_count": 104,
   "metadata": {},
   "outputs": [
    {
     "data": {
      "text/latex": [
       "$$t$$"
      ],
      "text/plain": [
       "t"
      ]
     },
     "execution_count": 104,
     "metadata": {},
     "output_type": "execute_result"
    }
   ],
   "source": [
    "t = symbols(\"t\")"
   ]
  },
  {
   "cell_type": "markdown",
   "metadata": {},
   "source": [
    "## `lambda`\n",
    "Free symbol in an exponential polynomial $\\delta(\\lambda)$ where $\\lambda\\in\\mathbb{C}$."
   ]
  },
  {
   "cell_type": "code",
   "execution_count": 105,
   "metadata": {},
   "outputs": [
    {
     "data": {
      "text/latex": [
       "$$\\lambda$$"
      ],
      "text/plain": [
       "lambda"
      ]
     },
     "execution_count": 105,
     "metadata": {},
     "output_type": "execute_result"
    }
   ],
   "source": [
    "lambda = symbols(\"lambda\")"
   ]
  },
  {
   "cell_type": "markdown",
   "metadata": {},
   "source": [
    "## `x, y`\n",
    "\n",
    "Real free symbols $x, y$ that are the real and complex parts of $\\lambda$, i.e., $\\lambda=x+iy$."
   ]
  },
  {
   "cell_type": "code",
   "execution_count": 106,
   "metadata": {},
   "outputs": [
    {
     "data": {
      "text/latex": [
       "$$x$$"
      ],
      "text/plain": [
       "x"
      ]
     },
     "execution_count": 106,
     "metadata": {},
     "output_type": "execute_result"
    }
   ],
   "source": [
    "x = symbols(\"x\", real = true)"
   ]
  },
  {
   "cell_type": "code",
   "execution_count": 107,
   "metadata": {},
   "outputs": [
    {
     "data": {
      "text/latex": [
       "$$y$$"
      ],
      "text/plain": [
       "y"
      ]
     },
     "execution_count": 107,
     "metadata": {},
     "output_type": "execute_result"
    }
   ],
   "source": [
    "y = symbols(\"y\", real = true)"
   ]
  },
  {
   "cell_type": "markdown",
   "metadata": {},
   "source": [
    "## `sympy_Expr`s\n",
    "\n",
    "Sample expressions of type addition, multiplication, power, and exponential in `SymPy`."
   ]
  },
  {
   "cell_type": "code",
   "execution_count": 108,
   "metadata": {},
   "outputs": [
    {
     "data": {
      "text/latex": [
       "$$x + 1$$"
      ],
      "text/plain": [
       "x + 1"
      ]
     },
     "execution_count": 108,
     "metadata": {},
     "output_type": "execute_result"
    }
   ],
   "source": [
    "sympyAddExpr = 1 + x"
   ]
  },
  {
   "cell_type": "code",
   "execution_count": 109,
   "metadata": {},
   "outputs": [
    {
     "data": {
      "text/latex": [
       "$$2 x$$"
      ],
      "text/plain": [
       "2*x"
      ]
     },
     "execution_count": 109,
     "metadata": {},
     "output_type": "execute_result"
    }
   ],
   "source": [
    "sympyMultExpr = 2*x"
   ]
  },
  {
   "cell_type": "code",
   "execution_count": 110,
   "metadata": {},
   "outputs": [
    {
     "data": {
      "text/latex": [
       "$$x^{2}$$"
      ],
      "text/plain": [
       " 2\n",
       "x "
      ]
     },
     "execution_count": 110,
     "metadata": {},
     "output_type": "execute_result"
    }
   ],
   "source": [
    "sympyPowerExpr = x^2"
   ]
  },
  {
   "cell_type": "code",
   "execution_count": 111,
   "metadata": {},
   "outputs": [
    {
     "data": {
      "text/latex": [
       "$$e^{x}$$"
      ],
      "text/plain": [
       " x\n",
       "e "
      ]
     },
     "execution_count": 111,
     "metadata": {},
     "output_type": "execute_result"
    }
   ],
   "source": [
    "sympyExpExpr = e^x"
   ]
  },
  {
   "cell_type": "markdown",
   "metadata": {},
   "source": [
    "# Helper functions"
   ]
  },
  {
   "cell_type": "markdown",
   "metadata": {},
   "source": [
    "## `check_all(array, condition)`\n",
    "\n",
    "Checks whether all elements in an array satisfy a given condition."
   ]
  },
  {
   "cell_type": "code",
   "execution_count": 112,
   "metadata": {},
   "outputs": [
    {
     "data": {
      "text/plain": [
       "check_all (generic function with 1 method)"
      ]
     },
     "execution_count": 112,
     "metadata": {},
     "output_type": "execute_result"
    }
   ],
   "source": [
    "function check_all(array, condition)\n",
    "    for x in array\n",
    "        if !condition(x)\n",
    "            return false\n",
    "        end\n",
    "    end\n",
    "    return true\n",
    "end"
   ]
  },
  {
   "cell_type": "markdown",
   "metadata": {},
   "source": [
    "**Parameters**\n",
    "* `array`: `Array`\n",
    "    * Input array to be checked. Generic, not necessarily homogeneous.\n",
    "* `condition`: `Function: Bool`\n",
    "    * Boolean function to be applied to each element in the array.\n",
    "\n",
    "**Returns**\n",
    "* `check_all`: `Bool`\n",
    "    * Returns `true` if all elements in `array` satisfy `condition` and `false` if any element does not satisfy the condition.\n",
    "    \n",
    "**Example**"
   ]
  },
  {
   "cell_type": "code",
   "execution_count": 113,
   "metadata": {},
   "outputs": [
    {
     "data": {
      "text/plain": [
       "false"
      ]
     },
     "execution_count": 113,
     "metadata": {},
     "output_type": "execute_result"
    }
   ],
   "source": [
    "array = [0,1,2,3]\n",
    "condition = x -> x>2\n",
    "check_all(array, condition)"
   ]
  },
  {
   "cell_type": "markdown",
   "metadata": {},
   "source": [
    "## `check_any(array, condition)`\n",
    "\n",
    "Checks whether any element in an array satisfy a given condition."
   ]
  },
  {
   "cell_type": "code",
   "execution_count": 114,
   "metadata": {},
   "outputs": [
    {
     "data": {
      "text/plain": [
       "check_any (generic function with 1 method)"
      ]
     },
     "execution_count": 114,
     "metadata": {},
     "output_type": "execute_result"
    }
   ],
   "source": [
    "function check_any(array, condition)\n",
    "    for x in array\n",
    "        if condition(x)\n",
    "            return true\n",
    "        end\n",
    "    end\n",
    "    return false\n",
    "end"
   ]
  },
  {
   "cell_type": "markdown",
   "metadata": {},
   "source": [
    "**Parameters**\n",
    "* `array`: `Array`\n",
    "    * Input array to be checked. Generic, not necessarily homogeneous.\n",
    "* `condition`: `Function: Bool`\n",
    "    * Boolean function to be applied to each element in the array.\n",
    "\n",
    "**Returns**\n",
    "* `check_all`: `Bool`\n",
    "    * Returns `true` if there exists an element in the array that satisfies a given condition and `false` if no element satisfies the condition.\n",
    "    \n",
    "**Example**"
   ]
  },
  {
   "cell_type": "code",
   "execution_count": 115,
   "metadata": {},
   "outputs": [
    {
     "data": {
      "text/plain": [
       "true"
      ]
     },
     "execution_count": 115,
     "metadata": {},
     "output_type": "execute_result"
    }
   ],
   "source": [
    "array = [0,1,2,3]\n",
    "condition = x -> x>2\n",
    "check_any(array, condition)"
   ]
  },
  {
   "cell_type": "markdown",
   "metadata": {},
   "source": [
    "## `set_tol(x, y)`\n",
    "\n",
    "Sets an appropriate tolerance for checking whether two numbers are approximately equal."
   ]
  },
  {
   "cell_type": "code",
   "execution_count": 116,
   "metadata": {},
   "outputs": [
    {
     "data": {
      "text/plain": [
       "set_tol (generic function with 1 method)"
      ]
     },
     "execution_count": 116,
     "metadata": {},
     "output_type": "execute_result"
    }
   ],
   "source": [
    "function set_tol(x::Number, y::Number)\n",
    "    return tol * mean([x y]) # tol is global variable\n",
    "end"
   ]
  },
  {
   "cell_type": "markdown",
   "metadata": {},
   "source": [
    "**Parameters**\n",
    "* `x`, `y`: `Number`\n",
    "    * Numbers to compare.\n",
    "\n",
    "**Returns**\n",
    "* `set_tol`: `Number`\n",
    "    * Returns a tolerance within which `x` and `y` are considered approximately equal.\n",
    "\n",
    "**Example**"
   ]
  },
  {
   "cell_type": "code",
   "execution_count": 117,
   "metadata": {},
   "outputs": [
    {
     "data": {
      "text/plain": [
       "0.00017500000000000003"
      ]
     },
     "execution_count": 117,
     "metadata": {},
     "output_type": "execute_result"
    }
   ],
   "source": [
    "x = 14\n",
    "y = 21\n",
    "set_tol(x,y)"
   ]
  },
  {
   "cell_type": "markdown",
   "metadata": {},
   "source": [
    "## `set_tolMatrix(A, B)`\n",
    "\n",
    "Sets an appropriate tolerance for checking whether two matrices are approximately equal element-wise."
   ]
  },
  {
   "cell_type": "code",
   "execution_count": 118,
   "metadata": {},
   "outputs": [
    {
     "data": {
      "text/plain": [
       "set_tolMatrix (generic function with 1 method)"
      ]
     },
     "execution_count": 118,
     "metadata": {},
     "output_type": "execute_result"
    }
   ],
   "source": [
    "function set_tolMatrix(A::Array, B::Array)\n",
    "    if size(A) != size(B)\n",
    "        throw(error(\"Matrix dimensions do not match\"))\n",
    "    end\n",
    "    # Avoid InexactError() when taking norm()\n",
    "    A = convert(Array{Complex}, A)\n",
    "    B = convert(Array{Complex}, B)\n",
    "    return tol * (norm(A,2) + norm(B,2))\n",
    "end"
   ]
  },
  {
   "cell_type": "markdown",
   "metadata": {},
   "source": [
    "**Parameters**\n",
    "* `A`, `B`: `Array`\n",
    "    * Numeric matrices to compare.\n",
    "\n",
    "**Returns**\n",
    "* `set_tolMatrix`: `Number`\n",
    "    * Returns a number within which `A` and `B` are considered approximately equal element-wise.\n",
    "\n",
    "**Example**"
   ]
  },
  {
   "cell_type": "code",
   "execution_count": 119,
   "metadata": {},
   "outputs": [
    {
     "data": {
      "text/plain": [
       "0.00016901192145623727"
      ]
     },
     "execution_count": 119,
     "metadata": {},
     "output_type": "execute_result"
    }
   ],
   "source": [
    "A = [4 0.6; 3 2]\n",
    "B = [5 1; 10 3]\n",
    "set_tolMatrix(A, B)"
   ]
  },
  {
   "cell_type": "markdown",
   "metadata": {},
   "source": [
    "## `evaluate(func, a)`\n",
    "\n",
    "Evaluate a univariate function or an array of them at a given value."
   ]
  },
  {
   "cell_type": "code",
   "execution_count": 120,
   "metadata": {},
   "outputs": [
    {
     "data": {
      "text/plain": [
       "evaluate (generic function with 1 method)"
      ]
     },
     "execution_count": 120,
     "metadata": {},
     "output_type": "execute_result"
    }
   ],
   "source": [
    "function evaluate(func::Union{Function,Number,Array}, a::Number)\n",
    "    if !isa(func, Array)\n",
    "        if isa(func, Function)\n",
    "            funcA = func(a)\n",
    "        elseif isa(func, SymPy.Sym) # SymPy.Sym must come before Number because SymPy.Sym will be recognized as Number\n",
    "            freeSymbols = free_symbols(func)\n",
    "            if length(freeSymbols) > 1\n",
    "                throw(\"func should be univariate\")\n",
    "            elseif length(freeSymbols) == 1\n",
    "                t = free_symbols(func)[1,1]\n",
    "                if isa(a, SymPy.Sym) # if x is SymPy.Sym, do not convert result to Number to preserve pretty printing\n",
    "                    funcA = subs(func, t, a)\n",
    "                else\n",
    "                    funcA = SymPy.N(subs(func, t, a))\n",
    "                end\n",
    "            else\n",
    "                funcA = func\n",
    "            end\n",
    "        else # func is Number\n",
    "            funcA = func\n",
    "        end\n",
    "        return funcA\n",
    "    else\n",
    "        (m, n) = size(func)\n",
    "        if check_any(func, x->isa(x, SymPy.Sym))\n",
    "            funcA = Array{SymPy.Sym}(m,n)\n",
    "        else\n",
    "            funcA = Array{Number}(m,n) \n",
    "        end\n",
    "        for i = 1:m\n",
    "            for j = 1:n\n",
    "                funcA[i,j] = evaluate(func[i,j], a)\n",
    "            end\n",
    "        end\n",
    "        return funcA\n",
    "    end\n",
    "end"
   ]
  },
  {
   "cell_type": "markdown",
   "metadata": {},
   "source": [
    "**Parameters**\n",
    "* `func`: `Function`, `SymPy.Sym`, `Number`, or `Array`\n",
    "    * Object to be evaluated. Note that `SymPy.Sym` is absorbed into `Number`.\n",
    "* `x`: `Number`\n",
    "    * Value on which `func` is to be evaluated at.\n",
    "* `t`: `SymPy.Sym` \n",
    "    * Free symbol in `func` if `func` is a `SymPy.Sym` object or an array of them.\n",
    "\n",
    "**Returns**\n",
    "* `evaluate`: `Number`\n",
    "    * Returns the value of `func` at `x`.\n",
    "\n",
    "**Example**"
   ]
  },
  {
   "cell_type": "code",
   "execution_count": 121,
   "metadata": {},
   "outputs": [
    {
     "data": {
      "text/plain": [
       "3"
      ]
     },
     "execution_count": 121,
     "metadata": {},
     "output_type": "execute_result"
    }
   ],
   "source": [
    "func = x -> x+1\n",
    "evaluate(func, 2)"
   ]
  },
  {
   "cell_type": "code",
   "execution_count": 122,
   "metadata": {},
   "outputs": [
    {
     "data": {
      "text/plain": [
       "3"
      ]
     },
     "execution_count": 122,
     "metadata": {},
     "output_type": "execute_result"
    }
   ],
   "source": [
    "x = symbols(\"x\")\n",
    "func = x+1\n",
    "evaluate(func, 2)"
   ]
  },
  {
   "cell_type": "code",
   "execution_count": 123,
   "metadata": {},
   "outputs": [
    {
     "data": {
      "text/latex": [
       "$$a + 1$$"
      ],
      "text/plain": [
       "a + 1"
      ]
     },
     "execution_count": 123,
     "metadata": {},
     "output_type": "execute_result"
    }
   ],
   "source": [
    "a = symbols(\"a\")\n",
    "evaluate(func, a)"
   ]
  },
  {
   "cell_type": "code",
   "execution_count": 124,
   "metadata": {},
   "outputs": [
    {
     "data": {
      "text/latex": [
       "\\begin{bmatrix}2 a&1\\\\a^{3}&a\\end{bmatrix}"
      ],
      "text/plain": [
       "2×2 Array{SymPy.Sym,2}:\n",
       " 2*a  1\n",
       " a^3  a"
      ]
     },
     "execution_count": 124,
     "metadata": {},
     "output_type": "execute_result"
    }
   ],
   "source": [
    "x = symbols(\"x\")\n",
    "array = [2x 1; x^3 x]\n",
    "a = symbols(\"a\")\n",
    "evaluate(array, a)"
   ]
  },
  {
   "cell_type": "markdown",
   "metadata": {},
   "source": [
    "## `partition(n)`\n",
    "\n",
    "Generate ordered two-integer partitions ($0$ included) of a given non-negative integer."
   ]
  },
  {
   "cell_type": "code",
   "execution_count": 125,
   "metadata": {},
   "outputs": [
    {
     "data": {
      "text/plain": [
       "partition (generic function with 1 method)"
      ]
     },
     "execution_count": 125,
     "metadata": {},
     "output_type": "execute_result"
    }
   ],
   "source": [
    "function partition(n::Int)\n",
    "    if n < 0\n",
    "        throw(\"Non-negative n required\")\n",
    "    end\n",
    "    output = []\n",
    "    for i = 0:n\n",
    "        j = n - i\n",
    "        push!(output, (i,j))\n",
    "    end\n",
    "    return output\n",
    "end"
   ]
  },
  {
   "cell_type": "markdown",
   "metadata": {},
   "source": [
    "**Parameters**\n",
    "* `n`: `Int`\n",
    "    * Non-negative integer to be partitioned.\n",
    "\n",
    "**Returns**\n",
    "* `partition`: `Array` of `Tuple{Int, Int}`\n",
    "    * Returns an array of tuples, where each tuple corresponds to a two-integer parition of `n`. Note that a tuple is ordered, and `(i, j)` and `(j, i)` are considered distinct partitions.\n",
    "\n",
    "**Example**"
   ]
  },
  {
   "cell_type": "code",
   "execution_count": 126,
   "metadata": {},
   "outputs": [
    {
     "data": {
      "text/plain": [
       "6-element Array{Any,1}:\n",
       " (0, 5)\n",
       " (1, 4)\n",
       " (2, 3)\n",
       " (3, 2)\n",
       " (4, 1)\n",
       " (5, 0)"
      ]
     },
     "execution_count": 126,
     "metadata": {},
     "output_type": "execute_result"
    }
   ],
   "source": [
    "n = 5\n",
    "partition(5)"
   ]
  },
  {
   "cell_type": "markdown",
   "metadata": {},
   "source": [
    "## `get_symDeriv(u, t, k)`\n",
    "\n",
    "Constructs the symbolic expression for the $k$th derivative of a univariate function."
   ]
  },
  {
   "cell_type": "code",
   "execution_count": 127,
   "metadata": {},
   "outputs": [
    {
     "data": {
      "text/plain": [
       "get_symDeriv (generic function with 1 method)"
      ]
     },
     "execution_count": 127,
     "metadata": {},
     "output_type": "execute_result"
    }
   ],
   "source": [
    "function get_symDeriv(u::SymPy.Sym, t::SymPy.Sym, k::Int)\n",
    "    if k < 0\n",
    "        throw(error(\"Non-negative k required\"))\n",
    "    end\n",
    "    y = u\n",
    "    for i = 1:k\n",
    "        newY = diff(y, t)\n",
    "        y = newY\n",
    "    end\n",
    "    return y\n",
    "end"
   ]
  },
  {
   "cell_type": "markdown",
   "metadata": {},
   "source": [
    "**Parameters**\n",
    "* `u`: `SymPy.Sym` \n",
    "    * Symbolic expression in `t` to be differentiated.\n",
    "* `t`: `SymPy.Sym`\n",
    "    * Free symbol in `u`.\n",
    "* `k`: `Int`\n",
    "    * Degree of the desired derivative.\n",
    "\n",
    "**Returns**\n",
    "* `get_symDeriv`: `SymPy.Sym`\n",
    "    * Returns the symbolic expression of $\\frac{d^k}{dt^k}u(t)$.\n",
    "    \n",
    "**Example**"
   ]
  },
  {
   "cell_type": "code",
   "execution_count": 128,
   "metadata": {},
   "outputs": [
    {
     "data": {
      "text/latex": [
       "$$2 t + 2$$"
      ],
      "text/plain": [
       "2*t + 2"
      ]
     },
     "execution_count": 128,
     "metadata": {},
     "output_type": "execute_result"
    }
   ],
   "source": [
    "t = symbols(\"t\")\n",
    "u = t^2+2t+3\n",
    "get_symDeriv(u, t, 1)"
   ]
  },
  {
   "cell_type": "markdown",
   "metadata": {},
   "source": [
    "## `add_func(f, g)`\n",
    "\n",
    "Computes the sum of two functions using the function addition given by $(f + g)(x) := f(x) + g(x)$."
   ]
  },
  {
   "cell_type": "code",
   "execution_count": 129,
   "metadata": {},
   "outputs": [
    {
     "data": {
      "text/plain": [
       "add_func (generic function with 1 method)"
      ]
     },
     "execution_count": 129,
     "metadata": {},
     "output_type": "execute_result"
    }
   ],
   "source": [
    "function add_func(f::Union{Number, Function}, g::Union{Number, Function})\n",
    "    function h(x)\n",
    "        if isa(f, Number)\n",
    "            if isa(g, Number)\n",
    "                return f + g\n",
    "            else\n",
    "                return f + g(x)\n",
    "            end\n",
    "        elseif isa(f, Function)\n",
    "            if isa(g, Number)\n",
    "                return f(x) + g\n",
    "            else\n",
    "                return f(x) + g(x)\n",
    "            end\n",
    "        end\n",
    "    end\n",
    "    return h\n",
    "end"
   ]
  },
  {
   "cell_type": "markdown",
   "metadata": {},
   "source": [
    "**Parameters**\n",
    "* `f`, `g`: `Function` or `Number`\n",
    "    * Functions to be added.\n",
    "\n",
    "**Returns**\n",
    "* `add_func`: `Function` or `Number`\n",
    "    * Returns the sum of `f` and `g`.\n",
    "\n",
    "**Example**"
   ]
  },
  {
   "cell_type": "code",
   "execution_count": 130,
   "metadata": {},
   "outputs": [
    {
     "data": {
      "text/plain": [
       "true"
      ]
     },
     "execution_count": 130,
     "metadata": {},
     "output_type": "execute_result"
    }
   ],
   "source": [
    "f(x) = x^3+1\n",
    "g(x) = 4x\n",
    "x = 2\n",
    "add_func(f, g)(x) == f(x) + g(x)"
   ]
  },
  {
   "cell_type": "markdown",
   "metadata": {},
   "source": [
    "## `mult_func(f, g)`\n",
    "\n",
    "Computes the product of two functions using the function multiplication given by $(f \\cdot g)(x) := f(x) \\cdot g(x)$."
   ]
  },
  {
   "cell_type": "code",
   "execution_count": 131,
   "metadata": {},
   "outputs": [
    {
     "data": {
      "text/plain": [
       "mult_func (generic function with 1 method)"
      ]
     },
     "execution_count": 131,
     "metadata": {},
     "output_type": "execute_result"
    }
   ],
   "source": [
    "function mult_func(f::Union{Number, Function}, g::Union{Number, Function})\n",
    "    function h(x)\n",
    "        if isa(f, Number)\n",
    "            if isa(g, Number)\n",
    "                return f * g\n",
    "            else\n",
    "                return f * g(x)\n",
    "            end\n",
    "        elseif isa(f, Function)\n",
    "            if isa(g, Number)\n",
    "                return f(x) * g\n",
    "            else\n",
    "                return f(x) * g(x)\n",
    "            end\n",
    "        end\n",
    "    end\n",
    "    return h\n",
    "end"
   ]
  },
  {
   "cell_type": "markdown",
   "metadata": {},
   "source": [
    "**Parameters**\n",
    "* `f`, `g`: `Function` or `Number`\n",
    "    * Functions to be multiplied.\n",
    "\n",
    "**Returns**\n",
    "* `add_func`: `Function` or `Number`\n",
    "    * Returns the product of `f` and `g`.\n",
    "\n",
    "**Example**"
   ]
  },
  {
   "cell_type": "code",
   "execution_count": 132,
   "metadata": {},
   "outputs": [
    {
     "data": {
      "text/plain": [
       "true"
      ]
     },
     "execution_count": 132,
     "metadata": {},
     "output_type": "execute_result"
    }
   ],
   "source": [
    "f(x) = x^3+1\n",
    "g(x) = 4x\n",
    "x = 2\n",
    "mult_func(f, g)(x) == f(x) * g(x)"
   ]
  },
  {
   "cell_type": "markdown",
   "metadata": {},
   "source": [
    "## `get_polynomial(coeffList)`\n",
    "\n",
    "Given the array $[a_n, a_{n-1}, \\ldots, a_1, a_0]$, constructs the polynomial \n",
    "$$a_nx^n + a_{n-1}x^{n-1} + \\cdots + a_1 x + a_0.$$"
   ]
  },
  {
   "cell_type": "code",
   "execution_count": 137,
   "metadata": {},
   "outputs": [
    {
     "data": {
      "text/plain": [
       "get_polynomial (generic function with 1 method)"
      ]
     },
     "execution_count": 137,
     "metadata": {},
     "output_type": "execute_result"
    }
   ],
   "source": [
    "function get_polynomial(coeffList::Array)\n",
    "    polynomial = 0\n",
    "    n = length(coeffList)-1\n",
    "    for i in 0:n\n",
    "        newTerm = t -> coeffList[i+1] * t^(n-i)\n",
    "        polynomial = add_func(polynomial, newTerm)\n",
    "    end\n",
    "    return polynomial\n",
    "end"
   ]
  },
  {
   "cell_type": "markdown",
   "metadata": {},
   "source": [
    "**Parameters**\n",
    "* `coeffList`: `Array` of `Number`\n",
    "    * Array of coefficients of $x^n, x^{n-1}, \\ldots, x, 1$ in the polynomial.\n",
    "\n",
    "**Returns**\n",
    "* `get_polynomial: Function`\n",
    "    * Returns a polynomial whose coefficients are given by `coeffList`.\n",
    " \n",
    "**Example**"
   ]
  },
  {
   "cell_type": "code",
   "execution_count": 138,
   "metadata": {},
   "outputs": [
    {
     "data": {
      "text/plain": [
       "true"
      ]
     },
     "execution_count": 138,
     "metadata": {},
     "output_type": "execute_result"
    }
   ],
   "source": [
    "coeffList = [0,1,2,3]\n",
    "x = 5\n",
    "get_polynomial(coeffList)(x) == 0*x^3 + 1*x^2 + 2*x^1 + 3*x^0"
   ]
  },
  {
   "cell_type": "markdown",
   "metadata": {},
   "source": [
    "## `get_polynomialDeriv(coeffList, k)`\n",
    "\n",
    "Computes the $k$th derivative of a polynomial with known coefficients."
   ]
  },
  {
   "cell_type": "code",
   "execution_count": 139,
   "metadata": {},
   "outputs": [
    {
     "data": {
      "text/plain": [
       "get_polynomialDeriv (generic function with 1 method)"
      ]
     },
     "execution_count": 139,
     "metadata": {},
     "output_type": "execute_result"
    }
   ],
   "source": [
    "function get_polynomialDeriv(coeffList::Array, k::Int)\n",
    "    if k < 0\n",
    "        throw(error(\"Only nonnegative degrees are allowed\"))\n",
    "    elseif k == 0\n",
    "        newCoeffList = coeffList\n",
    "    else\n",
    "        for counter = 1:k\n",
    "            n = length(coeffList)\n",
    "            newCoeffList = hcat([0],[(n-i)*coeffList[i] for i in 1:(n-1)]')\n",
    "            coeffList = newCoeffList\n",
    "        end\n",
    "    end\n",
    "    return get_polynomial(newCoeffList)\n",
    "end"
   ]
  },
  {
   "cell_type": "markdown",
   "metadata": {},
   "source": [
    "**Parameters**\n",
    "* `coeffList`: `Array` of `Number` \n",
    "    * Array of coefficients of $x^n, x^{n-1}, \\ldots, x, 1$ in the polynomial.\n",
    "* `k`: `Int` \n",
    "    * Degree of the desired derivative.\n",
    "\n",
    "**Returns**\n",
    "* `get_polynomialDeriv`: `Function`\n",
    "    * Returns the $k$th derivative of the polynomial whose coefficients are given by `coeffList`.\n",
    "\n",
    "**Example**"
   ]
  },
  {
   "cell_type": "code",
   "execution_count": 140,
   "metadata": {},
   "outputs": [
    {
     "data": {
      "text/plain": [
       "true"
      ]
     },
     "execution_count": 140,
     "metadata": {},
     "output_type": "execute_result"
    }
   ],
   "source": [
    "coeffList = [0,1,2,3]\n",
    "k = 1\n",
    "x = 5\n",
    "get_polynomialDeriv(coeffList, k)(x) == 2*x^1 + 2*x^0"
   ]
  },
  {
   "cell_type": "markdown",
   "metadata": {},
   "source": [
    "## `sym_to_func(sym)`\n",
    "\n",
    "Converts a univariate symbolic expression to function."
   ]
  },
  {
   "cell_type": "code",
   "execution_count": 141,
   "metadata": {},
   "outputs": [
    {
     "data": {
      "text/plain": [
       "sym_to_func (generic function with 1 method)"
      ]
     },
     "execution_count": 141,
     "metadata": {},
     "output_type": "execute_result"
    }
   ],
   "source": [
    "function sym_to_func(sym::SymPy.Sym)\n",
    "    freeSymbols = free_symbols(sym)\n",
    "    if length(freeSymbols) > 1\n",
    "        throw(\"Symbolic expression should be univariate\")\n",
    "    else\n",
    "        function func(x)\n",
    "            if length(freeSymbols) == 0\n",
    "                result = SymPy.N(sym)\n",
    "            else\n",
    "                result = SymPy.N(subs(sym, freeSymbols[1], x))\n",
    "            end\n",
    "            return result\n",
    "        end\n",
    "        return func\n",
    "    end\n",
    "end\n",
    "\n",
    "# function sym_to_func(expr::SymPy.Sym)\n",
    "#     if length(free_symbols(expr)) == 0\n",
    "#         result = SymPy.N(expr)\n",
    "#     else\n",
    "#         result = SymPy.lambdify(expr)\n",
    "#     end\n",
    "#     return result\n",
    "# end"
   ]
  },
  {
   "cell_type": "markdown",
   "metadata": {},
   "source": [
    "**Parameters**\n",
    "* `sym`: `SymPy.Sym`\n",
    "    * Symbolic expression to be converted.\n",
    "\n",
    "**Returns**\n",
    "* `sym_to_func`: `Function`\n",
    "    * Function converted from `sym`.\n",
    "\n",
    "**Example**"
   ]
  },
  {
   "cell_type": "code",
   "execution_count": 142,
   "metadata": {},
   "outputs": [
    {
     "data": {
      "text/plain": [
       "6"
      ]
     },
     "execution_count": 142,
     "metadata": {},
     "output_type": "execute_result"
    }
   ],
   "source": [
    "t = symbols(\"t\")\n",
    "sym = t^2+t\n",
    "sym_to_func(sym)(2)"
   ]
  },
  {
   "cell_type": "markdown",
   "metadata": {},
   "source": [
    "## `prettyRound(x, digits)`\n",
    "\n",
    "Round a number at a given number of digits."
   ]
  },
  {
   "cell_type": "code",
   "execution_count": 143,
   "metadata": {},
   "outputs": [
    {
     "data": {
      "text/plain": [
       "prettyRound (generic function with 1 method)"
      ]
     },
     "execution_count": 143,
     "metadata": {},
     "output_type": "execute_result"
    }
   ],
   "source": [
    "function prettyRound(x::Number, digits::Int)\n",
    "    if isa(x, Int)\n",
    "        return x\n",
    "    elseif isa(x, Real)\n",
    "        if round(x, digits) == floor(x)\n",
    "            return Int(floor(x))\n",
    "        else\n",
    "            return round(x, digits)\n",
    "        end\n",
    "    elseif isa(x, Complex)\n",
    "        roundedReal = prettyRound(real(x), digits)\n",
    "        roundedComplex = prettyRound(imag(x), digits)\n",
    "        return roundedReal + im*roundedComplex\n",
    "    else\n",
    "        return round(x, digits)\n",
    "    end\n",
    "end"
   ]
  },
  {
   "cell_type": "markdown",
   "metadata": {},
   "source": [
    "**Parameters**\n",
    "* `x`: `Number`\n",
    "    * Number to be rounded.\n",
    "* `digits`: `Int`\n",
    "    * Number of decimal places to keep.\n",
    "\n",
    "**Returns**\n",
    "* `prettyRound`: `Number`\n",
    "    * Returns `x` rounded to the `digits` decimal places.\n",
    "\n",
    "**Example**"
   ]
  },
  {
   "cell_type": "code",
   "execution_count": 144,
   "metadata": {},
   "outputs": [
    {
     "data": {
      "text/plain": [
       "0 + 0im"
      ]
     },
     "execution_count": 144,
     "metadata": {},
     "output_type": "execute_result"
    }
   ],
   "source": [
    "x = 0.0000001*im\n",
    "digits = 2\n",
    "prettyRound(x, digits)"
   ]
  },
  {
   "cell_type": "markdown",
   "metadata": {},
   "source": [
    "## `prettyPrint(x)`\n",
    "\n",
    "Prints a symbolic scalar or array with pretty-rounded floating numbers."
   ]
  },
  {
   "cell_type": "code",
   "execution_count": 145,
   "metadata": {},
   "outputs": [
    {
     "data": {
      "text/plain": [
       "prettyPrint (generic function with 1 method)"
      ]
     },
     "execution_count": 145,
     "metadata": {},
     "output_type": "execute_result"
    }
   ],
   "source": [
    "function prettyPrint(x::Union{Number, SymPy.Sym, Array})\n",
    "    if !isa(x, Array)\n",
    "        expr = x\n",
    "        if isa(expr, SymPy.Sym)\n",
    "            prettyExpr = expr\n",
    "            for a in sympy[:preorder_traversal](expr)\n",
    "                if length(free_symbols(a)) == 0\n",
    "                    if !(a in [e, PI]) # keep the transcendental numbers as symbols\n",
    "                        prettyA = prettyRound(SymPy.N(a), digits)\n",
    "                        prettyExpr = subs(prettyExpr, (a, prettyA))\n",
    "                    end\n",
    "                end\n",
    "            end\n",
    "        else\n",
    "            prettyExpr = prettyRound(expr, digits)\n",
    "            prettyExpr = convert(SymPy.Sym, prettyExpr)\n",
    "        end\n",
    "        return prettyExpr\n",
    "    else\n",
    "        array = x\n",
    "        (m, n) = size(array)\n",
    "    prettyArray = Array{SymPy.Sym}(m,n)\n",
    "        for i = 1:m\n",
    "            for j = 1:n\n",
    "                prettyArray[i,j] = prettyPrint(array[i,j])\n",
    "            end\n",
    "        end\n",
    "        return prettyArray\n",
    "    end\n",
    "end"
   ]
  },
  {
   "cell_type": "markdown",
   "metadata": {},
   "source": [
    "**Parameters**\n",
    "* `x`: `Number`, `SymPy.Sym`, or `Array` of `Number` or `SymPy.Sym`\n",
    "    * Object to be printed.\n",
    "\n",
    "**Returns**\n",
    "* `prettyPrint`: `SymPy.Sym` or `Array` of `SymPy.Sym`\n",
    "    * Returns symbolic expression of `x` with pretty-rounded floating numbers.\n",
    "\n",
    "**Example**"
   ]
  },
  {
   "cell_type": "code",
   "execution_count": 146,
   "metadata": {},
   "outputs": [
    {
     "data": {
      "text/latex": [
       "$$0.33 t + e^{2 t} + \\pi + i$$"
      ],
      "text/plain": [
       "          2*t         \n",
       "0.33*t + e    + pi + I"
      ]
     },
     "execution_count": 146,
     "metadata": {},
     "output_type": "execute_result"
    }
   ],
   "source": [
    "t = symbols(\"t\")\n",
    "x = 1/3*t + e^(2t) + PI + 1.00001*im\n",
    "prettyPrint(x)"
   ]
  },
  {
   "cell_type": "code",
   "execution_count": 147,
   "metadata": {},
   "outputs": [
    {
     "data": {
      "text/latex": [
       "\\begin{bmatrix}0.33 t&\\pi\\\\0.17 t^{2} + t&1\\end{bmatrix}"
      ],
      "text/plain": [
       "2×2 Array{SymPy.Sym,2}:\n",
       "       0.33*t  pi\n",
       " 0.17*t^2 + t   1"
      ]
     },
     "execution_count": 147,
     "metadata": {},
     "output_type": "execute_result"
    }
   ],
   "source": [
    "t = symbols(\"t\")\n",
    "x = [1/3*t PI; 1/6*t^2+t 1]\n",
    "prettyPrint(x)"
   ]
  },
  {
   "cell_type": "code",
   "execution_count": 148,
   "metadata": {},
   "outputs": [
    {
     "data": {
      "text/latex": [
       "\\begin{bmatrix}i&1\\\\-1&- i\\end{bmatrix}"
      ],
      "text/plain": [
       "2×2 Array{SymPy.Sym,2}:\n",
       "  I   1\n",
       " -1  -I"
      ]
     },
     "execution_count": 148,
     "metadata": {},
     "output_type": "execute_result"
    }
   ],
   "source": [
    "x = [0.0+1.0*im 1.0+0.0*im; -1.0+0.0*im 0.0-1.0*im]\n",
    "prettyPrint(x)"
   ]
  },
  {
   "cell_type": "markdown",
   "metadata": {},
   "source": [
    "## `separate_real_imag(expr)`\n",
    "\n",
    "Separates real and imaginary parts of a symbolic expression."
   ]
  },
  {
   "cell_type": "code",
   "execution_count": 149,
   "metadata": {},
   "outputs": [
    {
     "data": {
      "text/plain": [
       "separate_real_imag (generic function with 1 method)"
      ]
     },
     "execution_count": 149,
     "metadata": {},
     "output_type": "execute_result"
    }
   ],
   "source": [
    "# function to separate real and imaginary parts of an expression delta(lambda), which is an exponential polynomial in one variable\n",
    "\n",
    "# helper function that deals with the case where func(expr) = func(sympyExpExpr)\n",
    "# although the function body is the same as \"power\" and \"others\", this case is isolated because negative exponents, e.g., factor_list(e^(-im*x)), give PolynomialError('a polynomial expected, got exp(-I*x)',), while factor_list(cos(x)) runs normally\n",
    "function separate_real_imag_exp(expr::SymPy.Sym)\n",
    "    result = real(expr) + im*imag(expr)\n",
    "    return result\n",
    "end\n",
    "# helper function that deals with the case where func(expr) = func(sympyPowerExpr)\n",
    "# we won't be dealing with cases like x^(x^x)\n",
    "function separate_real_imag_power(expr::SymPy.Sym)\n",
    "    result = real(expr) + im*imag(expr)\n",
    "    return result\n",
    "end\n",
    "# helper function that deals with the case where func(expr) = func(sympyMultExpr)\n",
    "function separate_real_imag_mult(expr::SymPy.Sym)\n",
    "    terms = args(expr)\n",
    "    result = 1\n",
    "    # if the expanded expression contains toplevel multiplication, the individual terms must all be exponentials or powers\n",
    "    for term in terms\n",
    "        println(\"term = $term\")\n",
    "        # if term is exponential\n",
    "        if func(term) == func(sympyExpExpr)\n",
    "            termSeparated = separate_real_imag_exp(term)\n",
    "        # if term is power (not sure if this case and the case below overlaps)\n",
    "        elseif func(term) == func(sympyPowerExpr)\n",
    "            termSeparated = separate_real_imag_power(term)\n",
    "            # else, further split each product term into indivdual factors (this case also includes the case where term is a number, which would go into the \"constant\" below)\n",
    "        else\n",
    "            termSeparated = term # term is a number\n",
    "#             (constant, factors) = factor_list(term)\n",
    "#             termSeparated = constant\n",
    "#             # separate each factor into real and imaginary parts and collect the product of separated factors\n",
    "#             for (factor, power) in factors\n",
    "#                 factor = factor^power\n",
    "#                 termSeparated = termSeparated * (real(factor) + im*imag(factor))\n",
    "#             end\n",
    "        end\n",
    "        println(\"termSeparated = $termSeparated\") \n",
    "        # collect the product of separated term, i.e., product of separated factors\n",
    "        result = result * termSeparated\n",
    "    end\n",
    "    return result\n",
    "end\n",
    "# helper function that deals with the case where func(expr) = func(sympyAddExpr)\n",
    "function separate_real_imag_add(expr::SymPy.Sym)\n",
    "    # if the expanded expression contains toplevel addition, the individual terms must all be products or symbols\n",
    "    terms = args(expr)\n",
    "    result = 0\n",
    "    # termSeparated = 0 # to avoid undefined error if there is no else (case incomplete)\n",
    "    for term in terms\n",
    "        println(\"term = $term\")\n",
    "        # if term is a symbol\n",
    "        if func(term) == func(x)\n",
    "            termSeparated = term\n",
    "        # if term is exponential\n",
    "        elseif func(term) == func(sympyExpExpr)\n",
    "            termSeparated = separate_real_imag_exp(term)\n",
    "        # if term is a power\n",
    "        elseif func(term) == func(sympyPowerExpr)\n",
    "            termSeparated = separate_real_imag_power(term)\n",
    "        # if term is a product\n",
    "        elseif func(term) == func(sympyMultExpr)\n",
    "            termSeparated = separate_real_imag_mult(term)\n",
    "        # if term is a number\n",
    "        else\n",
    "            termSeparated = term\n",
    "        end\n",
    "        println(\"termSeparated = $termSeparated\")\n",
    "        result = result + termSeparated\n",
    "    end\n",
    "    return result\n",
    "end\n",
    "# helper function that deals with the case where func(expr) != func(sympyPowerExpr), func(sympyAddExpr), func(sympyMultExpr)\n",
    "function separate_real_imag_others(expr::SymPy.Sym)\n",
    "    # if the expanded expression is neither of the above, it must be a single term, e.g., x or cos(2x+1), which is a function wrapping around an expression; in this case, use the helper function to clean up the expression and feed it back to the function\n",
    "    term = args(expr)[1]\n",
    "    termCleaned = separate_real_imag_power_add_mult(term)\n",
    "    result = subs(expr,args(expr)[1],termCleaned)\n",
    "    return result\n",
    "end\n",
    "# helper function that deals with the cases where func(expr) = func(sympyPowerExpr), func(sympyAddExpr), func(sympyMultExpr)\n",
    "function separate_real_imag_power_add_mult(expr::SymPy.Sym)\n",
    "    if func(expr) == func(sympyPowerExpr)\n",
    "        result = separate_real_imag_power(expr)\n",
    "    elseif func(expr) == func(sympyAddExpr)\n",
    "        result = separate_real_imag_add(expr)\n",
    "    elseif func(expr) == func(sympyMultExpr)\n",
    "        result = separate_real_imag_mult(expr)\n",
    "    end\n",
    "    return result\n",
    "end\n",
    "# main function\n",
    "function separate_real_imag(delta::SymPy.Sym)\n",
    "    \n",
    "    # check if delta has one and only one free symbol (e.g., global variable lambda)\n",
    "    if length(free_symbols(delta)) == 1\n",
    "        # substitute lambda as x+iy\n",
    "        expr = subs(delta, lambda, x+im*y)\n",
    "        # expand the new expression\n",
    "        expr = expand(expr)\n",
    "        \n",
    "        if func(expr) == func(sympyPowerExpr)\n",
    "#             println(expr)\n",
    "#             println(\"power!\")\n",
    "            result = separate_real_imag_power(expr)\n",
    "#             println(\"result = $result\")\n",
    "        elseif func(expr) == func(sympyAddExpr)\n",
    "#             println(expr)\n",
    "#             println(\"addition!\")\n",
    "            result = separate_real_imag_add(expr)\n",
    "#             println(\"result = $result\")\n",
    "        elseif func(expr) == func(sympyMultExpr)\n",
    "#             println(expr)\n",
    "#             println(\"multiplication!\")\n",
    "            result = separate_real_imag_mult(expr)\n",
    "#             println(\"result = $result\")\n",
    "        else\n",
    "#             println(expr)\n",
    "#             println(\"single term!\")\n",
    "            result = separate_real_imag_others(expr)\n",
    "#             println(\"result = $result\")\n",
    "        end\n",
    "        result = expand(result)\n",
    "        return real(result) + im*imag(result)\n",
    "        \n",
    "    else\n",
    "        throw(\"Delta has more than one variable\")\n",
    "    end\n",
    "end"
   ]
  },
  {
   "cell_type": "markdown",
   "metadata": {},
   "source": [
    "# Structs"
   ]
  },
  {
   "cell_type": "markdown",
   "metadata": {},
   "source": [
    "## `StructDefinitionError`\n",
    "\n",
    "A struct definition error type is the class of all errors in struct definitions."
   ]
  },
  {
   "cell_type": "code",
   "execution_count": 150,
   "metadata": {},
   "outputs": [],
   "source": [
    "struct StructDefinitionError <: Exception\n",
    "    msg::String\n",
    "end"
   ]
  },
  {
   "cell_type": "markdown",
   "metadata": {},
   "source": [
    "## `SymLinearDifferentialOperator(symPFunctions, interval, t)`\n",
    "\n",
    "A symbolic linear differential operator of order $n$ is encoded by an $1 \\times (n+1)$ array of symbolic expressions with at most one free symbol, an interval $[a,b]$, and that free symbol."
   ]
  },
  {
   "cell_type": "code",
   "execution_count": 151,
   "metadata": {},
   "outputs": [
    {
     "data": {
      "text/plain": [
       "check_symLinearDifferentialOperator_input (generic function with 1 method)"
      ]
     },
     "execution_count": 151,
     "metadata": {},
     "output_type": "execute_result"
    }
   ],
   "source": [
    "struct SymLinearDifferentialOperator\n",
    "    # Entries in the array should be SymPy.Sym or Number. SymPy.Sym seems to be a subtype of Number, i.e., Array{Union{Number,SymPy.Sym}} returns Array{Number}. But specifying symPFunctions as Array{Number,2} gives a MethodError when the entries are Sympy.Sym objects.\n",
    "    symPFunctions::Array\n",
    "    interval::Tuple{Number,Number}\n",
    "    t::SymPy.Sym\n",
    "    SymLinearDifferentialOperator(symPFunctions::Array, interval::Tuple{Number,Number}, t::SymPy.Sym) =\n",
    "    try\n",
    "        symL = new(symPFunctions, interval, t)\n",
    "        check_symLinearDifferentialOperator_input(symL)\n",
    "        return symL\n",
    "    catch err\n",
    "        throw(err)\n",
    "    end\n",
    "end\n",
    "\n",
    "function check_symLinearDifferentialOperator_input(symL::SymLinearDifferentialOperator)\n",
    "    symPFunctions, (a,b), t = symL.symPFunctions, symL.interval, symL.t\n",
    "    for symPFunc in symPFunctions\n",
    "        if isa(symPFunc, SymPy.Sym)\n",
    "            if size(free_symbols(symPFunc)) != (1,) && size(free_symbols(symPFunc)) != (0,)\n",
    "                throw(StructDefinitionError(:\"Only one free symbol is allowed in symP_k\"))\n",
    "            end\n",
    "        elseif !isa(symPFunc, Number)\n",
    "            throw(StructDefinitionError(:\"symP_k should be SymPy.Sym or Number\"))\n",
    "        end\n",
    "    end\n",
    "    return true\n",
    "end"
   ]
  },
  {
   "cell_type": "markdown",
   "metadata": {},
   "source": [
    "**Parameters**\n",
    "* `symPFunctions`: `Array` of `SymPy.Sym` or `Number`\n",
    "    * Array $[symP_0, symP_1, \\ldots, symP_n]$ of length $n+1$, corresponding to the symbolic linear differential operator $symL$ of order $n$ given by \n",
    "    $$symLx = symP_0x^{(n)} + symP_1x^{(n-1)} + \\cdots + symP_{n-1}x^{(1)} + symP_n x.$$\n",
    "* `interval`: `Tuple{Number, Number}` \n",
    "    * Tuple of two numbers $(a,b)$ corresponding to the real interval $[a,b]$ on which the symbolic differential operator $symL$ is defined.\n",
    "* `t`: `SymPy.Sym` \n",
    "    * Free symbol in each entry of `symPFunctions`.\n",
    "\n",
    "**Returns**\n",
    "* `SymLinearDifferentialOperator`\n",
    "    * Returns a `SymLinearDifferentialOperator` of order $n$ with attributes `symPFunctions`, `interval`, and `t`.\n",
    "\n",
    "**Example**"
   ]
  },
  {
   "cell_type": "code",
   "execution_count": 152,
   "metadata": {},
   "outputs": [
    {
     "data": {
      "text/plain": [
       "SymLinearDifferentialOperator(SymPy.Sym[1 t + 1 t^2 + t + 1], (0, 1), t)"
      ]
     },
     "execution_count": 152,
     "metadata": {},
     "output_type": "execute_result"
    }
   ],
   "source": [
    "t = symbols(\"t\")\n",
    "symPFunctions = [1 t+1 t^2+t+1]\n",
    "interval = (0, 1)\n",
    "symL = SymLinearDifferentialOperator(symPFunctions, interval, t)"
   ]
  },
  {
   "cell_type": "markdown",
   "metadata": {},
   "source": [
    "## `LinearDifferentialOperator(pFunctions, interval, symL)`\n",
    "\n",
    "A linear differential operator $L$ of order $n$ given by \n",
    "$$Lx = p_0x^{(n)} + p_1x^{(n-1)} + \\cdots + p_{n-1}x^{(1)} + p_n x$$\n",
    "is encoded by an $1 \\times (n+1)$ array of univariate functions, an interval $[a,b]$, and its symbolic expression."
   ]
  },
  {
   "cell_type": "code",
   "execution_count": 153,
   "metadata": {},
   "outputs": [
    {
     "data": {
      "text/plain": [
       "check_linearDifferentialOperator_input (generic function with 1 method)"
      ]
     },
     "execution_count": 153,
     "metadata": {},
     "output_type": "execute_result"
    }
   ],
   "source": [
    "# symL is an attribute of L that needs to be input by the user. There are checks to make sure symL is indeed the symbolic version of L.\n",
    "# Principle: Functionalities of Julia Functions >= Functionalities of SymPy. If p_k has no SymPy representation, the only consequence should be that outputs by functions that take L as arugment has no symbolic expression. E.g., we allow L.pFunctions and L.symL.pFunctions to differ.\n",
    "struct LinearDifferentialOperator\n",
    "    pFunctions::Array # Array of julia functions or numbers representing constant functions\n",
    "    interval::Tuple{Number,Number}\n",
    "    symL::SymLinearDifferentialOperator\n",
    "    LinearDifferentialOperator(pFunctions::Array, interval::Tuple{Number,Number}, symL::SymLinearDifferentialOperator) =\n",
    "    try\n",
    "        L = new(pFunctions, interval, symL)\n",
    "        check_linearDifferentialOperator_input(L)\n",
    "        return L\n",
    "    catch err\n",
    "        throw(err)\n",
    "    end\n",
    "end\n",
    "\n",
    "# Assume symFunc has only one free symbol, as required by the definition of SymLinearDifferentialOperator. \n",
    "# That is, assume the input symFunc comes from SymLinearDifferentialOperator.\n",
    "function check_func_sym_equal(func::Union{Function,Number}, symFunc, interval::Tuple{Number,Number}, t::SymPy.Sym) # symFunc should be Union{SymPy.Sym, Number}, but somehow SymPy.Sym gets ignored\n",
    "    (a,b) = interval\n",
    "    # Randomly sample 1000 points from (a,b) and check if func and symFunc agree on them\n",
    "    for i = 1:1000\n",
    "        # Check endpoints\n",
    "        if i == 1\n",
    "            x = a\n",
    "        elseif i == 2\n",
    "            x = b\n",
    "        else\n",
    "            x = rand(Uniform(a,b), 1)[1,1]\n",
    "        end\n",
    "        funcEvalX = evaluate(func, x)\n",
    "        if isa(symFunc, SymPy.Sym)\n",
    "            symFuncEvalX = SymPy.N(subs(symFunc,t,x))\n",
    "            # N() converts SymPy.Sym to Number\n",
    "            # https://docs.sympy.org/latest/modules/evalf.html\n",
    "            # subs() works no matter symFunc is Number or SymPy.Sym\n",
    "        else\n",
    "            symFuncEvalX = symFunc\n",
    "        end\n",
    "        tol = set_tol(funcEvalX, symFuncEvalX)\n",
    "        if !isapprox(real(funcEvalX), real(symFuncEvalX); atol = real(tol)) ||\n",
    "            !isapprox(imag(funcEvalX), imag(symFuncEvalX); atol = imag(tol))\n",
    "            println(\"x = $x\")\n",
    "            println(\"symFunc = $symFunc\")\n",
    "            println(\"funcEvalX = $funcEvalX\")\n",
    "            println(\"symFuncEvalX = $symFuncEvalX\")\n",
    "            return false\n",
    "        end\n",
    "    end\n",
    "    return true\n",
    "end\n",
    "\n",
    "# Check whether the inputs of L are valid.\n",
    "function check_linearDifferentialOperator_input(L::LinearDifferentialOperator)\n",
    "    pFunctions, (a,b), symL = L.pFunctions, L.interval, L.symL\n",
    "    symPFunctions, t = symL.symPFunctions, symL.t\n",
    "    # domainC = Complex(a..b, 0..0) # Domain [a,b] represented in the complex plane\n",
    "    p0 = pFunctions[1]\n",
    "    # p0Chebyshev = Fun(p0, a..b) # Chebysev polynomial approximation of p0 on [a,b]\n",
    "    if !check_all(pFunctions, pFunc -> (isa(pFunc, Function) || isa(pFunc, Number)))\n",
    "        throw(StructDefinitionError(:\"p_k should be Function or Number\"))\n",
    "    elseif length(pFunctions) != length(symPFunctions)\n",
    "        throw(StructDefinitionError(:\"Number of p_k and symP_k do not match\"))\n",
    "    elseif (a,b) != symL.interval\n",
    "        throw(StructDefinitionError(:\"Intervals of L and symL do not match\"))\n",
    "    # # Assume p_k are in C^{n-k}. Check whether p0 vanishes on [a,b]. \n",
    "    # # roots() in IntervalRootFinding doesn't work if p0 is sth like t*im - 2*im. Neither does find_zero() in Roots.\n",
    "    # # ApproxFun.roots() \n",
    "    # elseif (isa(p0, Function) && (!isempty(roots(p0Chebyshev)) || all(x->x>b, roots(p0Chebyshev)) || all(x->x<b, roots(p0Chebyshev)) || p0(a) == 0 || p0(b) == 0)) || p0 == 0 \n",
    "    #     throw(StructDefinitionError(:\"p0 vanishes on [a,b]\"))\n",
    "    elseif !all(i -> check_func_sym_equal(pFunctions[i], symPFunctions[i], (a,b), t), 1:length(pFunctions))\n",
    "        # throw(StructDefinitionError(:\"symP_k does not agree with p_k on [a,b]\"))\n",
    "        warn(\"symP_k does not agree with p_k on [a,b]\") # Make this a warning instead of an error because the functionalities of Julia Functions may be more than those of SymPy objects; we do not want to compromise the functionalities of LinearDifferentialOperator because of the restrictions on SymPy.\n",
    "    else\n",
    "        return true\n",
    "    end\n",
    "end"
   ]
  },
  {
   "cell_type": "markdown",
   "metadata": {},
   "source": [
    "**Parameters**\n",
    "* `pFunctions`: `Array` of `Function` or `Number` \n",
    "    * Array $[p_0, p_1, \\ldots, p_n]$ of length $n+1$, corresponding to the linear differential operator $L$ of order $n$ given by\n",
    "    $$Lx = p_0x^{(n)} + p_1x^{(n-1)} + \\cdots + p_{n-1}x^{(1)} + p_n x.$$\n",
    "* `interval`: `Tuple{Number, Number}`\n",
    "    * Tuple of two numbers `(a, b)` corresponding to the real interval $[a,b]$ on which the differential operator $L$ is defined.\n",
    "* `symL`: `SymLinearDifferentialOperator`\n",
    "    * Symbolic linear differential operator corresponding to $L$.\n",
    "    \n",
    "**Returns**\n",
    "* `LinearDifferentialOperator`\n",
    "    * Returns a `LinearDifferentialOperator` of order $n$ with attributes `pFunctions`, `interval`, and `symL`.\n",
    "    \n",
    "**Example**"
   ]
  },
  {
   "cell_type": "code",
   "execution_count": 154,
   "metadata": {},
   "outputs": [
    {
     "data": {
      "text/plain": [
       "LinearDifferentialOperator(Function[#112 #113 #114], (0, 1), SymLinearDifferentialOperator(SymPy.Sym[1 t + 1 t^2 + t + 1], (0, 1), t))"
      ]
     },
     "execution_count": 154,
     "metadata": {},
     "output_type": "execute_result"
    }
   ],
   "source": [
    "t = symbols(\"t\")\n",
    "symPFunctions = [1 t+1 t^2+t+1]\n",
    "interval = (0, 1)\n",
    "symL = SymLinearDifferentialOperator(symPFunctions, interval, t)\n",
    "# Direct construction\n",
    "pFunctions = [t->1 t->t+1 t->t^2+t+1]\n",
    "L = LinearDifferentialOperator(pFunctions, interval, symL)"
   ]
  },
  {
   "cell_type": "markdown",
   "metadata": {},
   "source": [
    "## `VectorBoundaryForm(M, N)`\n",
    "\n",
    "A set of homogeneous boundary conditions in vector form\n",
    "$$Ux = \\begin{bmatrix}U_1\\\\\\vdots\\\\ U_m\\end{bmatrix}x = \\begin{bmatrix}\\sum_{j=1}^n M_{1j}x^{(j-1)}(a) + N_{1j}x^{(j-1)}(b)\\\\\\vdots\\\\ \\sum_{j=1}^n M_{mj}x^{(j-1)}(a) + N_{mj}x^{(j-1)}(b)\\end{bmatrix} = \\begin{bmatrix}0\\\\\\vdots\\\\ 0\\end{bmatrix}$$\n",
    "is encoded by an ordered pair of two linearly independent $m\\times n$ matrices $(M, N)$ where\n",
    "$$M = \\begin{bmatrix}M_{11} & \\cdots & M_{1n}\\\\ \\vdots & \\ddots & \\vdots\\\\ M_{m1} & \\cdots & M_{mn}\\end{bmatrix},\\quad N = \\begin{bmatrix}N_{11} & \\cdots & N_{1n}\\\\ \\vdots & \\ddots & \\vdots\\\\ N_{m1} & \\cdots & N_{mn}\\end{bmatrix}.$$"
   ]
  },
  {
   "cell_type": "code",
   "execution_count": 155,
   "metadata": {},
   "outputs": [
    {
     "data": {
      "text/plain": [
       "check_vectorBoundaryForm_input (generic function with 1 method)"
      ]
     },
     "execution_count": 155,
     "metadata": {},
     "output_type": "execute_result"
    }
   ],
   "source": [
    "struct VectorBoundaryForm\n",
    "    M::Array # Why can't I specify Array{Number,2} without having a MethodError?\n",
    "    N::Array\n",
    "    VectorBoundaryForm(M::Array, N::Array) =\n",
    "    try\n",
    "        U = new(M, N)\n",
    "        check_vectorBoundaryForm_input(U)\n",
    "        return U\n",
    "    catch err\n",
    "        throw(err)\n",
    "    end\n",
    "end\n",
    "\n",
    "# Check whether the input matrices that characterize U are valid\n",
    "function check_vectorBoundaryForm_input(U::VectorBoundaryForm)\n",
    "    # M, N = U.M, U.N\n",
    "    # Avoid Inexact() error when taking rank()\n",
    "    M = convert(Array{Complex}, U.M)\n",
    "    N = convert(Array{Complex}, U.N)\n",
    "    if !(check_all(U.M, x -> isa(x, Number)) && check_all(U.N, x -> isa(x, Number)))\n",
    "        throw(StructDefinitionError(:\"Entries of M, N should be Number\"))\n",
    "    elseif size(U.M) != size(U.N)\n",
    "        throw(StructDefinitionError(:\"M, N dimensions do not match\"))\n",
    "    elseif size(U.M)[1] != size(U.M)[2]\n",
    "        throw(StructDefinitionError(:\"M, N should be square matrices\"))\n",
    "    elseif rank(hcat(M, N)) != size(M)[1] # rank() throws weird \"InexactError()\" when taking some complex matrices\n",
    "        throw(StructDefinitionError(:\"Boundary operators not linearly independent\"))\n",
    "    else\n",
    "        return true\n",
    "    end\n",
    "end"
   ]
  },
  {
   "cell_type": "markdown",
   "metadata": {},
   "source": [
    "**Parameters**\n",
    "* `M`, `N`: `Array` of `Number`\n",
    "    * Two linearly independent numeric matrices of the same dimension.\n",
    "\n",
    "**Returns**\n",
    "* `VectorBoundaryForm`\n",
    "    * Returns a `VectorBoundaryForm` with attributes `M` and `N`.\n",
    "\n",
    "**Example**"
   ]
  },
  {
   "cell_type": "code",
   "execution_count": 156,
   "metadata": {},
   "outputs": [
    {
     "data": {
      "text/plain": [
       "VectorBoundaryForm([1 0; 2 0], [0 2; 0 1])"
      ]
     },
     "execution_count": 156,
     "metadata": {},
     "output_type": "execute_result"
    }
   ],
   "source": [
    "M = [1 0; 2 0]\n",
    "N = [0 2; 0 1]\n",
    "U = VectorBoundaryForm(M, N)"
   ]
  },
  {
   "cell_type": "markdown",
   "metadata": {},
   "source": [
    "# Construct adjoint boundary conditions\n",
    "\n",
    "Algorithm to construct a valid adjoint boundary condition from a given (homogeneous) boundary condition based on Chapter 11 in Theory of Ordinary Differential Equations (Coddington & Levinson). The implementation uses Julia functions as main objects but supports symbolic expressions."
   ]
  },
  {
   "cell_type": "markdown",
   "metadata": {},
   "source": [
    "## `get_L(symL)`\n",
    "\n",
    "Constructs a `LinearDifferentialOperator` from a given `SymLinearDifferentialOperator`."
   ]
  },
  {
   "cell_type": "code",
   "execution_count": 157,
   "metadata": {},
   "outputs": [
    {
     "data": {
      "text/plain": [
       "get_L (generic function with 1 method)"
      ]
     },
     "execution_count": 157,
     "metadata": {},
     "output_type": "execute_result"
    }
   ],
   "source": [
    "function get_L(symL::SymLinearDifferentialOperator)\n",
    "    symPFunctions, (a,b), t = symL.symPFunctions, symL.interval, symL.t\n",
    "    pFunctions = [sym_to_func(symP) for symP in symPFunctions]\n",
    "    L = LinearDifferentialOperator(pFunctions, (a,b), symL)\n",
    "    return L\n",
    "end"
   ]
  },
  {
   "cell_type": "markdown",
   "metadata": {},
   "source": [
    "**Parameters**\n",
    "* `symL`: `SymLinearDifferentialOperator`\n",
    "    * Symbolic linear differential operator to be converted.\n",
    "\n",
    "**Returns**\n",
    "* `get_L`: `LinearDifferentialOperator`\n",
    "    * Returns the linear differential operator converted from `symL`.\n",
    "\n",
    "**Example**"
   ]
  },
  {
   "cell_type": "code",
   "execution_count": 158,
   "metadata": {},
   "outputs": [
    {
     "data": {
      "text/plain": [
       "LinearDifferentialOperator(#func#107{SymPy.Sym,Array{SymPy.Sym,1}}[func func func], (0, 1), SymLinearDifferentialOperator(SymPy.Sym[1 t + 1 t^2 + t + 1], (0, 1), t))"
      ]
     },
     "execution_count": 158,
     "metadata": {},
     "output_type": "execute_result"
    }
   ],
   "source": [
    "t = symbols(\"t\")\n",
    "symPFunctions = [1 t+1 t^2+t+1]\n",
    "interval = (0, 1)\n",
    "symL = SymLinearDifferentialOperator(symPFunctions, interval, t)\n",
    "L = get_L(symL)"
   ]
  },
  {
   "cell_type": "markdown",
   "metadata": {},
   "source": [
    "## `get_URank(U)`\n",
    "\n",
    "Computes the rank of a vector boundary form $U$ by computing the equivalent $\\text{rank}(M:N)$, where $M, N$ are the matrices associated with $U$ and\n",
    "$$(M:N) = \\begin{bmatrix}M_{11} & \\cdots & M_{1n} & N_{11} & \\cdots & N_{1n}\\\\ \\vdots & \\ddots & \\vdots & \\vdots & \\ddots & \\vdots\\\\ M_{m1} & \\cdots & M_{mn} & N_{m1} & \\cdots & N_{mn}\\end{bmatrix}.$$"
   ]
  },
  {
   "cell_type": "code",
   "execution_count": 159,
   "metadata": {},
   "outputs": [
    {
     "data": {
      "text/plain": [
       "get_URank (generic function with 1 method)"
      ]
     },
     "execution_count": 159,
     "metadata": {},
     "output_type": "execute_result"
    }
   ],
   "source": [
    "function get_URank(U::VectorBoundaryForm)\n",
    "    # Avoid InexactError() when taking hcat() and rank()\n",
    "    M = convert(Array{Complex}, U.M)\n",
    "    N = convert(Array{Complex}, U.N)\n",
    "    MHcatN = hcat(M, N)\n",
    "    return rank(MHcatN)\n",
    "end"
   ]
  },
  {
   "cell_type": "markdown",
   "metadata": {},
   "source": [
    "**Parameters**\n",
    "* `U`: `VectoBoundaryForm`\n",
    "    * Vector boundary form whose rank is to be computed.\n",
    "\n",
    "**Returns**\n",
    "* `get_URank`: `Number`\n",
    "    * Returns the rank of `U`.\n",
    "\n",
    "**Example**"
   ]
  },
  {
   "cell_type": "code",
   "execution_count": 160,
   "metadata": {},
   "outputs": [
    {
     "data": {
      "text/plain": [
       "2"
      ]
     },
     "execution_count": 160,
     "metadata": {},
     "output_type": "execute_result"
    }
   ],
   "source": [
    "M = [1 0; 2 0]\n",
    "N = [0 2; 0 1]\n",
    "U = VectorBoundaryForm(M, N)\n",
    "get_URank(U)"
   ]
  },
  {
   "cell_type": "markdown",
   "metadata": {},
   "source": [
    "## `get_Uc(U)`\n",
    "\n",
    "Given vector boundary form $U = \\begin{bmatrix}U_1\\\\ \\vdots\\\\ U_m\\end{bmatrix}$ of rank $m$, finds a complementary form $U_c = \\begin{bmatrix}U_{m+1}\\\\ \\vdots\\\\ U_{2n}\\end{bmatrix}$ of rank $2n-m$ such that $\\begin{bmatrix}U_1\\\\ \\vdots\\\\ U_{2n}\\end{bmatrix}$ has rank $2n$."
   ]
  },
  {
   "cell_type": "code",
   "execution_count": 161,
   "metadata": {},
   "outputs": [
    {
     "data": {
      "text/plain": [
       "get_Uc (generic function with 1 method)"
      ]
     },
     "execution_count": 161,
     "metadata": {},
     "output_type": "execute_result"
    }
   ],
   "source": [
    "function get_Uc(U::VectorBoundaryForm)\n",
    "    try\n",
    "        check_vectorBoundaryForm_input(U)\n",
    "        n = get_URank(U)\n",
    "        I = complex(eye(2*n))\n",
    "        M, N = U.M, U.N\n",
    "        MHcatN = hcat(M, N)\n",
    "        # Avoid InexactError() when taking rank()\n",
    "        mat = convert(Array{Complex}, MHcatN)\n",
    "        for i = 1:(2*n)\n",
    "            newMat = vcat(mat, I[i:i,:])\n",
    "            newMat = convert(Array{Complex}, newMat)\n",
    "            if rank(newMat) == rank(mat) + 1\n",
    "                mat = newMat\n",
    "            end\n",
    "        end\n",
    "        UcHcat = mat[(n+1):(2n),:]\n",
    "        Uc = VectorBoundaryForm(UcHcat[:,1:n], UcHcat[:,(n+1):(2n)])\n",
    "        return Uc\n",
    "    catch err\n",
    "        return err\n",
    "    end\n",
    "end"
   ]
  },
  {
   "cell_type": "markdown",
   "metadata": {},
   "source": [
    "**Parameters**\n",
    "* `U`: `VectoBoundaryForm`\n",
    "    * Vector boundary form whose complementary boundary form is to be found.\n",
    "\n",
    "**Returns**\n",
    "* `get_Uc`: `VectorBoundaryForm`\n",
    "    * Returns a vectory boundary form complementary to `U`.\n",
    "\n",
    "**Example**"
   ]
  },
  {
   "cell_type": "code",
   "execution_count": 162,
   "metadata": {},
   "outputs": [
    {
     "data": {
      "text/plain": [
       "VectorBoundaryForm(Complex[0.0+0.0im 1.0+0.0im; 0.0+0.0im 0.0+0.0im], Complex[0.0+0.0im 0.0+0.0im; 1.0+0.0im 0.0+0.0im])"
      ]
     },
     "execution_count": 162,
     "metadata": {},
     "output_type": "execute_result"
    }
   ],
   "source": [
    "M = [1 0; 2 0]\n",
    "N = [0 2; 0 1]\n",
    "U = VectorBoundaryForm(M, N)\n",
    "Uc = get_Uc(U)"
   ]
  },
  {
   "cell_type": "markdown",
   "metadata": {},
   "source": [
    "## `get_H(U, Uc)`\n",
    "\n",
    "Given a vector boundary form $U$ and a complementary vector boundary form $U_c$, constructs \n",
    "$$H = \\begin{bmatrix}M&N\\\\ M_c & N_c\\end{bmatrix},$$\n",
    "where $M, N$ are the matrices associated with $U$ and $M_c, N_c$ are associated with $U_c$."
   ]
  },
  {
   "cell_type": "code",
   "execution_count": 163,
   "metadata": {},
   "outputs": [
    {
     "data": {
      "text/plain": [
       "get_H (generic function with 1 method)"
      ]
     },
     "execution_count": 163,
     "metadata": {},
     "output_type": "execute_result"
    }
   ],
   "source": [
    "function get_H(U::VectorBoundaryForm, Uc::VectorBoundaryForm)\n",
    "    MHcatN = hcat(convert(Array{Complex}, U.M), convert(Array{Complex}, U.N))\n",
    "    McHcatNc = hcat(convert(Array{Complex}, Uc.M), convert(Array{Complex}, Uc.N))\n",
    "    H = vcat(MHcatN, McHcatNc)\n",
    "    return H\n",
    "end"
   ]
  },
  {
   "cell_type": "markdown",
   "metadata": {},
   "source": [
    "**Parameters**\n",
    "* `U`: `VectorBoundaryForm`\n",
    "    * Vector boundary form.\n",
    "* `Uc`: `VectorBoundaryForm`\n",
    "    * Vector boundary form complementary to `U`.\n",
    "\n",
    "**Returns**\n",
    "* `get_H`: `Array`\n",
    "    * Returns the matrix $H$ defined above.\n",
    "\n",
    "**Example**"
   ]
  },
  {
   "cell_type": "code",
   "execution_count": 164,
   "metadata": {},
   "outputs": [
    {
     "data": {
      "text/plain": [
       "4×4 Array{Complex,2}:\n",
       "   1+0im      0+0im      0+0im      2+0im  \n",
       "   2+0im      0+0im      0+0im      1+0im  \n",
       " 0.0+0.0im  1.0+0.0im  0.0+0.0im  0.0+0.0im\n",
       " 0.0+0.0im  0.0+0.0im  1.0+0.0im  0.0+0.0im"
      ]
     },
     "execution_count": 164,
     "metadata": {},
     "output_type": "execute_result"
    }
   ],
   "source": [
    "M = [1 0; 2 0]\n",
    "N = [0 2; 0 1]\n",
    "U = VectorBoundaryForm(M, N)\n",
    "Uc = get_Uc(U)\n",
    "get_H(U, Uc)"
   ]
  },
  {
   "cell_type": "markdown",
   "metadata": {},
   "source": [
    "## `get_pDerivMatrix(L; symbolic=false, substitute=true)`\n",
    "\n",
    "Given a `LinearDifferentialOperator` `L` where `L.pFunctions` is the array\n",
    "$$[p_0, p_1, \\ldots, p_n],$$\n",
    "constructs an $n\\times n$ matrix whose $(i+1)(j+1)$-entry is a function corresponding to the $j$th derivative of $p_i$:\n",
    "$$\\begin{bmatrix}p_0 & \\cdots & p_0^{(n-1)}\\\\ \\vdots & \\ddots & \\vdots\\\\ p_{n-1} & \\cdots & p_{n-1}^{(n-1)}\\end{bmatrix}.$$"
   ]
  },
  {
   "cell_type": "code",
   "execution_count": 165,
   "metadata": {},
   "outputs": [
    {
     "data": {
      "text/plain": [
       "get_pDerivMatrix (generic function with 1 method)"
      ]
     },
     "execution_count": 165,
     "metadata": {},
     "output_type": "execute_result"
    }
   ],
   "source": [
    "function get_pDerivMatrix(L::LinearDifferentialOperator; symbolic = false, substitute = true)\n",
    "    if symbolic\n",
    "        symL = L.symL\n",
    "        symPFunctions, t = symL.symPFunctions, symL.t\n",
    "        n = length(symPFunctions)-1\n",
    "        symPDerivMatrix = Array{SymPy.Sym}(n,n)\n",
    "        if substitute\n",
    "            pFunctionSymbols = symPFunctions\n",
    "        else\n",
    "            pFunctionSymbols = [SymFunction(string(\"p\", i-1))(t) for i in 1:n]\n",
    "        end\n",
    "        for i in 0:(n-1)\n",
    "            for j in 0:(n-1)\n",
    "                index, degree = i, j\n",
    "                symP = pFunctionSymbols[index+1]\n",
    "                # If symP is not a Sympy.Sym object (e.g., is a Number instead), then cannot use get_symDeriv()\n",
    "                if !isa(symP, SymPy.Sym)\n",
    "                    if degree > 0\n",
    "                        symPDeriv = 0\n",
    "                    else\n",
    "                        symPDeriv = symP\n",
    "                    end\n",
    "                else\n",
    "                    symPDeriv = get_symDeriv(symP, t, degree)\n",
    "                end\n",
    "                symPDerivMatrix[i+1,j+1] = symPDeriv\n",
    "            end\n",
    "        end\n",
    "        return symPDerivMatrix\n",
    "    else\n",
    "        symPDerivMatrix = get_pDerivMatrix(L; symbolic = true)\n",
    "        n = length(L.pFunctions)-1\n",
    "        pDerivMatrix = Array{Union{Function,Number}}(n,n)\n",
    "        for i = 1:n\n",
    "            for j = 1:n\n",
    "                symPDeriv = symPDerivMatrix[i,j]\n",
    "                pDerivMatrix[i,j] = sym_to_func(symPDeriv)\n",
    "            end\n",
    "        end\n",
    "    end\n",
    "    return pDerivMatrix\n",
    "end"
   ]
  },
  {
   "cell_type": "markdown",
   "metadata": {},
   "source": [
    "**Parameters**\n",
    "* `L`: `LinearDifferentialOperator`\n",
    "    * Linear differential operator whose `pDerivMatrix` is to be constructed.\n",
    "* `symbolic`: `Bool`\n",
    "    * Boolean indicating whether the output is symbolic.\n",
    "* `substutite*`: `Bool` \n",
    "    * If `symbolic = true`, boolean indicating whether to substitute the symbolic epxression of $p_i$ (`L.symL.symPFunctions[i]`) for the $p_i$ in the generic expression $\\displaystyle\\frac{d^j}{dt^j} p_i(t)$.\n",
    "\n",
    "**Returns**\n",
    "* `get_pDerivMatrix`: `Array` of `Function`, `Number` or `SymPy.Sym`\n",
    "    * Returns an $n\\times n$ matrix whose $(i+1)(j+1)$-entry is\n",
    "        * the $j$th derivative of $p_i$ (`L.pFunctions[i]`) if `symbolic = false`, or\n",
    "        * a corresponding symbolic expression if `symbolic = true`, which could be\n",
    "            * the generic expression $\\displaystyle\\frac{d^j}{dt^j}p_i$ if `substitute = false`.\n",
    "            * the symbolic expression of the $j$th derivative of $p_i$ (`L.symL.symPFunctions[i]`) if `substitute =  true`.\n",
    "\n",
    "**Example**"
   ]
  },
  {
   "cell_type": "code",
   "execution_count": 166,
   "metadata": {},
   "outputs": [
    {
     "data": {
      "text/plain": [
       "2×2 Array{Union{Function, Number},2}:\n",
       " func  func\n",
       " func  func"
      ]
     },
     "execution_count": 166,
     "metadata": {},
     "output_type": "execute_result"
    }
   ],
   "source": [
    "t = symbols(\"t\")\n",
    "symPFunctions = [1 t+1 t^2+t+1]\n",
    "interval = (0, 1)\n",
    "symL = SymLinearDifferentialOperator(symPFunctions, interval, t)\n",
    "\n",
    "# pFunctions = [t->1 t->t+1 t->t^2+t+1]\n",
    "# L = LinearDifferentialOperator(pFunctions, interval, symL)\n",
    "L = get_L(symL)\n",
    "\n",
    "get_pDerivMatrix(L; symbolic = false)"
   ]
  },
  {
   "cell_type": "code",
   "execution_count": 167,
   "metadata": {},
   "outputs": [
    {
     "data": {
      "text/latex": [
       "\\begin{bmatrix}\\operatorname{p_{0}}{\\left (t \\right )}&\\frac{d}{d t} \\operatorname{p_{0}}{\\left (t \\right )}\\\\\\operatorname{p_{1}}{\\left (t \\right )}&\\frac{d}{d t} \\operatorname{p_{1}}{\\left (t \\right )}\\end{bmatrix}"
      ],
      "text/plain": [
       "2×2 Array{SymPy.Sym,2}:\n",
       " p0(t)  Derivative(p0(t), t)\n",
       " p1(t)  Derivative(p1(t), t)"
      ]
     },
     "execution_count": 167,
     "metadata": {},
     "output_type": "execute_result"
    }
   ],
   "source": [
    "get_pDerivMatrix(L; symbolic = true, substitute = false)"
   ]
  },
  {
   "cell_type": "code",
   "execution_count": 168,
   "metadata": {},
   "outputs": [
    {
     "data": {
      "text/latex": [
       "\\begin{bmatrix}1&0\\\\t + 1&1\\end{bmatrix}"
      ],
      "text/plain": [
       "2×2 Array{SymPy.Sym,2}:\n",
       "     1  0\n",
       " t + 1  1"
      ]
     },
     "execution_count": 168,
     "metadata": {},
     "output_type": "execute_result"
    }
   ],
   "source": [
    "get_pDerivMatrix(L; symbolic = true, substitute = true)"
   ]
  },
  {
   "cell_type": "markdown",
   "metadata": {},
   "source": [
    "## `get_Bjk(L, j, k; symbolic=false, substitute=true, pDerivMatrix=get_pDerivMatrix(L))`\n",
    "\n",
    "Given a `LinearDifferentialOperator` `L` of order $n$, for $j, k \\in \\{1,\\ldots,n\\}$, computes $B_{jk}$ defined as\n",
    "$$B_{jk}(t) := \\sum_{\\ell=j-1}^{n-k}\\binom{\\ell}{j-1}p^{(\\ell-j+1)}_{n-k-\\ell}(t)(-1)^\\ell.$$"
   ]
  },
  {
   "cell_type": "code",
   "execution_count": 169,
   "metadata": {},
   "outputs": [
    {
     "data": {
      "text/plain": [
       "get_Bjk (generic function with 1 method)"
      ]
     },
     "execution_count": 169,
     "metadata": {},
     "output_type": "execute_result"
    }
   ],
   "source": [
    "function get_Bjk(L::LinearDifferentialOperator, j::Int, k::Int; symbolic = false, substitute = true, pDerivMatrix = get_pDerivMatrix(L; symbolic = symbolic, substitute = substitute))\n",
    "    n = length(L.pFunctions)-1\n",
    "    if j <= 0 || j > n || k <= 0 || k > n\n",
    "        throw(\"j, k should be in {1, ..., n}\")\n",
    "    end\n",
    "    sum = 0\n",
    "    if symbolic\n",
    "        symPDerivMatrix = get_pDerivMatrix(L; symbolic = true, substitute = substitute)\n",
    "        for l = (j-1):(n-k)\n",
    "            summand = binomial(l, j-1) * symPDerivMatrix[n-k-l+1, l-j+1+1] * (-1)^l\n",
    "            sum += summand\n",
    "        end\n",
    "    else\n",
    "        for l = (j-1):(n-k)\n",
    "            summand = mult_func(binomial(l, j-1) * (-1)^l, pDerivMatrix[n-k-l+1, l-j+1+1])\n",
    "            sum = add_func(sum, summand)\n",
    "        end\n",
    "    end\n",
    "    return sum\n",
    "end"
   ]
  },
  {
   "cell_type": "markdown",
   "metadata": {},
   "source": [
    "**Parameters**\n",
    "* `L`: `LinearDifferentialOperator`\n",
    "    * Linear differential operator whose `L.pFunctions` are to become the $p_{n-k-l}^{l-j+1}$ in $B_{jk}(t)$.\n",
    "* `j`, `k`: `Int`\n",
    "    * Integers corresponding to the $j$ and $k$ in $B_{jk}$.\n",
    "* `symbolic*`: `Bool`\n",
    "    * Boolean indicating whether the output is symbolic.\n",
    "* `substitute*`: `Bool`\n",
    "    * If `symbolic = true`, boolean indicating whether to substitute the symbolic expression of $p_i$ in `L.pFunctions` for the generic expression $p_i(t)$ created using `SymFunction(\"pi\")(t)`. If `symbolic = false`, the value of `substitute` does not matter.\n",
    "* `pDerivMatrix*`: `Array`\n",
    "    * If `symbolic = false`, an $n\\times n$ matrix whose $(i+1)(j+1)$-entry is the $j$th derivative of $p_i$ (`L.pFunctions[i]`) implemented as a `Function`, `Number`, or `SymPy.Sym`. Default to the output of `get_pDerivMatrix(L)`.\n",
    "\n",
    "**Returns**\n",
    "* `get_Bjk`: `SymPy.Sym`, `Function`, or `Number`\n",
    "    * Returns $B_{jk}(t)$ defined above, \n",
    "        * as `Function` if `symbolic = false`, or\n",
    "        * as `SymPy.Sym` object if `symbolic = true`, where each $p_i$ is\n",
    "            * the generic expression $p_i(t)$ if `substitute = false`, or\n",
    "            * the symbolic expression of $p_i(t)$ (`L.symL.symPFunctions[i]`) if `substitute = true`.\n",
    "\n",
    "**Example**"
   ]
  },
  {
   "cell_type": "code",
   "execution_count": 170,
   "metadata": {},
   "outputs": [
    {
     "data": {
      "text/latex": [
       "$$\\operatorname{p_{1}}{\\left (t \\right )} - \\frac{d}{d t} \\operatorname{p_{0}}{\\left (t \\right )}$$"
      ],
      "text/plain": [
       "        d        \n",
       "p1(t) - --(p0(t))\n",
       "        dt       "
      ]
     },
     "execution_count": 170,
     "metadata": {},
     "output_type": "execute_result"
    }
   ],
   "source": [
    "t = symbols(\"t\")\n",
    "symPFunctions = [1 t+1 t^2+t+1]\n",
    "interval = (0, 1)\n",
    "symL = SymLinearDifferentialOperator(symPFunctions, interval, t)\n",
    "\n",
    "# pFunctions = [t->1 t->t+1 t->t^2+t+1]\n",
    "# L = LinearDifferentialOperator(pFunctions, interval, symL)\n",
    "L = get_L(symL)\n",
    "\n",
    "pDerivMatrix = [1 0; t->1+t t->1]\n",
    "j, k = 1, 1\n",
    "get_Bjk(L, j, k; symbolic = true, substitute = false, pDerivMatrix = pDerivMatrix)"
   ]
  },
  {
   "cell_type": "code",
   "execution_count": 171,
   "metadata": {},
   "outputs": [
    {
     "data": {
      "text/latex": [
       "$$t + 1$$"
      ],
      "text/plain": [
       "t + 1"
      ]
     },
     "execution_count": 171,
     "metadata": {},
     "output_type": "execute_result"
    }
   ],
   "source": [
    "get_Bjk(L, j, k; symbolic = true, substitute = true, pDerivMatrix = pDerivMatrix)"
   ]
  },
  {
   "cell_type": "code",
   "execution_count": 172,
   "metadata": {},
   "outputs": [
    {
     "data": {
      "text/plain": [
       "(::h) (generic function with 1 method)"
      ]
     },
     "execution_count": 172,
     "metadata": {},
     "output_type": "execute_result"
    }
   ],
   "source": [
    "get_Bjk(L, j, k; symbolic = false, substitute = true, pDerivMatrix = pDerivMatrix)"
   ]
  },
  {
   "cell_type": "markdown",
   "metadata": {},
   "source": [
    "## `get_B(L; symbolic=false, substitute=true, pDerivMatrix=get_pDerivMatrix(L; symbolic = symbolic, substitute = substitute))`\n",
    "\n",
    "Given a `LinearDifferentialOperator` `L` where `L.pFunctions` is the array\n",
    "$$[p_0, p_1, \\ldots, p_n],$$ \n",
    "constructs the matrix $B(t)$ whose $ij$-entry is given by\n",
    "$$B_{jk}(t) := \\sum_{\\ell=j-1}^{n-k}\\binom{\\ell}{j-1}p^{(\\ell-j+1)}_{n-k-\\ell}(t)(-1)^\\ell.$$"
   ]
  },
  {
   "cell_type": "code",
   "execution_count": 173,
   "metadata": {},
   "outputs": [
    {
     "data": {
      "text/plain": [
       "get_B (generic function with 1 method)"
      ]
     },
     "execution_count": 173,
     "metadata": {},
     "output_type": "execute_result"
    }
   ],
   "source": [
    "function get_B(L::LinearDifferentialOperator; symbolic = false, substitute = true, pDerivMatrix = get_pDerivMatrix(L; symbolic = symbolic, substitute = substitute))\n",
    "    n = length(L.pFunctions)-1\n",
    "    B = Array{Union{Function, Number, SymPy.Sym}}(n,n)\n",
    "    for j = 1:n\n",
    "        for k = 1:n\n",
    "            B[j,k] = get_Bjk(L, j, k; symbolic = symbolic, substitute = substitute, pDerivMatrix = pDerivMatrix)\n",
    "        end\n",
    "    end\n",
    "    return B\n",
    "end"
   ]
  },
  {
   "cell_type": "markdown",
   "metadata": {},
   "source": [
    "**Parameters**\n",
    "* `L`: `LinearDifferentialOperator`\n",
    "    * Linear differential operator whose `L.pFunctions` are to become the $p_{n-k-l}^{l-j+1}$ in $B_{jk}(t)$.\n",
    "* `symbolic*`: `Bool`\n",
    "    * Boolean indicating whether the output is symbolic.\n",
    "* `substitute*`: `Bool`\n",
    "    * If `symbolic = true`, boolean indicating whether to substitute the symbolic expression of $p_i$ in `L.pFunctions` for the generic expression $p_i(t)$ created using `SymFunction(\"pi\")(t)`. If `symbolic = false`, the value of `substitute` does not matter.\n",
    "* `pDerivMatrix*`: `Array`\n",
    "    * If `symbolic = false`, the non-symbolic version of `symPDerivMatrix`, i.e., an $n\\times n$ matrix whose $(i+1)(j+1)$-entry is the $j$th derivative of $p_i$ (`L.pFunctions[i]`) implemented as a `Function` or `Number`.\n",
    "\n",
    "**Returns**\n",
    "* `get_B`: `Array` of `Function`, `SymPy.Sym`, or `Number`\n",
    "    * Returns $B(t)$ defined above, where $B_{jk}(t)$ is\n",
    "        * `Function` if `symbolic = false`, or\n",
    "        * `SymPy.Sym` object if `symbolic = true`, where each $p_i$ is\n",
    "            * the generic expression $p_i(t)$ if `substitute = false`, or\n",
    "            * the symbolic expression of $p_i(t)$ (`L.symL.symPFunctions[i]`) if `substitute = true`.\n",
    "\n",
    "**Example**"
   ]
  },
  {
   "cell_type": "code",
   "execution_count": 174,
   "metadata": {},
   "outputs": [
    {
     "data": {
      "text/plain": [
       "2×2 Array{Union{Function, Number},2}:\n",
       " p1(t) - Derivative(p0(t), t)  p0(t)\n",
       "                       -p0(t)      0"
      ]
     },
     "execution_count": 174,
     "metadata": {},
     "output_type": "execute_result"
    }
   ],
   "source": [
    "t = symbols(\"t\")\n",
    "symPFunctions = [1 t+1 t^2+t+1]\n",
    "interval = (0, 1)\n",
    "symL = SymLinearDifferentialOperator(symPFunctions, interval, t)\n",
    "\n",
    "L = get_L(symL)\n",
    "\n",
    "B = get_B(L; symbolic = true, substitute = false)\n",
    "# Only Array{SymPy.Sym} would be automatically pretty-printed"
   ]
  },
  {
   "cell_type": "code",
   "execution_count": 175,
   "metadata": {},
   "outputs": [
    {
     "data": {
      "text/latex": [
       "\\begin{bmatrix}\\operatorname{p_{1}}{\\left (t \\right )} - \\frac{d}{d t} \\operatorname{p_{0}}{\\left (t \\right )}&\\operatorname{p_{0}}{\\left (t \\right )}\\\\- \\operatorname{p_{0}}{\\left (t \\right )}&0\\end{bmatrix}"
      ],
      "text/plain": [
       "2×2 Array{SymPy.Sym,2}:\n",
       " p1(t) - Derivative(p0(t), t)  p0(t)\n",
       "                       -p0(t)      0"
      ]
     },
     "execution_count": 175,
     "metadata": {},
     "output_type": "execute_result"
    }
   ],
   "source": [
    "# Enfore pretty-printing\n",
    "prettyPrint(B)"
   ]
  },
  {
   "cell_type": "code",
   "execution_count": 176,
   "metadata": {},
   "outputs": [
    {
     "data": {
      "text/plain": [
       "2×2 Array{Union{Function, Number},2}:\n",
       " t + 1  1\n",
       "    -1  0"
      ]
     },
     "execution_count": 176,
     "metadata": {},
     "output_type": "execute_result"
    }
   ],
   "source": [
    "B = get_B(L; symbolic = true, substitute = true)\n",
    "# Only Array{SymPy.Sym} would be automatically pretty-printed"
   ]
  },
  {
   "cell_type": "code",
   "execution_count": 177,
   "metadata": {},
   "outputs": [
    {
     "data": {
      "text/latex": [
       "\\begin{bmatrix}t + 1&1\\\\-1&0\\end{bmatrix}"
      ],
      "text/plain": [
       "2×2 Array{SymPy.Sym,2}:\n",
       " t + 1  1\n",
       "    -1  0"
      ]
     },
     "execution_count": 177,
     "metadata": {},
     "output_type": "execute_result"
    }
   ],
   "source": [
    "# Enfore pretty-printing\n",
    "prettyPrint(B)"
   ]
  },
  {
   "cell_type": "code",
   "execution_count": 178,
   "metadata": {},
   "outputs": [
    {
     "data": {
      "text/plain": [
       "2×2 Array{Union{Function, Number},2}:\n",
       " h   h\n",
       " h  0 "
      ]
     },
     "execution_count": 178,
     "metadata": {},
     "output_type": "execute_result"
    }
   ],
   "source": [
    "get_B(L; symbolic = false, substitute = false)"
   ]
  },
  {
   "cell_type": "markdown",
   "metadata": {},
   "source": [
    "## `get_BHat(L, B)`\n",
    "\n",
    "Given a `LinearDifferentialOperator` `L` where `L.pFunctions` is the array\n",
    "$$[p_0, p_1, \\ldots, p_n]$$\n",
    "and `L.interval` is $[a,b]$, constructs $\\hat{B}$ defined as the block matrix\n",
    "$$\\hat{B}:=\\begin{bmatrix}-B(a) & 0_n\\\\0_n & B(b)\\end{bmatrix}.$$"
   ]
  },
  {
   "cell_type": "code",
   "execution_count": 179,
   "metadata": {},
   "outputs": [
    {
     "data": {
      "text/plain": [
       "get_BHat (generic function with 1 method)"
      ]
     },
     "execution_count": 179,
     "metadata": {},
     "output_type": "execute_result"
    }
   ],
   "source": [
    "function get_BHat(L::LinearDifferentialOperator, B::Array)\n",
    "#     if check_any(B, x->isa(x, SymPy.Sym))\n",
    "#         throw(\"Entries of B should be Function or Number\")\n",
    "#     end\n",
    "    pFunctions, (a,b) = L.pFunctions, L.interval\n",
    "    n = length(pFunctions)-1\n",
    "    BHat = Array{Complex}(2n,2n)\n",
    "    BEvalA = evaluate(B, a)\n",
    "    BEvalB = evaluate(B, b)\n",
    "    BHat[1:n,1:n] = -BEvalA\n",
    "    BHat[(n+1):(2n),(n+1):(2n)] = BEvalB\n",
    "    BHat[1:n, (n+1):(2n)] = 0\n",
    "    BHat[(n+1):(2n), 1:n] = 0\n",
    "    return BHat\n",
    "end"
   ]
  },
  {
   "cell_type": "markdown",
   "metadata": {},
   "source": [
    "**Parameters**\n",
    "* `L`: `LinearDifferentialOperator`\n",
    "    * Linear differential operator whose `L.pFunctions` are to become the $p_{n-k-l}^{l-j+1}$ in $B_{jk}(t)$.\n",
    "* `B`: `Array` of `Number`\n",
    "    * Output of `get_B(L; symbolic = false)`.\n",
    "    \n",
    "**Returns**\n",
    "* `get_BHat`: `Array` of `Number`\n",
    "    * Returns $\\hat{B}$ defined above.\n",
    "\n",
    "**Example**"
   ]
  },
  {
   "cell_type": "code",
   "execution_count": 180,
   "metadata": {},
   "outputs": [
    {
     "data": {
      "text/plain": [
       "4×4 Array{Complex,2}:\n",
       " -1+0im  -1+0im   0+0im  0+0im\n",
       "  1+0im   0+0im   0+0im  0+0im\n",
       "  0+0im   0+0im   2+0im  1+0im\n",
       "  0+0im   0+0im  -1+0im  0+0im"
      ]
     },
     "execution_count": 180,
     "metadata": {},
     "output_type": "execute_result"
    }
   ],
   "source": [
    "t = symbols(\"t\")\n",
    "symPFunctions = [1 t+1 t^2+t+1]\n",
    "interval = (0, 1)\n",
    "symL = SymLinearDifferentialOperator(symPFunctions, interval, t)\n",
    "pFunctions = [t->1 t->t+1 t->t^2+t+1]\n",
    "L = LinearDifferentialOperator(pFunctions, interval, symL)\n",
    "\n",
    "pDerivMatrix = get_pDerivMatrix(L)\n",
    "# pDerivMatrix = [1 0; t->1+t t->1]\n",
    "\n",
    "B = get_B(L; symbolic = false, substitute = false, pDerivMatrix = pDerivMatrix)\n",
    "get_BHat(L, B)"
   ]
  },
  {
   "cell_type": "markdown",
   "metadata": {},
   "source": [
    "## `get_J(BHat, H)`\n",
    "\n",
    "Given $\\hat{B}$ and $H$, constructs $J$ defined as \n",
    "$$J:=(\\hat{B}H^{-1})^\\star$$\n",
    "where $^*$ denotes conjugate transpose."
   ]
  },
  {
   "cell_type": "code",
   "execution_count": 181,
   "metadata": {},
   "outputs": [
    {
     "data": {
      "text/plain": [
       "get_J (generic function with 1 method)"
      ]
     },
     "execution_count": 181,
     "metadata": {},
     "output_type": "execute_result"
    }
   ],
   "source": [
    "function get_J(BHat, H)\n",
    "    n = size(H)[1]\n",
    "    H = convert(Array{Complex}, H)\n",
    "    J = (BHat * inv(H))'\n",
    "    # J = convert(Array{Complex}, J)\n",
    "    return J\n",
    "end"
   ]
  },
  {
   "cell_type": "markdown",
   "metadata": {},
   "source": [
    "**Parameters**\n",
    "* `BHat`: `Array`\n",
    "    * Output of `get_BHat()`.\n",
    "* `H`: `Array`\n",
    "    * Output of `get_H()`.\n",
    "\n",
    "**Returns**\n",
    "* `get_J`: `Array`\n",
    "    * Returns $J$ defined above.\n",
    "\n",
    "**Example**"
   ]
  },
  {
   "cell_type": "code",
   "execution_count": 182,
   "metadata": {},
   "outputs": [
    {
     "data": {
      "text/plain": [
       "4×4 Array{Complex,2}:\n",
       "  0.333333-0.0im  -0.333333-0.0im   0.666667-0.0im   0.0-0.0im\n",
       " -0.666667-0.0im   0.666667-0.0im  -0.333333-0.0im   0.0-0.0im\n",
       "      -1.0-0.0im        0.0-0.0im        0.0-0.0im   0.0-0.0im\n",
       "       0.0-0.0im        0.0-0.0im        2.0-0.0im  -1.0-0.0im"
      ]
     },
     "execution_count": 182,
     "metadata": {},
     "output_type": "execute_result"
    }
   ],
   "source": [
    "t = symbols(\"t\")\n",
    "symPFunctions = [1 t+1 t^2+t+1]\n",
    "interval = (0, 1)\n",
    "symL = SymLinearDifferentialOperator(symPFunctions, interval, t)\n",
    "pFunctions = [t->1 t->t+1 t->t^2+t+1]\n",
    "L = LinearDifferentialOperator(pFunctions, interval, symL)\n",
    "\n",
    "pDerivMatrix = get_pDerivMatrix(L)\n",
    "# pDerivMatrix = [1 0; t->1+t t->1]\n",
    "\n",
    "B = get_B(L; symbolic = false, substitute = false, pDerivMatrix = pDerivMatrix)\n",
    "BHat = get_BHat(L, B)\n",
    "\n",
    "M = [1 0; 2 0]\n",
    "N = [0 2; 0 1]\n",
    "U = VectorBoundaryForm(M, N)\n",
    "Uc = get_Uc(U)\n",
    "H = get_H(U, Uc)\n",
    "\n",
    "get_J(BHat, H)"
   ]
  },
  {
   "cell_type": "markdown",
   "metadata": {},
   "source": [
    "## `get_adjoint(J)`\n",
    "\n",
    "Given $J$, constructs a candidate adjoint vector boundary form $U^+$ from two matrices $P^\\star$, $Q^\\star$, which are the lower-left $n\\times n$ submatrix of $J$, and the lower-right $n\\times n$ submatrix of $J$, respectively."
   ]
  },
  {
   "cell_type": "code",
   "execution_count": 183,
   "metadata": {},
   "outputs": [
    {
     "data": {
      "text/plain": [
       "get_adjoint (generic function with 1 method)"
      ]
     },
     "execution_count": 183,
     "metadata": {},
     "output_type": "execute_result"
    }
   ],
   "source": [
    "function get_adjoint(J)\n",
    "    n = convert(Int, size(J)[1]/2)\n",
    "    J = convert(Array{Complex}, J)\n",
    "    PStar = J[(n+1):2n,1:n]\n",
    "    QStar = J[(n+1):2n, (n+1):2n]\n",
    "    adjointU = VectorBoundaryForm(PStar, QStar)\n",
    "    return adjointU\n",
    "end"
   ]
  },
  {
   "cell_type": "markdown",
   "metadata": {},
   "source": [
    "**Parameters**\n",
    "* `J`: `Array`\n",
    "    * Output of `get_J`.\n",
    "\n",
    "**Returns**\n",
    "* `get_adjoint`: `VectorBoundaryForm`\n",
    "    * Returns $U^+$ defined above.\n",
    "\n",
    "**Example**"
   ]
  },
  {
   "cell_type": "code",
   "execution_count": 184,
   "metadata": {},
   "outputs": [
    {
     "data": {
      "text/plain": [
       "VectorBoundaryForm(Complex[-1.0-0.0im 0.0-0.0im; 0.0-0.0im 0.0-0.0im], Complex[0.0-0.0im 0.0-0.0im; 2.0-0.0im -1.0-0.0im])"
      ]
     },
     "execution_count": 184,
     "metadata": {},
     "output_type": "execute_result"
    }
   ],
   "source": [
    "t = symbols(\"t\")\n",
    "symPFunctions = [1 t+1 t^2+t+1]\n",
    "interval = (0, 1)\n",
    "symL = SymLinearDifferentialOperator(symPFunctions, interval, t)\n",
    "pFunctions = [t->1 t->t+1 t->t^2+t+1]\n",
    "L = LinearDifferentialOperator(pFunctions, interval, symL)\n",
    "\n",
    "pDerivMatrix = get_pDerivMatrix(L)\n",
    "# pDerivMatrix = [1 0; t->1+t t->1]\n",
    "j, k = 1, 1\n",
    "\n",
    "B = get_B(L; symbolic = false, substitute = false, pDerivMatrix = pDerivMatrix)\n",
    "BHat = get_BHat(L, B)\n",
    "\n",
    "M = [1 0; 2 0]\n",
    "N = [0 2; 0 1]\n",
    "U = VectorBoundaryForm(M, N)\n",
    "Uc = get_Uc(U)\n",
    "H = get_H(U, Uc)\n",
    "\n",
    "J = get_J(BHat, H)\n",
    "adjoint = get_adjoint(J)"
   ]
  },
  {
   "cell_type": "markdown",
   "metadata": {},
   "source": [
    "## `get_xi(L; symbolic=true, substitute=false, xSym=nothing)`\n",
    "\n",
    "Given a `LinearDifferentialOperator` `L` of order $n$ in the differential equation $Lx=0$, constructs $\\xi(t)$, which is defined as the vector of derivatives of $x(t)$\n",
    "$$\\xi(t) := \\begin{bmatrix}x(t)\\\\ x^{(1)}(t)\\\\ x^{(2)}(t)\\\\ \\vdots\\\\ x^{(n-1)}(t)\\end{bmatrix}.$$"
   ]
  },
  {
   "cell_type": "code",
   "execution_count": 185,
   "metadata": {},
   "outputs": [
    {
     "data": {
      "text/plain": [
       "get_xi (generic function with 1 method)"
      ]
     },
     "execution_count": 185,
     "metadata": {},
     "output_type": "execute_result"
    }
   ],
   "source": [
    "function get_xi(L::LinearDifferentialOperator; symbolic=true, substitute = false, xSym = nothing)\n",
    "    if symbolic\n",
    "        n = length(L.pFunctions)-1\n",
    "        t = symbols(\"t\")\n",
    "        symXi = Array{SymPy.Sym}(n,1)\n",
    "        if substitute\n",
    "            if isa(xSym, Void)\n",
    "                throw(error(\"xSym required\"))\n",
    "            else\n",
    "                for i = 1:n\n",
    "                    symXi[i] = get_symDeriv(xSym,t,i-1)\n",
    "                end\n",
    "                return symXi\n",
    "            end\n",
    "        else\n",
    "            xSym = SymFunction(\"x\")(t)\n",
    "            for i = 1:n\n",
    "                symXi[i] = get_symDeriv(xSym,t,i-1)\n",
    "            end\n",
    "            return symXi\n",
    "        end\n",
    "    else\n",
    "        if isa(xSym, Void)\n",
    "            throw(error(\"xSym required\"))\n",
    "        elseif !isa(xSym, SymPy.Sym)\n",
    "            throw(error(\"xSym should be SymPy.Sym\"))\n",
    "        else\n",
    "            symXi = get_xi(L; symbolic = true, substitute = true, xSym = xSym)\n",
    "            xi = [sym_to_func(symX) for symX in symXi]\n",
    "            return xi\n",
    "        end\n",
    "    end\n",
    "end"
   ]
  },
  {
   "cell_type": "markdown",
   "metadata": {},
   "source": [
    "**Parameters**\n",
    "* `L`: `LinearDifferentialOperator`\n",
    "    * Linear differential operator in the differential equation $Lx=0$; derivatives of $x(t)$ will be entries of $\\xi(t)$.\n",
    "* `symbolic`: `Bool`\n",
    "    * Boolean indicating whether the output is symbolic.\n",
    "* `substitute*`: `Bool`\n",
    "    * If `symbolic = true`, boolean indicating whether to substitute the symbolic expression of $x(t)$ for the generic expression created using `SymFunction`.\n",
    "* `xSym*`: `SymPy.Sym`\n",
    "    * If `substitute = true`, symbolic expression of $x(t)$ to replace the generic expression with.\n",
    "\n",
    "**Returns**\n",
    "* `get_symXi`: `Array` of `SymPy.Sym`\n",
    "    * Returns an array whose $i$th entry is\n",
    "        * the generic expression $\\displaystyle\\frac{d^{i-1}}{dt^{i-1}}x(t)$ if `substitute = false`, or\n",
    "        * the symbolic expression of the ($i-1$)th derivative of $x(t)$ if `substitute = true`.\n",
    "\n",
    "**Example**"
   ]
  },
  {
   "cell_type": "code",
   "execution_count": 186,
   "metadata": {},
   "outputs": [
    {
     "data": {
      "text/latex": [
       "\\begin{bmatrix}x{\\left (t \\right )}\\\\\\frac{d}{d t} x{\\left (t \\right )}\\end{bmatrix}"
      ],
      "text/plain": [
       "2×1 Array{SymPy.Sym,2}:\n",
       "                x(t)\n",
       " Derivative(x(t), t)"
      ]
     },
     "execution_count": 186,
     "metadata": {},
     "output_type": "execute_result"
    }
   ],
   "source": [
    "t = symbols(\"t\")\n",
    "symPFunctions = [1 t+1 t^2+t+1]\n",
    "interval = (0, 1)\n",
    "symL = SymLinearDifferentialOperator(symPFunctions, interval, t)\n",
    "\n",
    "L = get_L(symL)\n",
    "\n",
    "get_xi(L; symbolic=true, substitute = false, xSym = nothing)"
   ]
  },
  {
   "cell_type": "code",
   "execution_count": 187,
   "metadata": {},
   "outputs": [
    {
     "data": {
      "text/latex": [
       "\\begin{bmatrix}t^{2} + 2 t\\\\2 t + 2\\end{bmatrix}"
      ],
      "text/plain": [
       "2×1 Array{SymPy.Sym,2}:\n",
       " t^2 + 2*t\n",
       "   2*t + 2"
      ]
     },
     "execution_count": 187,
     "metadata": {},
     "output_type": "execute_result"
    }
   ],
   "source": [
    "xSym = t^2+2t\n",
    "get_xi(L; symbolic=true, substitute = true, xSym = xSym)"
   ]
  },
  {
   "cell_type": "code",
   "execution_count": 188,
   "metadata": {},
   "outputs": [
    {
     "data": {
      "text/plain": [
       "2×1 Array{#func#107{SymPy.Sym,Array{SymPy.Sym,1}},2}:\n",
       " func\n",
       " func"
      ]
     },
     "execution_count": 188,
     "metadata": {},
     "output_type": "execute_result"
    }
   ],
   "source": [
    "get_xi(L; symbolic=false, substitute = true, xSym = xSym)"
   ]
  },
  {
   "cell_type": "markdown",
   "metadata": {},
   "source": [
    "## `get_boundaryCondition(L, U, xSym; symbolic=true)`\n",
    "\n",
    "Given a `LinearDifferentialOperator` `L` and a `VectorBoundaryForm` `U`, constructs the left hand side\n",
    "$$Ux = M\\xi(a) + N\\xi(b)$$\n",
    "of the homogeneous boundary condition $Ux=0$."
   ]
  },
  {
   "cell_type": "code",
   "execution_count": 189,
   "metadata": {},
   "outputs": [
    {
     "data": {
      "text/plain": [
       "get_boundaryCondition (generic function with 1 method)"
      ]
     },
     "execution_count": 189,
     "metadata": {},
     "output_type": "execute_result"
    }
   ],
   "source": [
    "function get_boundaryCondition(L::LinearDifferentialOperator, U::VectorBoundaryForm; symbolic = true, substitute = false, xSym = nothing)\n",
    "    if symbolic\n",
    "        if substitute\n",
    "            (a, b) = L.interval\n",
    "        else\n",
    "            a, b = symbols(\"a\"), symbols(\"b\")\n",
    "        end\n",
    "        xi = get_xi(L; symbolic = symbolic, substitute = substitute, xSym = xSym)\n",
    "        xiEvalA = evaluate(xi, a)\n",
    "        xiEvalB = evaluate(xi, b)\n",
    "        M, N = U.M, U.N\n",
    "        Ux = M*xiEvalA + N*xiEvalB\n",
    "        return Ux\n",
    "    else\n",
    "        (a, b) = L.interval\n",
    "        # a, b are Numbers, so in get_xi(), substitute must be true and xSym must be given\n",
    "        xi = get_xi(L; symbolic = symbolic, substitute = true, xSym = xSym)\n",
    "        xiEvalA = evaluate(xi, a)\n",
    "        xiEvalB = evaluate(xi, b)\n",
    "        M, N = U.M, U.N\n",
    "        Ux = M*xiEvalA + N*xiEvalB\n",
    "        return Ux\n",
    "    end\n",
    "end"
   ]
  },
  {
   "cell_type": "markdown",
   "metadata": {},
   "source": [
    "**Parameters**\n",
    "* `L`: `LinearDifferentialOperator`\n",
    "    * Linear differential operator in the differential equation $Lx=0$; derivatives of $x(t)$ will be entries of $\\xi(t)$.\n",
    "* `U`: `VectorBoundaryForm`\n",
    "    * Vector boundary form in the boundary condition $Ux$.\n",
    "* `xSym`: `SymPy.Sym`\n",
    "    * Symbolic expression of $x(t)$ whose derivatives will be entries of $\\xi(t)$.\n",
    "* `symbolic*`: `Bool`\n",
    "    * Boolean indicating whether the ouput is symbolic.\n",
    "\n",
    "**Returns**\n",
    "* `get_boundaryCondition`: `Array` of `Number`\n",
    "    * Returns the $Ux$ in the homogeneous boundary condition $Ux=0$ defined above.\n",
    "\n",
    "**Example**"
   ]
  },
  {
   "cell_type": "code",
   "execution_count": 190,
   "metadata": {},
   "outputs": [
    {
     "data": {
      "text/plain": [
       "VectorBoundaryForm([1 0; 2 0], [0 2; 0 1])"
      ]
     },
     "execution_count": 190,
     "metadata": {},
     "output_type": "execute_result"
    }
   ],
   "source": [
    "t = symbols(\"t\")\n",
    "symPFunctions = [1 t+1 t^2+t+1]\n",
    "interval = (0, 1)\n",
    "symL = SymLinearDifferentialOperator(symPFunctions, interval, t)\n",
    "\n",
    "L = get_L(symL)\n",
    "\n",
    "M = [1 0; 2 0]\n",
    "N = [0 2; 0 1]\n",
    "U = VectorBoundaryForm(M, N)"
   ]
  },
  {
   "cell_type": "code",
   "execution_count": 191,
   "metadata": {},
   "outputs": [
    {
     "data": {
      "text/latex": [
       "\\begin{bmatrix}x{\\left (a \\right )} + 2 \\frac{d}{d b} x{\\left (b \\right )}\\\\2 x{\\left (a \\right )} + \\frac{d}{d b} x{\\left (b \\right )}\\end{bmatrix}"
      ],
      "text/plain": [
       "2×1 Array{SymPy.Sym,2}:\n",
       " x(a) + 2*Derivative(x(b), b)\n",
       " 2*x(a) + Derivative(x(b), b)"
      ]
     },
     "execution_count": 191,
     "metadata": {},
     "output_type": "execute_result"
    }
   ],
   "source": [
    "get_boundaryCondition(L, U; symbolic = true, substitute = false, xSym = nothing)"
   ]
  },
  {
   "cell_type": "code",
   "execution_count": 192,
   "metadata": {},
   "outputs": [
    {
     "data": {
      "text/latex": [
       "\\begin{bmatrix}8\\\\4\\end{bmatrix}"
      ],
      "text/plain": [
       "2×1 Array{SymPy.Sym,2}:\n",
       " 8\n",
       " 4"
      ]
     },
     "execution_count": 192,
     "metadata": {},
     "output_type": "execute_result"
    }
   ],
   "source": [
    "xSym = t^2+2t\n",
    "get_boundaryCondition(L, U; symbolic = true, substitute = true, xSym = xSym)"
   ]
  },
  {
   "cell_type": "code",
   "execution_count": 193,
   "metadata": {},
   "outputs": [
    {
     "data": {
      "text/plain": [
       "2×1 Array{Int64,2}:\n",
       " 8\n",
       " 4"
      ]
     },
     "execution_count": 193,
     "metadata": {},
     "output_type": "execute_result"
    }
   ],
   "source": [
    "get_boundaryCondition(L, U; symbolic = false, xSym = xSym)"
   ]
  },
  {
   "cell_type": "markdown",
   "metadata": {},
   "source": [
    "## `check_adjoint(L, U, adjointU, B)`\n",
    "\n",
    "Given a boundary value problem\n",
    "$$Lx = 0,\\quad Ux=0$$\n",
    "with linear differential operator $L$ and vector boundary form $U$, a candidate adjoint vector boundary form $U^+$, and the matrix $B$ associated with $L$, checks whether the boundary condition\n",
    "$$U^+x = 0$$\n",
    "is indeed adjoint to the boundary condition\n",
    "$$Ux=0.$$"
   ]
  },
  {
   "cell_type": "code",
   "execution_count": 194,
   "metadata": {},
   "outputs": [
    {
     "data": {
      "text/plain": [
       "check_adjoint (generic function with 1 method)"
      ]
     },
     "execution_count": 194,
     "metadata": {},
     "output_type": "execute_result"
    }
   ],
   "source": [
    "function check_adjoint(L::LinearDifferentialOperator, U::VectorBoundaryForm, adjointU::VectorBoundaryForm, B::Array)\n",
    "    (a, b) = L.interval\n",
    "    M, N = U.M, U.N\n",
    "    P, Q = (adjointU.M)', (adjointU.N)'\n",
    "    # Avoid InexactError() when taking inv()\n",
    "    BEvalA = convert(Array{Complex}, evaluate(B, a))\n",
    "    BEvalB = convert(Array{Complex}, evaluate(B, b))\n",
    "    left = M * inv(BEvalA) * P\n",
    "    right = N * inv(BEvalB) * Q\n",
    "    tol = set_tolMatrix(left, right)\n",
    "    return all(i -> isapprox(left[i], right[i]; atol = tol), length(left)) # Can't use == to deterimine equality because left and right are arrays of floats\n",
    "end"
   ]
  },
  {
   "cell_type": "markdown",
   "metadata": {},
   "source": [
    "**Parameters**\n",
    "* `L`: `LinearDifferentialOperator`\n",
    "    * Linear differential operator in the differential equation $Lx=0$.\n",
    "* `U`: `VectorBoundaryForm`\n",
    "    * Vector boundary form in the boundary condition $Ux=0$.\n",
    "* `adjointU`: `VectorBoundaryForm`\n",
    "    * Vector boundary form in the candidate adjoint boundary condition $U^+x=0$.\n",
    "* `B`: `Array` of `Number`\n",
    "    * Output of `get_B(L)`.\n",
    "\n",
    "**Returns**\n",
    "* `check_adjoint`: `Bool`\n",
    "    * Returns \n",
    "        * `true` if `adjointU` is indeed adjoint to `U`, or\n",
    "        * `false` otherwise.\n",
    "\n",
    "**Example**"
   ]
  },
  {
   "cell_type": "code",
   "execution_count": 195,
   "metadata": {},
   "outputs": [
    {
     "data": {
      "text/plain": [
       "true"
      ]
     },
     "execution_count": 195,
     "metadata": {},
     "output_type": "execute_result"
    }
   ],
   "source": [
    "t = symbols(\"t\")\n",
    "symPFunctions = [1 t+1 t^2+t+1]\n",
    "interval = (0, 1)\n",
    "symL = SymLinearDifferentialOperator(symPFunctions, interval, t)\n",
    "pFunctions = [t->1 t->t+1 t->t^2+t+1]\n",
    "L = LinearDifferentialOperator(pFunctions, interval, symL)\n",
    "\n",
    "M = [1 0; 2 0]\n",
    "N = [0 2; 0 1]\n",
    "U = VectorBoundaryForm(M, N)\n",
    "Uc = get_Uc(U)\n",
    "\n",
    "# Non-symbolic\n",
    "B = get_B(L)\n",
    "BHat = get_BHat(L, B)\n",
    "H = get_H(U, Uc)\n",
    "J = get_J(BHat, H)\n",
    "adjointU = get_adjoint(J)\n",
    "\n",
    "check_adjoint(L, U, adjointU, B)"
   ]
  },
  {
   "cell_type": "markdown",
   "metadata": {},
   "source": [
    "## `construct_validAdjoint(L, U, pDerivMatrix=get_pDerivMatrix(L))`\n",
    "\n",
    "Given a boundary value problem\n",
    "$$Lx = p_0x^{(n)} + p_1x^{(n-1)} + \\cdots + p_{n-1}x^{(1)} + p_n x = 0,\\quad Ux=0$$\n",
    "with linear differential operator $L$ and vector boundary form $U$, an $n\\times n$ matrix of derivatives\n",
    "$$\\begin{bmatrix}p_0 & \\cdots & p_0^{(n-1)}\\\\ \\vdots & \\ddots & \\vdots\\\\ p_{n-1} & \\cdots & p_{n-1}^{(n-1)}\\end{bmatrix},$$\n",
    "construct $U^+$ such that the boundary condition $U^+=0$ is adjoint to the original boundary condition $Ux=0$."
   ]
  },
  {
   "cell_type": "code",
   "execution_count": 196,
   "metadata": {},
   "outputs": [
    {
     "data": {
      "text/plain": [
       "construct_validAdjoint (generic function with 2 methods)"
      ]
     },
     "execution_count": 196,
     "metadata": {},
     "output_type": "execute_result"
    }
   ],
   "source": [
    "function construct_validAdjoint(L::LinearDifferentialOperator, U::VectorBoundaryForm, pDerivMatrix=get_pDerivMatrix(L))\n",
    "    B = get_B(L; pDerivMatrix = pDerivMatrix)\n",
    "    BHat = get_BHat(L, B)\n",
    "    Uc = get_Uc(U)\n",
    "    H = get_H(U, Uc)\n",
    "    J = get_J(BHat, H)\n",
    "    adjointU = get_adjoint(J)\n",
    "    if check_adjoint(L, U, adjointU, B)\n",
    "        return adjointU\n",
    "    else\n",
    "        throw(error(\"Adjoint found not valid\"))\n",
    "    end\n",
    "end"
   ]
  },
  {
   "cell_type": "markdown",
   "metadata": {},
   "source": [
    "**Parameters**\n",
    "* `L`: `LinearDifferentialOperator`\n",
    "    * Linear differential operator in the differential equation $Lx=0$.\n",
    "* `U`: `VectorBoundaryForm`\n",
    "    * Vectory boundary form in the boundary condition $Ux=0$.\n",
    "* `pDerivMatrix`: `Array` of `Function`, `Number`, or `SymPy.#`\n",
    "    * An $n\\times n$ matrix defined above, which can be\n",
    "        * output of `get_pDerivMatrix` (`SymPy.#`), or\n",
    "        * user input.\n",
    "\n",
    "**Returns**\n",
    "* `construct_validAdjoint`: `VectorBoundaryForm`\n",
    "    * Returns a valid vector boundary form $U^+$ such that the boundary condition $U^+x=0$ is adjoint to $Ux=0$.\n",
    "\n",
    "**Example**"
   ]
  },
  {
   "cell_type": "code",
   "execution_count": 197,
   "metadata": {},
   "outputs": [
    {
     "data": {
      "text/plain": [
       "VectorBoundaryForm(Complex[-1.0-0.0im 0.0-0.0im; 0.0-0.0im 0.0-0.0im], Complex[0.0-0.0im 0.0-0.0im; 2.0-0.0im -1.0-0.0im])"
      ]
     },
     "execution_count": 197,
     "metadata": {},
     "output_type": "execute_result"
    }
   ],
   "source": [
    "t = symbols(\"t\")\n",
    "symPFunctions = [1 t+1 t^2+t+1]\n",
    "interval = (0, 1)\n",
    "symL = SymLinearDifferentialOperator(symPFunctions, interval, t)\n",
    "pFunctions = [t->1 t->t+1 t->t^2+t+1]\n",
    "L = LinearDifferentialOperator(pFunctions, interval, symL)\n",
    "\n",
    "M = [1 0; 2 0]\n",
    "N = [0 2; 0 1]\n",
    "U = VectorBoundaryForm(M, N)\n",
    "Uc = get_Uc(U)\n",
    "\n",
    "adjointU = construct_validAdjoint(L, U)"
   ]
  },
  {
   "cell_type": "code",
   "execution_count": 198,
   "metadata": {},
   "outputs": [
    {
     "data": {
      "text/latex": [
       "\\begin{bmatrix}-1&0\\\\0&0\\end{bmatrix}"
      ],
      "text/plain": [
       "2×2 Array{SymPy.Sym,2}:\n",
       " -1  0\n",
       "  0  0"
      ]
     },
     "execution_count": 198,
     "metadata": {},
     "output_type": "execute_result"
    }
   ],
   "source": [
    "prettyPrint(adjointU.M)"
   ]
  },
  {
   "cell_type": "markdown",
   "metadata": {},
   "source": [
    "# Approximate roots of exponential polynomial"
   ]
  },
  {
   "cell_type": "markdown",
   "metadata": {},
   "source": [
    "Helps user to find the roots of an exponential polynomial $\\Delta(\\lambda)$ where $\\lambda\\in\\mathbb{C}$ by visualizing the roots as the intersections of the level curves $\\Re(\\Delta) = 0$ and $\\Im(\\Delta) = 0$."
   ]
  },
  {
   "cell_type": "code",
   "execution_count": null,
   "metadata": {},
   "outputs": [],
   "source": []
  },
  {
   "cell_type": "markdown",
   "metadata": {},
   "source": [
    "# The Fokas Transform pair"
   ]
  }
 ],
 "metadata": {
  "kernelspec": {
   "display_name": "Julia 0.6.4",
   "language": "julia",
   "name": "julia-0.6"
  },
  "language_info": {
   "file_extension": ".jl",
   "mimetype": "application/julia",
   "name": "julia",
   "version": "0.6.4"
  },
  "toc": {
   "base_numbering": 1,
   "nav_menu": {},
   "number_sections": true,
   "sideBar": true,
   "skip_h1_title": false,
   "title_cell": "Table of Contents",
   "title_sidebar": "Contents",
   "toc_cell": false,
   "toc_position": {
    "height": "calc(100% - 180px)",
    "left": "10px",
    "top": "150px",
    "width": "464px"
   },
   "toc_section_display": true,
   "toc_window_display": true
  }
 },
 "nbformat": 4,
 "nbformat_minor": 2
}
