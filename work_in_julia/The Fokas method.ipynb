{
 "cells": [
  {
   "cell_type": "markdown",
   "metadata": {},
   "source": [
    "* Course: YSC4103 MCS Capstone\n",
    "* Date created: 2019/02/25\n",
    "* Name: Linfan XIAO\n",
    "* Description: Implement the Fokas method as described in \"Evolution PDEs and augmented eigenfunctions. Finite interval.\"\n",
    "\n"
   ]
  },
  {
   "cell_type": "markdown",
   "metadata": {},
   "source": [
    "# Importing packages"
   ]
  },
  {
   "cell_type": "code",
   "execution_count": 3,
   "metadata": {},
   "outputs": [],
   "source": [
    "using SymPy\n",
    "# using Roots\n",
    "using Distributions\n",
    "# using IntervalArithmetic\n",
    "# using IntervalRootFinding\n",
    "using ApproxFun"
   ]
  },
  {
   "cell_type": "markdown",
   "metadata": {},
   "source": [
    "# Global variables"
   ]
  },
  {
   "cell_type": "code",
   "execution_count": 2,
   "metadata": {},
   "outputs": [
    {
     "data": {
      "text/plain": [
       "1.0e-5"
      ]
     },
     "execution_count": 2,
     "metadata": {},
     "output_type": "execute_result"
    }
   ],
   "source": [
    "tol = 1e-05"
   ]
  },
  {
   "cell_type": "markdown",
   "metadata": {},
   "source": [
    "# Helper functions"
   ]
  },
  {
   "cell_type": "markdown",
   "metadata": {},
   "source": [
    "## `check_all`\n",
    "\n",
    "Check whether all elements in a not necessarily homogeneous array satisfy a given condition.\n",
    "\n",
    "Arguments:\n",
    "* `array`: a generic array, not necessarily homogeneous.\n",
    "* `condition`: a boolean function to be applied to each element in the array."
   ]
  },
  {
   "cell_type": "code",
   "execution_count": null,
   "metadata": {},
   "outputs": [],
   "source": [
    "function check_all(array, condition)\n",
    "    for x in array\n",
    "        if !condition(x)\n",
    "            return false\n",
    "        end\n",
    "    end\n",
    "    return true\n",
    "end"
   ]
  },
  {
   "cell_type": "markdown",
   "metadata": {},
   "source": [
    "## `set_tol`\n",
    "\n",
    "Set an appropriate tolerance for checking whether two numbers are approximately equal.\n",
    "\n",
    "Arguments:\n",
    "* `x`: A number.\n",
    "* `y`: A number."
   ]
  },
  {
   "cell_type": "code",
   "execution_count": null,
   "metadata": {},
   "outputs": [],
   "source": [
    "function set_tol(x::Number, y::Number)\n",
    "    return tol * mean([x y]) # tol is global variable\n",
    "end"
   ]
  },
  {
   "cell_type": "markdown",
   "metadata": {},
   "source": [
    "## `set_tol_matrix`\n",
    "\n",
    "Set an appropriate tolerance for checking whether two matrices are approximately equal.\n",
    "\n",
    "Arguments:\n",
    "* `A`: A matrix with numeric entries.\n",
    "* `B`: A matrix with numeric entries."
   ]
  },
  {
   "cell_type": "code",
   "execution_count": null,
   "metadata": {},
   "outputs": [],
   "source": [
    "function set_tol_matrix(A::Array, B::Array)\n",
    "    if size(A) != size(B)\n",
    "        throw(error(\"Matrix dimensions do not match\"))\n",
    "    end\n",
    "    # Avoid InexactError() when taking norm()\n",
    "    A = convert(Array{Complex}, A)\n",
    "    B = convert(Array{Complex}, B)\n",
    "    return tol * (norm(A,2) + norm(B,2))\n",
    "end"
   ]
  },
  {
   "cell_type": "markdown",
   "metadata": {},
   "source": [
    "## `evaluate`\n",
    "\n",
    "Evaluate a function on a given value.\n",
    "\n",
    "Arguments:\n",
    "* `func`: A function of type Julia `Function`, `SymPy.Sym` (absorbed into `Number`), or `Number`.\n",
    "* `x`: A value on which the function is to be evaluated on.\n",
    "* `t`: The free symbol in `func` if `func` is a `SymPy.Sym` object, i.e., a symbolic expression."
   ]
  },
  {
   "cell_type": "code",
   "execution_count": null,
   "metadata": {},
   "outputs": [],
   "source": [
    "function evaluate(func::Union{Function,Number}, x::Number, t = nothing)\n",
    "    if isa(func, Function)\n",
    "        return func(x)\n",
    "    elseif isa(func, SymPy.Sym) # SymPy.Sym must come before Number because SymPy.Sym will be recognized as Number\n",
    "        return subs(func, t, x)\n",
    "    else\n",
    "        return func\n",
    "    end\n",
    "end"
   ]
  },
  {
   "cell_type": "markdown",
   "metadata": {},
   "source": [
    "## `partition`\n",
    "\n",
    "Generate two-integer partitions ($0$ included) of a given positive integer.\n",
    "\n",
    "Arguments:\n",
    "* `n`: A non-negative integer."
   ]
  },
  {
   "cell_type": "code",
   "execution_count": 8,
   "metadata": {},
   "outputs": [
    {
     "data": {
      "text/plain": [
       "partition (generic function with 1 method)"
      ]
     },
     "execution_count": 8,
     "metadata": {},
     "output_type": "execute_result"
    }
   ],
   "source": [
    "function partition(n::Int)\n",
    "    if n < 0\n",
    "        throw(\"Non-negative n required\")\n",
    "    end\n",
    "    output = []\n",
    "    for i = 0:n\n",
    "        j = n - i\n",
    "        push!(output, (i,j))\n",
    "    end\n",
    "    return output\n",
    "end"
   ]
  },
  {
   "cell_type": "markdown",
   "metadata": {},
   "source": [
    "## `symDeriv`\n",
    "\n",
    "Construct the symbolic expression for the $k$th derivative of a univariate function.\n",
    "\n",
    "Arguments:\n",
    "* `u`: A `SymPy.Sym` object that is a symbolic expression in `t`.\n",
    "* `t`: The free symbol in `u`.\n",
    "* `k`: The degree of the desired derivative."
   ]
  },
  {
   "cell_type": "code",
   "execution_count": 11,
   "metadata": {},
   "outputs": [
    {
     "data": {
      "text/plain": [
       "2-element Array{Any,1}:\n",
       " (0, 1)\n",
       " (1, 0)"
      ]
     },
     "execution_count": 11,
     "metadata": {},
     "output_type": "execute_result"
    }
   ],
   "source": [
    "function symDeriv(u::SymPy.Sym, t::SymPy.Sym, k::Int)\n",
    "    if k < 0\n",
    "        throw(error(\"Non-negative degree required\"))\n",
    "    end\n",
    "    y = u\n",
    "    for i = 1:k\n",
    "        newY = diff(y, t)\n",
    "        y = newY\n",
    "    end\n",
    "    return y\n",
    "end"
   ]
  },
  {
   "cell_type": "markdown",
   "metadata": {},
   "source": [
    "## `add_func`\n",
    "\n",
    "Function addition given by $(f + g)(x) := f(x) + g(x)$.\n",
    "\n",
    "Arguments:\n",
    "* `f`: A `Function` or `Number` (convenient representation of constant function).\n",
    "* `g`: A `Function` or `Number` (convenient representation of constant function)."
   ]
  },
  {
   "cell_type": "code",
   "execution_count": null,
   "metadata": {},
   "outputs": [],
   "source": [
    "function add_func(f::Union{Number, Function}, g::Union{Number, Function})\n",
    "    function h(x)\n",
    "        if isa(f, Number)\n",
    "            if isa(g, Number)\n",
    "                return f + g\n",
    "            else\n",
    "                return f + g(x)\n",
    "            end\n",
    "        elseif isa(f, Function)\n",
    "            if isa(g, Number)\n",
    "                return f(x) + g\n",
    "            else\n",
    "                return f(x) + g(x)\n",
    "            end\n",
    "        end\n",
    "    end\n",
    "    return h\n",
    "end"
   ]
  },
  {
   "cell_type": "markdown",
   "metadata": {},
   "source": [
    "## `mult_func`\n",
    "\n",
    "Function multiplication given by $(f \\cdot g)(x) := f(x) \\cdot g(x)$.\n",
    "\n",
    "Arguments:\n",
    "* `f`: A `Function` or `Number` (convenient representation of constant function).\n",
    "* `g`: A `Function` or `Number` (convenient representation of constant function)."
   ]
  },
  {
   "cell_type": "code",
   "execution_count": null,
   "metadata": {},
   "outputs": [],
   "source": [
    "function mult_func(f::Union{Number, Function}, g::Union{Number, Function})\n",
    "    function h(x)\n",
    "        if isa(f, Number)\n",
    "            if isa(g, Number)\n",
    "                return f * g\n",
    "            else\n",
    "                return f * g(x)\n",
    "            end\n",
    "        elseif isa(f, Function)\n",
    "            if isa(g, Number)\n",
    "                return f(x) * g\n",
    "            else\n",
    "                return f(x) * g(x)\n",
    "            end\n",
    "        end\n",
    "    end\n",
    "    return h\n",
    "end"
   ]
  },
  {
   "cell_type": "markdown",
   "metadata": {},
   "source": [
    "## `evaluate_matrix`\n",
    "\n",
    "Evaluate a matrix of univariate functions at a given value.\n",
    "\n",
    "Arguments:\n",
    "* `matrix`: A matrix of univariate functions, where each entry is of type Julia `Function`, `SymPy.Sym` (absorbed into `Number`), or `Number`.\n",
    "* `a`: A `Number` at which the matrix of functions will be evaluated.\n",
    "* `t`: The free symbol in the functions that are the matrix's entries if they are `SymPy.Sym` objects."
   ]
  },
  {
   "cell_type": "code",
   "execution_count": null,
   "metadata": {},
   "outputs": [],
   "source": [
    "function evaluate_matrix(matrix::Array, a::Number, t = nothing)\n",
    "    (m, n) = size(matrix)\n",
    "    matrixA = Array{Number}(m,n)\n",
    "    for i = 1:m\n",
    "        for j = 1:n\n",
    "            matrixA[i,j] = evaluate(matrix[i,j], a, t)\n",
    "        end\n",
    "    end\n",
    "    return matrixA\n",
    "end"
   ]
  },
  {
   "cell_type": "markdown",
   "metadata": {},
   "source": [
    "## `get_polynomial`\n",
    "\n",
    "Construct a polynomial \n",
    "$$a_nx^n + a_{n-1}x^{n-1} + \\cdots + a_1 x + a_0$$\n",
    "as a Julia `Function` from an array $[a_n, a_{n-1}, \\ldots, a_1, a_0]$.\n",
    "\n",
    "Arguments:\n",
    "* `coeffList`: An array of numbers that are the coefficients of $x^n, x^{n-1}, \\ldots, x, 1$ in the polynomial."
   ]
  },
  {
   "cell_type": "code",
   "execution_count": null,
   "metadata": {},
   "outputs": [],
   "source": [
    "function get_polynomial(coeffList::Array)\n",
    "    polynomial = 0\n",
    "    n = length(coeffList)-1\n",
    "    for i in 0:n\n",
    "        newTerm = t -> coeffList[i+1] * t^(n-i)\n",
    "        polynomial = add_func(polynomial, newTerm)\n",
    "    end\n",
    "    return polynomial\n",
    "end"
   ]
  },
  {
   "cell_type": "markdown",
   "metadata": {},
   "source": [
    "## `get_polynomialDeriv`\n",
    "\n",
    "Get the $k$th derivative of a polynomial with known coefficients.\n",
    "\n",
    "Arguments:\n",
    "* `coeffList`: An array of numbers that are the coefficients of $x^n, x^{n-1}, \\ldots, x, 1$ in the polynomial.\n",
    "* `k`: The degree of the desired derivative."
   ]
  },
  {
   "cell_type": "code",
   "execution_count": null,
   "metadata": {},
   "outputs": [],
   "source": [
    "function get_polynomialDeriv(coeffList::Array, k::Int)\n",
    "    if k < 0\n",
    "        throw(error(\"Only nonnegative degrees are allowed\"))\n",
    "    elseif k == 0\n",
    "        newCoeffList = coeffList\n",
    "    else\n",
    "        for counter = 1:k\n",
    "            n = length(coeffList)\n",
    "            newCoeffList = hcat([0],[(n-i)*coeffList[i] for i in 1:(n-1)]')\n",
    "            coeffList = newCoeffList\n",
    "        end\n",
    "    end\n",
    "    return get_polynomial(newCoeffList)\n",
    "end"
   ]
  },
  {
   "cell_type": "markdown",
   "metadata": {},
   "source": [
    "# Structs"
   ]
  },
  {
   "cell_type": "markdown",
   "metadata": {},
   "source": [
    "## `StructDefinitionError`\n",
    "\n",
    "A struct definition error type is the class of all errors in struct definitions."
   ]
  },
  {
   "cell_type": "code",
   "execution_count": null,
   "metadata": {},
   "outputs": [],
   "source": [
    "struct StructDefinitionError <: Exception\n",
    "    msg::String\n",
    "end"
   ]
  },
  {
   "cell_type": "markdown",
   "metadata": {},
   "source": [
    "## `SymLinearDifferentialOperator`\n",
    "\n",
    "A symbolic linear differential operator of order $n$ is encoded by an $1 \\times (n+1)$ array of symbolic expressions with at most one free symbol and an interval $[a,b]$."
   ]
  },
  {
   "cell_type": "code",
   "execution_count": null,
   "metadata": {},
   "outputs": [],
   "source": [
    "struct SymLinearDifferentialOperator\n",
    "    # Entries in the array should be SymPy.Sym or Number. SymPy.Sym seems to be a subtype of Number, i.e., Array{Union{Number,SymPy.Sym}} returns Array{Number}. But specifying symPFunctions as Array{Number,2} gives a MethodError when the entries are Sympy.Sym objects.\n",
    "    symPFunctions::Array\n",
    "    interval::Tuple{Number,Number}\n",
    "    t::SymPy.Sym\n",
    "    SymLinearDifferentialOperator(symPFunctions::Array, interval::Tuple{Number,Number}, t::SymPy.Sym) =\n",
    "    try\n",
    "        symL = new(symPFunctions, interval, t)\n",
    "        check_symLinearDifferentialOperator_input(symL)\n",
    "        return symL\n",
    "    catch err\n",
    "        throw(err)\n",
    "    end\n",
    "end\n",
    "\n",
    "function check_symLinearDifferentialOperator_input(symL::SymLinearDifferentialOperator)\n",
    "    symPFunctions, (a,b), t = symL.symPFunctions, symL.interval, symL.t\n",
    "    for symPFunc in symPFunctions\n",
    "        if isa(symPFunc, SymPy.Sym)\n",
    "            if size(free_symbols(symPFunc)) != (1,) && size(free_symbols(symPFunc)) != (0,)\n",
    "                throw(StructDefinitionError(:\"Only one free symbol is allowed in symP_k\"))\n",
    "            end\n",
    "        elseif !isa(symPFunc, Number)\n",
    "            throw(StructDefinitionError(:\"symP_k should be SymPy.Sym or Number\"))\n",
    "        end\n",
    "    end\n",
    "    return true\n",
    "end"
   ]
  },
  {
   "cell_type": "markdown",
   "metadata": {},
   "source": [
    "# Construct adjoint boundary conditions\n",
    "\n",
    "Algorithm to construct a valid adjoint boundary condition from a given (homogeneous) boundary condition based on Chapter 11 in Theory of Ordinary Differential Equations (Coddington & Levinson). The implementation uses Julia functions as main objects but supports symbolic expressions."
   ]
  },
  {
   "cell_type": "markdown",
   "metadata": {},
   "source": [
    "# Approximate roots of exponential polynomial"
   ]
  },
  {
   "cell_type": "markdown",
   "metadata": {},
   "source": [
    "# The Fokas Transform pair"
   ]
  }
 ],
 "metadata": {
  "kernelspec": {
   "display_name": "Julia 0.6.4",
   "language": "julia",
   "name": "julia-0.6"
  },
  "language_info": {
   "file_extension": ".jl",
   "mimetype": "application/julia",
   "name": "julia",
   "version": "0.6.4"
  },
  "toc": {
   "base_numbering": 1,
   "nav_menu": {},
   "number_sections": true,
   "sideBar": true,
   "skip_h1_title": false,
   "title_cell": "Table of Contents",
   "title_sidebar": "Contents",
   "toc_cell": false,
   "toc_position": {},
   "toc_section_display": true,
   "toc_window_display": true
  }
 },
 "nbformat": 4,
 "nbformat_minor": 2
}
