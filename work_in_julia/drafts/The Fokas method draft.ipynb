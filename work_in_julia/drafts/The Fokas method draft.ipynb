{
 "cells": [
  {
   "cell_type": "markdown",
   "metadata": {},
   "source": [
    "## `get_pStringMatrix(L)`\n",
    "\n",
    "Given a `LinearDifferentialOperator` `L` where `L.pFunctions` is the array\n",
    "$$[p_0, p_1, \\ldots, p_n],$$\n",
    "constructs a matrix whose $(i+1)(j+1)$-entry is a string \"pij\" which denotes the $j$th derivative of $p_{i}$:\n",
    "$$\\begin{bmatrix}\\text{p00} & \\cdots & \\text{p0(n-1)}\\\\ \\vdots & \\ddots & \\vdots\\\\ \\text{p(n-1)0} & \\cdots & \\text{p(n-1)(n-1)}\\end{bmatrix}.$$"
   ]
  },
  {
   "cell_type": "code",
   "execution_count": null,
   "metadata": {},
   "outputs": [],
   "source": [
    "function get_pStringMatrix(L::LinearDifferentialOperator)\n",
    "    if isa(L, LinearDifferentialOperator)\n",
    "        pFunctions = L.pFunctions\n",
    "    else\n",
    "        pFunctions = L.symPFunctions\n",
    "    end\n",
    "    n = length(pFunctions)-1\n",
    "    pStringMatrix = Array{String}(n,n)\n",
    "    for i in 0:(n-1)\n",
    "        for j in 0:(n-1)\n",
    "            pStringMatrix[i+1,j+1] = string(\"p\", i,j)\n",
    "        end\n",
    "    end\n",
    "    return pStringMatrix\n",
    "end"
   ]
  },
  {
   "cell_type": "markdown",
   "metadata": {},
   "source": [
    "**Parameters**\n",
    "* `L`: `LinearDifferentialOperator`\n",
    "    * Linear differential operator whose `pStringMatrix` is to be constructed.\n",
    "\n",
    "**Returns**\n",
    "* `get_pStringMatrix`: `Array`\n",
    "    * Returns a matrix whose $(i+1)(j+1)$-entry is a string \"pij\".\n",
    "\n",
    "**Example**"
   ]
  },
  {
   "cell_type": "code",
   "execution_count": null,
   "metadata": {},
   "outputs": [],
   "source": [
    "t = symbols(\"t\")\n",
    "symPFunctions = [1 t+1 t^2+t+1]\n",
    "interval = (0, 1)\n",
    "symL = SymLinearDifferentialOperator(symPFunctions, interval, t)\n",
    "\n",
    "# pFunctions = [t->1 t->t+1 t->t^2+t+1]\n",
    "# L = LinearDifferentialOperator(pFunctions, interval, symL)\n",
    "L = get_L(symL)\n",
    "\n",
    "get_pStringMatrix(L)"
   ]
  },
  {
   "cell_type": "code",
   "execution_count": null,
   "metadata": {},
   "outputs": [],
   "source": [
    "# Using get_L\n",
    "L = get_L(symL)\n",
    "get_pStringMatrix(L)"
   ]
  },
  {
   "cell_type": "markdown",
   "metadata": {},
   "source": [
    "## `get_symUvForm(L, u, v; substitute=true)`\n",
    "\n",
    "Create the symbolic expression for $[uv](t)$, defined as\n",
    "\\begin{align*}\n",
    "[uv](t) := \\sum_{m=1}^n\\sum_{j+k=m-1}(-1)^j u^{(k)}(t)(p_{n-m}\\bar{v})^{(j)}(t).\n",
    "\\end{align*}"
   ]
  },
  {
   "cell_type": "code",
   "execution_count": null,
   "metadata": {},
   "outputs": [],
   "source": [
    "function get_symUvForm(L::LinearDifferentialOperator, u::SymPy.Sym, v::SymPy.Sym; substitute = true)\n",
    "    symL = L.symL\n",
    "    symPFunctions, t = symL.symPFunctions, symL.t\n",
    "    n = length(symPFunctions)-1\n",
    "    if substitute\n",
    "        pFunctionSymbols = symPFunctions\n",
    "    else\n",
    "        pFunctionSymbols = [SymFunction(string(\"p\", i))(t) for i in 0:(n-1)]\n",
    "    end\n",
    "    sum = 0\n",
    "    for m = 1:n\n",
    "        for (j,k) in partition(m-1)\n",
    "            summand = (-1)^j * get_symDeriv(u, t, k) * get_symDeriv(pFunctionSymbols[n-m+1] * conj(v), t, j)\n",
    "            sum += summand\n",
    "        end\n",
    "    end\n",
    "    sum = expand(sum)\n",
    "    return sum\n",
    "end"
   ]
  },
  {
   "cell_type": "markdown",
   "metadata": {},
   "source": [
    "**Parameters**\n",
    "* `L`: `LinearDifferentialOperator`\n",
    "    * Linear differential operator whose `L.pFunctions` are to become the $p_{n-m}$ terms in $[uv](t)$.\n",
    "* `u`, `v`: `SymPy.Sym`\n",
    "    * Symbolic expression of $u(t)$, $v(t)$.\n",
    "* `substitute*`: `Bool`\n",
    "    * Boolean indicating whether to substitute the symbolic expression of $p_i$ (`L.pFunctions`[i]) for the generic expression $p_i(t)$ created using `SymFunction(\"pi\")(t)`.\n",
    "\n",
    "**Returns**\n",
    "* `get_symUvForm`: `SymPy.Sym`\n",
    "    * Returns the symbolic expression of $[uv](t)$ defined above, where $u(t)$, $v(t)$ are\n",
    "        * the generic expressions $u(t)$, $v(t)$ if `substitute = false`, or\n",
    "        * explicit symbolic expressions if `substitute = true`.\n",
    "\n",
    "**Example**"
   ]
  },
  {
   "cell_type": "code",
   "execution_count": null,
   "metadata": {},
   "outputs": [],
   "source": [
    "t = symbols(\"t\")\n",
    "symPFunctions = [1 t+1 t^2+t+1]\n",
    "interval = (0, 1)\n",
    "symL = SymLinearDifferentialOperator(symPFunctions, interval, t)\n",
    "\n",
    "# pFunctions = [t->1 t->t+1 t->t^2+t+1]\n",
    "# L = LinearDifferentialOperator(pFunctions, interval, symL)\n",
    "L = get_L(symL)\n",
    "\n",
    "t = symbols(\"t\")\n",
    "u, v = SymFunction(\"u\")(t), SymFunction(\"v\")(t) # u, v as generic functions of t\n",
    "get_symUvForm(L, u, v; substitute = false)"
   ]
  },
  {
   "cell_type": "code",
   "execution_count": null,
   "metadata": {},
   "outputs": [],
   "source": [
    "get_symUvForm(L, u, v; substitute = true)"
   ]
  }
 ],
 "metadata": {
  "kernelspec": {
   "display_name": "Julia 0.6.4",
   "language": "julia",
   "name": "julia-0.6"
  },
  "language_info": {
   "file_extension": ".jl",
   "mimetype": "application/julia",
   "name": "julia",
   "version": "0.6.4"
  },
  "toc": {
   "base_numbering": 1,
   "nav_menu": {},
   "number_sections": true,
   "sideBar": true,
   "skip_h1_title": false,
   "title_cell": "Table of Contents",
   "title_sidebar": "Contents",
   "toc_cell": false,
   "toc_position": {},
   "toc_section_display": true,
   "toc_window_display": false
  }
 },
 "nbformat": 4,
 "nbformat_minor": 2
}
