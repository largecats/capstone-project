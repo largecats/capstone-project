{
 "cells": [
  {
   "cell_type": "code",
   "execution_count": null,
   "metadata": {},
   "outputs": [],
   "source": [
    "# SymPy.det(convert(Array{Float64}, MPlus))\n",
    "# MTest = deepcopy(MPlus)\n",
    "# SymPy.det(MTest)\n",
    "[MPlus[1] MPlus[2]; MPlus[3] MPlus[4]]\n",
    "MPlusCopy = Array{SymPy.Sym}(2,2)\n",
    "for i in 1:2\n",
    "    for j in 1:2\n",
    "        MPlusCopy[i,j] = MPlus[i,j]\n",
    "    end\n",
    "end\n",
    "MPlusCopy\n",
    "SymPy.det(MPlusCopy)\n",
    "typeof([MPlus[1] MPlus[2]; MPlus[3] MPlus[4]])\n",
    "# expand(MPlus[4]*MPlus[1] - MPlus[3]*MPlus[2])\n",
    "expand(SymPy.det([MPlus[1] MPlus[2]; MPlus[3] MPlus[4]]))"
   ]
  }
 ],
 "metadata": {
  "kernelspec": {
   "display_name": "Julia 0.6.4",
   "language": "julia",
   "name": "julia-0.6"
  },
  "language_info": {
   "file_extension": ".jl",
   "mimetype": "application/julia",
   "name": "julia",
   "version": "0.6.4"
  }
 },
 "nbformat": 4,
 "nbformat_minor": 2
}
