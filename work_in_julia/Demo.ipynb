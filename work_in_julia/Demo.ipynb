{
 "cells": [
  {
   "cell_type": "code",
   "execution_count": 40,
   "metadata": {},
   "outputs": [
    {
     "name": "stderr",
     "output_type": "stream",
     "text": [
      "WARNING: requiring \"construct_adjoint\" in module \"Main\" did not define a corresponding module.\n"
     ]
    }
   ],
   "source": [
    "@everywhere push!(LOAD_PATH, \"C:\\\\Users\\\\LinFan Xiao\\\\Academics\\\\College\\\\Capstone\\\\work_in_julia\")\n",
    "include(\"./construct_adjoint.jl\")\n",
    "using construct_adjoint"
   ]
  },
  {
   "cell_type": "code",
   "execution_count": 13,
   "metadata": {},
   "outputs": [
    {
     "data": {
      "text/html": [
       "t"
      ],
      "text/plain": [
       "t"
      ]
     },
     "execution_count": 13,
     "metadata": {},
     "output_type": "execute_result"
    }
   ],
   "source": [
    "t = symbols(\"t\")"
   ]
  },
  {
   "cell_type": "code",
   "execution_count": 14,
   "metadata": {},
   "outputs": [
    {
     "data": {
      "text/plain": [
       "SymLinearDifferentialOperator(SymPy.Sym[t + 1 t + 1 t + 1], (0, 1), t)"
      ]
     },
     "execution_count": 14,
     "metadata": {},
     "output_type": "execute_result"
    }
   ],
   "source": [
    "symL = SymLinearDifferentialOperator([t+1 t+1 t+1], (0,1), t)"
   ]
  },
  {
   "cell_type": "code",
   "execution_count": 15,
   "metadata": {},
   "outputs": [
    {
     "data": {
      "text/plain": [
       "LinearDifferentialOperator(Function[#249, #250, #251], (0, 1), SymLinearDifferentialOperator(SymPy.Sym[t + 1 t + 1 t + 1], (0, 1), t))"
      ]
     },
     "execution_count": 15,
     "metadata": {},
     "output_type": "execute_result"
    }
   ],
   "source": [
    "L = LinearDifferentialOperator([t->t+1, t->t+1, t->t+1], (0,1), symL)"
   ]
  },
  {
   "cell_type": "code",
   "execution_count": 18,
   "metadata": {},
   "outputs": [
    {
     "data": {
      "text/plain": [
       "(u(t), v(t))"
      ]
     },
     "execution_count": 18,
     "metadata": {},
     "output_type": "execute_result"
    }
   ],
   "source": [
    "u, v = SymFunction(\"u\")(t), SymFunction(\"v\")(t)"
   ]
  },
  {
   "cell_type": "code",
   "execution_count": 41,
   "metadata": {},
   "outputs": [
    {
     "data": {
      "text/plain": [
       "SymPy.Sym"
      ]
     },
     "execution_count": 41,
     "metadata": {},
     "output_type": "execute_result"
    },
    {
     "name": "stdout",
     "output_type": "stream",
     "text": [
      "       ____          d /____\\     ____ d               d /____\\   ____ d      \r\n",
      "t*u(t)*v(t) - t*u(t)*--\\v(t)/ + t*v(t)*--(u(t)) - u(t)*--\\v(t)/ + v(t)*--(u(t)\r\n",
      "                     dt                dt              dt              dt     \r\n",
      "\r\n",
      " \r\n",
      ")\r\n",
      " \r\n"
     ]
    }
   ],
   "source": [
    "symUVForm = get_symUvForm(L, u, v; substitute = true)\n",
    "pprint(symUVForm)"
   ]
  },
  {
   "cell_type": "code",
   "execution_count": 22,
   "metadata": {},
   "outputs": [
    {
     "name": "stdout",
     "output_type": "stream",
     "text": [
      "             d /____\\         ____ d                     ____        ____ d   \r\n",
      "- p0(t)*u(t)*--\\v(t)/ + p0(t)*v(t)*--(u(t)) + p1(t)*u(t)*v(t) - u(t)*v(t)*--(p\r\n",
      "             dt                    dt                                     dt  \r\n",
      "\r\n",
      "     \r\n",
      "0(t))\r\n",
      "     \r\n"
     ]
    }
   ],
   "source": [
    "symUVForm = get_symUvForm(L, u, v; substitute = false)\n",
    "pprint(symUVForm)"
   ]
  },
  {
   "cell_type": "code",
   "execution_count": 62,
   "metadata": {},
   "outputs": [
    {
     "data": {
      "text/latex": [
       "\\begin{bmatrix}t + 1&1\\\\t + 1&1\\end{bmatrix}"
      ],
      "text/plain": [
       "2×2 Array{SymPy.Sym,2}:\n",
       " t + 1  1\n",
       " t + 1  1"
      ]
     },
     "execution_count": 62,
     "metadata": {},
     "output_type": "execute_result"
    }
   ],
   "source": [
    "symDerivMatrix = get_symPDerivMatrix(L; substitute = true)"
   ]
  },
  {
   "cell_type": "code",
   "execution_count": 63,
   "metadata": {},
   "outputs": [
    {
     "data": {
      "text/latex": [
       "\\begin{bmatrix}\\operatorname{p_{0}}{\\left (t \\right )}&\\frac{d}{d t} \\operatorname{p_{0}}{\\left (t \\right )}\\\\\\operatorname{p_{1}}{\\left (t \\right )}&\\frac{d}{d t} \\operatorname{p_{1}}{\\left (t \\right )}\\end{bmatrix}"
      ],
      "text/plain": [
       "2×2 Array{SymPy.Sym,2}:\n",
       " p0(t)  Derivative(p0(t), t)\n",
       " p1(t)  Derivative(p1(t), t)"
      ]
     },
     "execution_count": 63,
     "metadata": {},
     "output_type": "execute_result"
    }
   ],
   "source": [
    "symDerivMatrix = get_symPDerivMatrix(L; substitute = false)"
   ]
  },
  {
   "cell_type": "code",
   "execution_count": 23,
   "metadata": {},
   "outputs": [
    {
     "data": {
      "text/plain": [
       "2×2 Array{Function,2}:\n",
       " #255  #256\n",
       " #257  #258"
      ]
     },
     "execution_count": 23,
     "metadata": {},
     "output_type": "execute_result"
    }
   ],
   "source": [
    "pDerivMatrix = [t->t+1 t->t; t->t+1 t->t]"
   ]
  },
  {
   "cell_type": "code",
   "execution_count": 66,
   "metadata": {},
   "outputs": [
    {
     "data": {
      "text/plain": [
       "2×2 Array{Union{Function, Number},2}:\n",
       " h   h\n",
       " h  0 "
      ]
     },
     "execution_count": 66,
     "metadata": {},
     "output_type": "execute_result"
    }
   ],
   "source": [
    "B = get_B(L; pDerivMatrix = pDerivMatrix)"
   ]
  },
  {
   "cell_type": "code",
   "execution_count": 36,
   "metadata": {},
   "outputs": [
    {
     "data": {
      "text/plain": [
       "2×2 Array{Any,2}:\n",
       "      t  t + 1\n",
       " -t - 1      0"
      ]
     },
     "execution_count": 36,
     "metadata": {},
     "output_type": "execute_result"
    }
   ],
   "source": [
    "symB = get_B(L; symbolic = true)"
   ]
  },
  {
   "cell_type": "code",
   "execution_count": 47,
   "metadata": {},
   "outputs": [
    {
     "data": {
      "text/plain": [
       "2×2 Array{Union{Function, Number},2}:\n",
       " p1(t) - Derivative(p0(t), t)  p0(t)\n",
       "                       -p0(t)      0"
      ]
     },
     "execution_count": 47,
     "metadata": {},
     "output_type": "execute_result"
    }
   ],
   "source": [
    "symB = get_B(L; symbolic = true, substitute = false)"
   ]
  },
  {
   "cell_type": "code",
   "execution_count": 48,
   "metadata": {},
   "outputs": [
    {
     "data": {
      "text/plain": [
       "4×4 Array{Number,2}:\n",
       " -1  -1   0  0\n",
       "  1   0   0  0\n",
       "  0   0   1  2\n",
       "  0   0  -2  0"
      ]
     },
     "execution_count": 48,
     "metadata": {},
     "output_type": "execute_result"
    }
   ],
   "source": [
    "BHat = get_BHat(L, B)"
   ]
  },
  {
   "cell_type": "code",
   "execution_count": 53,
   "metadata": {},
   "outputs": [
    {
     "data": {
      "text/latex": [
       "\\begin{bmatrix}t^{2} + 2\\\\2 t\\end{bmatrix}"
      ],
      "text/plain": [
       "2×1 Array{SymPy.Sym,2}:\n",
       " t^2 + 2\n",
       "     2*t"
      ]
     },
     "execution_count": 53,
     "metadata": {},
     "output_type": "execute_result"
    }
   ],
   "source": [
    "symXi = get_symXi(L; substitute = true, xDef = t^2+2)"
   ]
  },
  {
   "cell_type": "code",
   "execution_count": 50,
   "metadata": {},
   "outputs": [
    {
     "data": {
      "text/plain": [
       "2×1 Array{Number,2}:\n",
       " 3\n",
       " 2"
      ]
     },
     "execution_count": 50,
     "metadata": {},
     "output_type": "execute_result"
    }
   ],
   "source": [
    "evaluate_xi(L, 1, symXi)"
   ]
  },
  {
   "cell_type": "code",
   "execution_count": 54,
   "metadata": {},
   "outputs": [
    {
     "data": {
      "text/plain": [
       "2-element Array{Function,1}:\n",
       " #325\n",
       " #326"
      ]
     },
     "execution_count": 54,
     "metadata": {},
     "output_type": "execute_result"
    }
   ],
   "source": [
    "xi = [t->t^2+2; t->2t]"
   ]
  },
  {
   "cell_type": "code",
   "execution_count": 55,
   "metadata": {},
   "outputs": [
    {
     "data": {
      "text/plain": [
       "2×1 Array{Number,2}:\n",
       " 3\n",
       " 2"
      ]
     },
     "execution_count": 55,
     "metadata": {},
     "output_type": "execute_result"
    }
   ],
   "source": [
    "evaluate_xi(L, 1, xi)"
   ]
  },
  {
   "cell_type": "code",
   "execution_count": 56,
   "metadata": {},
   "outputs": [
    {
     "data": {
      "text/latex": [
       "\\begin{bmatrix}20\\\\14\\end{bmatrix}"
      ],
      "text/plain": [
       "2×1 Array{SymPy.Sym,2}:\n",
       " 20\n",
       " 14"
      ]
     },
     "execution_count": 56,
     "metadata": {},
     "output_type": "execute_result"
    }
   ],
   "source": [
    "U = VectorBoundaryForm([1 2; 3 4], [4 3; 2 1])\n",
    "get_boundaryCondition(L, U, symXi)"
   ]
  },
  {
   "cell_type": "code",
   "execution_count": 57,
   "metadata": {},
   "outputs": [
    {
     "data": {
      "text/plain": [
       "2×1 Array{Int64,2}:\n",
       " 20\n",
       " 14"
      ]
     },
     "execution_count": 57,
     "metadata": {},
     "output_type": "execute_result"
    }
   ],
   "source": [
    "get_boundaryCondition(L, U, xi)"
   ]
  },
  {
   "cell_type": "code",
   "execution_count": 58,
   "metadata": {},
   "outputs": [
    {
     "name": "stdout",
     "output_type": "stream",
     "text": [
      "Testing the algorithm to generate valid adjoint U+: Constant p_k\n",
      "Testing: order of L = 1\n",
      "Test 1: Passed!\n",
      "Test 2: Passed!\n",
      "Test 3: Passed!\n",
      "Test 4: Passed!\n",
      "Test 5: Passed!\n",
      "Test 6: Passed!\n",
      "Test 7: Passed!\n",
      "Test 8: Passed!\n",
      "Test 9: Passed!\n",
      "Test 10: Passed!\n",
      "Testing the algorithm to generate valid adjoint U+: Variable p_k\n",
      "Testing: order of L = 1\n",
      "Test 1: Passed!\n",
      "Test 2: Passed!\n",
      "Test 3: Passed!\n",
      "Test 4: Passed!\n",
      "Test 5: Passed!\n",
      "Test 6: Passed!\n",
      "Test 7: Passed!\n",
      "Test 8: Passed!\n",
      "Test 9: Passed!\n",
      "Test 10: Passed!\n",
      "true\n",
      "Testing the algorithm to generate valid adjoint U+: Constant p_k\n",
      "Testing: order of L = 2\n",
      "Test 1: Passed!\n",
      "Test 2: Passed!\n",
      "Test 3: Passed!\n",
      "Test 4: Passed!\n",
      "Test 5: Passed!\n",
      "Test 6: Passed!\n",
      "Test 7: Passed!\n",
      "Test 8: Passed!\n",
      "Test 9: Passed!\n",
      "Test 10: Passed!\n",
      "Testing the algorithm to generate valid adjoint U+: Variable p_k\n",
      "Testing: order of L = 2\n",
      "Test 1: Passed!\n",
      "Test 2: Passed!\n",
      "Test 3: Passed!\n",
      "Test 4: Passed!\n",
      "Test 5: Passed!\n",
      "Test 6: Passed!\n",
      "Test 7: Passed!\n",
      "Test 8: Passed!\n",
      "Test 9: Passed!\n",
      "Test 10: Passed!\n",
      "true\n",
      "Testing the algorithm to generate valid adjoint U+: Constant p_k\n",
      "Testing: order of L = 3\n",
      "Test 1: Passed!\n",
      "Test 2: Passed!\n",
      "Test 3: Passed!\n",
      "Test 4: Passed!\n",
      "Test 5: Passed!\n",
      "Test 6: Passed!\n",
      "Test 7: Passed!\n",
      "Test 8: Passed!\n",
      "Test 9: Passed!\n",
      "Test 10: Passed!\n",
      "Testing the algorithm to generate valid adjoint U+: Variable p_k\n",
      "Testing: order of L = 3\n",
      "Test 1: Passed!\n",
      "Test 2: Passed!\n",
      "Test 3: Passed!\n",
      "Test 4: Passed!\n",
      "Test 5: Passed!\n",
      "Test 6: Passed!\n",
      "Test 7: Passed!\n",
      "Test 8: Passed!\n",
      "Test 9: Passed!\n",
      "Test 10: Passed!\n",
      "true\n",
      "Testing the algorithm to generate valid adjoint U+: Constant p_k\n",
      "Testing: order of L = 4\n",
      "Test 1: Passed!\n",
      "Test 2: Passed!\n",
      "Test 3: Passed!\n",
      "Test 4: Passed!\n",
      "Test 5: Passed!\n",
      "Test 6: Passed!\n",
      "Test 7: Passed!\n",
      "Test 8: Passed!\n",
      "Test 9: Passed!\n",
      "Test 10: Passed!\n",
      "Testing the algorithm to generate valid adjoint U+: Variable p_k\n",
      "Testing: order of L = 4\n",
      "Test 1: Passed!\n",
      "Test 2: Passed!\n",
      "Test 3: Passed!\n",
      "Test 4: Passed!\n",
      "Test 5: Passed!\n",
      "Test 6: Passed!\n",
      "Test 7: Passed!\n",
      "Test 8: Passed!\n",
      "Test 9: Passed!\n",
      "Test 10: Passed!\n",
      "true\n",
      "Testing the algorithm to generate valid adjoint U+: Constant p_k\n",
      "Testing: order of L = 5\n",
      "Test 1: Passed!\n",
      "Test 2: Passed!\n",
      "Test 3: Passed!\n",
      "Test 4: Passed!\n",
      "Test 5: Passed!\n",
      "Test 6: Passed!\n",
      "Test 7: Passed!\n",
      "Test 8: Passed!\n",
      "Test 9: Passed!\n",
      "Test 10: Passed!\n",
      "Testing the algorithm to generate valid adjoint U+: Variable p_k\n",
      "Testing: order of L = 5\n",
      "Test 1: Passed!\n",
      "Test 2: Passed!\n",
      "Test 3: Passed!\n",
      "Test 4: Passed!\n",
      "Test 5: Passed!\n",
      "Test 6: Passed!\n",
      "Test 7: Passed!\n",
      "Test 8: Passed!\n",
      "Test 9: Passed!\n",
      "Test 10: Passed!\n",
      "true\n",
      "Testing the algorithm to generate valid adjoint U+: Constant p_k\n",
      "Testing: order of L = 6\n",
      "Test 1: Passed!\n",
      "Test 2: Passed!\n",
      "Test 3: Passed!\n",
      "Test 4: Passed!\n",
      "Test 5: Passed!\n",
      "Test 6: Passed!\n",
      "Test 7: Passed!\n",
      "Test 8: Passed!\n",
      "Test 9: Passed!\n",
      "Test 10: Passed!\n",
      "Testing the algorithm to generate valid adjoint U+: Variable p_k\n",
      "Testing: order of L = 6\n",
      "Test 1: Passed!\n",
      "Test 2: Passed!\n",
      "Test 3: Passed!\n",
      "Test 4: Passed!\n",
      "Test 5: Passed!\n",
      "Test 6: Passed!\n",
      "Test 7: Passed!\n",
      "Test 8: Passed!\n",
      "Test 9: Passed!\n",
      "Test 10: Passed!\n",
      "true\n",
      "Testing the algorithm to generate valid adjoint U+: Constant p_k\n",
      "Testing: order of L = 7\n",
      "Test 1: Passed!\n",
      "Test 2: Passed!\n",
      "Test 3: Passed!\n",
      "Test 4: Passed!\n",
      "Test 5: Passed!\n",
      "Test 6: Passed!\n",
      "Test 7: Passed!\n",
      "Test 8: Passed!\n",
      "Test 9: Passed!\n",
      "Test 10: Passed!\n",
      "Testing the algorithm to generate valid adjoint U+: Variable p_k\n",
      "Testing: order of L = 7\n",
      "Test 1: Passed!\n",
      "Test 2: Passed!\n",
      "Test 3: Passed!\n",
      "Test 4: Passed!\n",
      "Test 5: Passed!\n",
      "Test 6: Passed!\n",
      "Test 7: Passed!\n",
      "Test 8: Passed!\n",
      "Test 9: Passed!\n",
      "Test 10: Passed!\n",
      "true\n",
      "Testing the algorithm to generate valid adjoint U+: Constant p_k\n",
      "Testing: order of L = 8\n",
      "Test 1: Passed!\n",
      "Test 2: Passed!\n",
      "Test 3: Passed!\n",
      "Test 4: Passed!\n",
      "Test 5: Passed!\n",
      "Test 6: Passed!\n",
      "Test 7: Passed!\n",
      "Test 8: Passed!\n",
      "Test 9: Passed!\n",
      "Test 10: Passed!\n",
      "Testing the algorithm to generate valid adjoint U+: Variable p_k\n",
      "Testing: order of L = 8\n",
      "Test 1: Passed!\n",
      "Test 2: Passed!\n",
      "Test 3: Passed!\n",
      "Test 4: Passed!\n",
      "Test 5: Passed!\n",
      "Test 6: Passed!\n",
      "Test 7: Passed!\n",
      "Test 8: Passed!\n",
      "Test 9: Passed!\n",
      "Test 10: Passed!\n",
      "true\n",
      "Testing the algorithm to generate valid adjoint U+: Constant p_k\n",
      "Testing: order of L = 9\n",
      "Test 1: Passed!\n",
      "Test 2: Passed!\n",
      "Test 3: Passed!\n",
      "Test 4: Passed!\n",
      "Test 5: Passed!\n",
      "Test 6: Passed!\n",
      "Test 7: Passed!\n",
      "Test 8: Passed!\n",
      "Test 9: Passed!\n",
      "Test 10: Passed!\n",
      "Testing the algorithm to generate valid adjoint U+: Variable p_k\n",
      "Testing: order of L = 9\n",
      "Test 1: Passed!\n",
      "Test 2: Passed!\n",
      "Test 3: Passed!\n",
      "Test 4: Passed!\n",
      "Test 5: Passed!\n",
      "Test 6: Passed!\n",
      "Test 7: Passed!\n",
      "Test 8: Passed!\n",
      "Test 9: Passed!\n",
      "Test 10: Passed!\n",
      "true\n",
      "Testing the algorithm to generate valid adjoint U+: Constant p_k\n",
      "Testing: order of L = 10\n",
      "Test 1: Passed!\n",
      "Test 2: Passed!\n",
      "Test 3: Passed!\n",
      "Test 4: Passed!\n",
      "Test 5: Passed!\n",
      "Test 6: Passed!\n",
      "Test 7: Passed!\n",
      "Test 8: Passed!\n",
      "Test 9: Passed!\n",
      "Test 10: Passed!\n",
      "Testing the algorithm to generate valid adjoint U+: Variable p_k\n",
      "Testing: order of L = 10\n",
      "Test 1: Passed!\n",
      "Test 2: Passed!\n",
      "Test 3: Passed!\n",
      "Test 4: Passed!\n",
      "Test 5: Passed!\n",
      "Test 6: Passed!\n",
      "Test 7: Passed!\n",
      "Test 8: Passed!\n",
      "Test 9: Passed!\n",
      "Test 10: Passed!\n",
      "true\n"
     ]
    }
   ],
   "source": [
    "# Test the algorithm to generate valid adjoint U+\n",
    "function test_generate_adjoint(n, k)\n",
    "    results = [true]\n",
    "    t = symbols(\"t\")\n",
    "    (a,b) = (0,1)\n",
    "\n",
    "    println(\"Testing the algorithm to generate valid adjoint U+: Constant p_k\")\n",
    "    pFunctions = rand(Uniform(1.0,10.0), 1, (n+1))\n",
    "    symPFunctions = pFunctions\n",
    "    symL = SymLinearDifferentialOperator(symPFunctions, (a,b), t)\n",
    "    L = LinearDifferentialOperator(pFunctions, (a,b), symL)\n",
    "    MCand = rand(Uniform(1.0,10.0), n, n)\n",
    "    NCand = rand(Uniform(1.0,10.0), n, n)\n",
    "    U = VectorBoundaryForm(MCand, NCand)\n",
    "    pDerivMatrix = eye(n)\n",
    "    println(\"Testing: order of L = $n\")\n",
    "    for counter = 1:k\n",
    "        for i = 1:n\n",
    "            for j = 1:n\n",
    "                if j == 1\n",
    "                    pDerivMatrix[i,j] = pFunctions[i]\n",
    "                else\n",
    "                    pDerivMatrix[i,j] = 0\n",
    "                end\n",
    "            end\n",
    "        end\n",
    "        passed = false\n",
    "        try\n",
    "            adjoint = construct_validAdjoint(L, U, pDerivMatrix)\n",
    "            passed = true\n",
    "            append!(results, passed)\n",
    "        catch err\n",
    "            println(\"Failed with $err\")\n",
    "        end\n",
    "        if passed\n",
    "            println(\"Test $counter: Passed!\")\n",
    "        end\n",
    "    end\n",
    "\n",
    "    println(\"Testing the algorithm to generate valid adjoint U+: Variable p_k\")\n",
    "    # Generate variable p_k\n",
    "    pFunctions = Array{Function}(1,n+1)\n",
    "    symPFunctions = Array{Number}(1,n+1)\n",
    "    pDerivMatrix = Array{Union{Function, Number}}(n,n)\n",
    "    for i = 1:(n+1)\n",
    "        # Each p_k is a polynomial function with random degree between 0 to 4 and random coefficients between 0 and 10\n",
    "        pFunctionCoeffs = rand(Uniform(1.0,10.0), 1, (rand(1:5)))\n",
    "        if i < n+1\n",
    "            pDerivMatrix[i:i, 1:n] = [get_polynomialDeriv(pFunctionCoeffs, k) for k = 0:(n-1)]\n",
    "        end\n",
    "        pFunction = get_polynomial(pFunctionCoeffs)\n",
    "        pFunctions[i] = pFunction\n",
    "        symPFunction = sum([pFunctionCoeffs[i+1]*t^(length(pFunctionCoeffs)-1-i) for i in 0:(length(pFunctionCoeffs)-1)])\n",
    "        symPFunctions[i] = symPFunction\n",
    "    end\n",
    "    symL = SymLinearDifferentialOperator(symPFunctions, (a,b), t)\n",
    "    L = LinearDifferentialOperator(pFunctions, (a,b), symL)\n",
    "    MCand = rand(Uniform(1.0,10.0), n, n)\n",
    "    NCand = rand(Uniform(1.0,10.0), n, n)\n",
    "    U = VectorBoundaryForm(MCand, NCand)\n",
    "    println(\"Testing: order of L = $n\")\n",
    "    for counter = 1:k\n",
    "        for i = 1:n\n",
    "            for j = 1:n\n",
    "                if j == 1\n",
    "                    pDerivMatrix[i,j] = pFunctions[i]\n",
    "                else\n",
    "                    pDerivMatrix[i,j] = 0\n",
    "                end\n",
    "            end\n",
    "        end\n",
    "        passed = false\n",
    "        try\n",
    "            adjoint = construct_validAdjoint(L, U, pDerivMatrix)\n",
    "            passed = true\n",
    "            append!(results, passed)\n",
    "        catch err\n",
    "            println(\"Failed with $err\")\n",
    "        end\n",
    "        if passed\n",
    "            println(\"Test $counter: Passed!\")\n",
    "        end\n",
    "    end\n",
    "\n",
    "    return all(results)\n",
    "end\n",
    "for n = 1:10\n",
    "    println(test_generate_adjoint(n, 10))\n",
    "end"
   ]
  },
  {
   "cell_type": "code",
   "execution_count": 59,
   "metadata": {},
   "outputs": [
    {
     "name": "stdout",
     "output_type": "stream",
     "text": [
      "Testing definition of SymLinearDifferentialOperator: symP_k are SymPy.Sym\n",
      "Passed!\n",
      "Testing definition of SymLinearDifferentialOperator: symP_k are Number\n",
      "Passed!\n",
      "Testing definition of SymLinearDifferentialOperator: symP_k are SymPy.Sym and Number\n",
      "Passed!\n",
      "Testing StructDefinitionError: symP_k should be SymPy.Sym or Number\n",
      "Passed!\n",
      "Testing StructDefinitionError: Only one free symbol is allowed in symP_k\n",
      "Passed!\n"
     ]
    },
    {
     "data": {
      "text/html": [
       "true"
      ],
      "text/plain": [
       "true"
      ]
     },
     "execution_count": 59,
     "metadata": {},
     "output_type": "execute_result"
    }
   ],
   "source": [
    "# Test the SymLinearDifferentialOperator definition\n",
    "function test_symLinearDifferentialOperatorDef()\n",
    "    results = [true]\n",
    "    println(\"Testing definition of SymLinearDifferentialOperator: symP_k are SymPy.Sym\")\n",
    "    t = symbols(\"t\")\n",
    "    passed = false\n",
    "    try\n",
    "        SymLinearDifferentialOperator([t+1 t+1 t+1], (0,1), t)\n",
    "        passed = true\n",
    "    catch err\n",
    "        println(\"Failed with $err\")\n",
    "    end\n",
    "    if passed\n",
    "        println(\"Passed!\")\n",
    "    end\n",
    "    append!(results, passed)\n",
    "\n",
    "    println(\"Testing definition of SymLinearDifferentialOperator: symP_k are Number\")\n",
    "    passed = false\n",
    "    try\n",
    "        SymLinearDifferentialOperator([1 1 1], (0,1), t)\n",
    "        passed = true\n",
    "    catch err\n",
    "        println(\"Failed with $err\")\n",
    "    end\n",
    "    if passed\n",
    "        println(\"Passed!\")\n",
    "    end\n",
    "    append!(results, passed)\n",
    "\n",
    "    println(\"Testing definition of SymLinearDifferentialOperator: symP_k are SymPy.Sym and Number\")\n",
    "    passed = false\n",
    "    try\n",
    "        SymLinearDifferentialOperator([1 1 t+1], (0,1), t)\n",
    "        passed = true\n",
    "    catch err\n",
    "        println(\"Failed with $err\")\n",
    "    end\n",
    "    if passed\n",
    "        println(\"Passed!\")\n",
    "    end\n",
    "    append!(results, passed)\n",
    "\n",
    "    println(\"Testing StructDefinitionError: symP_k should be SymPy.Sym or Number\")\n",
    "    passed = false\n",
    "    try\n",
    "        SymLinearDifferentialOperator(['s' 1 t+1], (0,1), t)\n",
    "    catch err\n",
    "        if isa(err,StructDefinitionError) && err.msg == \"symP_k should be SymPy.Sym or Number\"\n",
    "            passed = true\n",
    "            println(\"Passed!\")\n",
    "        else\n",
    "            println(\"Failed with $err\")\n",
    "        end\n",
    "    end\n",
    "    if !passed\n",
    "        println(\"Failed!\")\n",
    "    end\n",
    "    append!(results, passed)\n",
    "\n",
    "    println(\"Testing StructDefinitionError: Only one free symbol is allowed in symP_k\")\n",
    "    a = symbols(\"a\")\n",
    "    passed = false\n",
    "    try\n",
    "        SymLinearDifferentialOperator([t+1 t+1 a*t+1], (0,1), t)\n",
    "    catch err\n",
    "        if isa(err,StructDefinitionError) && err.msg == \"Only one free symbol is allowed in symP_k\"\n",
    "            passed = true\n",
    "            println(\"Passed!\")\n",
    "        else\n",
    "            println(\"Failed with $err\")\n",
    "        end\n",
    "    end\n",
    "    if !passed\n",
    "        println(\"Failed!\")\n",
    "    end\n",
    "    append!(results, passed)\n",
    "\n",
    "    return all(results)\n",
    "end\n",
    "test_symLinearDifferentialOperatorDef()"
   ]
  },
  {
   "cell_type": "code",
   "execution_count": 60,
   "metadata": {},
   "outputs": [
    {
     "name": "stdout",
     "output_type": "stream",
     "text": [
      "Testing definition of LinearDifferentialOperator: p_k are variable Function\n",
      "Passed!\n",
      "Testing definition of LinearDifferentialOperator: p_k are Number\n",
      "Passed!\n",
      "Testing definition of LinearDifferentialOperator: p_k are constant Function\n",
      "Failed with ErrorException(\"type Int64 has no field re\")\n",
      "Testing definition of LinearDifferentialOperator: p_k are mixed\n",
      "Passed!\n",
      "Testing StructDefinitionError: p_k should be Function or Number\n",
      "Passed!\n",
      "Testing StructDefinitionError: Number of p_k and symP_k do not match\n",
      "Passed!\n",
      "Testing StructDefinitionError: p0 vanishes on [a,b]\n",
      "Passed!\n"
     ]
    },
    {
     "data": {
      "text/html": [
       "false"
      ],
      "text/plain": [
       "false"
      ]
     },
     "execution_count": 60,
     "metadata": {},
     "output_type": "execute_result"
    }
   ],
   "source": [
    "# Test the LinearDifferentialOperator definition\n",
    "function test_linearDifferentialOperatorDef()\n",
    "    results = [true]\n",
    "    # Variable p_k\n",
    "    println(\"Testing definition of LinearDifferentialOperator: p_k are variable Function\")\n",
    "    t = symbols(\"t\")\n",
    "    symL = SymLinearDifferentialOperator([t+1 t+1 t+1], (1,2), t)\n",
    "    passed = false\n",
    "    try\n",
    "        L = LinearDifferentialOperator([t->t+1 t->t+1 t->t+1], (1,2), symL)\n",
    "        passed = true\n",
    "    catch err\n",
    "        println(\"Failed with $err\")\n",
    "    end\n",
    "    if passed\n",
    "        println(\"Passed!\")\n",
    "    end\n",
    "    append!(results, passed)\n",
    "\n",
    "    # Constant coefficients\n",
    "    println(\"Testing definition of LinearDifferentialOperator: p_k are Number\")\n",
    "    symL = SymLinearDifferentialOperator([1 1 1], (0,1), t)\n",
    "    passed = false\n",
    "    try\n",
    "        LinearDifferentialOperator([1 1 1], (0,1), symL)\n",
    "        passed = true\n",
    "    catch err\n",
    "        println(\"Failed with $err\")\n",
    "    end\n",
    "    if passed\n",
    "        println(\"Passed!\")\n",
    "    end\n",
    "    append!(results, passed)\n",
    "\n",
    "    println(\"Testing definition of LinearDifferentialOperator: p_k are constant Function\")\n",
    "    symL = SymLinearDifferentialOperator([1 1 1], (0,1), t)\n",
    "    passed = false\n",
    "    try\n",
    "        LinearDifferentialOperator([t->1 t->1 t->1], (0,1), symL)\n",
    "        passed = true\n",
    "    catch err\n",
    "        println(\"Failed with $err\")\n",
    "    end\n",
    "    if passed\n",
    "        println(\"Passed!\")\n",
    "    end\n",
    "    append!(results, passed)\n",
    "\n",
    "    # Mixed coefficients\n",
    "    println(\"Testing definition of LinearDifferentialOperator: p_k are mixed\")\n",
    "    symL = SymLinearDifferentialOperator([1 1 t+1], (0,1), t)\n",
    "    passed = false\n",
    "    try\n",
    "        LinearDifferentialOperator([1 t->1 t->t+1], (0,1), symL)\n",
    "        passed = true\n",
    "    catch err\n",
    "        println(\"Failed with $err\")\n",
    "    end\n",
    "    if passed\n",
    "        println(\"Passed!\")\n",
    "    end\n",
    "    append!(results, passed)\n",
    "\n",
    "    println(\"Testing StructDefinitionError: p_k should be Function or Number\")\n",
    "    passed = false\n",
    "    try\n",
    "        LinearDifferentialOperator(['s' 1 1], (0,1), symL)\n",
    "    catch err\n",
    "        if err.msg == \"p_k should be Function or Number\" && (isa(err,StructDefinitionError))\n",
    "            passed = true\n",
    "            println(\"Passed!\")\n",
    "        else\n",
    "            println(\"Failed with $err\")\n",
    "        end\n",
    "    end\n",
    "    if !passed\n",
    "        println(\"Failed!\")\n",
    "    end\n",
    "    append!(results, passed)\n",
    "\n",
    "    println(\"Testing StructDefinitionError: Number of p_k and symP_k do not match\")\n",
    "    symL = SymLinearDifferentialOperator([1 1 t+1], (0,1), t)\n",
    "    passed = false\n",
    "    try\n",
    "        LinearDifferentialOperator([1 t->1], (0,1), symL)\n",
    "    catch err\n",
    "        if err.msg == \"Number of p_k and symP_k do not match\" && (isa(err, StructDefinitionError))\n",
    "            passed = true\n",
    "            println(\"Passed!\")\n",
    "        else\n",
    "            println(\"Failed with $err\")\n",
    "        end\n",
    "    end\n",
    "    if !passed\n",
    "        println(\"Failed!\")\n",
    "    end\n",
    "    append!(results, passed)\n",
    "\n",
    "    println(\"Testing StructDefinitionError: p0 vanishes on [a,b]\")\n",
    "    function p2(t) return t end\n",
    "    symL = SymLinearDifferentialOperator([t 1 2], (0,1), t)\n",
    "    passed = false\n",
    "    try\n",
    "        LinearDifferentialOperator([t->t 1 2], (0,1), symL)\n",
    "    catch err\n",
    "        if err.msg == \"p0 vanishes on [a,b]\" && (isa(err, StructDefinitionError))\n",
    "            passed = true\n",
    "            println(\"Passed!\")\n",
    "        else\n",
    "            println(\"Failed with $err\")\n",
    "        end\n",
    "    end\n",
    "    if !passed\n",
    "        println(\"Failed!\")\n",
    "    end\n",
    "    append!(results, passed)\n",
    "    \n",
    "    # # This is now a warning\n",
    "    # println(\"Testing StructDefinitionError: symP_k does not agree with p_k on [a,b]\")\n",
    "    # symL = SymLinearDifferentialOperator([t+1 t+1 t+2], (0,1), t)\n",
    "    # passed = false\n",
    "    # try\n",
    "    #     LinearDifferentialOperator([t->t+1 t->t+1 t->t+1], (0,1), symL)\n",
    "    # catch err\n",
    "    #     if err.msg == \"symP_k does not agree with p_k on [a,b]\" && (isa(err,StructDefinitionError))\n",
    "    #         passed = true\n",
    "    #         println(\"Passed!\")\n",
    "    #     else\n",
    "    #         println(\"Failed with $err\")\n",
    "    #     end\n",
    "    # end\n",
    "    # if !passed\n",
    "    #     println(\"Failed!\")\n",
    "    # end\n",
    "    # append!(results, passed)\n",
    "\n",
    "    return all(results)\n",
    "end\n",
    "test_linearDifferentialOperatorDef()"
   ]
  },
  {
   "cell_type": "code",
   "execution_count": 61,
   "metadata": {},
   "outputs": [
    {
     "name": "stdout",
     "output_type": "stream",
     "text": [
      "Testing the definition of VectorBoundaryForm\n",
      "Passed!\n",
      "Testing StructDefinitionError: Entries of M, N should be Number\n",
      "Passed!\n",
      "Testing StructDefinitionError: M, N dimensions do not match\n",
      "Passed!\n",
      "Testing StructDefinitionError: M, N should be square matrices\n",
      "Passed!\n",
      "Testing StructDefinitionError: Boundary operators not linearly independent\n",
      "Passed!\n"
     ]
    },
    {
     "data": {
      "text/html": [
       "true"
      ],
      "text/plain": [
       "true"
      ]
     },
     "execution_count": 61,
     "metadata": {},
     "output_type": "execute_result"
    }
   ],
   "source": [
    "# Test the VectorBoundaryForm definition\n",
    "function test_vectorBoundaryFormDef()\n",
    "    results = [true]\n",
    "    println(\"Testing the definition of VectorBoundaryForm\")\n",
    "    M = eye(3)\n",
    "    N = M\n",
    "    passed = false\n",
    "    try\n",
    "        VectorBoundaryForm(M, N)\n",
    "        passed = true\n",
    "    catch err\n",
    "        println(\"Failed with $err\")\n",
    "    end\n",
    "    if passed\n",
    "        println(\"Passed!\")\n",
    "    end\n",
    "    append!(results, passed)\n",
    "\n",
    "    println(\"Testing StructDefinitionError: Entries of M, N should be Number\")\n",
    "    M = ['a' 2; 3 4]\n",
    "    N = M\n",
    "    passed = false\n",
    "    try\n",
    "        VectorBoundaryForm(M, N)\n",
    "    catch err\n",
    "        if err.msg == \"Entries of M, N should be Number\" && isa(err, StructDefinitionError)\n",
    "            passed = true\n",
    "            println(\"Passed!\")\n",
    "        else\n",
    "            println(\"Failed with $err\")\n",
    "        end\n",
    "    end\n",
    "    if !passed\n",
    "        println(\"Failed!\")\n",
    "    end\n",
    "    append!(results, passed)\n",
    "\n",
    "    println(\"Testing StructDefinitionError: M, N dimensions do not match\")\n",
    "    M = eye(2)\n",
    "    N = eye(3)\n",
    "    passed = false\n",
    "    try\n",
    "        VectorBoundaryForm(M, N)\n",
    "    catch err\n",
    "        if err.msg == \"M, N dimensions do not match\" && isa(err,StructDefinitionError)\n",
    "            passed = true\n",
    "            println(\"Passed!\")\n",
    "        else\n",
    "            println(\"Failed with $err\")\n",
    "        end\n",
    "    end\n",
    "    if !passed\n",
    "        println(\"Failed!\")\n",
    "    end\n",
    "    append!(results, passed)\n",
    "\n",
    "    println(\"Testing StructDefinitionError: M, N should be square matrices\")\n",
    "    M = [1 2]\n",
    "    N = M\n",
    "    passed = false\n",
    "    try\n",
    "        VectorBoundaryForm(M, N)\n",
    "    catch err\n",
    "        if err.msg == \"M, N should be square matrices\" && isa(err,StructDefinitionError)\n",
    "            passed = true\n",
    "            println(\"Passed!\")\n",
    "        else\n",
    "            println(\"Failed with $err\")\n",
    "        end\n",
    "    end\n",
    "    if !passed\n",
    "        println(\"Failed!\")\n",
    "    end\n",
    "    append!(results, passed)\n",
    "\n",
    "    println(\"Testing StructDefinitionError: Boundary operators not linearly independent\")\n",
    "    M = [1 2; 2 4]\n",
    "    N = [3 4; 6 8]\n",
    "    passed = false\n",
    "    try\n",
    "        VectorBoundaryForm(M, N)\n",
    "    catch err\n",
    "        if err.msg == \"Boundary operators not linearly independent\" && isa(err,StructDefinitionError)\n",
    "            passed = true\n",
    "            println(\"Passed!\")\n",
    "        end\n",
    "    end\n",
    "    if !passed\n",
    "        println(\"Failed!\")\n",
    "    end\n",
    "    append!(results, passed)\n",
    "\n",
    "    return all(results)\n",
    "end\n",
    "test_vectorBoundaryFormDef()"
   ]
  }
 ],
 "metadata": {
  "kernelspec": {
   "display_name": "Julia 0.6.4",
   "language": "julia",
   "name": "julia-0.6"
  },
  "language_info": {
   "file_extension": ".jl",
   "mimetype": "application/julia",
   "name": "julia",
   "version": "0.6.4"
  }
 },
 "nbformat": 4,
 "nbformat_minor": 2
}
